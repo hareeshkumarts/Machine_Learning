{
 "cells": [
  {
   "cell_type": "markdown",
   "metadata": {
    "id": "nhsKElFUTTfF"
   },
   "source": [
    "<table align=\"center\" width=100%>\n",
    "    <tr>\n",
    "        <td width=\"15%\">\n",
    "            <img src=\"in_class.png\">\n",
    "        </td>\n",
    "        <td>\n",
    "            <div align=\"center\">\n",
    "                <font color=\"#21618C\" size=8px>\n",
    "                    <b> Inclass - Lab <br>(Week- 3)\n",
    "                    </b>\n",
    "                </font>\n",
    "            </div>\n",
    "        </td>\n",
    "    </tr>\n",
    "</table>"
   ]
  },
  {
   "cell_type": "markdown",
   "metadata": {
    "id": "tP5RfoZzTTfI"
   },
   "source": [
    "### About the data set  (Life Expectancy data)\n",
    "\n",
    "The dataset contains information about several health and economic factors that contribute to average life expectancy for different countries. <br> Attribute information: \n",
    "\n",
    "**Country:** Name of the country\n",
    "\n",
    "**Year:** Year the observations were recorded\n",
    "\n",
    "**Status:** Whether the country is Developed or Developing\n",
    "\n",
    "**Adult_Mortality:** Mortality rate for age group 15-60 out of every 1000 individuals of the population\n",
    "\n",
    "**Infant_Deaths:** Number of infant deaths per 1000 population\n",
    "\n",
    "**Alcohol:** Alcohol, recorded per capita (15+) consumption (in litres of pure alcohol)\n",
    "\n",
    "**Hepatitis B:** Hepatitis B (HepB) immunization coverage for 1 year olds (Percentage)\n",
    "\n",
    "**Measles:** Number of reported cases for measles per 1000 from population\n",
    "\n",
    "**BMI:** Average Body Mass Index for entire population\n",
    "\n",
    "**Underfive_Deaths:** Number of deaths under 5 years of age per 1000 population\n",
    "\n",
    "**Polio:** Polio (Pol3) immunization coverage for 1 year olds (Percentage)\n",
    "\n",
    "**Diphtheria:** Diphtheria tetanus toxoid and pertussis (DTP3) immunization coverage for 1 year olds (Percentage)\n",
    "\n",
    "**HIV:** Deaths per 1000 live births due to HIV/AIDS (0-4 years)\n",
    "\n",
    "**GDP:** Gross Domestic Product per capita (in USD)\n",
    "\n",
    "**Population:** Population of the country\n",
    "\n",
    "**Malnourished10_19:** Prevalence of malnutrition among children and adolescents for Age 10 to 19 (Percentage)\n",
    "\n",
    "**Malnourished5_9:** Prevalence of malnutrition among children for Age 5 to 9 (Percentage)\n",
    "\n",
    "**Income_Index:** Human Development Index (HDI) in terms of national income per capita (index ranging from 0 to 1)\n",
    "\n",
    "**Schooling:** Number of years of Schooling\n",
    "\n",
    "**Life_Expectancy:** Life Expectancy in age for the country\n"
   ]
  },
  {
   "cell_type": "markdown",
   "metadata": {
    "id": "DAeQrOfHTTfJ"
   },
   "source": [
    "##  Table of Content\n",
    "\n",
    "1. **[Data Preparation](#eda)**\n",
    "2. **[Linear Regression](#lf)**\n",
    "3. **[Gradient Descent](#gd)**\n",
    "4. **[Regularization](#reg)**\n",
    "5. **[Grid Search](#gs)**"
   ]
  },
  {
   "cell_type": "markdown",
   "metadata": {
    "id": "uTorue9GTTfJ"
   },
   "source": [
    "**Import the required libraries**"
   ]
  },
  {
   "cell_type": "code",
   "execution_count": 1,
   "metadata": {
    "id": "wOylL_E_TTfJ"
   },
   "outputs": [],
   "source": [
    "# type your code here\n",
    "\n",
    "import numpy as np\n",
    "import pandas as pd\n",
    "import matplotlib.pyplot as plt\n",
    "import seaborn as sns\n",
    "%matplotlib inline\n",
    "import warnings\n",
    "warnings.filterwarnings(action='ignore')\n",
    "\n",
    "from sklearn.model_selection import train_test_split\n",
    "import statsmodels.api as sm\n",
    "from sklearn.linear_model import LinearRegression\n",
    "from sklearn.linear_model import Ridge\n",
    "from sklearn.linear_model import Lasso\n",
    "from sklearn.linear_model import ElasticNet\n",
    "\n",
    "from sklearn.metrics import mean_squared_error\n",
    "from sklearn.metrics import mean_absolute_error"
   ]
  },
  {
   "cell_type": "code",
   "execution_count": 6,
   "metadata": {},
   "outputs": [],
   "source": [
    "# import train-test split \n",
    "from sklearn.model_selection import train_test_split\n",
    "\n",
    "# import function to perform linear regression using OLS\n",
    "import statsmodels.api as sm\n",
    "\n",
    "# 'metrics' from sklearn is used for evaluating the model performance\n",
    "from sklearn.metrics import mean_squared_error\n",
    "\n",
    "# import function to perform linear regression\n",
    "from sklearn.linear_model import LinearRegression\n",
    "\n",
    "# import StandardScaler to perform scaling\n",
    "from sklearn.preprocessing import StandardScaler \n",
    "\n",
    "# import SGDRegressor from sklearn to perform linear regression with stochastic gradient descent\n",
    "from sklearn.linear_model import SGDRegressor\n",
    "\n",
    "# import function for ridge regression\n",
    "from sklearn.linear_model import Ridge\n",
    "\n",
    "# import function for lasso regression\n",
    "from sklearn.linear_model import Lasso\n",
    "\n",
    "# import function for elastic net regression\n",
    "from sklearn.linear_model import ElasticNet\n",
    "\n",
    "# import function to perform GridSearchCV\n",
    "from sklearn.model_selection import GridSearchCV"
   ]
  },
  {
   "cell_type": "markdown",
   "metadata": {
    "id": "CR72_LOaTTfK"
   },
   "source": [
    "#### Load the Life expectancy dataset and display the first five records "
   ]
  },
  {
   "cell_type": "code",
   "execution_count": 87,
   "metadata": {
    "id": "vYMoelnBTTfK"
   },
   "outputs": [
    {
     "data": {
      "text/html": [
       "<div>\n",
       "<style scoped>\n",
       "    .dataframe tbody tr th:only-of-type {\n",
       "        vertical-align: middle;\n",
       "    }\n",
       "\n",
       "    .dataframe tbody tr th {\n",
       "        vertical-align: top;\n",
       "    }\n",
       "\n",
       "    .dataframe thead th {\n",
       "        text-align: right;\n",
       "    }\n",
       "</style>\n",
       "<table border=\"1\" class=\"dataframe\">\n",
       "  <thead>\n",
       "    <tr style=\"text-align: right;\">\n",
       "      <th></th>\n",
       "      <th>Country</th>\n",
       "      <th>Year</th>\n",
       "      <th>Status</th>\n",
       "      <th>Adult_Mortality</th>\n",
       "      <th>Infant_Deaths</th>\n",
       "      <th>Alcohol</th>\n",
       "      <th>Hepatitis B</th>\n",
       "      <th>Measles</th>\n",
       "      <th>BMI</th>\n",
       "      <th>Underfive_Deaths</th>\n",
       "      <th>Polio</th>\n",
       "      <th>Diphtheria</th>\n",
       "      <th>HIV</th>\n",
       "      <th>GDP</th>\n",
       "      <th>Population</th>\n",
       "      <th>Malnourished10_19</th>\n",
       "      <th>Malnourished5_9</th>\n",
       "      <th>Income_Index</th>\n",
       "      <th>Schooling</th>\n",
       "      <th>Life_Expectancy</th>\n",
       "    </tr>\n",
       "  </thead>\n",
       "  <tbody>\n",
       "    <tr>\n",
       "      <th>0</th>\n",
       "      <td>Afghanistan</td>\n",
       "      <td>2015</td>\n",
       "      <td>Developing</td>\n",
       "      <td>263.0</td>\n",
       "      <td>62</td>\n",
       "      <td>0.01</td>\n",
       "      <td>65.0</td>\n",
       "      <td>1154</td>\n",
       "      <td>19.1</td>\n",
       "      <td>83</td>\n",
       "      <td>6</td>\n",
       "      <td>65</td>\n",
       "      <td>0.1</td>\n",
       "      <td>584.259210</td>\n",
       "      <td>33736494.0</td>\n",
       "      <td>17.2</td>\n",
       "      <td>17.3</td>\n",
       "      <td>0.479</td>\n",
       "      <td>10.1</td>\n",
       "      <td>65.0</td>\n",
       "    </tr>\n",
       "    <tr>\n",
       "      <th>1</th>\n",
       "      <td>Albania</td>\n",
       "      <td>2015</td>\n",
       "      <td>Developing</td>\n",
       "      <td>74.0</td>\n",
       "      <td>0</td>\n",
       "      <td>4.60</td>\n",
       "      <td>99.0</td>\n",
       "      <td>0</td>\n",
       "      <td>58.0</td>\n",
       "      <td>0</td>\n",
       "      <td>99</td>\n",
       "      <td>99</td>\n",
       "      <td>0.1</td>\n",
       "      <td>3954.227830</td>\n",
       "      <td>28873.0</td>\n",
       "      <td>1.2</td>\n",
       "      <td>1.3</td>\n",
       "      <td>0.762</td>\n",
       "      <td>14.2</td>\n",
       "      <td>77.8</td>\n",
       "    </tr>\n",
       "    <tr>\n",
       "      <th>2</th>\n",
       "      <td>Algeria</td>\n",
       "      <td>2015</td>\n",
       "      <td>Developing</td>\n",
       "      <td>19.0</td>\n",
       "      <td>21</td>\n",
       "      <td>NaN</td>\n",
       "      <td>95.0</td>\n",
       "      <td>63</td>\n",
       "      <td>59.5</td>\n",
       "      <td>24</td>\n",
       "      <td>95</td>\n",
       "      <td>95</td>\n",
       "      <td>0.1</td>\n",
       "      <td>4132.762920</td>\n",
       "      <td>39871528.0</td>\n",
       "      <td>6.0</td>\n",
       "      <td>5.8</td>\n",
       "      <td>0.743</td>\n",
       "      <td>14.4</td>\n",
       "      <td>75.6</td>\n",
       "    </tr>\n",
       "    <tr>\n",
       "      <th>3</th>\n",
       "      <td>Angola</td>\n",
       "      <td>2015</td>\n",
       "      <td>Developing</td>\n",
       "      <td>335.0</td>\n",
       "      <td>66</td>\n",
       "      <td>NaN</td>\n",
       "      <td>64.0</td>\n",
       "      <td>118</td>\n",
       "      <td>23.3</td>\n",
       "      <td>98</td>\n",
       "      <td>7</td>\n",
       "      <td>64</td>\n",
       "      <td>1.9</td>\n",
       "      <td>3695.793748</td>\n",
       "      <td>2785935.0</td>\n",
       "      <td>8.3</td>\n",
       "      <td>8.2</td>\n",
       "      <td>0.531</td>\n",
       "      <td>11.4</td>\n",
       "      <td>52.4</td>\n",
       "    </tr>\n",
       "    <tr>\n",
       "      <th>4</th>\n",
       "      <td>Antigua</td>\n",
       "      <td>2015</td>\n",
       "      <td>Developing</td>\n",
       "      <td>13.0</td>\n",
       "      <td>0</td>\n",
       "      <td>NaN</td>\n",
       "      <td>99.0</td>\n",
       "      <td>0</td>\n",
       "      <td>47.7</td>\n",
       "      <td>0</td>\n",
       "      <td>86</td>\n",
       "      <td>99</td>\n",
       "      <td>0.2</td>\n",
       "      <td>13566.954100</td>\n",
       "      <td>NaN</td>\n",
       "      <td>3.3</td>\n",
       "      <td>3.3</td>\n",
       "      <td>0.784</td>\n",
       "      <td>13.9</td>\n",
       "      <td>76.4</td>\n",
       "    </tr>\n",
       "  </tbody>\n",
       "</table>\n",
       "</div>"
      ],
      "text/plain": [
       "       Country  Year      Status  Adult_Mortality  Infant_Deaths  Alcohol  \\\n",
       "0  Afghanistan  2015  Developing            263.0             62     0.01   \n",
       "1      Albania  2015  Developing             74.0              0     4.60   \n",
       "2      Algeria  2015  Developing             19.0             21      NaN   \n",
       "3       Angola  2015  Developing            335.0             66      NaN   \n",
       "4      Antigua  2015  Developing             13.0              0      NaN   \n",
       "\n",
       "   Hepatitis B  Measles    BMI  Underfive_Deaths   Polio  Diphtheria   HIV  \\\n",
       "0         65.0      1154  19.1                 83      6           65  0.1   \n",
       "1         99.0         0  58.0                  0     99           99  0.1   \n",
       "2         95.0        63  59.5                 24     95           95  0.1   \n",
       "3         64.0       118  23.3                 98      7           64  1.9   \n",
       "4         99.0         0  47.7                  0     86           99  0.2   \n",
       "\n",
       "            GDP  Population  Malnourished10_19  Malnourished5_9  Income_Index  \\\n",
       "0    584.259210  33736494.0               17.2             17.3         0.479   \n",
       "1   3954.227830     28873.0                1.2              1.3         0.762   \n",
       "2   4132.762920  39871528.0                6.0              5.8         0.743   \n",
       "3   3695.793748   2785935.0                8.3              8.2         0.531   \n",
       "4  13566.954100         NaN                3.3              3.3         0.784   \n",
       "\n",
       "   Schooling  Life_Expectancy  \n",
       "0       10.1             65.0  \n",
       "1       14.2             77.8  \n",
       "2       14.4             75.6  \n",
       "3       11.4             52.4  \n",
       "4       13.9             76.4  "
      ]
     },
     "execution_count": 87,
     "metadata": {},
     "output_type": "execute_result"
    }
   ],
   "source": [
    "# load the csv file\n",
    "\n",
    "df_lifeExp = pd.read_csv('Life_Expectancy.csv')\n",
    "\n",
    "# type your code here\n",
    "\n",
    "# display the first five observations\n",
    "\n",
    "# type your code here\n",
    "\n",
    "df_lifeExp.head(5)"
   ]
  },
  {
   "cell_type": "markdown",
   "metadata": {
    "id": "TN1i-ozcTTfK"
   },
   "source": [
    "#### Check the shape of the data and display its information"
   ]
  },
  {
   "cell_type": "code",
   "execution_count": 88,
   "metadata": {
    "id": "KpZcLNqfTTfL",
    "scrolled": true
   },
   "outputs": [
    {
     "data": {
      "text/plain": [
       "(182, 20)"
      ]
     },
     "execution_count": 88,
     "metadata": {},
     "output_type": "execute_result"
    }
   ],
   "source": [
    "# check the size of the dataframe\n",
    "df_lifeExp.shape\n",
    "# type your code here"
   ]
  },
  {
   "cell_type": "code",
   "execution_count": 89,
   "metadata": {
    "id": "XbAATGuDTTfL"
   },
   "outputs": [
    {
     "name": "stdout",
     "output_type": "stream",
     "text": [
      "<class 'pandas.core.frame.DataFrame'>\n",
      "RangeIndex: 182 entries, 0 to 181\n",
      "Data columns (total 20 columns):\n",
      " #   Column             Non-Null Count  Dtype  \n",
      "---  ------             --------------  -----  \n",
      " 0   Country            182 non-null    object \n",
      " 1   Year               182 non-null    int64  \n",
      " 2   Status             182 non-null    object \n",
      " 3   Adult_Mortality    173 non-null    float64\n",
      " 4   Infant_Deaths      182 non-null    int64  \n",
      " 5   Alcohol            15 non-null     float64\n",
      " 6   Hepatitis B        173 non-null    float64\n",
      " 7   Measles            182 non-null    int64  \n",
      " 8   BMI                178 non-null    float64\n",
      " 9   Underfive_Deaths   182 non-null    int64  \n",
      " 10  Polio              182 non-null    int64  \n",
      " 11  Diphtheria         182 non-null    int64  \n",
      " 12  HIV                182 non-null    float64\n",
      " 13  GDP                157 non-null    float64\n",
      " 14  Population         141 non-null    float64\n",
      " 15  Malnourished10_19  178 non-null    float64\n",
      " 16  Malnourished5_9    178 non-null    float64\n",
      " 17  Income_Index       169 non-null    float64\n",
      " 18  Schooling          173 non-null    float64\n",
      " 19  Life_Expectancy    173 non-null    float64\n",
      "dtypes: float64(12), int64(6), object(2)\n",
      "memory usage: 28.6+ KB\n"
     ]
    }
   ],
   "source": [
    "# display dataset information understand the dataset\n",
    "df_lifeExp.info()\n",
    "# type your code here"
   ]
  },
  {
   "cell_type": "markdown",
   "metadata": {
    "id": "fbDZas9xTTfL"
   },
   "source": [
    "### Let's begin with some hands-on practice exercises"
   ]
  },
  {
   "cell_type": "markdown",
   "metadata": {
    "id": "zks9LqeeTTfL"
   },
   "source": [
    "<a id=\"eda\"> </a>\n",
    "## 1. Data Preparation"
   ]
  },
  {
   "cell_type": "markdown",
   "metadata": {
    "collapsed": true,
    "id": "ygMLafMZTTfL"
   },
   "source": [
    "<table align=\"left\">\n",
    "    <tr>\n",
    "        <td width=\"6%\">\n",
    "            <img src=\"question_icon.png\">\n",
    "        </td>\n",
    "        <td>\n",
    "            <div align=\"left\", style=\"font-size:120%\">\n",
    "                <font color=\"#21618C\">\n",
    "                    <b>1. The dataset gives the life expectancy for different countries. Check if any information about life expectancy is missing from the given records. How do we fix the problem if present?</b>\n",
    "                </font>\n",
    "            </div>\n",
    "        </td>\n",
    "    </tr>\n",
    "</table>"
   ]
  },
  {
   "cell_type": "code",
   "execution_count": 90,
   "metadata": {
    "id": "eXqbuW_yTTfM"
   },
   "outputs": [
    {
     "data": {
      "text/plain": [
       "Country                0\n",
       "Year                   0\n",
       "Status                 0\n",
       "Adult_Mortality        9\n",
       "Infant_Deaths          0\n",
       "Alcohol              167\n",
       "Hepatitis B            9\n",
       "Measles                0\n",
       "BMI                    4\n",
       "Underfive_Deaths       0\n",
       "Polio                  0\n",
       "Diphtheria             0\n",
       "HIV                    0\n",
       "GDP                   25\n",
       "Population            41\n",
       "Malnourished10_19      4\n",
       "Malnourished5_9        4\n",
       "Income_Index          13\n",
       "Schooling              9\n",
       "Life_Expectancy        9\n",
       "dtype: int64"
      ]
     },
     "execution_count": 90,
     "metadata": {},
     "output_type": "execute_result"
    }
   ],
   "source": [
    "df_life.isnull().sum()"
   ]
  },
  {
   "cell_type": "code",
   "execution_count": 91,
   "metadata": {},
   "outputs": [],
   "source": [
    "df_lifeExp = df_lifeExp.dropna(subset=['Life_Expectancy'],axis='index')"
   ]
  },
  {
   "cell_type": "code",
   "execution_count": 92,
   "metadata": {},
   "outputs": [
    {
     "data": {
      "text/plain": [
       "(173, 20)"
      ]
     },
     "execution_count": 92,
     "metadata": {},
     "output_type": "execute_result"
    }
   ],
   "source": [
    "df_lifeExp.shape"
   ]
  },
  {
   "cell_type": "markdown",
   "metadata": {
    "collapsed": true,
    "id": "7Amu2F5iTTfM"
   },
   "source": [
    "<table align=\"left\">\n",
    "    <tr>\n",
    "        <td width=\"6%\">\n",
    "            <img src=\"question_icon.png\">\n",
    "        </td>\n",
    "        <td>\n",
    "            <div align=\"left\", style=\"font-size:120%\">\n",
    "                <font color=\"#21618C\">\n",
    "                    <b>2. How do we handle the missing values from the entire dataset?</b>\n",
    "                </font>\n",
    "            </div>\n",
    "        </td>\n",
    "    </tr>\n",
    "</table>"
   ]
  },
  {
   "cell_type": "code",
   "execution_count": 95,
   "metadata": {
    "id": "FwEmZ1joTTfM",
    "scrolled": true
   },
   "outputs": [
    {
     "data": {
      "image/png": "[encoded data removed]",
      "text/plain": [
       "<Figure size 432x288 with 1 Axes>"
      ]
     },
     "metadata": {
      "needs_background": "light"
     },
     "output_type": "display_data"
    }
   ],
   "source": [
    "df_lifeExp.isnull().sum().plot(kind='bar')\n",
    "plt.show()"
   ]
  },
  {
   "cell_type": "code",
   "execution_count": 96,
   "metadata": {},
   "outputs": [
    {
     "data": {
      "image/png": "[encoded data removed]",
      "text/plain": [
       "<Figure size 432x288 with 1 Axes>"
      ]
     },
     "metadata": {
      "needs_background": "light"
     },
     "output_type": "display_data"
    }
   ],
   "source": [
    "sns.distplot(df_lifeExp['Schooling'])\n",
    "plt.show()"
   ]
  },
  {
   "cell_type": "code",
   "execution_count": 97,
   "metadata": {},
   "outputs": [
    {
     "data": {
      "text/plain": [
       "Index(['Country', 'Year', 'Status', 'Adult_Mortality', 'Infant_Deaths',\n",
       "       'Alcohol', 'Hepatitis B', 'Measles ', 'BMI', 'Underfive_Deaths ',\n",
       "       'Polio', 'Diphtheria ', 'HIV', 'GDP', 'Population', 'Malnourished10_19',\n",
       "       'Malnourished5_9', 'Income_Index', 'Schooling', 'Life_Expectancy'],\n",
       "      dtype='object')"
      ]
     },
     "execution_count": 97,
     "metadata": {},
     "output_type": "execute_result"
    }
   ],
   "source": [
    "df_lifeExp.columns"
   ]
  },
  {
   "cell_type": "code",
   "execution_count": 98,
   "metadata": {},
   "outputs": [],
   "source": [
    "df_lifeExp = df_lifeExp.drop('Alcohol',axis=1)"
   ]
  },
  {
   "cell_type": "code",
   "execution_count": 99,
   "metadata": {},
   "outputs": [
    {
     "data": {
      "text/plain": [
       "Index(['Country', 'Year', 'Status', 'Adult_Mortality', 'Infant_Deaths',\n",
       "       'Hepatitis B', 'Measles ', 'BMI', 'Underfive_Deaths ', 'Polio',\n",
       "       'Diphtheria ', 'HIV', 'GDP', 'Population', 'Malnourished10_19',\n",
       "       'Malnourished5_9', 'Income_Index', 'Schooling', 'Life_Expectancy'],\n",
       "      dtype='object')"
      ]
     },
     "execution_count": 99,
     "metadata": {},
     "output_type": "execute_result"
    }
   ],
   "source": [
    "df_lifeExp.columns"
   ]
  },
  {
   "cell_type": "code",
   "execution_count": 100,
   "metadata": {},
   "outputs": [
    {
     "data": {
      "image/png": "[encoded data removed]",
      "text/plain": [
       "<Figure size 1080x576 with 9 Axes>"
      ]
     },
     "metadata": {
      "needs_background": "light"
     },
     "output_type": "display_data"
    }
   ],
   "source": [
    "# extract all the variables with missing values in a new dataframe 'df_missing_values'\n",
    "df_missing_values = df_lifeExp[['Hepatitis B','BMI','GDP','Population','Malnourished10_19',\n",
    "                                'Malnourished5_9','Income_Index','Schooling']]\n",
    "\n",
    "# plot histogram of all variables which have missing values\n",
    "# set the number of bins to 20\n",
    "# set the figure size using 'figsize'\n",
    "df_missing_values.hist(bins = 20, figsize = (15,8))\n",
    "\n",
    "# adjust the subplots\n",
    "plt.tight_layout()\n",
    "\n",
    "# display the plot\n",
    "plt.show()\n"
   ]
  },
  {
   "cell_type": "code",
   "execution_count": 101,
   "metadata": {},
   "outputs": [],
   "source": [
    "# impute skewed variables with median\n",
    "\n",
    "# impute for variable 'GDP'\n",
    "df_lifeExp['GDP'] = df_lifeExp['GDP'].fillna(df_lifeExp['GDP'].median())\n",
    "\n",
    "# impute for variable 'Hepatitis B'\n",
    "df_lifeExp['Hepatitis B'] = df_lifeExp['Hepatitis B'].fillna(df_lifeExp['Hepatitis B'].median())\n",
    "\n",
    "\n",
    "# impute for variable 'Malnourished10_19'\n",
    "df_lifeExp['Malnourished10_19'] = df_lifeExp['Malnourished10_19'].fillna(df_lifeExp['Malnourished10_19'].median())\n",
    "\n",
    "\n",
    "# impute for variable 'Malnourished5_9'\n",
    "df_lifeExp['Malnourished5_9'] = df_lifeExp['Malnourished5_9'].fillna(df_lifeExp['Malnourished5_9'].median())\n",
    "\n",
    "\n",
    "# impute for variable 'Population'\n",
    "df_lifeExp['Population'] = df_lifeExp['Population'].fillna(df_lifeExp['Population'].median())\n"
   ]
  },
  {
   "cell_type": "code",
   "execution_count": 102,
   "metadata": {},
   "outputs": [],
   "source": [
    "df_lifeExp['BMI'] = df_lifeExp['BMI'].fillna(df_lifeExp['BMI'].mean())\n",
    "df_lifeExp['Schooling'] = df_lifeExp['Schooling'].fillna(df_lifeExp['Schooling'].mean())"
   ]
  },
  {
   "cell_type": "code",
   "execution_count": 103,
   "metadata": {},
   "outputs": [],
   "source": [
    "df_lifeExp['Income_Index'] = df_lifeExp['Income_Index'].fillna(df_lifeExp['Income_Index'].mean())"
   ]
  },
  {
   "cell_type": "code",
   "execution_count": 104,
   "metadata": {},
   "outputs": [
    {
     "data": {
      "text/plain": [
       "Country              0\n",
       "Year                 0\n",
       "Status               0\n",
       "Adult_Mortality      0\n",
       "Infant_Deaths        0\n",
       "Hepatitis B          0\n",
       "Measles              0\n",
       "BMI                  0\n",
       "Underfive_Deaths     0\n",
       "Polio                0\n",
       "Diphtheria           0\n",
       "HIV                  0\n",
       "GDP                  0\n",
       "Population           0\n",
       "Malnourished10_19    0\n",
       "Malnourished5_9      0\n",
       "Income_Index         0\n",
       "Schooling            0\n",
       "Life_Expectancy      0\n",
       "dtype: int64"
      ]
     },
     "execution_count": 104,
     "metadata": {},
     "output_type": "execute_result"
    }
   ],
   "source": [
    "df_lifeExp.isnull().sum()"
   ]
  },
  {
   "cell_type": "markdown",
   "metadata": {
    "collapsed": true,
    "id": "Ded0aTCDTTfM"
   },
   "source": [
    "<table align=\"left\">\n",
    "    <tr>\n",
    "        <td width=\"6%\">\n",
    "            <img src=\"question_icon.png\">\n",
    "        </td>\n",
    "        <td>\n",
    "            <div align=\"left\", style=\"font-size:120%\">\n",
    "                <font color=\"#21618C\">\n",
    "                    <b>3. Are there any redundant features in the data?</b>\n",
    "                </font>\n",
    "            </div>\n",
    "        </td>\n",
    "    </tr>\n",
    "</table>"
   ]
  },
  {
   "cell_type": "code",
   "execution_count": 105,
   "metadata": {},
   "outputs": [],
   "source": [
    "del df_lifeExp['Country']"
   ]
  },
  {
   "cell_type": "code",
   "execution_count": 106,
   "metadata": {
    "id": "3URx761fTTfN"
   },
   "outputs": [
    {
     "data": {
      "text/html": [
       "<div>\n",
       "<style scoped>\n",
       "    .dataframe tbody tr th:only-of-type {\n",
       "        vertical-align: middle;\n",
       "    }\n",
       "\n",
       "    .dataframe tbody tr th {\n",
       "        vertical-align: top;\n",
       "    }\n",
       "\n",
       "    .dataframe thead th {\n",
       "        text-align: right;\n",
       "    }\n",
       "</style>\n",
       "<table border=\"1\" class=\"dataframe\">\n",
       "  <thead>\n",
       "    <tr style=\"text-align: right;\">\n",
       "      <th></th>\n",
       "      <th>Year</th>\n",
       "      <th>Adult_Mortality</th>\n",
       "      <th>Infant_Deaths</th>\n",
       "      <th>Hepatitis B</th>\n",
       "      <th>Measles</th>\n",
       "      <th>BMI</th>\n",
       "      <th>Underfive_Deaths</th>\n",
       "      <th>Polio</th>\n",
       "      <th>Diphtheria</th>\n",
       "      <th>HIV</th>\n",
       "      <th>GDP</th>\n",
       "      <th>Population</th>\n",
       "      <th>Malnourished10_19</th>\n",
       "      <th>Malnourished5_9</th>\n",
       "      <th>Income_Index</th>\n",
       "      <th>Schooling</th>\n",
       "      <th>Life_Expectancy</th>\n",
       "    </tr>\n",
       "  </thead>\n",
       "  <tbody>\n",
       "    <tr>\n",
       "      <th>count</th>\n",
       "      <td>173.000000</td>\n",
       "      <td>173.000000</td>\n",
       "      <td>173.000000</td>\n",
       "      <td>173.000000</td>\n",
       "      <td>173.000000</td>\n",
       "      <td>173.000000</td>\n",
       "      <td>173.000000</td>\n",
       "      <td>173.000000</td>\n",
       "      <td>173.000000</td>\n",
       "      <td>173.000000</td>\n",
       "      <td>173.000000</td>\n",
       "      <td>1.730000e+02</td>\n",
       "      <td>173.000000</td>\n",
       "      <td>173.000000</td>\n",
       "      <td>173.000000</td>\n",
       "      <td>173.000000</td>\n",
       "      <td>173.000000</td>\n",
       "    </tr>\n",
       "    <tr>\n",
       "      <th>mean</th>\n",
       "      <td>2014.988439</td>\n",
       "      <td>149.971098</td>\n",
       "      <td>22.872832</td>\n",
       "      <td>82.716763</td>\n",
       "      <td>1559.208092</td>\n",
       "      <td>43.466667</td>\n",
       "      <td>30.352601</td>\n",
       "      <td>83.040462</td>\n",
       "      <td>84.508671</td>\n",
       "      <td>0.647399</td>\n",
       "      <td>6764.134560</td>\n",
       "      <td>9.663690e+06</td>\n",
       "      <td>4.492486</td>\n",
       "      <td>4.539306</td>\n",
       "      <td>0.695627</td>\n",
       "      <td>12.995783</td>\n",
       "      <td>72.007514</td>\n",
       "    </tr>\n",
       "    <tr>\n",
       "      <th>std</th>\n",
       "      <td>0.152057</td>\n",
       "      <td>95.679846</td>\n",
       "      <td>84.268577</td>\n",
       "      <td>24.066903</td>\n",
       "      <td>8055.443243</td>\n",
       "      <td>20.378109</td>\n",
       "      <td>108.428722</td>\n",
       "      <td>24.833951</td>\n",
       "      <td>22.687364</td>\n",
       "      <td>1.361795</td>\n",
       "      <td>11095.340318</td>\n",
       "      <td>2.650522e+07</td>\n",
       "      <td>4.131178</td>\n",
       "      <td>4.217814</td>\n",
       "      <td>0.150721</td>\n",
       "      <td>2.879849</td>\n",
       "      <td>8.032405</td>\n",
       "    </tr>\n",
       "    <tr>\n",
       "      <th>min</th>\n",
       "      <td>2013.000000</td>\n",
       "      <td>1.000000</td>\n",
       "      <td>0.000000</td>\n",
       "      <td>6.000000</td>\n",
       "      <td>0.000000</td>\n",
       "      <td>2.500000</td>\n",
       "      <td>0.000000</td>\n",
       "      <td>5.000000</td>\n",
       "      <td>6.000000</td>\n",
       "      <td>0.100000</td>\n",
       "      <td>33.681223</td>\n",
       "      <td>2.966000e+03</td>\n",
       "      <td>0.100000</td>\n",
       "      <td>0.100000</td>\n",
       "      <td>0.347000</td>\n",
       "      <td>4.900000</td>\n",
       "      <td>51.000000</td>\n",
       "    </tr>\n",
       "    <tr>\n",
       "      <th>25%</th>\n",
       "      <td>2015.000000</td>\n",
       "      <td>74.000000</td>\n",
       "      <td>0.000000</td>\n",
       "      <td>81.000000</td>\n",
       "      <td>0.000000</td>\n",
       "      <td>24.400000</td>\n",
       "      <td>0.000000</td>\n",
       "      <td>84.000000</td>\n",
       "      <td>84.000000</td>\n",
       "      <td>0.100000</td>\n",
       "      <td>918.677154</td>\n",
       "      <td>5.874820e+05</td>\n",
       "      <td>1.500000</td>\n",
       "      <td>1.500000</td>\n",
       "      <td>0.576000</td>\n",
       "      <td>11.100000</td>\n",
       "      <td>66.200000</td>\n",
       "    </tr>\n",
       "    <tr>\n",
       "      <th>50%</th>\n",
       "      <td>2015.000000</td>\n",
       "      <td>137.000000</td>\n",
       "      <td>2.000000</td>\n",
       "      <td>93.000000</td>\n",
       "      <td>16.000000</td>\n",
       "      <td>51.000000</td>\n",
       "      <td>3.000000</td>\n",
       "      <td>93.000000</td>\n",
       "      <td>94.000000</td>\n",
       "      <td>0.100000</td>\n",
       "      <td>3124.343999</td>\n",
       "      <td>2.174645e+06</td>\n",
       "      <td>3.300000</td>\n",
       "      <td>3.300000</td>\n",
       "      <td>0.723000</td>\n",
       "      <td>13.100000</td>\n",
       "      <td>74.100000</td>\n",
       "    </tr>\n",
       "    <tr>\n",
       "      <th>75%</th>\n",
       "      <td>2015.000000</td>\n",
       "      <td>199.000000</td>\n",
       "      <td>17.000000</td>\n",
       "      <td>97.000000</td>\n",
       "      <td>212.000000</td>\n",
       "      <td>61.600000</td>\n",
       "      <td>21.000000</td>\n",
       "      <td>97.000000</td>\n",
       "      <td>97.000000</td>\n",
       "      <td>0.300000</td>\n",
       "      <td>6461.192554</td>\n",
       "      <td>7.177991e+06</td>\n",
       "      <td>6.400000</td>\n",
       "      <td>6.400000</td>\n",
       "      <td>0.798000</td>\n",
       "      <td>15.000000</td>\n",
       "      <td>77.100000</td>\n",
       "    </tr>\n",
       "    <tr>\n",
       "      <th>max</th>\n",
       "      <td>2015.000000</td>\n",
       "      <td>484.000000</td>\n",
       "      <td>910.000000</td>\n",
       "      <td>99.000000</td>\n",
       "      <td>90387.000000</td>\n",
       "      <td>77.600000</td>\n",
       "      <td>1100.000000</td>\n",
       "      <td>99.000000</td>\n",
       "      <td>99.000000</td>\n",
       "      <td>9.300000</td>\n",
       "      <td>66346.522670</td>\n",
       "      <td>2.581621e+08</td>\n",
       "      <td>26.700000</td>\n",
       "      <td>27.300000</td>\n",
       "      <td>0.948000</td>\n",
       "      <td>20.400000</td>\n",
       "      <td>88.000000</td>\n",
       "    </tr>\n",
       "  </tbody>\n",
       "</table>\n",
       "</div>"
      ],
      "text/plain": [
       "              Year  Adult_Mortality  Infant_Deaths  Hepatitis B      Measles   \\\n",
       "count   173.000000       173.000000     173.000000   173.000000    173.000000   \n",
       "mean   2014.988439       149.971098      22.872832    82.716763   1559.208092   \n",
       "std       0.152057        95.679846      84.268577    24.066903   8055.443243   \n",
       "min    2013.000000         1.000000       0.000000     6.000000      0.000000   \n",
       "25%    2015.000000        74.000000       0.000000    81.000000      0.000000   \n",
       "50%    2015.000000       137.000000       2.000000    93.000000     16.000000   \n",
       "75%    2015.000000       199.000000      17.000000    97.000000    212.000000   \n",
       "max    2015.000000       484.000000     910.000000    99.000000  90387.000000   \n",
       "\n",
       "              BMI  Underfive_Deaths        Polio  Diphtheria          HIV  \\\n",
       "count  173.000000         173.000000  173.000000   173.000000  173.000000   \n",
       "mean    43.466667          30.352601   83.040462    84.508671    0.647399   \n",
       "std     20.378109         108.428722   24.833951    22.687364    1.361795   \n",
       "min      2.500000           0.000000    5.000000     6.000000    0.100000   \n",
       "25%     24.400000           0.000000   84.000000    84.000000    0.100000   \n",
       "50%     51.000000           3.000000   93.000000    94.000000    0.100000   \n",
       "75%     61.600000          21.000000   97.000000    97.000000    0.300000   \n",
       "max     77.600000        1100.000000   99.000000    99.000000    9.300000   \n",
       "\n",
       "                GDP    Population  Malnourished10_19  Malnourished5_9  \\\n",
       "count    173.000000  1.730000e+02         173.000000       173.000000   \n",
       "mean    6764.134560  9.663690e+06           4.492486         4.539306   \n",
       "std    11095.340318  2.650522e+07           4.131178         4.217814   \n",
       "min       33.681223  2.966000e+03           0.100000         0.100000   \n",
       "25%      918.677154  5.874820e+05           1.500000         1.500000   \n",
       "50%     3124.343999  2.174645e+06           3.300000         3.300000   \n",
       "75%     6461.192554  7.177991e+06           6.400000         6.400000   \n",
       "max    66346.522670  2.581621e+08          26.700000        27.300000   \n",
       "\n",
       "       Income_Index   Schooling  Life_Expectancy  \n",
       "count    173.000000  173.000000       173.000000  \n",
       "mean       0.695627   12.995783        72.007514  \n",
       "std        0.150721    2.879849         8.032405  \n",
       "min        0.347000    4.900000        51.000000  \n",
       "25%        0.576000   11.100000        66.200000  \n",
       "50%        0.723000   13.100000        74.100000  \n",
       "75%        0.798000   15.000000        77.100000  \n",
       "max        0.948000   20.400000        88.000000  "
      ]
     },
     "execution_count": 106,
     "metadata": {},
     "output_type": "execute_result"
    }
   ],
   "source": [
    "df_lifeExp.describe(include = ['int64','float64'])"
   ]
  },
  {
   "cell_type": "code",
   "execution_count": 107,
   "metadata": {},
   "outputs": [
    {
     "data": {
      "text/plain": [
       "2015    172\n",
       "2013      1\n",
       "Name: Year, dtype: int64"
      ]
     },
     "execution_count": 107,
     "metadata": {},
     "output_type": "execute_result"
    }
   ],
   "source": [
    "df_lifeExp.Year.value_counts()\n",
    "\n",
    "# No use"
   ]
  },
  {
   "cell_type": "code",
   "execution_count": 108,
   "metadata": {},
   "outputs": [],
   "source": [
    "del df_lifeExp['Year']"
   ]
  },
  {
   "cell_type": "code",
   "execution_count": 109,
   "metadata": {},
   "outputs": [],
   "source": [
    "del df_lifeExp['Infant_Deaths']\n",
    "\n",
    "# DRoppping this feature since we have Under_five deaths"
   ]
  },
  {
   "cell_type": "code",
   "execution_count": 110,
   "metadata": {},
   "outputs": [
    {
     "data": {
      "text/plain": [
       "(173, 16)"
      ]
     },
     "execution_count": 110,
     "metadata": {},
     "output_type": "execute_result"
    }
   ],
   "source": [
    "df_lifeExp.shape"
   ]
  },
  {
   "cell_type": "markdown",
   "metadata": {
    "collapsed": true,
    "id": "5BRvL0DRTTfN"
   },
   "source": [
    "<table align=\"left\">\n",
    "    <tr>\n",
    "        <td width=\"6%\">\n",
    "            <img src=\"question_icon.png\">\n",
    "        </td>\n",
    "        <td>\n",
    "            <div align=\"left\", style=\"font-size:120%\">\n",
    "                <font color=\"#21618C\">\n",
    "                    <b>4. Perform dummy encoding for appropriate variables of the dataset if required</b>\n",
    "                </font>\n",
    "            </div>\n",
    "        </td>\n",
    "    </tr>\n",
    "</table>"
   ]
  },
  {
   "cell_type": "code",
   "execution_count": 111,
   "metadata": {},
   "outputs": [],
   "source": [
    "df_lifeExp['Status'] =  pd.get_dummies(data = df_lifeExp['Status'],drop_first=True)"
   ]
  },
  {
   "cell_type": "code",
   "execution_count": 112,
   "metadata": {
    "scrolled": true
   },
   "outputs": [
    {
     "data": {
      "text/html": [
       "<div>\n",
       "<style scoped>\n",
       "    .dataframe tbody tr th:only-of-type {\n",
       "        vertical-align: middle;\n",
       "    }\n",
       "\n",
       "    .dataframe tbody tr th {\n",
       "        vertical-align: top;\n",
       "    }\n",
       "\n",
       "    .dataframe thead th {\n",
       "        text-align: right;\n",
       "    }\n",
       "</style>\n",
       "<table border=\"1\" class=\"dataframe\">\n",
       "  <thead>\n",
       "    <tr style=\"text-align: right;\">\n",
       "      <th></th>\n",
       "      <th>Status</th>\n",
       "      <th>Adult_Mortality</th>\n",
       "      <th>Hepatitis B</th>\n",
       "      <th>Measles</th>\n",
       "      <th>BMI</th>\n",
       "      <th>Underfive_Deaths</th>\n",
       "      <th>Polio</th>\n",
       "      <th>Diphtheria</th>\n",
       "      <th>HIV</th>\n",
       "      <th>GDP</th>\n",
       "      <th>Population</th>\n",
       "      <th>Malnourished10_19</th>\n",
       "      <th>Malnourished5_9</th>\n",
       "      <th>Income_Index</th>\n",
       "      <th>Schooling</th>\n",
       "      <th>Life_Expectancy</th>\n",
       "    </tr>\n",
       "  </thead>\n",
       "  <tbody>\n",
       "    <tr>\n",
       "      <th>0</th>\n",
       "      <td>1</td>\n",
       "      <td>263.0</td>\n",
       "      <td>65.0</td>\n",
       "      <td>1154</td>\n",
       "      <td>19.1</td>\n",
       "      <td>83</td>\n",
       "      <td>6</td>\n",
       "      <td>65</td>\n",
       "      <td>0.1</td>\n",
       "      <td>584.259210</td>\n",
       "      <td>33736494.0</td>\n",
       "      <td>17.2</td>\n",
       "      <td>17.3</td>\n",
       "      <td>0.479</td>\n",
       "      <td>10.1</td>\n",
       "      <td>65.0</td>\n",
       "    </tr>\n",
       "    <tr>\n",
       "      <th>1</th>\n",
       "      <td>1</td>\n",
       "      <td>74.0</td>\n",
       "      <td>99.0</td>\n",
       "      <td>0</td>\n",
       "      <td>58.0</td>\n",
       "      <td>0</td>\n",
       "      <td>99</td>\n",
       "      <td>99</td>\n",
       "      <td>0.1</td>\n",
       "      <td>3954.227830</td>\n",
       "      <td>28873.0</td>\n",
       "      <td>1.2</td>\n",
       "      <td>1.3</td>\n",
       "      <td>0.762</td>\n",
       "      <td>14.2</td>\n",
       "      <td>77.8</td>\n",
       "    </tr>\n",
       "    <tr>\n",
       "      <th>2</th>\n",
       "      <td>1</td>\n",
       "      <td>19.0</td>\n",
       "      <td>95.0</td>\n",
       "      <td>63</td>\n",
       "      <td>59.5</td>\n",
       "      <td>24</td>\n",
       "      <td>95</td>\n",
       "      <td>95</td>\n",
       "      <td>0.1</td>\n",
       "      <td>4132.762920</td>\n",
       "      <td>39871528.0</td>\n",
       "      <td>6.0</td>\n",
       "      <td>5.8</td>\n",
       "      <td>0.743</td>\n",
       "      <td>14.4</td>\n",
       "      <td>75.6</td>\n",
       "    </tr>\n",
       "    <tr>\n",
       "      <th>3</th>\n",
       "      <td>1</td>\n",
       "      <td>335.0</td>\n",
       "      <td>64.0</td>\n",
       "      <td>118</td>\n",
       "      <td>23.3</td>\n",
       "      <td>98</td>\n",
       "      <td>7</td>\n",
       "      <td>64</td>\n",
       "      <td>1.9</td>\n",
       "      <td>3695.793748</td>\n",
       "      <td>2785935.0</td>\n",
       "      <td>8.3</td>\n",
       "      <td>8.2</td>\n",
       "      <td>0.531</td>\n",
       "      <td>11.4</td>\n",
       "      <td>52.4</td>\n",
       "    </tr>\n",
       "    <tr>\n",
       "      <th>4</th>\n",
       "      <td>1</td>\n",
       "      <td>13.0</td>\n",
       "      <td>99.0</td>\n",
       "      <td>0</td>\n",
       "      <td>47.7</td>\n",
       "      <td>0</td>\n",
       "      <td>86</td>\n",
       "      <td>99</td>\n",
       "      <td>0.2</td>\n",
       "      <td>13566.954100</td>\n",
       "      <td>2174645.0</td>\n",
       "      <td>3.3</td>\n",
       "      <td>3.3</td>\n",
       "      <td>0.784</td>\n",
       "      <td>13.9</td>\n",
       "      <td>76.4</td>\n",
       "    </tr>\n",
       "  </tbody>\n",
       "</table>\n",
       "</div>"
      ],
      "text/plain": [
       "   Status  Adult_Mortality  Hepatitis B  Measles    BMI  Underfive_Deaths   \\\n",
       "0       1            263.0         65.0      1154  19.1                 83   \n",
       "1       1             74.0         99.0         0  58.0                  0   \n",
       "2       1             19.0         95.0        63  59.5                 24   \n",
       "3       1            335.0         64.0       118  23.3                 98   \n",
       "4       1             13.0         99.0         0  47.7                  0   \n",
       "\n",
       "   Polio  Diphtheria   HIV           GDP  Population  Malnourished10_19  \\\n",
       "0      6           65  0.1    584.259210  33736494.0               17.2   \n",
       "1     99           99  0.1   3954.227830     28873.0                1.2   \n",
       "2     95           95  0.1   4132.762920  39871528.0                6.0   \n",
       "3      7           64  1.9   3695.793748   2785935.0                8.3   \n",
       "4     86           99  0.2  13566.954100   2174645.0                3.3   \n",
       "\n",
       "   Malnourished5_9  Income_Index  Schooling  Life_Expectancy  \n",
       "0             17.3         0.479       10.1             65.0  \n",
       "1              1.3         0.762       14.2             77.8  \n",
       "2              5.8         0.743       14.4             75.6  \n",
       "3              8.2         0.531       11.4             52.4  \n",
       "4              3.3         0.784       13.9             76.4  "
      ]
     },
     "execution_count": 112,
     "metadata": {},
     "output_type": "execute_result"
    }
   ],
   "source": [
    "df_lifeExp.head()"
   ]
  },
  {
   "cell_type": "markdown",
   "metadata": {
    "id": "UqjvxeHUTTfN"
   },
   "source": [
    "<a id=\"lf\"> </a>\n",
    "## 2. Linear Regression"
   ]
  },
  {
   "cell_type": "markdown",
   "metadata": {
    "collapsed": true,
    "id": "uUzA8fLGTTfO"
   },
   "source": [
    "<table align=\"left\">\n",
    "    <tr>\n",
    "        <td width=\"6%\">\n",
    "            <img src=\"question_icon.png\">\n",
    "        </td>\n",
    "        <td>\n",
    "            <div align=\"left\", style=\"font-size:120%\">\n",
    "                <font color=\"#21618C\">\n",
    "                    <b>5.  Build a full model on the given data. Check whether the obtained residuals have constant variance\n",
    "</b>\n",
    "                </font>\n",
    "            </div>\n",
    "        </td>\n",
    "    </tr>\n",
    "</table>"
   ]
  },
  {
   "cell_type": "code",
   "execution_count": 114,
   "metadata": {
    "id": "wLxck87MTTfO"
   },
   "outputs": [],
   "source": [
    "# select the independent variables\n",
    "X = df_lifeExp.iloc[:,:15]\n",
    "\n",
    "# to estimate the regression coefficient , a constant term of '1' needs to be added as a separate column\n",
    "# 'sm.add_constant' adds the intercept to the model\n",
    "X = sm.add_constant(X)\n",
    "\n",
    "# set the dependent variable\n",
    "y = df_lifeExp['Life_Expectancy']\n",
    "\n",
    "# split data into train subset and test subset\n",
    "# set 'random_state' to generate the same dataset each time you run the code \n",
    "# 'test_size' returns the proportion of data to be included in the test set\n",
    "X_train, X_test, y_train, y_test = train_test_split(X, y, random_state=10, test_size = 0.2)\n",
    "\n",
    "# build a model with an intercept\n",
    "MLR_model = sm.OLS(y_train, X_train).fit()"
   ]
  },
  {
   "cell_type": "code",
   "execution_count": 115,
   "metadata": {},
   "outputs": [
    {
     "data": {
      "image/png": "[encoded data removed]",
      "text/plain": [
       "<Figure size 720x504 with 1 Axes>"
      ]
     },
     "metadata": {
      "needs_background": "light"
     },
     "output_type": "display_data"
    }
   ],
   "source": [
    "# compute the fitted values\n",
    "y_pred = MLR_model.fittedvalues\n",
    "\n",
    "# compute the fitted values and residuals\n",
    "res = MLR_model.resid\n",
    "\n",
    "# set the figure size \n",
    "plt.figure(figsize=(10,7))\n",
    "\n",
    "# plot a scatter plot for predicted values and residuals\n",
    "plt.scatter(x = y_pred, y = res)\n",
    "\n",
    "# add plot title\n",
    "# set text size using 'fontsize'\n",
    "plt.title('Scatter plot for fitted values and residuals', fontsize = 15)\n",
    "\n",
    "# add axis label\n",
    "# set text size using 'fontsize'\n",
    "plt.xlabel('Fitted Values', fontsize = 15)\n",
    "\n",
    "# add axis label\n",
    "# set text size using 'fontsize'\n",
    "plt.ylabel('Residuals', fontsize = 15)\n",
    "\n",
    "# display the plot\n",
    "plt.show()\n"
   ]
  },
  {
   "cell_type": "code",
   "execution_count": 116,
   "metadata": {},
   "outputs": [],
   "source": [
    "# Residuals have lot of variance\n",
    "# Homo Schdasticity"
   ]
  },
  {
   "cell_type": "markdown",
   "metadata": {
    "collapsed": true,
    "id": "uOhy3Lv0TTfO"
   },
   "source": [
    "<table align=\"left\">\n",
    "    <tr>\n",
    "        <td width=\"6%\">\n",
    "            <img src=\"question_icon.png\">\n",
    "        </td>\n",
    "        <td>\n",
    "            <div align=\"left\", style=\"font-size:120%\">\n",
    "                <font color=\"#21618C\">\n",
    "                    <b>6. Build a model to study the impact of immunization on life expectancy, using least squares regression. Find the unexplained variation for the model\n",
    "</b>\n",
    "                </font>\n",
    "            </div>\n",
    "        </td>\n",
    "    </tr>\n",
    "</table>"
   ]
  },
  {
   "cell_type": "code",
   "execution_count": 117,
   "metadata": {
    "id": "zOlQHyyLTTfP"
   },
   "outputs": [
    {
     "name": "stdout",
     "output_type": "stream",
     "text": [
      "The unexplained variation for the model is 7272.464916334295\n"
     ]
    }
   ],
   "source": [
    "# select the variables describing immunization : Hepatitis B, Polio and Diphtheria\n",
    "X = df_lifeExp.iloc[:,[2,6,7]]\n",
    "\n",
    "# set the dependent variable\n",
    "y = df_lifeExp['Life_Expectancy']\n",
    "\n",
    "# initiate linear regression model\n",
    "linreg = LinearRegression()\n",
    "\n",
    "# build the model using X_train and y_train\n",
    "# use fit() to fit the regression model\n",
    "MLR_model = linreg.fit(X, y)\n",
    "\n",
    "# predict the values of target variable using train data\n",
    "y_pred = MLR_model.predict(X)\n",
    "\n",
    "# capture all the residuals of the model in a numpy array\n",
    "residuals = np.array(y - y_pred)\n",
    "\n",
    "# calculate unexplained_variation \n",
    "unexplained_variation = np.sum(residuals**2)\n",
    "\n",
    "print(\"The unexplained variation for the model is\",unexplained_variation)\n",
    "# SSE"
   ]
  },
  {
   "cell_type": "code",
   "execution_count": 118,
   "metadata": {},
   "outputs": [
    {
     "data": {
      "text/plain": [
       "7272.464916334295"
      ]
     },
     "execution_count": 118,
     "metadata": {},
     "output_type": "execute_result"
    }
   ],
   "source": [
    "SSE = np.sum((y-y_pred)**2)\n",
    "\n",
    "SSE"
   ]
  },
  {
   "cell_type": "markdown",
   "metadata": {
    "collapsed": true,
    "id": "tQEZzqr_TTfP"
   },
   "source": [
    "<table align=\"left\">\n",
    "    <tr>\n",
    "        <td width=\"6%\">\n",
    "            <img src=\"question_icon.png\">\n",
    "        </td>\n",
    "        <td>\n",
    "            <div align=\"left\", style=\"font-size:120%\">\n",
    "                <font color=\"#21618C\">\n",
    "                    <b>7. Build a model to study the impact of malnutrition on life expectancy, using least squares regression. Interpret the coeffients</b>\n",
    "                </font>\n",
    "            </div>\n",
    "        </td>\n",
    "    </tr>\n",
    "</table>"
   ]
  },
  {
   "cell_type": "code",
   "execution_count": 119,
   "metadata": {
    "id": "tTey04rUTTfP"
   },
   "outputs": [
    {
     "data": {
      "text/plain": [
       "Index(['Status', 'Adult_Mortality', 'Hepatitis B', 'Measles ', 'BMI',\n",
       "       'Underfive_Deaths ', 'Polio', 'Diphtheria ', 'HIV', 'GDP', 'Population',\n",
       "       'Malnourished10_19', 'Malnourished5_9', 'Income_Index', 'Schooling',\n",
       "       'Life_Expectancy'],\n",
       "      dtype='object')"
      ]
     },
     "execution_count": 119,
     "metadata": {},
     "output_type": "execute_result"
    }
   ],
   "source": [
    "df_lifeExp.columns"
   ]
  },
  {
   "cell_type": "code",
   "execution_count": 120,
   "metadata": {},
   "outputs": [
    {
     "name": "stdout",
     "output_type": "stream",
     "text": [
      "                            OLS Regression Results                            \n",
      "==============================================================================\n",
      "Dep. Variable:        Life_Expectancy   R-squared:                       0.226\n",
      "Model:                            OLS   Adj. R-squared:                  0.214\n",
      "Method:                 Least Squares   F-statistic:                     19.66\n",
      "Date:                Sun, 27 Feb 2022   Prob (F-statistic):           3.20e-08\n",
      "Time:                        18:13:16   Log-Likelihood:                -466.03\n",
      "No. Observations:                 138   AIC:                             938.1\n",
      "Df Residuals:                     135   BIC:                             946.8\n",
      "Df Model:                           2                                         \n",
      "Covariance Type:            nonrobust                                         \n",
      "=====================================================================================\n",
      "                        coef    std err          t      P>|t|      [0.025      0.975]\n",
      "-------------------------------------------------------------------------------------\n",
      "const                76.3070      0.916     83.320      0.000      74.496      78.118\n",
      "Malnourished10_19    -0.5024      0.769     -0.654      0.514      -2.023       1.018\n",
      "Malnourished5_9      -0.3930      0.754     -0.521      0.603      -1.884       1.098\n",
      "==============================================================================\n",
      "Omnibus:                        6.049   Durbin-Watson:                   1.840\n",
      "Prob(Omnibus):                  0.049   Jarque-Bera (JB):                6.225\n",
      "Skew:                          -0.512   Prob(JB):                       0.0445\n",
      "Kurtosis:                       2.820   Cond. No.                         16.1\n",
      "==============================================================================\n",
      "\n",
      "Notes:\n",
      "[1] Standard Errors assume that the covariance matrix of the errors is correctly specified.\n"
     ]
    }
   ],
   "source": [
    "X = X_train[['Malnourished10_19','Malnourished5_9']]\n",
    "\n",
    "X = sm.add_constant(X)\n",
    "mlr_model = sm.OLS(y_train,X).fit()\n",
    "\n",
    "print(mlr_model.summary())"
   ]
  },
  {
   "cell_type": "code",
   "execution_count": 121,
   "metadata": {},
   "outputs": [],
   "source": [
    "# Both are not significant\n",
    "# Each increase in Malnutrition will decrease the Life Expectancy"
   ]
  },
  {
   "cell_type": "markdown",
   "metadata": {
    "id": "brV-9Et9TTfP"
   },
   "source": [
    "<a id=\"gd\"> </a>\n",
    "## 3. Gradient Descent"
   ]
  },
  {
   "cell_type": "markdown",
   "metadata": {
    "collapsed": true,
    "id": "ZGuGe8BCTTfP"
   },
   "source": [
    "<table align=\"left\">\n",
    "    <tr>\n",
    "        <td width=\"6%\">\n",
    "            <img src=\"question_icon.png\">\n",
    "        </td>\n",
    "        <td>\n",
    "            <div align=\"left\", style=\"font-size:120%\">\n",
    "                <font color=\"#21618C\">\n",
    "                    <b>8. Build a model to study the influence of adult mortality rate on life expectancy using both the least squares regression and gradient descent approach. Are the fits for both the models different?</b>\n",
    "                </font>\n",
    "            </div>\n",
    "        </td>\n",
    "    </tr>\n",
    "</table>"
   ]
  },
  {
   "cell_type": "code",
   "execution_count": 122,
   "metadata": {
    "id": "z3kDeeSETTfQ"
   },
   "outputs": [],
   "source": [
    "# select the variable describing adult mortality rate\n",
    "# reshape(): used to change the dimension of input since SGDRegressor expects atleast a 2-D numpy array\n",
    "X = df_lifeExp.iloc[:,1].values\n",
    "X = X.reshape(-1,1)\n",
    "\n",
    "# set the dependent variable\n",
    "y = df_lifeExp['Life_Expectancy']\n",
    "\n",
    "# initialize the standard scalar\n",
    "X_scaler = StandardScaler()\n",
    "\n",
    "# standardize all the columns of df_lifeExp\n",
    "X = X_scaler.fit_transform(X)\n",
    "\n",
    "# standardize the target explicitly and storing it in a new variable 'y'\n",
    "y = (y - y.mean()) / y.std()\n",
    "\n",
    "# split data into train subset and test subset\n",
    "# set 'random_state' to generate the same dataset each time you run the code \n",
    "# 'test_size' returns the proportion of data to be included in the test set\n",
    "X_train, X_test, y_train, y_test = train_test_split(X, y, random_state = 10, test_size = 0.2)"
   ]
  },
  {
   "cell_type": "code",
   "execution_count": 123,
   "metadata": {},
   "outputs": [],
   "source": [
    "# initiate linear regression model\n",
    "linreg = LinearRegression()\n",
    "\n",
    "# build the model using train data\n",
    "# use fit() to fit the regression model\n",
    "MLR_model = linreg.fit(X_train, y_train)\n",
    "\n",
    "# predict the values of target variable using entire data\n",
    "lin_pred = MLR_model.predict(X_train)"
   ]
  },
  {
   "cell_type": "code",
   "execution_count": 124,
   "metadata": {},
   "outputs": [],
   "source": [
    "# instantiate the SGDRegressor\n",
    "# set 'random_state' to generate the same dataset each time you run the code \n",
    "sgd = SGDRegressor(random_state = 1)\n",
    "\n",
    "# build the model on train data \n",
    "# use fit() to fit the model\n",
    "linreg_with_SGD = sgd.fit(X_train, y_train)\n",
    "\n",
    "# predict the values of target variable using entire data\n",
    "sgd_pred = linreg_with_SGD.predict(X_train)"
   ]
  },
  {
   "cell_type": "code",
   "execution_count": 125,
   "metadata": {},
   "outputs": [
    {
     "data": {
      "image/png": "[encoded data removed]",
      "text/plain": [
       "<Figure size 720x504 with 1 Axes>"
      ]
     },
     "metadata": {
      "needs_background": "light"
     },
     "output_type": "display_data"
    }
   ],
   "source": [
    "# set the figure size \n",
    "plt.figure(figsize=(10,7))\n",
    "\n",
    "# plot the scatter plot\n",
    "# colors: set the color of the points in the scatter plot\n",
    "plt.scatter(X_train, y_train,color='grey')\n",
    "\n",
    "# set xlabel for the plot\n",
    "plt.xlabel(\"Adult Mortality Rate\",fontsize = 15)\n",
    "\n",
    "# set ylabel for the plot\n",
    "plt.ylabel(\"Life Expectancy\",fontsize = 15)\n",
    "\n",
    "# set title for the plot\n",
    "plt.title(\"Comparison of fits\",fontsize = 15)\n",
    "\n",
    "# plot the regression line for the two models\n",
    "# color: set the color of the line\n",
    "# label: set the label of the line for the legend\n",
    "plt.plot(X_train,sgd_pred,color='red',label='SGD regressor')\n",
    "plt.plot(X_train,lin_pred,color='blue',label='Least squares regressor')\n",
    "\n",
    "# set the position of legend\n",
    "plt.legend(loc='upper left')\n",
    "\n",
    "# disply the plot\n",
    "plt.show()"
   ]
  },
  {
   "cell_type": "code",
   "execution_count": 126,
   "metadata": {},
   "outputs": [],
   "source": [
    "# No difference"
   ]
  },
  {
   "cell_type": "markdown",
   "metadata": {
    "collapsed": true,
    "id": "pjyuSLwjTTfQ"
   },
   "source": [
    "<table align=\"left\">\n",
    "    <tr>\n",
    "        <td width=\"6%\">\n",
    "            <img src=\"question_icon.png\">\n",
    "        </td>\n",
    "        <td>\n",
    "            <div align=\"left\", style=\"font-size:120%\">\n",
    "                <font color=\"#21618C\">\n",
    "                    <b>9. Build a model to analyze the influence of immunization on life expectancy. Use SGD and plot a horizontal multiple barchart to compare the values of beta coefficients with values obtained by the full model build least squares regression.</b>\n",
    "                </font>\n",
    "            </div>\n",
    "        </td>\n",
    "    </tr>\n",
    "</table>"
   ]
  },
  {
   "cell_type": "code",
   "execution_count": 127,
   "metadata": {
    "id": "nLCt7QfiTTfQ"
   },
   "outputs": [],
   "source": [
    "# select the variable describing adult mortality rate\n",
    "# reshape(): used to change the dimension of input since SGDRegressor expects atleast a 2-D numpy array\n",
    "X = df_lifeExp.iloc[:,[2,6,7]]\n",
    "\n",
    "# set the dependent variable\n",
    "y = df_lifeExp['Life_Expectancy']\n",
    "\n",
    "# initialize the standard scalar\n",
    "X_scaler = StandardScaler()\n",
    "\n",
    "# standardize all the columns of df_lifeExp\n",
    "X = X_scaler.fit_transform(X)\n",
    "\n",
    "# standardize the target explicitly and storing it in a new variable 'y'\n",
    "y = (y - y.mean()) / y.std()\n",
    "\n",
    "# split data into train subset and test subset\n",
    "# set 'random_state' to generate the same dataset each time you run the code \n",
    "# 'test_size' returns the proportion of data to be included in the test set\n",
    "X_train, X_test, y_train, y_test = train_test_split(X, y, random_state = 10, test_size = 0.2)"
   ]
  },
  {
   "cell_type": "code",
   "execution_count": 128,
   "metadata": {},
   "outputs": [],
   "source": [
    "# initiate linear regression model\n",
    "linreg = LinearRegression()\n",
    "\n",
    "# build the model using train data\n",
    "# use fit() to fit the regression model\n",
    "MLR_model = linreg.fit(X_train, y_train)\n",
    "\n",
    "# instantiate the SGDRegressor\n",
    "# set 'random_state' to generate the same dataset each time you run the code \n",
    "sgd = SGDRegressor(random_state = 1)\n",
    "\n",
    "# build the model on train data \n",
    "# use fit() to fit the model\n",
    "linreg_with_SGD = sgd.fit(X_train, y_train)"
   ]
  },
  {
   "cell_type": "code",
   "execution_count": 129,
   "metadata": {},
   "outputs": [],
   "source": [
    "df_immunization=df_lifeExp.iloc[:,[2,6,7]]"
   ]
  },
  {
   "cell_type": "code",
   "execution_count": 130,
   "metadata": {},
   "outputs": [
    {
     "data": {
      "text/plain": [
       "array([-0.15601111,  0.34100566,  0.4432324 ])"
      ]
     },
     "execution_count": 130,
     "metadata": {},
     "output_type": "execute_result"
    }
   ],
   "source": [
    "MLR_model.coef_"
   ]
  },
  {
   "cell_type": "code",
   "execution_count": 131,
   "metadata": {
    "scrolled": false
   },
   "outputs": [
    {
     "data": {
      "image/png": "[encoded data removed]",
      "text/plain": [
       "<Figure size 720x504 with 1 Axes>"
      ]
     },
     "metadata": {
      "needs_background": "light"
     },
     "output_type": "display_data"
    }
   ],
   "source": [
    "df_coeff = pd.DataFrame([MLR_model.coef_, linreg_with_SGD.coef_], columns = df_immunization.columns, \n",
    "                 index = ['linreg_sklearn_coeff', 'linreg_SGD_coeff'])\n",
    "\n",
    "# plot a side by side bar graph\n",
    "# 'T' returns the transposed dataframe \n",
    "# set figure size using 'figsize'\n",
    "fig = df_coeff.T.plot.barh( figsize=(10,7))\n",
    "\n",
    "# set axes and plot labels\n",
    "# set the text size using 'fontsize'\n",
    "plt.title('Comparison of Coefficients', fontsize = 15)\n",
    "fig.set_xlabel('Features', fontsize = 15)\n",
    "fig.set_ylabel('Values', fontsize = 15)\n",
    "\n",
    "# set the x-axis labels horizontally\n",
    "plt.xticks(rotation = 'horizontal')\n",
    "\n",
    "# set the position of legend\n",
    "fig.legend(loc='upper left')\n",
    "\n",
    "# display the plot\n",
    "plt.show()"
   ]
  },
  {
   "cell_type": "markdown",
   "metadata": {},
   "source": [
    " We can observe that the coefficients obtained from the SGD model have smaller values as compared to the values obtained from the linear regression model using sklearn. Thus, we can say that the SGD model predicts the life expectancy with higher accuracy than the linear regression model."
   ]
  },
  {
   "cell_type": "markdown",
   "metadata": {
    "collapsed": true,
    "id": "YGfn28ayTTfQ"
   },
   "source": [
    "<table align=\"left\">\n",
    "    <tr>\n",
    "        <td width=\"6%\">\n",
    "            <img src=\"question_icon.png\">\n",
    "        </td>\n",
    "        <td>\n",
    "            <div align=\"left\", style=\"font-size:120%\">\n",
    "                <font color=\"#21618C\">\n",
    "                    <b>10. Build a full model using least squares regression. Check whether the model overfits the training data or not.\n",
    "</b>\n",
    "                </font>\n",
    "            </div>\n",
    "        </td>\n",
    "    </tr>\n",
    "</table>"
   ]
  },
  {
   "cell_type": "code",
   "execution_count": 133,
   "metadata": {
    "id": "YqUHwmAwTTfQ"
   },
   "outputs": [],
   "source": [
    "# select the independent variables\n",
    "X = df_lifeExp.iloc[:,:15]\n",
    "\n",
    "\n",
    "\n",
    "# set the dependent variable\n",
    "y = df_lifeExp['Life_Expectancy']\n",
    "\n",
    "# split data into train subset and test subset\n",
    "# set 'random_state' to generate the same dataset each time you run the code \n",
    "# 'test_size' returns the proportion of data to be included in the test set\n",
    "X_train, X_test, y_train, y_test = train_test_split(X, y, random_state=10, test_size = 0.2)\n"
   ]
  },
  {
   "cell_type": "code",
   "execution_count": 134,
   "metadata": {},
   "outputs": [
    {
     "name": "stdout",
     "output_type": "stream",
     "text": [
      "Root Mean Squared Error (RMSE) on training set:  2.6569\n"
     ]
    }
   ],
   "source": [
    "# initiate linear regression model\n",
    "linreg = LinearRegression()\n",
    "\n",
    "# build the model using train data\n",
    "# use fit() to fit the regression model\n",
    "MLR_model = linreg.fit(X_train, y_train)\n",
    "\n",
    "# For training set:\n",
    "# train_pred: prediction made by the model on the training dataset 'X_train'\n",
    "# y_train: actual values ofthe target variable for the train dataset\n",
    " \n",
    "# predict the output of the target variable from the train data \n",
    "train_pred = MLR_model.predict(X_train)\n",
    "\n",
    "# calculate the MSE using the \"mean_squared_error\" function\n",
    "# MSE for the train data\n",
    "mse_train = mean_squared_error(y_train, train_pred)\n",
    "\n",
    "# take the square root of the MSE to calculate the RMSE\n",
    "# round the value upto 4 digits using 'round()'\n",
    "rmse_train = round(np.sqrt(mse_train), 4)\n",
    " \n",
    "# print the RMSE for the train set\n",
    "print(\"Root Mean Squared Error (RMSE) on training set: \", rmse_train)\n"
   ]
  },
  {
   "cell_type": "code",
   "execution_count": 135,
   "metadata": {},
   "outputs": [
    {
     "name": "stdout",
     "output_type": "stream",
     "text": [
      "Root Mean Squared Error (RMSE) on test set:  3.4243\n"
     ]
    }
   ],
   "source": [
    "# For testing set:\n",
    "# test_pred: prediction made by the model on the test dataset 'y_train'\n",
    "# y_test: actual values of the target variable for the test dataset\n",
    " \n",
    "# predict the output of the target variable from the test data\n",
    "test_pred = MLR_model.predict(X_test)\n",
    "\n",
    "# MSE for the test data\n",
    "mse_test = mean_squared_error(y_test, test_pred)\n",
    "\n",
    "# take the square root of the MSE to calculate the RMSE\n",
    "# round the value upto 4 digits using 'round()'\n",
    "rmse_test = round(np.sqrt(mse_test), 4)\n",
    "\n",
    "# print the RMSE for the test set\n",
    "print(\"Root Mean Squared Error (RMSE) on test set: \", rmse_test)\n"
   ]
  },
  {
   "cell_type": "code",
   "execution_count": 137,
   "metadata": {},
   "outputs": [
    {
     "name": "stdout",
     "output_type": "stream",
     "text": [
      "The R-squared value is 0.8911156560434031 and the adjusted R-squared 0.8799480310222138\n"
     ]
    }
   ],
   "source": [
    "# obtain the R-squared\n",
    "r_square = MLR_model.score(X_train, y_train)\n",
    "\n",
    "# obtain the adj. R-squared\n",
    "adj_r_square = 1 - ((1-r_square)*(172)/(173-16-1))\n",
    "\n",
    "# print the R-squared and adj. R-squared values\n",
    "print(\"The R-squared value is\", r_square, \"and the adjusted R-squared\", adj_r_square )"
   ]
  },
  {
   "cell_type": "code",
   "execution_count": 138,
   "metadata": {},
   "outputs": [
    {
     "data": {
      "text/plain": [
       "0.7674000000000003"
      ]
     },
     "execution_count": 138,
     "metadata": {},
     "output_type": "execute_result"
    }
   ],
   "source": [
    "rmse_test - rmse_train\n"
   ]
  },
  {
   "cell_type": "markdown",
   "metadata": {},
   "source": [
    "Since there is not much difference in the RMSE of train and test set we may say there is no overfitting."
   ]
  },
  {
   "cell_type": "markdown",
   "metadata": {
    "collapsed": true,
    "id": "nwtRj3cuTTfQ"
   },
   "source": [
    "<table align=\"left\">\n",
    "    <tr>\n",
    "        <td width=\"6%\">\n",
    "            <img src=\"question_icon.png\">\n",
    "        </td>\n",
    "        <td>\n",
    "            <div align=\"left\", style=\"font-size:120%\">\n",
    "                <font color=\"#21618C\">\n",
    "                    <b>11. Can we use a linear regression model to analyze how all features from the dataset impact life expectancy?</b>\n",
    "                </font>\n",
    "            </div>\n",
    "        </td>\n",
    "    </tr>\n",
    "</table>"
   ]
  },
  {
   "cell_type": "code",
   "execution_count": 140,
   "metadata": {
    "id": "6Y3rv6TmTTfR"
   },
   "outputs": [],
   "source": [
    "# Yes Linear Regression can be used since Target Variable is Continuous Variables\n",
    "\n",
    "# Variables have corelation with each other"
   ]
  },
  {
   "cell_type": "markdown",
   "metadata": {},
   "source": [
    "To determine whether linear regression analysis can be performed on given data we check the following assumptions:\n",
    "<br>1. Whether the target variable is numeric ?\n",
    "<br>2. Is multicollinearity present in the data ?"
   ]
  },
  {
   "cell_type": "code",
   "execution_count": 139,
   "metadata": {},
   "outputs": [
    {
     "data": {
      "image/png": "[encoded data removed]",
      "text/plain": [
       "<Figure size 1080x720 with 2 Axes>"
      ]
     },
     "metadata": {
      "needs_background": "light"
     },
     "output_type": "display_data"
    }
   ],
   "source": [
    "# set dimensions for the plot figure\n",
    "fig_dims = (15,10)\n",
    "fig, ax = plt.subplots(figsize=fig_dims)\n",
    "\n",
    "# create a copy of dataframe\n",
    "df_features = df_lifeExp.iloc[:,:15]\n",
    "\n",
    "# plot the heat map\n",
    "# corr: give the correlation matrix\n",
    "# annot: prints the correlation values in the chart\n",
    "# annot_kws: sets the font size of the annotation\n",
    "sns.heatmap(df_features.corr(), annot = True, annot_kws = {\"size\": 10})\n",
    "\n",
    "# rotate the y-axis labels\n",
    "# set text size using 'fontsize'\n",
    "plt.yticks(rotation = 'horizontal', fontsize = 15)\n",
    "plt.xticks(fontsize = 15)\n",
    "\n",
    "# display the plot\n",
    "plt.show()\n"
   ]
  },
  {
   "cell_type": "markdown",
   "metadata": {},
   "source": [
    "From the correlation plot, we can see that the predictor variables `Malnourished10_19` and `Malnourished5_9` have a high positive correlation value (0.97). The variables `Hepatitis B` and `Diphtheria` have a high positive correlation value (0.92). Also the variables `Income_Index` and `Schooling` have a high positive correlation value (0.92). Hence before applying the regression model we need to alter the data to rectify this problem. "
   ]
  },
  {
   "cell_type": "markdown",
   "metadata": {
    "id": "DvrSDkOHTTfR"
   },
   "source": [
    "<a id=\"reg\"> </a>\n",
    "## 4. Regularization"
   ]
  },
  {
   "cell_type": "markdown",
   "metadata": {
    "collapsed": true,
    "id": "ROBxNH2eTTfR"
   },
   "source": [
    "<table align=\"left\">\n",
    "    <tr>\n",
    "        <td width=\"6%\">\n",
    "            <img src=\"question_icon.png\">\n",
    "        </td>\n",
    "        <td>\n",
    "            <div align=\"left\", style=\"font-size:120%\">\n",
    "                <font color=\"#21618C\">\n",
    "                    <b>12. Can we perform regression analysis without eliminating features involved in multicollinearity detected in question 11?</b>\n",
    "                </font>\n",
    "            </div>\n",
    "        </td>\n",
    "    </tr>\n",
    "</table>"
   ]
  },
  {
   "cell_type": "markdown",
   "metadata": {},
   "source": [
    "`Ridge regression` reduces the sensitivity of regression parameters to multicollinearity. This is accomplished through penality applied to the cost function. Imposing a penalty function keeps the value of predictors below a pre-specified value."
   ]
  },
  {
   "cell_type": "code",
   "execution_count": 141,
   "metadata": {
    "id": "p3mThKhiTTfR",
    "scrolled": true
   },
   "outputs": [],
   "source": [
    "# select the variable describing adult mortality rate\n",
    "# reshape(): used to change the dimension of input since SGDRegressor expects atleast a 2-D numpy array\n",
    "X = df_lifeExp.iloc[:,:15]\n",
    "\n",
    "# set the dependent variable\n",
    "y = df_lifeExp['Life_Expectancy']\n",
    "\n",
    "# initialize the standard scalar\n",
    "X_scaler = StandardScaler()\n",
    "\n",
    "# standardize all the columns of df_lifeExp\n",
    "X = X_scaler.fit_transform(X)\n",
    "\n",
    "# standardize the target explicitly and storing it in a new variable 'y'\n",
    "y = (y - y.mean()) / y.std()\n",
    "\n",
    "# split data into train subset and test subset\n",
    "# set 'random_state' to generate the same dataset each time you run the code \n",
    "# 'test_size' returns the proportion of data to be included in the test set\n",
    "X_train, X_test, y_train, y_test = train_test_split(X, y, random_state = 110, test_size = 0.2)"
   ]
  },
  {
   "cell_type": "code",
   "execution_count": 142,
   "metadata": {},
   "outputs": [
    {
     "name": "stdout",
     "output_type": "stream",
     "text": [
      "Root Mean Squared Error (RMSE) on training set:  0.3528\n",
      "Root Mean Squared Error (RMSE) on test set:  0.3533\n"
     ]
    }
   ],
   "source": [
    "# initiate linear regression model\n",
    "ridge = Ridge(alpha = 5.5)\n",
    "\n",
    "# build the model using train data\n",
    "# use fit() to fit the regression model\n",
    "ridge_model = ridge.fit(X_train, y_train)\n",
    "\n",
    "# For training set:\n",
    "# train_pred: prediction made by the model on the training dataset 'X_train'\n",
    "# y_train: actual values ofthe target variable for the train dataset\n",
    " \n",
    "# predict the output of the target variable from the train data \n",
    "train_pred = ridge_model.predict(X_train)\n",
    "\n",
    "# calculate the MSE using the \"mean_squared_error\" function\n",
    "# MSE for the train data\n",
    "mse_train = mean_squared_error(y_train, train_pred)\n",
    "\n",
    "# take the square root of the MSE to calculate the RMSE\n",
    "# round the value upto 4 digits using 'round()'\n",
    "rmse_train = round(np.sqrt(mse_train), 4)\n",
    " \n",
    "# print the RMSE for the train set\n",
    "print(\"Root Mean Squared Error (RMSE) on training set: \", rmse_train)\n",
    "\n",
    "# For testing set:\n",
    "# test_pred: prediction made by the model on the test dataset 'y_train'\n",
    "# y_test: actual values of the target variable for the test dataset\n",
    " \n",
    "# predict the output of the target variable from the test data\n",
    "test_pred = ridge_model.predict(X_test)\n",
    "\n",
    "# MSE for the test data\n",
    "mse_test = mean_squared_error(y_test, test_pred)\n",
    "\n",
    "# take the square root of the MSE to calculate the RMSE\n",
    "# round the value upto 4 digits using 'round()'\n",
    "rmse_test = round(np.sqrt(mse_test), 4)\n",
    "\n",
    "# print the RMSE for the test set\n",
    "print(\"Root Mean Squared Error (RMSE) on test set: \", rmse_test)\n"
   ]
  },
  {
   "cell_type": "markdown",
   "metadata": {},
   "source": [
    "We can see there is barely any difference between rmse values for train and test sets, hence ridge regression has generalized well even during presence of multicollinearity. <br>\n",
    "<br>Multicollinearity can result in large and opposite signed  estimator values for correlated predictors, which can lead to false conclusion of a predictor being insignificant."
   ]
  },
  {
   "cell_type": "markdown",
   "metadata": {
    "collapsed": true,
    "id": "nzI9qSVXTTfR"
   },
   "source": [
    "<table align=\"left\">\n",
    "    <tr>\n",
    "        <td width=\"6%\">\n",
    "            <img src=\"question_icon.png\">\n",
    "        </td>\n",
    "        <td>\n",
    "            <div align=\"left\", style=\"font-size:120%\">\n",
    "                <font color=\"#21618C\">\n",
    "                    <b>13. Build a model to study the impact of diseases and immunization on life expectancy. Identify the significant variables from the model. Use 'alpha = 1.5' if required.\n",
    "</b>\n",
    "                </font>\n",
    "            </div>\n",
    "        </td>\n",
    "    </tr>\n",
    "</table>"
   ]
  },
  {
   "cell_type": "code",
   "execution_count": 143,
   "metadata": {
    "id": "4OB-rh02TTfS"
   },
   "outputs": [],
   "source": [
    "# selecting the variables describing diseases: Measles, HIV\n",
    "# selecting the variables describing immunization: Hepatitis B, Polio and Diphtheria\n",
    "X = df_lifeExp.iloc[:,[3,8,2,6,7]]\n",
    "\n",
    "# to estimate the regression coefficient , a constant termof '1' needs to be added as a separate column\n",
    "# 'sm.add_constant' adds the intercept to the model\n",
    "X = sm.add_constant(X)\n",
    "\n",
    "\n",
    "# set the dependent variable\n",
    "y = df_lifeExp['Life_Expectancy']\n",
    "\n",
    "# split data into train subset and test subset\n",
    "# set 'random_state' to generate the same dataset each time you run the code \n",
    "# 'test_size' returns the proportion of data to be included in the testing set\n",
    "X_train, X_test, y_train, y_test = train_test_split(X, y, random_state=10, test_size = 0.2)"
   ]
  },
  {
   "cell_type": "code",
   "execution_count": 144,
   "metadata": {},
   "outputs": [
    {
     "name": "stdout",
     "output_type": "stream",
     "text": [
      "Root Mean Squared Error (RMSE) on training set:  5.7034\n",
      "Root Mean Squared Error (RMSE) on test set:  5.7282\n"
     ]
    }
   ],
   "source": [
    "# building a model with an intercept\n",
    "MLR_model = sm.OLS(y_train, X_train).fit()\n",
    "\n",
    "# For training set:\n",
    "# train_pred: prediction made by the model on the training dataset 'X_train'\n",
    "# y_train: actual values ofthe target variable for the train dataset\n",
    " \n",
    "# predict the output of the target variable from the train data \n",
    "train_pred = MLR_model.predict(X_train)\n",
    "\n",
    "# calculate the MSE using the \"mean_squared_error\" function\n",
    "# MSE for the train data\n",
    "mse_train = mean_squared_error(y_train, train_pred)\n",
    "\n",
    "# take the square root of the MSE to calculate the RMSE\n",
    "# round the value upto 4 digits using 'round()'\n",
    "rmse_train = round(np.sqrt(mse_train), 4)\n",
    " \n",
    "# print the RMSE for the train set\n",
    "print(\"Root Mean Squared Error (RMSE) on training set: \", rmse_train)\n",
    "    \n",
    "# For testing set:\n",
    "# test_pred: prediction made by the model on the test dataset 'y_train'\n",
    "# y_test: actual values of the target variable for the test dataset\n",
    " \n",
    "# predict the output of the target variable from the test data\n",
    "test_pred = MLR_model.predict(X_test)\n",
    "\n",
    "# MSE for the test data\n",
    "mse_test = mean_squared_error(y_test, test_pred)\n",
    "\n",
    "# take the square root of the MSE to calculate the RMSE\n",
    "# round the value upto 4 digits using 'round()'\n",
    "rmse_test = round(np.sqrt(mse_test), 4)\n",
    "\n",
    "# print the RMSE for the test set\n",
    "print(\"Root Mean Squared Error (RMSE) on test set: \", rmse_test)"
   ]
  },
  {
   "cell_type": "markdown",
   "metadata": {},
   "source": [
    "As we can see the difference between rmse values for the train and sets is very small, hence we conclude that there is no overfitting. We can use the least squares model to determine the significant variables."
   ]
  },
  {
   "cell_type": "code",
   "execution_count": 145,
   "metadata": {},
   "outputs": [
    {
     "data": {
      "text/plain": [
       "['const', 'HIV', 'Polio']"
      ]
     },
     "execution_count": 145,
     "metadata": {},
     "output_type": "execute_result"
    }
   ],
   "source": [
    "# calculate p-values for all the variables\n",
    "MLR_pvalues = pd.DataFrame(MLR_model.pvalues, columns = [\"P-Value\"])\n",
    "\n",
    "# filter the variables with p-value less than 0.05\n",
    "significant_var = MLR_pvalues[MLR_pvalues['P-Value'] < 0.05]\n",
    "\n",
    "# get significant variables using index\n",
    "# to_list: converts the variables to 'list' type\n",
    "signi_var = significant_var.index.to_list()\n",
    "\n",
    "# print the list of significant variables\n",
    "signi_var"
   ]
  },
  {
   "cell_type": "markdown",
   "metadata": {},
   "source": [
    "From the output we can see that, `HIV` and `Polio` are the features that contribute significantly in prediction of life expectancy for the considered model. "
   ]
  },
  {
   "cell_type": "markdown",
   "metadata": {
    "collapsed": true,
    "id": "BikPsDTpTTfS"
   },
   "source": [
    "<table align=\"left\">\n",
    "    <tr>\n",
    "        <td width=\"6%\">\n",
    "            <img src=\"question_icon.png\">\n",
    "        </td>\n",
    "        <td>\n",
    "            <div align=\"left\", style=\"font-size:120%\">\n",
    "                <font color=\"#21618C\">\n",
    "                    <b>14. Build a model to study the impact of malnutrition and diseases on life expectancy. Identify the insignificant variables from the model. Use 'alpha = 1' if required.</b>\n",
    "                </font>\n",
    "            </div>\n",
    "        </td>\n",
    "    </tr>\n",
    "</table>"
   ]
  },
  {
   "cell_type": "code",
   "execution_count": 146,
   "metadata": {
    "id": "DthvWp6uTTfS"
   },
   "outputs": [],
   "source": [
    "# selecting the variables describing malnutrition: Malnourished10_19, Malnourished5_9\n",
    "# selecting the variables describing diseases: Measles, HIV\n",
    "X = df_lifeExp.iloc[:,[3,8,12,11]]\n",
    "\n",
    "# create a dataframe to capture the features used in model\n",
    "df_features = df_lifeExp.iloc[:,[12,11,3,8]]\n",
    "\n",
    "# set the dependent variable\n",
    "y = df_lifeExp['Life_Expectancy']\n",
    "\n",
    "# split data into train subset and test subset\n",
    "# set 'random_state' to generate the same dataset each time you run the code \n",
    "# 'test_size' returns the proportion of data to be included in the testing set\n",
    "X_train, X_test, y_train, y_test = train_test_split(X, y, random_state=30, test_size = 0.2)"
   ]
  },
  {
   "cell_type": "code",
   "execution_count": 147,
   "metadata": {},
   "outputs": [
    {
     "name": "stdout",
     "output_type": "stream",
     "text": [
      "Root Mean Squared Error (RMSE) on training set:  5.5044\n",
      "Root Mean Squared Error (RMSE) on test set:  6.3994\n"
     ]
    }
   ],
   "source": [
    "# initiate linear regression model\n",
    "linreg = LinearRegression()\n",
    "\n",
    "# build the model using train data\n",
    "# use fit() to fit the regression model\n",
    "MLR_model = linreg.fit(X_train, y_train)\n",
    "\n",
    "# For training set:\n",
    "# train_pred: prediction made by the model on the training dataset 'X_train'\n",
    "# y_train: actual values ofthe target variable for the train dataset\n",
    " \n",
    "# predict the output of the target variable from the train data \n",
    "train_pred = MLR_model.predict(X_train)\n",
    "\n",
    "# calculate the MSE using the \"mean_squared_error\" function\n",
    "# MSE for the train data\n",
    "mse_train = mean_squared_error(y_train, train_pred)\n",
    "\n",
    "# take the square root of the MSE to calculate the RMSE\n",
    "# round the value upto 4 digits using 'round()'\n",
    "rmse_train = round(np.sqrt(mse_train), 4)\n",
    " \n",
    "# print the RMSE for the train set\n",
    "print(\"Root Mean Squared Error (RMSE) on training set: \", rmse_train)\n",
    "    \n",
    "# For testing set:\n",
    "# test_pred: prediction made by the model on the test dataset 'y_train'\n",
    "# y_test: actual values of the target variable for the test dataset\n",
    " \n",
    "# predict the output of the target variable from the test data\n",
    "test_pred = MLR_model.predict(X_test)\n",
    "\n",
    "# MSE for the test data\n",
    "mse_test = mean_squared_error(y_test, test_pred)\n",
    "\n",
    "# take the square root of the MSE to calculate the RMSE\n",
    "# round the value upto 4 digits using 'round()'\n",
    "rmse_test = round(np.sqrt(mse_test), 4)\n",
    "\n",
    "# print the RMSE for the test set\n",
    "print(\"Root Mean Squared Error (RMSE) on test set: \", rmse_test)"
   ]
  },
  {
   "cell_type": "markdown",
   "metadata": {},
   "source": [
    "We can see that there is a large difference in the RMSE of the train and the test set. This implies that our model has overfitted the training data. Hence we need to use lasso regression to identify the insignificant variables."
   ]
  },
  {
   "cell_type": "code",
   "execution_count": 148,
   "metadata": {},
   "outputs": [],
   "source": [
    "# initialize the standard scalar\n",
    "X_scaler = StandardScaler()\n",
    "\n",
    "# standardize all the columns of the dataframe 'X'\n",
    "X = X_scaler.fit_transform(X)\n",
    "\n",
    "# standardize the target variable explicitly \n",
    "y = (y - y.mean()) / y.std()"
   ]
  },
  {
   "cell_type": "code",
   "execution_count": 149,
   "metadata": {},
   "outputs": [
    {
     "name": "stdout",
     "output_type": "stream",
     "text": [
      "Root Mean Squared Error (RMSE) on training set:  5.578\n",
      "Root Mean Squared Error (RMSE) on test set:  5.5802\n"
     ]
    }
   ],
   "source": [
    "# use Lasso() to perform lasso regression\n",
    "# 'alpha' assigns the regularization strength to the model\n",
    "lasso = Lasso(alpha = 1)\n",
    "\n",
    "# fit the model on train set using fit()\n",
    "lasso_model = lasso.fit(X_train, y_train)\n",
    "\n",
    "# For training set:\n",
    "# train_pred: prediction made by the model on the training dataset 'X_train'\n",
    "# y_train: actual values ofthe target variable for the train dataset\n",
    " \n",
    "# predict the output of the target variable from the train data \n",
    "train_pred = lasso_model.predict(X_train)\n",
    "\n",
    "# calculate the MSE using the \"mean_squared_error\" function\n",
    "# MSE for the train data\n",
    "mse_train = mean_squared_error(y_train, train_pred)\n",
    "\n",
    "# take the square root of the MSE to calculate the RMSE\n",
    "# round the value upto 4 digits using 'round()'\n",
    "rmse_train = round(np.sqrt(mse_train), 4)\n",
    " \n",
    "# print the RMSE for the train set\n",
    "print(\"Root Mean Squared Error (RMSE) on training set: \", rmse_train)\n",
    "    \n",
    "# For testing set:\n",
    "# test_pred: prediction made by the model on the test dataset 'y_train'\n",
    "# y_test: actual values of the target variable for the test dataset\n",
    " \n",
    "# predict the output of the target variable from the test data\n",
    "test_pred = lasso_model.predict(X_test)\n",
    "\n",
    "# MSE for the test data\n",
    "mse_test = mean_squared_error(y_test, test_pred)\n",
    "\n",
    "# take the square root of the MSE to calculate the RMSE\n",
    "# round the value upto 4 digits using 'round()'\n",
    "rmse_test = round(np.sqrt(mse_test), 4)\n",
    "\n",
    "# print the RMSE for the test set\n",
    "print(\"Root Mean Squared Error (RMSE) on test set: \", rmse_test)"
   ]
  },
  {
   "cell_type": "code",
   "execution_count": 150,
   "metadata": {},
   "outputs": [
    {
     "name": "stdout",
     "output_type": "stream",
     "text": [
      "Least significant variables obtained from Lasso Regression when alpha is 1: []\n"
     ]
    }
   ],
   "source": [
    "# create a dataframe to store the variable names and their corresponding coefficient values\n",
    "# pass the dictionary as data to the dataframe\n",
    "# 'coef_' returns the value of each coefficient\n",
    "df_lasso_coeff = pd.DataFrame(data = {'Variable': df_features.columns, 'Coefficient': lasso_model.coef_})\n",
    "\n",
    "# print the variables having the coefficient equal to zero\n",
    "# 'to_list()' converts the output to the list type\n",
    "print('Least significant variables obtained from Lasso Regression when alpha is 1:',\n",
    "      df_lasso_coeff.Variable[df_lasso_coeff.Coefficient == 0].to_list())"
   ]
  },
  {
   "cell_type": "markdown",
   "metadata": {},
   "source": [
    "As we can see none of the coefficients have been reduced to zero by lasso regression. Thus all the variables considered for model significantly impact the target variable."
   ]
  },
  {
   "cell_type": "markdown",
   "metadata": {
    "collapsed": true,
    "id": "YnsCWxJ7TTfS"
   },
   "source": [
    "<table align=\"left\">\n",
    "    <tr>\n",
    "        <td width=\"6%\">\n",
    "            <img src=\"question_icon.png\">\n",
    "        </td>\n",
    "        <td>\n",
    "            <div align=\"left\", style=\"font-size:120%\">\n",
    "                <font color=\"#21618C\">\n",
    "                    <b>15. Build a full model using the elastic net regression. Use 'alpha = 0.1' and 'l1_ratio=0.001'. Also, compute the RMSE for train and test sets.\n",
    " </b>\n",
    "                </font>\n",
    "            </div>\n",
    "        </td>\n",
    "    </tr>\n",
    "</table>"
   ]
  },
  {
   "cell_type": "code",
   "execution_count": 151,
   "metadata": {
    "id": "bYz2IWjZTTfS",
    "scrolled": true
   },
   "outputs": [],
   "source": [
    "# selecting the independent variables \n",
    "X = df_lifeExp.iloc[:,:15]\n",
    "\n",
    "# set the dependent variable\n",
    "y = df_lifeExp['Life_Expectancy']\n",
    "\n",
    "# initializing the standard scalar\n",
    "X_scaler = StandardScaler()\n",
    "\n",
    "# standardizing all the columns of df_ipl\n",
    "X = X_scaler.fit_transform(X)\n",
    "\n",
    "# standardizing the target explicitly and storing it in a new variable 'y'\n",
    "y = (y - y.mean()) / y.std()\n",
    "\n",
    "# split data into train subset and test subset\n",
    "# set 'random_state' to generate the same dataset each time you run the code \n",
    "# 'test_size' returns the proportion of data to be included in the testing set\n",
    "X_train, X_test, y_train, y_test = train_test_split(X, y, random_state=110, test_size = 0.2)"
   ]
  },
  {
   "cell_type": "code",
   "execution_count": 152,
   "metadata": {},
   "outputs": [
    {
     "name": "stdout",
     "output_type": "stream",
     "text": [
      "Root Mean Squared Error (RMSE) on training set:  0.3581\n",
      "Root Mean Squared Error (RMSE) on test set:  0.3544\n"
     ]
    }
   ],
   "source": [
    "# use ElasticNet() to perform Elastic Net regression\n",
    "# 'alpha' assigns the regularization strength to the model\n",
    "# 'l1_ratio' is the ElasticNet mixing parameter\n",
    "enet = ElasticNet(alpha = 0.1, l1_ratio = 0.0001)\n",
    "\n",
    "# fit the model on train data using fit()\n",
    "enet_model = enet.fit(X_train, y_train)\n",
    "\n",
    "# predict the values of target variable using test data\n",
    "y_test_pred = enet_model.predict(X_test)\n",
    "\n",
    "# For training set:\n",
    "# train_pred: prediction made by the model on the training dataset 'X_train'\n",
    "# y_train: actual values ofthe target variable for the train dataset\n",
    " \n",
    "# predict the output of the target variable from the train data \n",
    "train_pred = enet_model.predict(X_train)\n",
    "\n",
    "# calculate the MSE using the \"mean_squared_error\" function\n",
    "# MSE for the train data\n",
    "mse_train = mean_squared_error(y_train, train_pred)\n",
    "\n",
    "# take the square root of the MSE to calculate the RMSE\n",
    "# round the value upto 4 digits using 'round()'\n",
    "rmse_train = round(np.sqrt(mse_train), 4)\n",
    " \n",
    "# print the RMSE for the train set\n",
    "print(\"Root Mean Squared Error (RMSE) on training set: \", rmse_train)\n",
    "    \n",
    "# For testing set:\n",
    "# test_pred: prediction made by the model on the test dataset 'y_train'\n",
    "# y_test: actual values of the target variable for the test dataset\n",
    " \n",
    "# predict the output of the target variable from the test data\n",
    "test_pred = enet_model.predict(X_test)\n",
    "\n",
    "# MSE for the test data\n",
    "mse_test = mean_squared_error(y_test, test_pred)\n",
    "\n",
    "# take the square root of the MSE to calculate the RMSE\n",
    "# round the value upto 4 digits using 'round()'\n",
    "rmse_test = round(np.sqrt(mse_test), 4)\n",
    "\n",
    "# print the RMSE for the test set\n",
    "print(\"Root Mean Squared Error (RMSE) on test set: \", rmse_test)"
   ]
  },
  {
   "cell_type": "markdown",
   "metadata": {
    "collapsed": true,
    "id": "tjLHGrBjTTfT"
   },
   "source": [
    "<table align=\"left\">\n",
    "    <tr>\n",
    "        <td width=\"6%\">\n",
    "            <img src=\"question_icon.png\">\n",
    "        </td>\n",
    "        <td>\n",
    "            <div align=\"left\", style=\"font-size:120%\">\n",
    "                <font color=\"#21618C\">\n",
    "                    <b>16. Build a full model. Identify the features that are significantly influencing the life expectancy. Use 'alpha = 0.5' if required. </b>\n",
    "                </font>\n",
    "            </div>\n",
    "        </td>\n",
    "    </tr>\n",
    "</table>"
   ]
  },
  {
   "cell_type": "code",
   "execution_count": 153,
   "metadata": {
    "id": "3x6IMIxLTTfT",
    "scrolled": true
   },
   "outputs": [],
   "source": [
    "# selecting the independent variables \n",
    "X = df_lifeExp.iloc[:,:15]\n",
    "\n",
    "# set the dependent variable\n",
    "y = df_lifeExp['Life_Expectancy']\n",
    "\n",
    "# split data into train subset and test subset\n",
    "# set 'random_state' to generate the same dataset each time you run the code \n",
    "# 'test_size' returns the proportion of data to be included in the testing set\n",
    "X_train, X_test, y_train, y_test = train_test_split(X, y, random_state = 10, test_size = 0.2)"
   ]
  },
  {
   "cell_type": "code",
   "execution_count": 154,
   "metadata": {},
   "outputs": [
    {
     "name": "stdout",
     "output_type": "stream",
     "text": [
      "Root Mean Squared Error (RMSE) on training set:  2.6569\n",
      "Root Mean Squared Error (RMSE) on test set:  3.4243\n"
     ]
    }
   ],
   "source": [
    "# initiate linear regression model\n",
    "linreg = LinearRegression()\n",
    "\n",
    "# build the model using train data\n",
    "# use fit() to fit the regression model\n",
    "MLR_model = linreg.fit(X_train, y_train)\n",
    "\n",
    "# For training set:\n",
    "# train_pred: prediction made by the model on the training dataset 'X_train'\n",
    "# y_train: actual values ofthe target variable for the train dataset\n",
    " \n",
    "# predict the output of the target variable from the train data \n",
    "train_pred = MLR_model.predict(X_train)\n",
    "\n",
    "# calculate the MSE using the \"mean_squared_error\" function\n",
    "# MSE for the train data\n",
    "mse_train = mean_squared_error(y_train, train_pred)\n",
    "\n",
    "# take the square root of the MSE to calculate the RMSE\n",
    "# round the value upto 4 digits using 'round()'\n",
    "rmse_train = round(np.sqrt(mse_train), 4)\n",
    " \n",
    "# print the RMSE for the train set\n",
    "print(\"Root Mean Squared Error (RMSE) on training set: \", rmse_train)\n",
    "    \n",
    "# For testing set:\n",
    "# test_pred: prediction made by the model on the test dataset 'y_train'\n",
    "# y_test: actual values of the target variable for the test dataset\n",
    " \n",
    "# predict the output of the target variable from the test data\n",
    "test_pred = MLR_model.predict(X_test)\n",
    "\n",
    "# MSE for the test data\n",
    "mse_test = mean_squared_error(y_test, test_pred)\n",
    "\n",
    "# take the square root of the MSE to calculate the RMSE\n",
    "# round the value upto 4 digits using 'round()'\n",
    "rmse_test = round(np.sqrt(mse_test), 4)\n",
    "\n",
    "# print the RMSE for the test set\n",
    "print(\"Root Mean Squared Error (RMSE) on test set: \", rmse_test)"
   ]
  },
  {
   "cell_type": "code",
   "execution_count": 155,
   "metadata": {},
   "outputs": [
    {
     "name": "stdout",
     "output_type": "stream",
     "text": [
      "The R-squared value is 0.8911156560434031 and the adjusted R-squared 0.8799480310222138\n"
     ]
    }
   ],
   "source": [
    "# obtain the R-squared\n",
    "r_square = MLR_model.score(X_train, y_train)\n",
    "\n",
    "# obtain the adj. R-squared\n",
    "adj_r_square = 1 - ((1-r_square)*(172)/(173-16-1))\n",
    "\n",
    "# print the R-squared and adj. R-squared values\n",
    "print(\"The R-squared value is\", r_square, \"and the adjusted R-squared\", adj_r_square )"
   ]
  },
  {
   "cell_type": "markdown",
   "metadata": {
    "id": "7AC9KIOHTTfT"
   },
   "source": [
    "<a id=\"gs\"> </a>\n",
    "## 5. Grid Search "
   ]
  },
  {
   "cell_type": "markdown",
   "metadata": {
    "collapsed": true,
    "id": "cW2SohpQTTfT"
   },
   "source": [
    "<table align=\"left\">\n",
    "    <tr>\n",
    "        <td width=\"6%\">\n",
    "            <img src=\"question_icon.png\">\n",
    "        </td>\n",
    "        <td>\n",
    "            <div align=\"left\", style=\"font-size:120%\">\n",
    "                <font color=\"#21618C\">\n",
    "                    <b>17. If ridge regression is used to build a full model. Which value is the best alpha from the list of values?<br><br>Consider the alpha values: [7,8,9,10,11]</b>\n",
    "                </font>\n",
    "            </div>\n",
    "        </td>\n",
    "    </tr>\n",
    "</table>"
   ]
  },
  {
   "cell_type": "code",
   "execution_count": 156,
   "metadata": {
    "id": "Osmq8Ui7TTfT",
    "scrolled": true
   },
   "outputs": [],
   "source": [
    "# select the independent variables \n",
    "X = df_lifeExp.iloc[:,:15]\n",
    "\n",
    "# set the dependent variable\n",
    "y = df_lifeExp['Life_Expectancy']\n",
    "\n",
    "# initialize the standard scalar\n",
    "X_scaler = StandardScaler()\n",
    "\n",
    "# standardize all the columns of df_lifeExp\n",
    "X = X_scaler.fit_transform(X)\n",
    "\n",
    "# standardize the target explicitly and storing it in a new variable 'y'\n",
    "y = (y - y.mean()) / y.std()\n",
    "\n",
    "# split data into train subset and test subset\n",
    "# set 'random_state' to generate the same dataset each time you run the code \n",
    "# 'test_size' returns the proportion of data to be included in the testing set\n",
    "X_train, X_test, y_train, y_test = train_test_split(X, y, random_state=110, test_size = 0.2)"
   ]
  },
  {
   "cell_type": "markdown",
   "metadata": {},
   "source": [
    "Consider 5-fold cross validation."
   ]
  },
  {
   "cell_type": "code",
   "execution_count": 157,
   "metadata": {},
   "outputs": [
    {
     "name": "stdout",
     "output_type": "stream",
     "text": [
      "Best parameters for Ridge Regression: {'alpha': 11}\n"
     ]
    }
   ],
   "source": [
    "# 'alpha' assigns the regularization strength to the model\n",
    "tuned_paramaters = [{'alpha':[7, 8, 9, 10, 11]}]\n",
    " \n",
    "# instantiate the Ridge() method\n",
    "ridge = Ridge()\n",
    "\n",
    "# use GridSearchCV() to find the optimal value of alpha\n",
    "# estimator: pass the ridge regression model\n",
    "# param_grid: pass the list 'tuned_parameters'\n",
    "# cv: number of folds in k-fold i.e. here cv = 5\n",
    "ridge_grid = GridSearchCV(estimator = ridge, \n",
    "                          param_grid = tuned_paramaters, \n",
    "                          cv = 5)\n",
    "\n",
    "# fit the model on X_train and y_train using fit()\n",
    "ridge_grid.fit(X_train, y_train)\n",
    "\n",
    "# get the best parameters\n",
    "print('Best parameters for Ridge Regression:', ridge_grid.best_params_)"
   ]
  },
  {
   "cell_type": "markdown",
   "metadata": {
    "collapsed": true,
    "id": "tcfekAtjTTfU"
   },
   "source": [
    "<table align=\"left\">\n",
    "    <tr>\n",
    "        <td width=\"6%\">\n",
    "            <img src=\"question_icon.png\">\n",
    "        </td>\n",
    "        <td>\n",
    "            <div align=\"left\", style=\"font-size:120%\">\n",
    "                <font color=\"#21618C\">\n",
    "                    <b>18. If lasso regression is used to build a full model. Which value is the best alpha from the list of values?<br><br>Consider the alpha values: [7,8,9,10,11]</b>\n",
    "                </font>\n",
    "            </div>\n",
    "        </td>\n",
    "    </tr>\n",
    "</table>"
   ]
  },
  {
   "cell_type": "code",
   "execution_count": 158,
   "metadata": {
    "id": "oAQRigulTTfU"
   },
   "outputs": [],
   "source": [
    "# select the independent variables \n",
    "X = df_lifeExp.iloc[:,:15]\n",
    "\n",
    "# set the dependent variable\n",
    "y = df_lifeExp['Life_Expectancy']\n",
    "\n",
    "# initialize the standard scalar\n",
    "X_scaler = StandardScaler()\n",
    "\n",
    "# standardize all the columns of df_lifeExp\n",
    "X = X_scaler.fit_transform(X)\n",
    "\n",
    "# standardize the target explicitly and storing it in a new variable 'y'\n",
    "y = (y - y.mean()) / y.std()\n",
    "\n",
    "# split data into train subset and test subset\n",
    "# set 'random_state' to generate the same dataset each time you run the code \n",
    "# 'test_size' returns the proportion of data to be included in the testing set\n",
    "X_train, X_test, y_train, y_test = train_test_split(X, y, random_state=110, test_size = 0.2)"
   ]
  },
  {
   "cell_type": "code",
   "execution_count": 159,
   "metadata": {},
   "outputs": [
    {
     "name": "stdout",
     "output_type": "stream",
     "text": [
      "Best parameters for Lasso Regression: {'alpha': 7}\n"
     ]
    }
   ],
   "source": [
    "# 'alpha' assigns the regularization strength to the model\n",
    "tuned_paramaters = [{'alpha':[7, 8, 9, 10, 11]}]\n",
    " \n",
    "# instantiate the Lasso() method\n",
    "lasso = Lasso()\n",
    "\n",
    "# use GridSearchCV() to find the optimal value of alpha\n",
    "# estimator: pass the lasso regression model\n",
    "# param_grid: pass the list 'tuned_parameters'\n",
    "# cv: number of folds in k-fold i.e. here cv = 5\n",
    "lasso_grid = GridSearchCV(estimator = lasso, \n",
    "                          param_grid = tuned_paramaters, \n",
    "                          cv = 5)\n",
    "\n",
    "# fit the model on X_train and y_train using fit()\n",
    "lasso_grid.fit(X_train, y_train)\n",
    "\n",
    "# get the best parameters\n",
    "print('Best parameters for Lasso Regression:', lasso_grid.best_params_)"
   ]
  },
  {
   "cell_type": "markdown",
   "metadata": {
    "collapsed": true,
    "id": "aQ9C0y7ZTTfU"
   },
   "source": [
    "<table align=\"left\">\n",
    "    <tr>\n",
    "        <td width=\"6%\">\n",
    "            <img src=\"question_icon.png\">\n",
    "        </td>\n",
    "        <td>\n",
    "            <div align=\"left\", style=\"font-size:120%\">\n",
    "                <font color=\"#21618C\">\n",
    "                    <b>19. Perform regression analysis to study the impact of malnutrition and diseases on life expectancy. Determine the optimal value of alpha and mixing parameter if elastic net regression is used to build the model. Consider the following list of values:<br><br> alpha : [0.1,0.5,1,1.5,2,2.5,3,3.5,4]<br> l1_ratio : [0.5,0.55,0.6,0.65,0.7,0.75,0.8,0.85,0.9] </b>\n",
    "                </font>\n",
    "            </div>\n",
    "        </td>\n",
    "    </tr>\n",
    "</table>"
   ]
  },
  {
   "cell_type": "code",
   "execution_count": 160,
   "metadata": {
    "id": "ICO_sFkBTTfU"
   },
   "outputs": [],
   "source": [
    "# select the variables describing malnutrition: Malnourished10_19, Malnourished5_9\n",
    "# select the variables describing diseases: Measles, HIV\n",
    "X = df_lifeExp.iloc[:,[12,11,3,8]]\n",
    "\n",
    "# set the dependent variable\n",
    "y = df_lifeExp['Life_Expectancy']\n",
    "\n",
    "# split data into train subset and test subset\n",
    "# set 'random_state' to generate the same dataset each time you run the code \n",
    "# 'test_size' returns the proportion of data to be included in the testing set\n",
    "X_train, X_test, y_train, y_test = train_test_split(X, y, random_state=7, test_size = 0.2)"
   ]
  },
  {
   "cell_type": "markdown",
   "metadata": {},
   "source": [
    "Consider 10-fold cross validation."
   ]
  },
  {
   "cell_type": "code",
   "execution_count": 161,
   "metadata": {},
   "outputs": [
    {
     "name": "stdout",
     "output_type": "stream",
     "text": [
      "Best parameters for ELastic-net Regression:  {'alpha': 1.5, 'l1_ratio': 0.9} \n",
      "\n"
     ]
    }
   ],
   "source": [
    "# create a dictionary with hyperparameters and its values\n",
    "tuned_paramaters = [{'alpha':[0.1,0.5,1,1.5,2,2.5,3,3.5,4],\n",
    "                      'l1_ratio':[0.5,0.55,0.6,0.65,0.7,0.75,0.8,0.85,0.9]}]\n",
    " \n",
    "# instantiate the ElasticNet() method\n",
    "enet = ElasticNet()\n",
    "\n",
    "# using GridSearchCV to find the optimal value of alpha and l1_ratio\n",
    "# estimator: pass the elastic net regression model\n",
    "# param_grid: pass the list 'tuned_parameters'\n",
    "# cv: number of folds in k-fold i.e. here cv = 10\n",
    "enet_grid = GridSearchCV(estimator = enet, \n",
    "                          param_grid = tuned_paramaters, \n",
    "                          cv = 10)\n",
    "\n",
    "# fit the model on X_train and y_train\n",
    "enet_grid.fit(X_train, y_train)\n",
    "\n",
    "# get the best parameters\n",
    "print('Best parameters for ELastic-net Regression: ', enet_grid.best_params_, '\\n')"
   ]
  },
  {
   "cell_type": "markdown",
   "metadata": {
    "collapsed": true,
    "id": "UWH-TdTSTTfU"
   },
   "source": [
    "<table align=\"left\">\n",
    "    <tr>\n",
    "        <td width=\"6%\">\n",
    "            <img src=\"question_icon.png\">\n",
    "        </td>\n",
    "        <td>\n",
    "            <div align=\"left\", style=\"font-size:120%\">\n",
    "                <font color=\"#21618C\">\n",
    "                    <b>20. Build a full model. Select the optimal value for elastic net mixing parameter if the alpha value is 0.8<br><br>Consider the values: l1_ratio : [0.001, 0.005, 0.01, 0.05, 0.1, 0.5, 1]</b>\n",
    "                </font>\n",
    "            </div>\n",
    "        </td>\n",
    "    </tr>\n",
    "</table>"
   ]
  },
  {
   "cell_type": "code",
   "execution_count": 162,
   "metadata": {
    "id": "HbiR2oZ6TTfU",
    "scrolled": true
   },
   "outputs": [],
   "source": [
    "# selecte the independent variables \n",
    "X = df_lifeExp.iloc[:,:15]\n",
    "\n",
    "# set the dependent variable\n",
    "y = df_lifeExp['Life_Expectancy']\n",
    "\n",
    "# initialize the standard scalar\n",
    "X_scaler = StandardScaler()\n",
    "\n",
    "# standardize all the columns of df_lifeExp\n",
    "X = X_scaler.fit_transform(X)\n",
    "\n",
    "# standardize the target explicitly and storing it in a new variable 'y'\n",
    "y = (y - y.mean()) / y.std()\n",
    "\n",
    "# split data into train subset and test subset\n",
    "# set 'random_state' to generate the same dataset each time you run the code \n",
    "# 'test_size' returns the proportion of data to be included in the testing set\n",
    "X_train, X_test, y_train, y_test = train_test_split(X, y, random_state=110, test_size = 0.2)"
   ]
  },
  {
   "cell_type": "code",
   "execution_count": 163,
   "metadata": {},
   "outputs": [
    {
     "name": "stdout",
     "output_type": "stream",
     "text": [
      "Best parameters for Elastic Net Regression:  {'l1_ratio': 0.005} \n",
      "\n"
     ]
    }
   ],
   "source": [
    "# create a dictionary with hyperparameters and its values\n",
    "# 'l1_ratio' is the elastic net mixing parameter\n",
    "tuned_paramaters = [{'l1_ratio':[0.001, 0.005, 0.01, 0.05, 0.1, 0.5, 1]}]\n",
    "\n",
    "# instantiate the ElasticNet() method\n",
    "enet = ElasticNet(alpha=0.8)\n",
    "\n",
    "# use GridSearchCV() to find the optimal value of l1_ratio\n",
    "# estimator: pass the elastic net regression model\n",
    "# param_grid: pass the list 'tuned_parameters'\n",
    "# cv: number of folds in k-fold i.e. here cv = 10\n",
    "enet_grid = GridSearchCV(estimator = enet, \n",
    "                          param_grid = tuned_paramaters, \n",
    "                          cv = 10)\n",
    "\n",
    "# fit the model on X_train and y_train using fit()\n",
    "enet_grid.fit(X_train, y_train)\n",
    "\n",
    "# get the best parameters\n",
    "print('Best parameters for Elastic Net Regression: ', enet_grid.best_params_, '\\n')"
   ]
  },
  {
   "cell_type": "code",
   "execution_count": null,
   "metadata": {},
   "outputs": [],
   "source": []
  }
 ],
 "metadata": {
  "colab": {
   "collapsed_sections": [],
   "name": "SLR - In-Class - Lab Exercise (Week- 3) - Questions.ipynb",
   "provenance": []
  },
  "kernelspec": {
   "display_name": "Python 3",
   "language": "python",
   "name": "python3"
  },
  "language_info": {
   "codemirror_mode": {
    "name": "ipython",
    "version": 3
   },
   "file_extension": ".py",
   "mimetype": "text/x-python",
   "name": "python",
   "nbconvert_exporter": "python",
   "pygments_lexer": "ipython3",
   "version": "3.8.5"
  }
 },
 "nbformat": 4,
 "nbformat_minor": 1
}
