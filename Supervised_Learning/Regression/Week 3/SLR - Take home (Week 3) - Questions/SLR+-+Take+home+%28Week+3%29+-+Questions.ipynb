{
 "cells": [
  {
   "cell_type": "markdown",
   "metadata": {
    "id": "ZdRf9xJRUljG"
   },
   "source": [
    "<table align=\"center\" width=100%>\n",
    "    <tr>\n",
    "        <td width=\"15%\">\n",
    "            <img src=\"homework.png\">\n",
    "        </td>\n",
    "        <td>\n",
    "            <div align=\"center\">\n",
    "                <font color=\"#21618C\" size=8px>\n",
    "                    <b> Take-Home <br>(Week- 3)\n",
    "                    </b>\n",
    "                </font>\n",
    "            </div>\n",
    "        </td>\n",
    "    </tr>\n",
    "</table>"
   ]
  },
  {
   "cell_type": "markdown",
   "metadata": {
    "id": "1peltrjNUljI"
   },
   "source": [
    "#### Import the required libraries"
   ]
  },
  {
   "cell_type": "code",
   "execution_count": 106,
   "metadata": {
    "id": "GKyZJalVUljJ"
   },
   "outputs": [],
   "source": [
    "import numpy as np\n",
    "import pandas as pd\n",
    "import matplotlib.pyplot as plt\n",
    "%matplotlib inline\n",
    "import seaborn as sns\n",
    "import warnings\n",
    "warnings.filterwarnings(action='ignore')\n",
    "\n",
    "from sklearn.preprocessing import StandardScaler\n",
    "\n",
    "from sklearn.model_selection import train_test_split\n",
    "from sklearn.linear_model import Ridge\n",
    "from sklearn.linear_model import Lasso\n",
    "from sklearn.linear_model import ElasticNet\n",
    "from sklearn.linear_model import LinearRegression\n",
    "import statsmodels.api as sm\n",
    "\n",
    "from sklearn.metrics import mean_squared_error\n",
    "\n",
    "# import SGDRegressor from sklearn to perform linear regression with stochastic gradient descent\n",
    "from sklearn.linear_model import SGDRegressor\n",
    "\n",
    "# import function to perform GridSearchCV\n",
    "from sklearn.model_selection import GridSearchCV"
   ]
  },
  {
   "cell_type": "markdown",
   "metadata": {
    "id": "oIAXhBJxUljK"
   },
   "source": [
    "#### Read the data\n",
    "\n",
    "Load the csv file and print the first five observations."
   ]
  },
  {
   "cell_type": "code",
   "execution_count": 2,
   "metadata": {
    "id": "bbu8_zIPUljK"
   },
   "outputs": [
    {
     "data": {
      "text/html": [
       "<div>\n",
       "<style scoped>\n",
       "    .dataframe tbody tr th:only-of-type {\n",
       "        vertical-align: middle;\n",
       "    }\n",
       "\n",
       "    .dataframe tbody tr th {\n",
       "        vertical-align: top;\n",
       "    }\n",
       "\n",
       "    .dataframe thead th {\n",
       "        text-align: right;\n",
       "    }\n",
       "</style>\n",
       "<table border=\"1\" class=\"dataframe\">\n",
       "  <thead>\n",
       "    <tr style=\"text-align: right;\">\n",
       "      <th></th>\n",
       "      <th>Species</th>\n",
       "      <th>Weight</th>\n",
       "      <th>V_length</th>\n",
       "      <th>D_length</th>\n",
       "      <th>C_length</th>\n",
       "      <th>Height</th>\n",
       "      <th>Width</th>\n",
       "    </tr>\n",
       "  </thead>\n",
       "  <tbody>\n",
       "    <tr>\n",
       "      <th>0</th>\n",
       "      <td>Bream</td>\n",
       "      <td>242.0</td>\n",
       "      <td>23.2</td>\n",
       "      <td>25.4</td>\n",
       "      <td>30.0</td>\n",
       "      <td>11.5200</td>\n",
       "      <td>4.0200</td>\n",
       "    </tr>\n",
       "    <tr>\n",
       "      <th>1</th>\n",
       "      <td>Bream</td>\n",
       "      <td>290.0</td>\n",
       "      <td>24.0</td>\n",
       "      <td>26.3</td>\n",
       "      <td>31.2</td>\n",
       "      <td>12.4800</td>\n",
       "      <td>4.3056</td>\n",
       "    </tr>\n",
       "    <tr>\n",
       "      <th>2</th>\n",
       "      <td>Bream</td>\n",
       "      <td>340.0</td>\n",
       "      <td>23.9</td>\n",
       "      <td>26.5</td>\n",
       "      <td>31.1</td>\n",
       "      <td>12.3778</td>\n",
       "      <td>4.6961</td>\n",
       "    </tr>\n",
       "    <tr>\n",
       "      <th>3</th>\n",
       "      <td>Bream</td>\n",
       "      <td>363.0</td>\n",
       "      <td>26.3</td>\n",
       "      <td>29.0</td>\n",
       "      <td>33.5</td>\n",
       "      <td>12.7300</td>\n",
       "      <td>4.4555</td>\n",
       "    </tr>\n",
       "    <tr>\n",
       "      <th>4</th>\n",
       "      <td>Bream</td>\n",
       "      <td>430.0</td>\n",
       "      <td>26.5</td>\n",
       "      <td>29.0</td>\n",
       "      <td>34.0</td>\n",
       "      <td>12.4440</td>\n",
       "      <td>5.1340</td>\n",
       "    </tr>\n",
       "  </tbody>\n",
       "</table>\n",
       "</div>"
      ],
      "text/plain": [
       "  Species  Weight  V_length  D_length  C_length   Height   Width\n",
       "0   Bream   242.0      23.2      25.4      30.0  11.5200  4.0200\n",
       "1   Bream   290.0      24.0      26.3      31.2  12.4800  4.3056\n",
       "2   Bream   340.0      23.9      26.5      31.1  12.3778  4.6961\n",
       "3   Bream   363.0      26.3      29.0      33.5  12.7300  4.4555\n",
       "4   Bream   430.0      26.5      29.0      34.0  12.4440  5.1340"
      ]
     },
     "execution_count": 2,
     "metadata": {},
     "output_type": "execute_result"
    }
   ],
   "source": [
    "df_fish = pd.read_csv('Fish.csv')\n",
    "df_fish.head()"
   ]
  },
  {
   "cell_type": "markdown",
   "metadata": {
    "id": "TJY0WXptUljL"
   },
   "source": [
    "Our objective is to predict the weight of a fish."
   ]
  },
  {
   "cell_type": "markdown",
   "metadata": {
    "id": "DmLmHtVXUljL"
   },
   "source": [
    "**The data definition is as follows:** <br>\n",
    "\n",
    "**Species:** Species of a fish\n",
    "\n",
    "**Weight:** Weight of a fish (target/dependent variable)\n",
    "\n",
    "**V_length:** Vertical length of a fish\n",
    "\n",
    "**D_length:** Diagonal length of a fish\n",
    "\n",
    "**C_length:** Cross length of a fish\n",
    "\n",
    "**Height:** Height of a fish\n",
    "\n",
    "**Width:** Diagonal width of a fish"
   ]
  },
  {
   "cell_type": "markdown",
   "metadata": {
    "id": "9TUq_DQjUljL"
   },
   "source": [
    "### Let's begin with some hands-on practice exercises"
   ]
  },
  {
   "cell_type": "markdown",
   "metadata": {
    "id": "Z8WRzv6uUljL"
   },
   "source": [
    "<table align=\"left\">\n",
    "    <tr>\n",
    "        <td width=\"6%\">\n",
    "            <img src=\"question_icon.png\">\n",
    "        </td>\n",
    "        <td>\n",
    "            <div align=\"left\", style=\"font-size:120%\">\n",
    "                <font color=\"#21618C\">\n",
    "                    <b>1. Build a full model on the scaled data and check whether the model is overfitting or not</b>\n",
    "                </font>\n",
    "            </div>\n",
    "        </td>\n",
    "    </tr>\n",
    "</table>"
   ]
  },
  {
   "cell_type": "code",
   "execution_count": 114,
   "metadata": {},
   "outputs": [],
   "source": [
    "# Separating Numerical and Categorical Features\n",
    "df_num = df_fish.select_dtypes(include = np.number)\n",
    "df_cat = df_fish.select_dtypes(exclude = np.number)"
   ]
  },
  {
   "cell_type": "code",
   "execution_count": 115,
   "metadata": {},
   "outputs": [
    {
     "data": {
      "text/html": [
       "<div>\n",
       "<style scoped>\n",
       "    .dataframe tbody tr th:only-of-type {\n",
       "        vertical-align: middle;\n",
       "    }\n",
       "\n",
       "    .dataframe tbody tr th {\n",
       "        vertical-align: top;\n",
       "    }\n",
       "\n",
       "    .dataframe thead th {\n",
       "        text-align: right;\n",
       "    }\n",
       "</style>\n",
       "<table border=\"1\" class=\"dataframe\">\n",
       "  <thead>\n",
       "    <tr style=\"text-align: right;\">\n",
       "      <th></th>\n",
       "      <th>Weight</th>\n",
       "      <th>V_length</th>\n",
       "      <th>D_length</th>\n",
       "      <th>C_length</th>\n",
       "      <th>Height</th>\n",
       "      <th>Width</th>\n",
       "    </tr>\n",
       "  </thead>\n",
       "  <tbody>\n",
       "    <tr>\n",
       "      <th>0</th>\n",
       "      <td>242.0</td>\n",
       "      <td>23.2</td>\n",
       "      <td>25.4</td>\n",
       "      <td>30.0</td>\n",
       "      <td>11.52</td>\n",
       "      <td>4.0200</td>\n",
       "    </tr>\n",
       "    <tr>\n",
       "      <th>1</th>\n",
       "      <td>290.0</td>\n",
       "      <td>24.0</td>\n",
       "      <td>26.3</td>\n",
       "      <td>31.2</td>\n",
       "      <td>12.48</td>\n",
       "      <td>4.3056</td>\n",
       "    </tr>\n",
       "  </tbody>\n",
       "</table>\n",
       "</div>"
      ],
      "text/plain": [
       "   Weight  V_length  D_length  C_length  Height   Width\n",
       "0   242.0      23.2      25.4      30.0   11.52  4.0200\n",
       "1   290.0      24.0      26.3      31.2   12.48  4.3056"
      ]
     },
     "execution_count": 115,
     "metadata": {},
     "output_type": "execute_result"
    }
   ],
   "source": [
    "# Checking the Numerical Features\n",
    "df_num.head(2)"
   ]
  },
  {
   "cell_type": "code",
   "execution_count": 116,
   "metadata": {},
   "outputs": [
    {
     "data": {
      "text/html": [
       "<div>\n",
       "<style scoped>\n",
       "    .dataframe tbody tr th:only-of-type {\n",
       "        vertical-align: middle;\n",
       "    }\n",
       "\n",
       "    .dataframe tbody tr th {\n",
       "        vertical-align: top;\n",
       "    }\n",
       "\n",
       "    .dataframe thead th {\n",
       "        text-align: right;\n",
       "    }\n",
       "</style>\n",
       "<table border=\"1\" class=\"dataframe\">\n",
       "  <thead>\n",
       "    <tr style=\"text-align: right;\">\n",
       "      <th></th>\n",
       "      <th>Species</th>\n",
       "    </tr>\n",
       "  </thead>\n",
       "  <tbody>\n",
       "    <tr>\n",
       "      <th>0</th>\n",
       "      <td>Bream</td>\n",
       "    </tr>\n",
       "    <tr>\n",
       "      <th>1</th>\n",
       "      <td>Bream</td>\n",
       "    </tr>\n",
       "  </tbody>\n",
       "</table>\n",
       "</div>"
      ],
      "text/plain": [
       "  Species\n",
       "0   Bream\n",
       "1   Bream"
      ]
     },
     "execution_count": 116,
     "metadata": {},
     "output_type": "execute_result"
    }
   ],
   "source": [
    "#Checking categorical Featuers\n",
    "df_cat.head(2)"
   ]
  },
  {
   "cell_type": "code",
   "execution_count": 117,
   "metadata": {},
   "outputs": [],
   "source": [
    "# Encoding the Cat Features\n",
    "encoded_cat = pd.get_dummies(df_cat,drop_first=True)\n",
    "\n",
    "X = pd.concat([df_num,encoded_cat],axis=1).drop('Weight',axis=1)\n",
    "\n",
    "Y = df_fish['Weight']"
   ]
  },
  {
   "cell_type": "code",
   "execution_count": 118,
   "metadata": {},
   "outputs": [
    {
     "name": "stdout",
     "output_type": "stream",
     "text": [
      "(127, 11)\n",
      "(127,)\n",
      "(32, 11)\n",
      "(32,)\n"
     ]
    }
   ],
   "source": [
    "x_train,x_test,y_train,y_test = train_test_split(X,Y,test_size = 0.2,random_state = 10)\n",
    "\n",
    "print(x_train.shape)\n",
    "print(y_train.shape)\n",
    "print(x_test.shape)\n",
    "print(y_test.shape)"
   ]
  },
  {
   "cell_type": "code",
   "execution_count": 119,
   "metadata": {
    "id": "MCPLGHuuUljM"
   },
   "outputs": [],
   "source": [
    "# Scaling the Training and Test Data\n",
    "\n",
    "X_Scaler = StandardScaler()\n",
    "\n",
    "x_train = X_Scaler.fit_transform(x_train)\n",
    "x_test = X_Scaler.transform(x_test)\n",
    "\n",
    "y_train = (y_train - y_train.mean())/y_train.std()\n",
    "y_test = (y_test - y_test.mean())/y_test.std()"
   ]
  },
  {
   "cell_type": "code",
   "execution_count": 120,
   "metadata": {},
   "outputs": [
    {
     "data": {
      "text/plain": [
       "array([[ 1.21658233,  1.2220719 ,  1.07954096, ..., -0.36596253,\n",
       "        -0.30794088, -0.18033393],\n",
       "       [-0.48180958, -0.5235848 , -0.4480316 , ...,  2.7325202 ,\n",
       "        -0.30794088, -0.18033393],\n",
       "       [-0.69172318, -0.69280663, -0.66271748, ..., -0.36596253,\n",
       "        -0.30794088, -0.18033393],\n",
       "       ...,\n",
       "       [ 0.22426346,  0.24236661,  0.41896904, ..., -0.36596253,\n",
       "        -0.30794088, -0.18033393],\n",
       "       [ 1.24520691,  1.2220719 ,  1.1043124 , ..., -0.36596253,\n",
       "        -0.30794088, -0.18033393],\n",
       "       [ 0.13838971,  0.12658325,  0.33639755, ..., -0.36596253,\n",
       "        -0.30794088, -0.18033393]])"
      ]
     },
     "execution_count": 120,
     "metadata": {},
     "output_type": "execute_result"
    }
   ],
   "source": [
    "x_train"
   ]
  },
  {
   "cell_type": "code",
   "execution_count": 121,
   "metadata": {},
   "outputs": [
    {
     "name": "stdout",
     "output_type": "stream",
     "text": [
      "RMSE train :  0.25\n",
      "RMSE Test : 0.64\n"
     ]
    }
   ],
   "source": [
    "linreg = LinearRegression()\n",
    "\n",
    "linear_model = linreg.fit(x_train,y_train)\n",
    "\n",
    "train_pred = linear_model.predict(x_train)\n",
    "test_pred = linear_model.predict(x_test)\n",
    "\n",
    "# Mean Squared Error of training set\n",
    "mse_train = mean_squared_error(y_train,train_pred)\n",
    "\n",
    "rmse_train = np.sqrt(mse_train)\n",
    "\n",
    "print('RMSE train : ',rmse_train.round(2))\n",
    "\n",
    "# MSE and RMSE on test data\n",
    "\n",
    "mse_test = mean_squared_error(y_test,test_pred)\n",
    "\n",
    "rmse_test = np.sqrt(mse_test)\n",
    "\n",
    "print('RMSE Test :',rmse_test.round(2))\n",
    "\n",
    "# model Overfitted as the train RMSE and test RMSE has huge error difference"
   ]
  },
  {
   "cell_type": "markdown",
   "metadata": {
    "id": "rVvaNdf7UljM"
   },
   "source": [
    "<table align=\"left\">\n",
    "    <tr>\n",
    "        <td width=\"6%\">\n",
    "            <img src=\"question_icon.png\">\n",
    "        </td>\n",
    "        <td>\n",
    "            <div align=\"left\", style=\"font-size:120%\">\n",
    "                <font color=\"#21618C\">\n",
    "                    <b>2. Is there multicollinearity present in the scaled data?\n",
    "                     </b>\n",
    "                </font>\n",
    "            </div>\n",
    "        </td>\n",
    "    </tr>\n",
    "</table>"
   ]
  },
  {
   "cell_type": "code",
   "execution_count": 100,
   "metadata": {},
   "outputs": [],
   "source": [
    "encoded_cat = pd.get_dummies(df_cat,drop_first=True)\n",
    "\n",
    "X = pd.concat([df_num,encoded_cat],axis=1).drop('Weight',axis=1)\n",
    "\n",
    "X= sm.add_constant(X)\n",
    "\n",
    "Y = df_fish['Weight']"
   ]
  },
  {
   "cell_type": "code",
   "execution_count": 101,
   "metadata": {},
   "outputs": [
    {
     "name": "stdout",
     "output_type": "stream",
     "text": [
      "(127, 12)\n",
      "(127,)\n",
      "(32, 12)\n",
      "(32,)\n"
     ]
    }
   ],
   "source": [
    "x_train,x_test,y_train,y_test = train_test_split(X,Y,test_size = 0.2,random_state = 10)\n",
    "\n",
    "print(x_train.shape)\n",
    "print(y_train.shape)\n",
    "print(x_test.shape)\n",
    "print(y_test.shape)"
   ]
  },
  {
   "cell_type": "code",
   "execution_count": 102,
   "metadata": {},
   "outputs": [],
   "source": [
    "# Scaling the Training and Test Data\n",
    "\n",
    "X_Scaler = StandardScaler()\n",
    "\n",
    "x_train = X_Scaler.fit_transform(x_train)\n",
    "x_test = X_Scaler.transform(x_test)\n",
    "\n",
    "y_train = (y_train - y_train.mean())/y_train.std()\n",
    "y_test = (y_test - y_test.mean())/y_test.std()"
   ]
  },
  {
   "cell_type": "code",
   "execution_count": 103,
   "metadata": {
    "id": "alN-7aWUUljM"
   },
   "outputs": [
    {
     "name": "stdout",
     "output_type": "stream",
     "text": [
      "                                 OLS Regression Results                                \n",
      "=======================================================================================\n",
      "Dep. Variable:                 Weight   R-squared (uncentered):                   0.938\n",
      "Model:                            OLS   Adj. R-squared (uncentered):              0.932\n",
      "Method:                 Least Squares   F-statistic:                              159.0\n",
      "Date:                Tue, 01 Mar 2022   Prob (F-statistic):                    1.66e-64\n",
      "Time:                        16:12:51   Log-Likelihood:                         -3.3321\n",
      "No. Observations:                 127   AIC:                                      28.66\n",
      "Df Residuals:                     116   BIC:                                      59.95\n",
      "Df Model:                          11                                                  \n",
      "Covariance Type:            nonrobust                                                  \n",
      "==============================================================================\n",
      "                 coef    std err          t      P>|t|      [0.025      0.975]\n",
      "------------------------------------------------------------------------------\n",
      "const               0          0        nan        nan           0           0\n",
      "x1            -2.3209      1.155     -2.010      0.047      -4.608      -0.034\n",
      "x2             2.0989      1.572      1.335      0.184      -1.014       5.212\n",
      "x3             1.4499      1.114      1.302      0.196      -0.756       3.656\n",
      "x4             0.1428      0.172      0.829      0.409      -0.198       0.484\n",
      "x5            -0.0906      0.130     -0.694      0.489      -0.349       0.168\n",
      "x6             0.1351      0.057      2.389      0.019       0.023       0.247\n",
      "x7             0.2992      0.186      1.609      0.110      -0.069       0.667\n",
      "x8            -0.1082      0.138     -0.787      0.433      -0.381       0.164\n",
      "x9             0.1275      0.091      1.402      0.164      -0.053       0.308\n",
      "x10            0.3897      0.106      3.691      0.000       0.181       0.599\n",
      "x11            0.0797      0.054      1.482      0.141      -0.027       0.186\n",
      "==============================================================================\n",
      "Omnibus:                       28.132   Durbin-Watson:                   1.977\n",
      "Prob(Omnibus):                  0.000   Jarque-Bera (JB):               51.048\n",
      "Skew:                           0.982   Prob(JB):                     8.23e-12\n",
      "Kurtosis:                       5.406   Cond. No.                          inf\n",
      "==============================================================================\n",
      "\n",
      "Notes:\n",
      "[1] R² is computed without centering (uncentered) since the model does not contain a constant.\n",
      "[2] Standard Errors assume that the covariance matrix of the errors is correctly specified.\n",
      "[3] The smallest eigenvalue is      0. This might indicate that there are\n",
      "strong multicollinearity problems or that the design matrix is singular.\n"
     ]
    }
   ],
   "source": [
    "ols_model = sm.OLS(y_train,x_train).fit()\n",
    "\n",
    "print(ols_model.summary())"
   ]
  },
  {
   "cell_type": "code",
   "execution_count": 69,
   "metadata": {},
   "outputs": [
    {
     "name": "stdout",
     "output_type": "stream",
     "text": [
      "The Condition number is 2150. which is very high . Hence we can confirm that the dataset has high MultiCollinearity\n"
     ]
    }
   ],
   "source": [
    "print('The Condition number is {0} which is very high . Hence we can confirm that the dataset has high MultiCollinearity'.format(np.format_float_positional(2.15e+03)))"
   ]
  },
  {
   "cell_type": "code",
   "execution_count": 104,
   "metadata": {},
   "outputs": [
    {
     "name": "stdout",
     "output_type": "stream",
     "text": [
      "RMSE train :  0.25\n",
      "RMSE test : 0.64\n"
     ]
    }
   ],
   "source": [
    "train_pred = ols_model.predict(x_train)\n",
    "test_pred = ols_model.predict(x_test)\n",
    "\n",
    "\n",
    "\n",
    "# Mean Squared Error of training set\n",
    "mse_train = mean_squared_error(y_train,train_pred)\n",
    "\n",
    "rmse_train = np.sqrt(mse_train)\n",
    "\n",
    "print('RMSE train : ',rmse_train.round(2))\n",
    "\n",
    "# MSE and RMSE on test data\n",
    "\n",
    "mse_test = mean_squared_error(y_test,test_pred)\n",
    "\n",
    "rmse_test = np.sqrt(mse_test)\n",
    "\n",
    "print('RMSE test :',rmse_test.round(2))"
   ]
  },
  {
   "cell_type": "markdown",
   "metadata": {
    "id": "2Bwa3d36UljM"
   },
   "source": [
    "<table align=\"left\">\n",
    "    <tr>\n",
    "        <td width=\"6%\">\n",
    "            <img src=\"question_icon.png\">\n",
    "        </td>\n",
    "        <td>\n",
    "            <div align=\"left\", style=\"font-size:120%\">\n",
    "                <font color=\"#21618C\">\n",
    "                    <b>3. Apply the ridge regression with 'alpha = 1.5' and compare the RMSE on the test dataset with the RMSE obtained from linear regression using OLS\n",
    "                    </b>\n",
    "                </font>\n",
    "            </div>\n",
    "        </td>\n",
    "    </tr>\n",
    "</table>"
   ]
  },
  {
   "cell_type": "code",
   "execution_count": 82,
   "metadata": {},
   "outputs": [],
   "source": [
    "X = pd.concat([df_num,encoded_cat],axis=1).drop('Weight',axis=1)\n",
    "\n",
    "\n",
    "Y = df_fish['Weight']"
   ]
  },
  {
   "cell_type": "code",
   "execution_count": 83,
   "metadata": {},
   "outputs": [
    {
     "name": "stdout",
     "output_type": "stream",
     "text": [
      "(127, 11)\n",
      "(127,)\n",
      "(32, 11)\n",
      "(32,)\n"
     ]
    }
   ],
   "source": [
    "x_train,x_test,y_train,y_test = train_test_split(X,Y,test_size = 0.2,random_state = 10)\n",
    "\n",
    "print(x_train.shape)\n",
    "print(y_train.shape)\n",
    "print(x_test.shape)\n",
    "print(y_test.shape)"
   ]
  },
  {
   "cell_type": "code",
   "execution_count": 84,
   "metadata": {},
   "outputs": [],
   "source": [
    "# Scaling the Training and Test Data\n",
    "\n",
    "X_Scaler = StandardScaler()\n",
    "\n",
    "x_train = X_Scaler.fit_transform(x_train)\n",
    "x_test = X_Scaler.transform(x_test)\n",
    "\n",
    "y_train = (y_train - y_train.mean())/y_train.std()\n",
    "y_test = (y_test - y_test.mean())/y_test.std()"
   ]
  },
  {
   "cell_type": "code",
   "execution_count": 87,
   "metadata": {
    "id": "CWyXC6m-UljN"
   },
   "outputs": [
    {
     "name": "stdout",
     "output_type": "stream",
     "text": [
      "RMSE train :  0.26\n",
      "RMSE test : 0.62\n"
     ]
    }
   ],
   "source": [
    "ridge = Ridge(alpha = 1.5)\n",
    "\n",
    "ridge_model = ridge.fit(x_train,y_train)\n",
    "\n",
    "train_pred = ridge_model.predict(x_train)\n",
    "test_pred = ridge_model.predict(x_test)\n",
    "\n",
    "\n",
    "\n",
    "# Mean Squared Error of training set\n",
    "mse_train = mean_squared_error(y_train,train_pred)\n",
    "\n",
    "rmse_train = np.sqrt(mse_train)\n",
    "\n",
    "print('RMSE train : ',rmse_train.round(2))\n",
    "\n",
    "# MSE and RMSE on test data\n",
    "\n",
    "mse_test = mean_squared_error(y_test,test_pred)\n",
    "\n",
    "rmse_test = np.sqrt(mse_test)\n",
    "\n",
    "print('RMSE test :',rmse_test.round(2))"
   ]
  },
  {
   "cell_type": "code",
   "execution_count": 105,
   "metadata": {},
   "outputs": [],
   "source": [
    "\n",
    "# There is 0.02 differnce in the RMSE of OLS and Ridge"
   ]
  },
  {
   "cell_type": "markdown",
   "metadata": {
    "id": "RYxMBD4VUljN"
   },
   "source": [
    "<table align=\"left\">\n",
    "    <tr>\n",
    "        <td width=\"6%\">\n",
    "            <img src=\"question_icon.png\">\n",
    "        </td>\n",
    "        <td>\n",
    "            <div align=\"left\", style=\"font-size:120%\">\n",
    "                <font color=\"#21618C\">\n",
    "                    <b>4. Build a full model using SGD. Plot a multiple barchart to compare the beta coefficients for each variable obtained by the SGD model and the full model build using OLS \n",
    "                    </b>\n",
    "                </font>\n",
    "            </div>\n",
    "        </td>\n",
    "    </tr>\n",
    "</table>"
   ]
  },
  {
   "cell_type": "code",
   "execution_count": 129,
   "metadata": {},
   "outputs": [
    {
     "data": {
      "text/plain": [
       "(127, 11)"
      ]
     },
     "execution_count": 129,
     "metadata": {},
     "output_type": "execute_result"
    }
   ],
   "source": [
    "x_train.shape"
   ]
  },
  {
   "cell_type": "code",
   "execution_count": 128,
   "metadata": {},
   "outputs": [],
   "source": [
    "x_train,x_test,y_train,y_test = train_test_split(X,Y,test_size = 0.2,random_state = 10)\n",
    "\n",
    "# Scaling the Training and Test Data\n",
    "\n",
    "X_Scaler = StandardScaler()\n",
    "\n",
    "x_train = X_Scaler.fit_transform(x_train)\n",
    "x_test = X_Scaler.transform(x_test)\n",
    "\n",
    "y_train = (y_train - y_train.mean())/y_train.std()\n",
    "y_test = (y_test - y_test.mean())/y_test.std()"
   ]
  },
  {
   "cell_type": "code",
   "execution_count": 130,
   "metadata": {
    "id": "2h_mClM-UljN"
   },
   "outputs": [],
   "source": [
    "sgd = SGDRegressor(random_state = 1)\n",
    "\n",
    "sgd_model = sgd.fit(x_train,y_train)"
   ]
  },
  {
   "cell_type": "code",
   "execution_count": 131,
   "metadata": {},
   "outputs": [
    {
     "data": {
      "text/plain": [
       "(159, 11)"
      ]
     },
     "execution_count": 131,
     "metadata": {},
     "output_type": "execute_result"
    }
   ],
   "source": [
    "df_train = pd.concat([df_num,encoded_cat],axis=1).drop('Weight',axis=1)\n",
    "\n",
    "df_train.shape"
   ]
  },
  {
   "cell_type": "code",
   "execution_count": 132,
   "metadata": {},
   "outputs": [
    {
     "data": {
      "text/plain": [
       "array([-2.3209448 ,  2.0989425 ,  1.44994864,  0.14279164, -0.09060389,\n",
       "        0.13513386,  0.29922109, -0.10819895,  0.1275215 ,  0.38970945,\n",
       "        0.07967051])"
      ]
     },
     "execution_count": 132,
     "metadata": {},
     "output_type": "execute_result"
    }
   ],
   "source": [
    "linear_model.coef_"
   ]
  },
  {
   "cell_type": "code",
   "execution_count": 133,
   "metadata": {},
   "outputs": [
    {
     "data": {
      "text/plain": [
       "array([ 0.2389999 ,  0.23742774,  0.22565242,  0.14506113,  0.2318666 ,\n",
       "        0.0034164 ,  0.01620184, -0.04867946, -0.04323349,  0.1651713 ,\n",
       "        0.01131562])"
      ]
     },
     "execution_count": 133,
     "metadata": {},
     "output_type": "execute_result"
    }
   ],
   "source": [
    "sgd_model.coef_"
   ]
  },
  {
   "cell_type": "code",
   "execution_count": 134,
   "metadata": {},
   "outputs": [
    {
     "data": {
      "image/png": "[encoded data removed]",
      "text/plain": [
       "<Figure size 720x504 with 1 Axes>"
      ]
     },
     "metadata": {
      "needs_background": "light"
     },
     "output_type": "display_data"
    }
   ],
   "source": [
    "df_coeff = pd.DataFrame([linear_model.coef_, sgd_model.coef_], columns = df_train.columns, \n",
    "                 index = ['linreg_sklearn_coeff', 'linreg_SGD_coeff'])\n",
    "\n",
    "# plot a side by side bar graph\n",
    "# 'T' returns the transposed dataframe \n",
    "# set figure size using 'figsize'\n",
    "fig = df_coeff.T.plot.barh( figsize=(10,7))\n",
    "\n",
    "# set axes and plot labels\n",
    "# set the text size using 'fontsize'\n",
    "plt.title('Comparison of Coefficients', fontsize = 15)\n",
    "fig.set_xlabel('Features', fontsize = 15)\n",
    "fig.set_ylabel('Values', fontsize = 15)\n",
    "\n",
    "# set the x-axis labels horizontally\n",
    "plt.xticks(rotation = 'horizontal')\n",
    "\n",
    "# set the position of legend\n",
    "fig.legend(loc='upper left')\n",
    "\n",
    "# display the plot\n",
    "plt.show()"
   ]
  },
  {
   "cell_type": "markdown",
   "metadata": {},
   "source": [
    " We can observe that the coefficients obtained from the SGD model have smaller values as compared to the values obtained from the linear regression model using sklearn. Thus, we can say that the SGD model predicts the fish weighr with higher accuracy than the linear regression model."
   ]
  },
  {
   "cell_type": "markdown",
   "metadata": {
    "id": "9Co_PWMvUljN"
   },
   "source": [
    "<table align=\"left\">\n",
    "    <tr>\n",
    "        <td width=\"6%\">\n",
    "            <img src=\"question_icon.png\">\n",
    "        </td>\n",
    "        <td>\n",
    "            <div align=\"left\", style=\"font-size:120%\">\n",
    "                <font color=\"#21618C\">\n",
    "                    <b>5. Identify the least significant variables in the data by considering 'alpha = 0.1' \n",
    "                    </b>\n",
    "                </font>\n",
    "            </div>\n",
    "        </td>\n",
    "    </tr>\n",
    "</table>"
   ]
  },
  {
   "cell_type": "code",
   "execution_count": 146,
   "metadata": {
    "id": "JlNSJaBkUljO"
   },
   "outputs": [
    {
     "data": {
      "image/png": "[encoded data removed]",
      "text/plain": [
       "<Figure size 432x288 with 1 Axes>"
      ]
     },
     "metadata": {
      "needs_background": "light"
     },
     "output_type": "display_data"
    }
   ],
   "source": [
    "lasso = Lasso(alpha=0.1)\n",
    "\n",
    "lasso_model = lasso.fit(x_train,y_train)\n",
    "\n",
    "df_lasso = pd.DataFrame({'Variable': df_train.columns,'Co-efficients' : lasso_model.coef_})\n",
    "\n",
    "sorted_df = df_lasso.sort_values('Co-efficients',ascending=False)\n",
    "\n",
    "sns.barplot(data = sorted_df,y='Variable',x='Co-efficients')\n",
    "\n",
    "plt.show()"
   ]
  },
  {
   "cell_type": "code",
   "execution_count": 147,
   "metadata": {},
   "outputs": [],
   "source": [
    "# Except C_length,Width,D_length all others are least significant"
   ]
  },
  {
   "cell_type": "markdown",
   "metadata": {
    "id": "edEqMwyKUljO"
   },
   "source": [
    "<table align=\"left\">\n",
    "    <tr>\n",
    "        <td width=\"6%\">\n",
    "            <img src=\"question_icon.png\">\n",
    "        </td>\n",
    "        <td>\n",
    "            <div align=\"left\", style=\"font-size:120%\">\n",
    "                <font color=\"#21618C\">\n",
    "                    <b>6. What is the impact of diagonal width on the weight of a fish?\n",
    "                    </b>\n",
    "                </font>\n",
    "            </div>\n",
    "        </td>\n",
    "    </tr>\n",
    "</table>"
   ]
  },
  {
   "cell_type": "code",
   "execution_count": 139,
   "metadata": {
    "id": "YVFphJF-UljO"
   },
   "outputs": [
    {
     "data": {
      "text/plain": [
       "Index(['Species', 'Weight', 'V_length', 'D_length', 'C_length', 'Height',\n",
       "       'Width'],\n",
       "      dtype='object')"
      ]
     },
     "execution_count": 139,
     "metadata": {},
     "output_type": "execute_result"
    }
   ],
   "source": [
    "df_fish.columns"
   ]
  },
  {
   "cell_type": "code",
   "execution_count": 140,
   "metadata": {},
   "outputs": [
    {
     "data": {
      "image/png": "[encoded data removed]",
      "text/plain": [
       "<Figure size 432x288 with 1 Axes>"
      ]
     },
     "metadata": {
      "needs_background": "light"
     },
     "output_type": "display_data"
    }
   ],
   "source": [
    "sns.scatterplot(data = df_fish,x='Width',y='Weight')\n",
    "plt.show()"
   ]
  },
  {
   "cell_type": "code",
   "execution_count": 141,
   "metadata": {},
   "outputs": [
    {
     "data": {
      "text/plain": [
       "0.8869600089994604"
      ]
     },
     "execution_count": 141,
     "metadata": {},
     "output_type": "execute_result"
    }
   ],
   "source": [
    "df_fish['Width'].corr(df_fish['Weight'])"
   ]
  },
  {
   "cell_type": "code",
   "execution_count": 142,
   "metadata": {},
   "outputs": [],
   "source": [
    "# The Impact is Highly Corelated . If Width Increases , Weight of The Fish Also increases and vice versa"
   ]
  },
  {
   "cell_type": "markdown",
   "metadata": {
    "id": "svyU1nZSUljO"
   },
   "source": [
    "<table align=\"left\">\n",
    "    <tr>\n",
    "        <td width=\"6%\">\n",
    "            <img src=\"question_icon.png\">\n",
    "        </td>\n",
    "        <td>\n",
    "            <div align=\"left\", style=\"font-size:120%\">\n",
    "                <font color=\"#21618C\">\n",
    "                    <b>7. Which value of alpha from the list of values returns lowest RMSE on the test set in ridge regression\n",
    "                    </b>\n",
    "                </font>\n",
    "            </div>\n",
    "        </td>\n",
    "    </tr>\n",
    "</table>"
   ]
  },
  {
   "cell_type": "markdown",
   "metadata": {
    "id": "mKESA10HUljP"
   },
   "source": [
    "Consider the list of values for alpha:\n",
    "\n",
    "    list_of_alpha = [0.00001, 0.001, 0.1, 10, 100]\n",
    "    \n",
    "Consider 5-fold cross validation."
   ]
  },
  {
   "cell_type": "code",
   "execution_count": 152,
   "metadata": {
    "id": "AWtxblq1UljP"
   },
   "outputs": [
    {
     "name": "stdout",
     "output_type": "stream",
     "text": [
      "alpha : 1e-05 , rmse : 0.6421304313165805\n",
      "alpha : 0.001 , rmse : 0.6415220948360464\n",
      "alpha : 0.1 , rmse : 0.6294845058964403\n",
      "alpha : 10 , rmse : 0.5975050549067472\n",
      "alpha : 100 , rmse : 0.5906244021182478\n"
     ]
    }
   ],
   "source": [
    "alpha = [0.00001, 0.001, 0.1, 10, 100]\n",
    "for i in alpha:\n",
    "    ridge = Ridge(alpha=i)\n",
    "    ridge_model = ridge.fit(x_train,y_train)\n",
    "    test_pred = ridge_model.predict(x_test)\n",
    "    mse = mean_squared_error(y_test,test_pred)\n",
    "    print('alpha : {0} , rmse : {1}'.format(i,np.sqrt(mse)))"
   ]
  },
  {
   "cell_type": "code",
   "execution_count": 155,
   "metadata": {},
   "outputs": [
    {
     "name": "stdout",
     "output_type": "stream",
     "text": [
      "Best parameters for Lasso Regression: {'alpha': 0.1}\n"
     ]
    }
   ],
   "source": [
    "# 'alpha' assigns the regularization strength to the model\n",
    "tuned_paramaters = [{'alpha':[0.00001, 0.001, 0.1, 10, 100]}]\n",
    " \n",
    "# instantiate the Lasso() method\n",
    "ridge = Ridge()\n",
    "\n",
    "# use GridSearchCV() to find the optimal value of alpha\n",
    "# estimator: pass the lasso regression model\n",
    "# param_grid: pass the list 'tuned_parameters'\n",
    "# cv: number of folds in k-fold i.e. here cv = 5\n",
    "ridge_grid = GridSearchCV(estimator = ridge, \n",
    "                          param_grid = tuned_paramaters, \n",
    "                          cv = 5)\n",
    "\n",
    "# fit the model on X_train and y_train using fit()\n",
    "ridge_grid.fit(x_train, y_train)\n",
    "\n",
    "# get the best parameters\n",
    "print('Best parameters for Lasso Regression:', ridge_grid.best_params_)"
   ]
  },
  {
   "cell_type": "markdown",
   "metadata": {
    "id": "veTSu4beUljP"
   },
   "source": [
    "<table align=\"left\">\n",
    "    <tr>\n",
    "        <td width=\"6%\">\n",
    "            <img src=\"question_icon.png\">\n",
    "        </td>\n",
    "        <td>\n",
    "            <div align=\"left\", style=\"font-size:120%\">\n",
    "                <font color=\"#21618C\">\n",
    "                    <b>8. Select the best value for the elastic net mixing parameter from the list of values\n",
    "                    </b>\n",
    "                </font>\n",
    "            </div>\n",
    "        </td>\n",
    "    </tr>\n",
    "</table>"
   ]
  },
  {
   "cell_type": "markdown",
   "metadata": {
    "id": "Yq5r79CMUljQ"
   },
   "source": [
    "Consider the below list of values:\n",
    "\n",
    "    list_of_parameter = [0.0001, 0.001, 0.01, 0.1, 1]\n",
    "\n",
    "Consider 5-fold cross validation."
   ]
  },
  {
   "cell_type": "code",
   "execution_count": 161,
   "metadata": {
    "id": "ZpyVlF3uUljQ"
   },
   "outputs": [
    {
     "name": "stdout",
     "output_type": "stream",
     "text": [
      "Best parameters for ELastic-net Regression:  {'l1_ratio': 0.0001} \n",
      "\n"
     ]
    }
   ],
   "source": [
    "# create a dictionary with hyperparameters and its values\n",
    "tuned_paramaters = [{'l1_ratio':[0.0001, 0.001, 0.01, 0.1, 1]}]\n",
    " \n",
    "# instantiate the ElasticNet() method\n",
    "enet = ElasticNet(alpha=0.1)\n",
    "\n",
    "# using GridSearchCV to find the optimal value of alpha and l1_ratio\n",
    "# estimator: pass the elastic net regression model\n",
    "# param_grid: pass the list 'tuned_parameters'\n",
    "# cv: number of folds in k-fold i.e. here cv = 10\n",
    "enet_grid = GridSearchCV(estimator = enet, \n",
    "                          param_grid = tuned_paramaters, \n",
    "                          cv = 5)\n",
    "\n",
    "# fit the model on X_train and y_train\n",
    "enet_grid.fit(x_train, y_train)\n",
    "\n",
    "# get the best parameters\n",
    "print('Best parameters for ELastic-net Regression: ', enet_grid.best_params_, '\\n')"
   ]
  },
  {
   "cell_type": "markdown",
   "metadata": {
    "id": "1r7MWrCKUljQ"
   },
   "source": [
    "<table align=\"left\">\n",
    "    <tr>\n",
    "        <td width=\"6%\">\n",
    "            <img src=\"question_icon.png\">\n",
    "        </td>\n",
    "        <td>\n",
    "            <div align=\"left\", style=\"font-size:120%\">\n",
    "                <font color=\"#21618C\">\n",
    "                    <b>9. Identify the best value of alpha from the list of values for lasso regression\n",
    "                    </b>\n",
    "                </font>\n",
    "            </div>\n",
    "        </td>\n",
    "    </tr>\n",
    "</table>"
   ]
  },
  {
   "cell_type": "markdown",
   "metadata": {
    "id": "2f7It_J1UljQ"
   },
   "source": [
    "Consider the list of values for alpha:\n",
    "\n",
    "    list_of_alpha = [0.0001, 0.001, 0.1, 1, 2, 3]\n",
    "    \n",
    "Consider 5-fold cross validation."
   ]
  },
  {
   "cell_type": "code",
   "execution_count": 148,
   "metadata": {
    "id": "QhZr-ke8UljQ"
   },
   "outputs": [
    {
     "name": "stdout",
     "output_type": "stream",
     "text": [
      "Best parameters for Lasso Regression: {'alpha': 0.001}\n"
     ]
    }
   ],
   "source": [
    "# 'alpha' assigns the regularization strength to the model\n",
    "tuned_paramaters = [{'alpha':[0.0001, 0.001, 0.1, 1, 2, 3]}]\n",
    " \n",
    "# instantiate the Lasso() method\n",
    "lasso = Lasso()\n",
    "\n",
    "# use GridSearchCV() to find the optimal value of alpha\n",
    "# estimator: pass the lasso regression model\n",
    "# param_grid: pass the list 'tuned_parameters'\n",
    "# cv: number of folds in k-fold i.e. here cv = 5\n",
    "lasso_grid = GridSearchCV(estimator = lasso, \n",
    "                          param_grid = tuned_paramaters, \n",
    "                          cv = 5)\n",
    "\n",
    "# fit the model on X_train and y_train using fit()\n",
    "lasso_grid.fit(x_train, y_train)\n",
    "\n",
    "# get the best parameters\n",
    "print('Best parameters for Lasso Regression:', lasso_grid.best_params_)"
   ]
  },
  {
   "cell_type": "markdown",
   "metadata": {
    "id": "OFgLbrbiUljR"
   },
   "source": [
    "<table align=\"left\">\n",
    "    <tr>\n",
    "        <td width=\"6%\">\n",
    "            <img src=\"question_icon.png\">\n",
    "        </td>\n",
    "        <td>\n",
    "            <div align=\"left\", style=\"font-size:120%\">\n",
    "                <font color=\"#21618C\">\n",
    "                    <b>10. Build the elastic net regression model with 'alpha = 0.1' and best l1_ratio obtained by the GridSearchCV method. Also, compute the RMSE for test set\n",
    "                    </b>\n",
    "                </font>\n",
    "            </div>\n",
    "        </td>\n",
    "    </tr>\n",
    "</table>"
   ]
  },
  {
   "cell_type": "code",
   "execution_count": 158,
   "metadata": {
    "id": "41yT3j7aUljR"
   },
   "outputs": [
    {
     "name": "stdout",
     "output_type": "stream",
     "text": [
      "RMSE train :  0.27\n",
      "RMSE Test : 0.59\n"
     ]
    }
   ],
   "source": [
    "enet = ElasticNet(alpha=0.1,l1_ratio=0.0001)\n",
    "\n",
    "enet_model = enet.fit(x_train, y_train)\n",
    "\n",
    "\n",
    "\n",
    "train_pred = enet_model.predict(x_train)\n",
    "test_pred = enet_model.predict(x_test)\n",
    "\n",
    "# Mean Squared Error of training set\n",
    "mse_train = mean_squared_error(y_train,train_pred)\n",
    "\n",
    "rmse_train = np.sqrt(mse_train)\n",
    "\n",
    "print('RMSE train : ',rmse_train.round(2))\n",
    "\n",
    "# MSE and RMSE on test data\n",
    "\n",
    "mse_test = mean_squared_error(y_test,test_pred)\n",
    "\n",
    "rmse_test = np.sqrt(mse_test)\n",
    "\n",
    "print('RMSE Test :',rmse_test.round(2))"
   ]
  }
 ],
 "metadata": {
  "colab": {
   "collapsed_sections": [],
   "name": "SLR - Take home (Week 3) - Questions.ipynb",
   "provenance": []
  },
  "kernelspec": {
   "display_name": "Python 3",
   "language": "python",
   "name": "python3"
  },
  "language_info": {
   "codemirror_mode": {
    "name": "ipython",
    "version": 3
   },
   "file_extension": ".py",
   "mimetype": "text/x-python",
   "name": "python",
   "nbconvert_exporter": "python",
   "pygments_lexer": "ipython3",
   "version": "3.8.5"
  }
 },
 "nbformat": 4,
 "nbformat_minor": 1
}
