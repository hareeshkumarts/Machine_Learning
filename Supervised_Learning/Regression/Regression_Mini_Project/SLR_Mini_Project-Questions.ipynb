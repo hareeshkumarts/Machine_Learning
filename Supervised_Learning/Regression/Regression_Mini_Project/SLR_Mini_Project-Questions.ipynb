{
 "cells": [
  {
   "cell_type": "markdown",
   "metadata": {},
   "source": [
    "<h1 class=\"list-group-item list-group-item-action active\" data-toggle=\"list\"  role=\"tab\" aria-controls=\"home\">SUPERVISED LEARNING REGRESSION MINI PROJECT </h1>\n",
    "     \n"
   ]
  },
  {
   "cell_type": "code",
   "execution_count": 1,
   "metadata": {},
   "outputs": [],
   "source": [
    "# Importing Required Libraries\n",
    "\n",
    "import numpy as np\n",
    "import pandas as pd\n",
    "import matplotlib.pyplot as plt\n",
    "%matplotlib inline\n",
    "import seaborn as sns\n",
    "import warnings\n",
    "warnings.filterwarnings(action='ignore')\n",
    "\n",
    "from sklearn.preprocessing import StandardScaler\n",
    "from sklearn.model_selection import train_test_split\n",
    "import statsmodels.api as sm\n",
    "from sklearn.linear_model import LinearRegression\n",
    "from mlxtend.feature_selection import SequentialFeatureSelector as sfs\n",
    "from sklearn import metrics\n",
    "from sklearn.feature_selection import RFE"
   ]
  },
  {
   "cell_type": "markdown",
   "metadata": {},
   "source": [
    "<h2 class=\"list-group-item list-group-item-action active\" >1. Read the dataset likes.csv </h2>"
   ]
  },
  {
   "cell_type": "code",
   "execution_count": 2,
   "metadata": {
    "scrolled": true
   },
   "outputs": [
    {
     "data": {
      "text/html": [
       "<div>\n",
       "<style scoped>\n",
       "    .dataframe tbody tr th:only-of-type {\n",
       "        vertical-align: middle;\n",
       "    }\n",
       "\n",
       "    .dataframe tbody tr th {\n",
       "        vertical-align: top;\n",
       "    }\n",
       "\n",
       "    .dataframe thead th {\n",
       "        text-align: right;\n",
       "    }\n",
       "</style>\n",
       "<table border=\"1\" class=\"dataframe\">\n",
       "  <thead>\n",
       "    <tr style=\"text-align: right;\">\n",
       "      <th></th>\n",
       "      <th>userid</th>\n",
       "      <th>age</th>\n",
       "      <th>dob_day</th>\n",
       "      <th>dob_year</th>\n",
       "      <th>dob_month</th>\n",
       "      <th>gender</th>\n",
       "      <th>tenure</th>\n",
       "      <th>friend_count</th>\n",
       "      <th>friendships_initiated</th>\n",
       "      <th>likes</th>\n",
       "      <th>likes_received</th>\n",
       "      <th>mobile_likes</th>\n",
       "      <th>mobile_likes_received</th>\n",
       "      <th>www_likes</th>\n",
       "      <th>www_likes_received</th>\n",
       "    </tr>\n",
       "  </thead>\n",
       "  <tbody>\n",
       "    <tr>\n",
       "      <th>0</th>\n",
       "      <td>1098638</td>\n",
       "      <td>13</td>\n",
       "      <td>2</td>\n",
       "      <td>2000</td>\n",
       "      <td>2</td>\n",
       "      <td>male</td>\n",
       "      <td>0</td>\n",
       "      <td>0</td>\n",
       "      <td>0</td>\n",
       "      <td>1</td>\n",
       "      <td>0</td>\n",
       "      <td>0</td>\n",
       "      <td>0</td>\n",
       "      <td>1</td>\n",
       "      <td>0</td>\n",
       "    </tr>\n",
       "    <tr>\n",
       "      <th>1</th>\n",
       "      <td>2063204</td>\n",
       "      <td>14</td>\n",
       "      <td>22</td>\n",
       "      <td>1999</td>\n",
       "      <td>1</td>\n",
       "      <td>male</td>\n",
       "      <td>104</td>\n",
       "      <td>0</td>\n",
       "      <td>0</td>\n",
       "      <td>1</td>\n",
       "      <td>0</td>\n",
       "      <td>0</td>\n",
       "      <td>0</td>\n",
       "      <td>1</td>\n",
       "      <td>0</td>\n",
       "    </tr>\n",
       "    <tr>\n",
       "      <th>2</th>\n",
       "      <td>1579594</td>\n",
       "      <td>19</td>\n",
       "      <td>18</td>\n",
       "      <td>1994</td>\n",
       "      <td>10</td>\n",
       "      <td>female</td>\n",
       "      <td>212</td>\n",
       "      <td>0</td>\n",
       "      <td>0</td>\n",
       "      <td>1</td>\n",
       "      <td>0</td>\n",
       "      <td>0</td>\n",
       "      <td>0</td>\n",
       "      <td>1</td>\n",
       "      <td>0</td>\n",
       "    </tr>\n",
       "    <tr>\n",
       "      <th>3</th>\n",
       "      <td>1979672</td>\n",
       "      <td>21</td>\n",
       "      <td>1</td>\n",
       "      <td>1992</td>\n",
       "      <td>1</td>\n",
       "      <td>male</td>\n",
       "      <td>328</td>\n",
       "      <td>0</td>\n",
       "      <td>0</td>\n",
       "      <td>1</td>\n",
       "      <td>0</td>\n",
       "      <td>0</td>\n",
       "      <td>0</td>\n",
       "      <td>1</td>\n",
       "      <td>0</td>\n",
       "    </tr>\n",
       "    <tr>\n",
       "      <th>4</th>\n",
       "      <td>1344831</td>\n",
       "      <td>23</td>\n",
       "      <td>10</td>\n",
       "      <td>1990</td>\n",
       "      <td>2</td>\n",
       "      <td>male</td>\n",
       "      <td>580</td>\n",
       "      <td>0</td>\n",
       "      <td>0</td>\n",
       "      <td>1</td>\n",
       "      <td>0</td>\n",
       "      <td>0</td>\n",
       "      <td>0</td>\n",
       "      <td>1</td>\n",
       "      <td>0</td>\n",
       "    </tr>\n",
       "  </tbody>\n",
       "</table>\n",
       "</div>"
      ],
      "text/plain": [
       "    userid  age  dob_day  dob_year  dob_month  gender  tenure  friend_count  \\\n",
       "0  1098638   13        2      2000          2    male       0             0   \n",
       "1  2063204   14       22      1999          1    male     104             0   \n",
       "2  1579594   19       18      1994         10  female     212             0   \n",
       "3  1979672   21        1      1992          1    male     328             0   \n",
       "4  1344831   23       10      1990          2    male     580             0   \n",
       "\n",
       "   friendships_initiated  likes  likes_received  mobile_likes  \\\n",
       "0                      0      1               0             0   \n",
       "1                      0      1               0             0   \n",
       "2                      0      1               0             0   \n",
       "3                      0      1               0             0   \n",
       "4                      0      1               0             0   \n",
       "\n",
       "   mobile_likes_received  www_likes  www_likes_received  \n",
       "0                      0          1                   0  \n",
       "1                      0          1                   0  \n",
       "2                      0          1                   0  \n",
       "3                      0          1                   0  \n",
       "4                      0          1                   0  "
      ]
     },
     "execution_count": 2,
     "metadata": {},
     "output_type": "execute_result"
    }
   ],
   "source": [
    "df_likes = pd.read_csv('D:/Engineering Documents/Great Learnig/PGP-DSE/DataSets/Likes.csv')\n",
    "\n",
    "df_likes.head()"
   ]
  },
  {
   "cell_type": "code",
   "execution_count": 3,
   "metadata": {},
   "outputs": [
    {
     "data": {
      "text/plain": [
       "(2104, 15)"
      ]
     },
     "execution_count": 3,
     "metadata": {},
     "output_type": "execute_result"
    }
   ],
   "source": [
    "# Shape of the Data\n",
    "df_likes.shape"
   ]
  },
  {
   "cell_type": "markdown",
   "metadata": {},
   "source": [
    "**There are 2104 data points and 15 columns**"
   ]
  },
  {
   "cell_type": "code",
   "execution_count": 4,
   "metadata": {},
   "outputs": [
    {
     "name": "stdout",
     "output_type": "stream",
     "text": [
      "<class 'pandas.core.frame.DataFrame'>\n",
      "RangeIndex: 2104 entries, 0 to 2103\n",
      "Data columns (total 15 columns):\n",
      " #   Column                 Non-Null Count  Dtype \n",
      "---  ------                 --------------  ----- \n",
      " 0   userid                 2104 non-null   int64 \n",
      " 1   age                    2104 non-null   int64 \n",
      " 2   dob_day                2104 non-null   int64 \n",
      " 3   dob_year               2104 non-null   int64 \n",
      " 4   dob_month              2104 non-null   int64 \n",
      " 5   gender                 2102 non-null   object\n",
      " 6   tenure                 2104 non-null   int64 \n",
      " 7   friend_count           2104 non-null   int64 \n",
      " 8   friendships_initiated  2104 non-null   int64 \n",
      " 9   likes                  2104 non-null   int64 \n",
      " 10  likes_received         2104 non-null   int64 \n",
      " 11  mobile_likes           2104 non-null   int64 \n",
      " 12  mobile_likes_received  2104 non-null   int64 \n",
      " 13  www_likes              2104 non-null   int64 \n",
      " 14  www_likes_received     2104 non-null   int64 \n",
      "dtypes: int64(14), object(1)\n",
      "memory usage: 246.7+ KB\n"
     ]
    }
   ],
   "source": [
    "# Data Type information \n",
    "df_likes.info()"
   ]
  },
  {
   "cell_type": "markdown",
   "metadata": {},
   "source": [
    "**All DataTypes Looks Fine**"
   ]
  },
  {
   "cell_type": "code",
   "execution_count": 5,
   "metadata": {},
   "outputs": [
    {
     "data": {
      "text/plain": [
       "userid                   0\n",
       "age                      0\n",
       "dob_day                  0\n",
       "dob_year                 0\n",
       "dob_month                0\n",
       "gender                   2\n",
       "tenure                   0\n",
       "friend_count             0\n",
       "friendships_initiated    0\n",
       "likes                    0\n",
       "likes_received           0\n",
       "mobile_likes             0\n",
       "mobile_likes_received    0\n",
       "www_likes                0\n",
       "www_likes_received       0\n",
       "dtype: int64"
      ]
     },
     "execution_count": 5,
     "metadata": {},
     "output_type": "execute_result"
    }
   ],
   "source": [
    "# Missing Value Check\n",
    "df_likes.isnull().sum()"
   ]
  },
  {
   "cell_type": "markdown",
   "metadata": {},
   "source": [
    "**There are two missing values in Gender Column which can be dropped**"
   ]
  },
  {
   "cell_type": "code",
   "execution_count": 6,
   "metadata": {},
   "outputs": [
    {
     "data": {
      "text/plain": [
       "(2102, 15)"
      ]
     },
     "execution_count": 6,
     "metadata": {},
     "output_type": "execute_result"
    }
   ],
   "source": [
    "df_likes.dropna(subset=['gender'],axis='index',inplace=True)\n",
    "\n",
    "df_likes.shape"
   ]
  },
  {
   "cell_type": "markdown",
   "metadata": {},
   "source": [
    "**Two rows have been dropped and updated data points is 2102**"
   ]
  },
  {
   "cell_type": "code",
   "execution_count": 7,
   "metadata": {},
   "outputs": [
    {
     "data": {
      "text/plain": [
       "(2102, 14)"
      ]
     },
     "execution_count": 7,
     "metadata": {},
     "output_type": "execute_result"
    }
   ],
   "source": [
    "df_likes.drop('userid',axis=1,inplace=True)\n",
    "\n",
    "df_likes.shape"
   ]
  },
  {
   "cell_type": "markdown",
   "metadata": {},
   "source": [
    "**Since userid is unique for all the users . It will not contribute to the model.Hence dropped**"
   ]
  },
  {
   "cell_type": "code",
   "execution_count": 8,
   "metadata": {},
   "outputs": [
    {
     "data": {
      "text/plain": [
       "age                       16.152294\n",
       "dob_day                    9.243655\n",
       "dob_year                  16.152294\n",
       "dob_month                  3.698093\n",
       "tenure                   295.039197\n",
       "friend_count               1.396896\n",
       "friendships_initiated      1.242419\n",
       "likes                    169.533819\n",
       "likes_received            44.805840\n",
       "mobile_likes             155.322967\n",
       "mobile_likes_received     25.840426\n",
       "www_likes                 53.771175\n",
       "www_likes_received        22.137606\n",
       "dtype: float64"
      ]
     },
     "execution_count": 8,
     "metadata": {},
     "output_type": "execute_result"
    }
   ],
   "source": [
    "df_likes.std()\n",
    "\n",
    "# Checking Standard Deviation of all the Features for constant values"
   ]
  },
  {
   "cell_type": "markdown",
   "metadata": {},
   "source": [
    "**There are no features having  0 std**"
   ]
  },
  {
   "cell_type": "markdown",
   "metadata": {},
   "source": [
    "<h2 class=\"list-group-item list-group-item-action active\" >2. Basic EDA to understand dataset </h2>\n",
    "\n",
    ">### 1.  Select more than five columns for EDA\n",
    "\n",
    " Step1: Each plot must Use the subplots \n",
    " \n",
    "             Plot 1: Histogram or bar, line and use suitable plots\n",
    "             \n",
    "             Plot2: Box plot \n",
    "             \n",
    " Step2: Write the inference is it data skewed or not\n",
    "\n",
    " Step3: Write the inference is it data having  outliers  or not\n",
    "\n",
    "\n",
    "\n",
    ">### 2.  Plot the heat map \n",
    "             \n",
    "  Step1: Write the inference on the dependent variable and independent variable having the most (Positive and Negative) correlation columns \n",
    "\n",
    "\n",
    "  Step2: Write the inference on the correlation among independent variables"
   ]
  },
  {
   "cell_type": "markdown",
   "metadata": {},
   "source": [
    ">### 1.  Select more than five columns for EDA"
   ]
  },
  {
   "cell_type": "markdown",
   "metadata": {},
   "source": [
    " Step1: Each plot must Use the subplots \n",
    " \n",
    "             Plot 1: Histogram or bar, line and use suitable plots\n",
    "             \n",
    "             Plot2: Box plot "
   ]
  },
  {
   "cell_type": "code",
   "execution_count": 9,
   "metadata": {},
   "outputs": [
    {
     "data": {
      "text/html": [
       "<div>\n",
       "<style scoped>\n",
       "    .dataframe tbody tr th:only-of-type {\n",
       "        vertical-align: middle;\n",
       "    }\n",
       "\n",
       "    .dataframe tbody tr th {\n",
       "        vertical-align: top;\n",
       "    }\n",
       "\n",
       "    .dataframe thead th {\n",
       "        text-align: right;\n",
       "    }\n",
       "</style>\n",
       "<table border=\"1\" class=\"dataframe\">\n",
       "  <thead>\n",
       "    <tr style=\"text-align: right;\">\n",
       "      <th></th>\n",
       "      <th>age</th>\n",
       "      <th>dob_day</th>\n",
       "      <th>dob_year</th>\n",
       "      <th>dob_month</th>\n",
       "      <th>gender</th>\n",
       "      <th>tenure</th>\n",
       "      <th>friend_count</th>\n",
       "      <th>friendships_initiated</th>\n",
       "      <th>likes</th>\n",
       "      <th>likes_received</th>\n",
       "      <th>mobile_likes</th>\n",
       "      <th>mobile_likes_received</th>\n",
       "      <th>www_likes</th>\n",
       "      <th>www_likes_received</th>\n",
       "    </tr>\n",
       "  </thead>\n",
       "  <tbody>\n",
       "    <tr>\n",
       "      <th>0</th>\n",
       "      <td>13</td>\n",
       "      <td>2</td>\n",
       "      <td>2000</td>\n",
       "      <td>2</td>\n",
       "      <td>male</td>\n",
       "      <td>0</td>\n",
       "      <td>0</td>\n",
       "      <td>0</td>\n",
       "      <td>1</td>\n",
       "      <td>0</td>\n",
       "      <td>0</td>\n",
       "      <td>0</td>\n",
       "      <td>1</td>\n",
       "      <td>0</td>\n",
       "    </tr>\n",
       "    <tr>\n",
       "      <th>1</th>\n",
       "      <td>14</td>\n",
       "      <td>22</td>\n",
       "      <td>1999</td>\n",
       "      <td>1</td>\n",
       "      <td>male</td>\n",
       "      <td>104</td>\n",
       "      <td>0</td>\n",
       "      <td>0</td>\n",
       "      <td>1</td>\n",
       "      <td>0</td>\n",
       "      <td>0</td>\n",
       "      <td>0</td>\n",
       "      <td>1</td>\n",
       "      <td>0</td>\n",
       "    </tr>\n",
       "    <tr>\n",
       "      <th>2</th>\n",
       "      <td>19</td>\n",
       "      <td>18</td>\n",
       "      <td>1994</td>\n",
       "      <td>10</td>\n",
       "      <td>female</td>\n",
       "      <td>212</td>\n",
       "      <td>0</td>\n",
       "      <td>0</td>\n",
       "      <td>1</td>\n",
       "      <td>0</td>\n",
       "      <td>0</td>\n",
       "      <td>0</td>\n",
       "      <td>1</td>\n",
       "      <td>0</td>\n",
       "    </tr>\n",
       "    <tr>\n",
       "      <th>3</th>\n",
       "      <td>21</td>\n",
       "      <td>1</td>\n",
       "      <td>1992</td>\n",
       "      <td>1</td>\n",
       "      <td>male</td>\n",
       "      <td>328</td>\n",
       "      <td>0</td>\n",
       "      <td>0</td>\n",
       "      <td>1</td>\n",
       "      <td>0</td>\n",
       "      <td>0</td>\n",
       "      <td>0</td>\n",
       "      <td>1</td>\n",
       "      <td>0</td>\n",
       "    </tr>\n",
       "    <tr>\n",
       "      <th>4</th>\n",
       "      <td>23</td>\n",
       "      <td>10</td>\n",
       "      <td>1990</td>\n",
       "      <td>2</td>\n",
       "      <td>male</td>\n",
       "      <td>580</td>\n",
       "      <td>0</td>\n",
       "      <td>0</td>\n",
       "      <td>1</td>\n",
       "      <td>0</td>\n",
       "      <td>0</td>\n",
       "      <td>0</td>\n",
       "      <td>1</td>\n",
       "      <td>0</td>\n",
       "    </tr>\n",
       "  </tbody>\n",
       "</table>\n",
       "</div>"
      ],
      "text/plain": [
       "   age  dob_day  dob_year  dob_month  gender  tenure  friend_count  \\\n",
       "0   13        2      2000          2    male       0             0   \n",
       "1   14       22      1999          1    male     104             0   \n",
       "2   19       18      1994         10  female     212             0   \n",
       "3   21        1      1992          1    male     328             0   \n",
       "4   23       10      1990          2    male     580             0   \n",
       "\n",
       "   friendships_initiated  likes  likes_received  mobile_likes  \\\n",
       "0                      0      1               0             0   \n",
       "1                      0      1               0             0   \n",
       "2                      0      1               0             0   \n",
       "3                      0      1               0             0   \n",
       "4                      0      1               0             0   \n",
       "\n",
       "   mobile_likes_received  www_likes  www_likes_received  \n",
       "0                      0          1                   0  \n",
       "1                      0          1                   0  \n",
       "2                      0          1                   0  \n",
       "3                      0          1                   0  \n",
       "4                      0          1                   0  "
      ]
     },
     "execution_count": 9,
     "metadata": {},
     "output_type": "execute_result"
    }
   ],
   "source": [
    "df_likes.head()"
   ]
  },
  {
   "cell_type": "code",
   "execution_count": 10,
   "metadata": {},
   "outputs": [],
   "source": [
    "df_eda = df_likes[['dob_day','tenure','age','dob_month','likes_received','dob_year','likes']]"
   ]
  },
  {
   "cell_type": "code",
   "execution_count": 11,
   "metadata": {},
   "outputs": [
    {
     "data": {
      "image/png": "[encoded data removed]",
      "text/plain": [
       "<Figure size 1080x432 with 6 Axes>"
      ]
     },
     "metadata": {
      "needs_background": "light"
     },
     "output_type": "display_data"
    }
   ],
   "source": [
    "# Plotting Histogram Plot\n",
    "df_eda[['age','tenure','dob_day','dob_year','likes']].hist(bins = 20,figsize=(15,6))\n",
    "plt.show()"
   ]
  },
  {
   "cell_type": "code",
   "execution_count": 12,
   "metadata": {
    "scrolled": false
   },
   "outputs": [
    {
     "data": {
      "image/png": "[encoded data removed]",
      "text/plain": [
       "<Figure size 432x288 with 1 Axes>"
      ]
     },
     "metadata": {
      "needs_background": "light"
     },
     "output_type": "display_data"
    },
    {
     "data": {
      "image/png": "[encoded data removed]",
      "text/plain": [
       "<Figure size 432x288 with 1 Axes>"
      ]
     },
     "metadata": {
      "needs_background": "light"
     },
     "output_type": "display_data"
    },
    {
     "data": {
      "image/png": "[encoded data removed]",
      "text/plain": [
       "<Figure size 432x288 with 1 Axes>"
      ]
     },
     "metadata": {
      "needs_background": "light"
     },
     "output_type": "display_data"
    },
    {
     "data": {
      "image/png": "[encoded data removed]",
      "text/plain": [
       "<Figure size 432x288 with 1 Axes>"
      ]
     },
     "metadata": {
      "needs_background": "light"
     },
     "output_type": "display_data"
    },
    {
     "data": {
      "image/png": "[encoded data removed]",
      "text/plain": [
       "<Figure size 432x288 with 1 Axes>"
      ]
     },
     "metadata": {
      "needs_background": "light"
     },
     "output_type": "display_data"
    },
    {
     "data": {
      "image/png": "[encoded data removed]",
      "text/plain": [
       "<Figure size 432x288 with 1 Axes>"
      ]
     },
     "metadata": {
      "needs_background": "light"
     },
     "output_type": "display_data"
    },
    {
     "data": {
      "image/png": "[encoded data removed]",
      "text/plain": [
       "<Figure size 432x288 with 1 Axes>"
      ]
     },
     "metadata": {
      "needs_background": "light"
     },
     "output_type": "display_data"
    }
   ],
   "source": [
    "# Plotting Boxplot for the features\n",
    "for col in df_eda.columns:\n",
    "    sns.boxplot(df_likes[col])\n",
    "    plt.show()"
   ]
  },
  {
   "cell_type": "markdown",
   "metadata": {},
   "source": [
    " Step2: Write the inference is it data skewed or not"
   ]
  },
  {
   "cell_type": "code",
   "execution_count": 13,
   "metadata": {},
   "outputs": [
    {
     "data": {
      "text/plain": [
       "0.24179168831601616"
      ]
     },
     "execution_count": 13,
     "metadata": {},
     "output_type": "execute_result"
    }
   ],
   "source": [
    "df_eda['dob_day'].skew()"
   ]
  },
  {
   "cell_type": "code",
   "execution_count": 14,
   "metadata": {},
   "outputs": [
    {
     "data": {
      "text/plain": [
       "2.038302285466195"
      ]
     },
     "execution_count": 14,
     "metadata": {},
     "output_type": "execute_result"
    }
   ],
   "source": [
    "df_eda['tenure'].skew()"
   ]
  },
  {
   "cell_type": "code",
   "execution_count": 15,
   "metadata": {},
   "outputs": [
    {
     "data": {
      "text/plain": [
       "1.6307256057199968"
      ]
     },
     "execution_count": 15,
     "metadata": {},
     "output_type": "execute_result"
    }
   ],
   "source": [
    "df_eda['age'].skew()"
   ]
  },
  {
   "cell_type": "code",
   "execution_count": 16,
   "metadata": {},
   "outputs": [
    {
     "data": {
      "text/plain": [
       "0.158793939711598"
      ]
     },
     "execution_count": 16,
     "metadata": {},
     "output_type": "execute_result"
    }
   ],
   "source": [
    "df_eda['dob_month'].skew()"
   ]
  },
  {
   "cell_type": "code",
   "execution_count": 17,
   "metadata": {},
   "outputs": [
    {
     "data": {
      "text/plain": [
       "18.409402972023273"
      ]
     },
     "execution_count": 17,
     "metadata": {},
     "output_type": "execute_result"
    }
   ],
   "source": [
    "df_eda['likes_received'].skew()"
   ]
  },
  {
   "cell_type": "code",
   "execution_count": 18,
   "metadata": {},
   "outputs": [
    {
     "data": {
      "text/plain": [
       "-1.6307256057199984"
      ]
     },
     "execution_count": 18,
     "metadata": {},
     "output_type": "execute_result"
    }
   ],
   "source": [
    "df_eda['dob_year'].skew()"
   ]
  },
  {
   "cell_type": "code",
   "execution_count": 19,
   "metadata": {},
   "outputs": [],
   "source": [
    "# 1. dob_day - 0.2417 - Right Skewed \n",
    "# 2. tenure  - 2.03 - Right Skewed\n",
    "# 3. age - 1.63 - Right Skewed\n",
    "# 4. dob_month - Partially Right Skewed\n",
    "# 5. likes_received - Highly Rigt Skewed\n",
    "# 6. dob_year - Negatively skewed"
   ]
  },
  {
   "cell_type": "markdown",
   "metadata": {},
   "source": [
    "Step3: Write the inference is it data having  outliers  or not"
   ]
  },
  {
   "cell_type": "markdown",
   "metadata": {},
   "source": [
    "**age , likes_recived and tenure have outliers**"
   ]
  },
  {
   "cell_type": "markdown",
   "metadata": {},
   "source": [
    ">### 2.  Plot the heat map "
   ]
  },
  {
   "cell_type": "markdown",
   "metadata": {},
   "source": [
    "  Step1: Write the inference on the dependent variable and independent variable having the most (Positive and Negative) correlation columns "
   ]
  },
  {
   "cell_type": "code",
   "execution_count": 20,
   "metadata": {},
   "outputs": [
    {
     "data": {
      "text/html": [
       "<div>\n",
       "<style scoped>\n",
       "    .dataframe tbody tr th:only-of-type {\n",
       "        vertical-align: middle;\n",
       "    }\n",
       "\n",
       "    .dataframe tbody tr th {\n",
       "        vertical-align: top;\n",
       "    }\n",
       "\n",
       "    .dataframe thead th {\n",
       "        text-align: right;\n",
       "    }\n",
       "</style>\n",
       "<table border=\"1\" class=\"dataframe\">\n",
       "  <thead>\n",
       "    <tr style=\"text-align: right;\">\n",
       "      <th></th>\n",
       "      <th>age</th>\n",
       "      <th>dob_day</th>\n",
       "      <th>dob_year</th>\n",
       "      <th>dob_month</th>\n",
       "      <th>tenure</th>\n",
       "      <th>friend_count</th>\n",
       "      <th>friendships_initiated</th>\n",
       "      <th>likes</th>\n",
       "      <th>likes_received</th>\n",
       "      <th>mobile_likes</th>\n",
       "      <th>mobile_likes_received</th>\n",
       "      <th>www_likes</th>\n",
       "      <th>www_likes_received</th>\n",
       "    </tr>\n",
       "  </thead>\n",
       "  <tbody>\n",
       "    <tr>\n",
       "      <th>age</th>\n",
       "      <td>1.000000</td>\n",
       "      <td>0.023112</td>\n",
       "      <td>-1.000000</td>\n",
       "      <td>0.082238</td>\n",
       "      <td>0.167140</td>\n",
       "      <td>0.059302</td>\n",
       "      <td>0.029498</td>\n",
       "      <td>-0.017609</td>\n",
       "      <td>-0.019790</td>\n",
       "      <td>-0.020840</td>\n",
       "      <td>-0.022946</td>\n",
       "      <td>0.004677</td>\n",
       "      <td>-0.013270</td>\n",
       "    </tr>\n",
       "    <tr>\n",
       "      <th>dob_day</th>\n",
       "      <td>0.023112</td>\n",
       "      <td>1.000000</td>\n",
       "      <td>-0.023112</td>\n",
       "      <td>0.245781</td>\n",
       "      <td>0.037178</td>\n",
       "      <td>0.005152</td>\n",
       "      <td>-0.001030</td>\n",
       "      <td>0.018170</td>\n",
       "      <td>0.012845</td>\n",
       "      <td>0.003938</td>\n",
       "      <td>0.002053</td>\n",
       "      <td>0.045912</td>\n",
       "      <td>0.023603</td>\n",
       "    </tr>\n",
       "    <tr>\n",
       "      <th>dob_year</th>\n",
       "      <td>-1.000000</td>\n",
       "      <td>-0.023112</td>\n",
       "      <td>1.000000</td>\n",
       "      <td>-0.082238</td>\n",
       "      <td>-0.167140</td>\n",
       "      <td>-0.059302</td>\n",
       "      <td>-0.029498</td>\n",
       "      <td>0.017609</td>\n",
       "      <td>0.019790</td>\n",
       "      <td>0.020840</td>\n",
       "      <td>0.022946</td>\n",
       "      <td>-0.004677</td>\n",
       "      <td>0.013270</td>\n",
       "    </tr>\n",
       "    <tr>\n",
       "      <th>dob_month</th>\n",
       "      <td>0.082238</td>\n",
       "      <td>0.245781</td>\n",
       "      <td>-0.082238</td>\n",
       "      <td>1.000000</td>\n",
       "      <td>0.010588</td>\n",
       "      <td>-0.010098</td>\n",
       "      <td>-0.029925</td>\n",
       "      <td>0.007380</td>\n",
       "      <td>-0.018411</td>\n",
       "      <td>0.009434</td>\n",
       "      <td>-0.023563</td>\n",
       "      <td>-0.003983</td>\n",
       "      <td>-0.009758</td>\n",
       "    </tr>\n",
       "    <tr>\n",
       "      <th>tenure</th>\n",
       "      <td>0.167140</td>\n",
       "      <td>0.037178</td>\n",
       "      <td>-0.167140</td>\n",
       "      <td>0.010588</td>\n",
       "      <td>1.000000</td>\n",
       "      <td>0.068095</td>\n",
       "      <td>-0.032340</td>\n",
       "      <td>0.013160</td>\n",
       "      <td>-0.017287</td>\n",
       "      <td>0.009576</td>\n",
       "      <td>-0.009949</td>\n",
       "      <td>0.013829</td>\n",
       "      <td>-0.023375</td>\n",
       "    </tr>\n",
       "    <tr>\n",
       "      <th>friend_count</th>\n",
       "      <td>0.059302</td>\n",
       "      <td>0.005152</td>\n",
       "      <td>-0.059302</td>\n",
       "      <td>-0.010098</td>\n",
       "      <td>0.068095</td>\n",
       "      <td>1.000000</td>\n",
       "      <td>0.788813</td>\n",
       "      <td>-0.004133</td>\n",
       "      <td>-0.023643</td>\n",
       "      <td>-0.006685</td>\n",
       "      <td>-0.015319</td>\n",
       "      <td>0.006280</td>\n",
       "      <td>-0.029972</td>\n",
       "    </tr>\n",
       "    <tr>\n",
       "      <th>friendships_initiated</th>\n",
       "      <td>0.029498</td>\n",
       "      <td>-0.001030</td>\n",
       "      <td>-0.029498</td>\n",
       "      <td>-0.029925</td>\n",
       "      <td>-0.032340</td>\n",
       "      <td>0.788813</td>\n",
       "      <td>1.000000</td>\n",
       "      <td>-0.012725</td>\n",
       "      <td>-0.036396</td>\n",
       "      <td>-0.007375</td>\n",
       "      <td>-0.026168</td>\n",
       "      <td>-0.018817</td>\n",
       "      <td>-0.043119</td>\n",
       "    </tr>\n",
       "    <tr>\n",
       "      <th>likes</th>\n",
       "      <td>-0.017609</td>\n",
       "      <td>0.018170</td>\n",
       "      <td>0.017609</td>\n",
       "      <td>0.007380</td>\n",
       "      <td>0.013160</td>\n",
       "      <td>-0.004133</td>\n",
       "      <td>-0.012725</td>\n",
       "      <td>1.000000</td>\n",
       "      <td>0.364034</td>\n",
       "      <td>0.948934</td>\n",
       "      <td>0.302713</td>\n",
       "      <td>0.411793</td>\n",
       "      <td>0.383447</td>\n",
       "    </tr>\n",
       "    <tr>\n",
       "      <th>likes_received</th>\n",
       "      <td>-0.019790</td>\n",
       "      <td>0.012845</td>\n",
       "      <td>0.019790</td>\n",
       "      <td>-0.018411</td>\n",
       "      <td>-0.017287</td>\n",
       "      <td>-0.023643</td>\n",
       "      <td>-0.036396</td>\n",
       "      <td>0.364034</td>\n",
       "      <td>1.000000</td>\n",
       "      <td>0.209966</td>\n",
       "      <td>0.943692</td>\n",
       "      <td>0.541249</td>\n",
       "      <td>0.922432</td>\n",
       "    </tr>\n",
       "    <tr>\n",
       "      <th>mobile_likes</th>\n",
       "      <td>-0.020840</td>\n",
       "      <td>0.003938</td>\n",
       "      <td>0.020840</td>\n",
       "      <td>0.009434</td>\n",
       "      <td>0.009576</td>\n",
       "      <td>-0.006685</td>\n",
       "      <td>-0.007375</td>\n",
       "      <td>0.948934</td>\n",
       "      <td>0.209966</td>\n",
       "      <td>1.000000</td>\n",
       "      <td>0.169618</td>\n",
       "      <td>0.103279</td>\n",
       "      <td>0.226974</td>\n",
       "    </tr>\n",
       "    <tr>\n",
       "      <th>mobile_likes_received</th>\n",
       "      <td>-0.022946</td>\n",
       "      <td>0.002053</td>\n",
       "      <td>0.022946</td>\n",
       "      <td>-0.023563</td>\n",
       "      <td>-0.009949</td>\n",
       "      <td>-0.015319</td>\n",
       "      <td>-0.026168</td>\n",
       "      <td>0.302713</td>\n",
       "      <td>0.943692</td>\n",
       "      <td>0.169618</td>\n",
       "      <td>1.000000</td>\n",
       "      <td>0.464460</td>\n",
       "      <td>0.742740</td>\n",
       "    </tr>\n",
       "    <tr>\n",
       "      <th>www_likes</th>\n",
       "      <td>0.004677</td>\n",
       "      <td>0.045912</td>\n",
       "      <td>-0.004677</td>\n",
       "      <td>-0.003983</td>\n",
       "      <td>0.013829</td>\n",
       "      <td>0.006280</td>\n",
       "      <td>-0.018817</td>\n",
       "      <td>0.411793</td>\n",
       "      <td>0.541249</td>\n",
       "      <td>0.103279</td>\n",
       "      <td>0.464460</td>\n",
       "      <td>1.000000</td>\n",
       "      <td>0.553325</td>\n",
       "    </tr>\n",
       "    <tr>\n",
       "      <th>www_likes_received</th>\n",
       "      <td>-0.013270</td>\n",
       "      <td>0.023603</td>\n",
       "      <td>0.013270</td>\n",
       "      <td>-0.009758</td>\n",
       "      <td>-0.023375</td>\n",
       "      <td>-0.029972</td>\n",
       "      <td>-0.043119</td>\n",
       "      <td>0.383447</td>\n",
       "      <td>0.922432</td>\n",
       "      <td>0.226974</td>\n",
       "      <td>0.742740</td>\n",
       "      <td>0.553325</td>\n",
       "      <td>1.000000</td>\n",
       "    </tr>\n",
       "  </tbody>\n",
       "</table>\n",
       "</div>"
      ],
      "text/plain": [
       "                            age   dob_day  dob_year  dob_month    tenure  \\\n",
       "age                    1.000000  0.023112 -1.000000   0.082238  0.167140   \n",
       "dob_day                0.023112  1.000000 -0.023112   0.245781  0.037178   \n",
       "dob_year              -1.000000 -0.023112  1.000000  -0.082238 -0.167140   \n",
       "dob_month              0.082238  0.245781 -0.082238   1.000000  0.010588   \n",
       "tenure                 0.167140  0.037178 -0.167140   0.010588  1.000000   \n",
       "friend_count           0.059302  0.005152 -0.059302  -0.010098  0.068095   \n",
       "friendships_initiated  0.029498 -0.001030 -0.029498  -0.029925 -0.032340   \n",
       "likes                 -0.017609  0.018170  0.017609   0.007380  0.013160   \n",
       "likes_received        -0.019790  0.012845  0.019790  -0.018411 -0.017287   \n",
       "mobile_likes          -0.020840  0.003938  0.020840   0.009434  0.009576   \n",
       "mobile_likes_received -0.022946  0.002053  0.022946  -0.023563 -0.009949   \n",
       "www_likes              0.004677  0.045912 -0.004677  -0.003983  0.013829   \n",
       "www_likes_received    -0.013270  0.023603  0.013270  -0.009758 -0.023375   \n",
       "\n",
       "                       friend_count  friendships_initiated     likes  \\\n",
       "age                        0.059302               0.029498 -0.017609   \n",
       "dob_day                    0.005152              -0.001030  0.018170   \n",
       "dob_year                  -0.059302              -0.029498  0.017609   \n",
       "dob_month                 -0.010098              -0.029925  0.007380   \n",
       "tenure                     0.068095              -0.032340  0.013160   \n",
       "friend_count               1.000000               0.788813 -0.004133   \n",
       "friendships_initiated      0.788813               1.000000 -0.012725   \n",
       "likes                     -0.004133              -0.012725  1.000000   \n",
       "likes_received            -0.023643              -0.036396  0.364034   \n",
       "mobile_likes              -0.006685              -0.007375  0.948934   \n",
       "mobile_likes_received     -0.015319              -0.026168  0.302713   \n",
       "www_likes                  0.006280              -0.018817  0.411793   \n",
       "www_likes_received        -0.029972              -0.043119  0.383447   \n",
       "\n",
       "                       likes_received  mobile_likes  mobile_likes_received  \\\n",
       "age                         -0.019790     -0.020840              -0.022946   \n",
       "dob_day                      0.012845      0.003938               0.002053   \n",
       "dob_year                     0.019790      0.020840               0.022946   \n",
       "dob_month                   -0.018411      0.009434              -0.023563   \n",
       "tenure                      -0.017287      0.009576              -0.009949   \n",
       "friend_count                -0.023643     -0.006685              -0.015319   \n",
       "friendships_initiated       -0.036396     -0.007375              -0.026168   \n",
       "likes                        0.364034      0.948934               0.302713   \n",
       "likes_received               1.000000      0.209966               0.943692   \n",
       "mobile_likes                 0.209966      1.000000               0.169618   \n",
       "mobile_likes_received        0.943692      0.169618               1.000000   \n",
       "www_likes                    0.541249      0.103279               0.464460   \n",
       "www_likes_received           0.922432      0.226974               0.742740   \n",
       "\n",
       "                       www_likes  www_likes_received  \n",
       "age                     0.004677           -0.013270  \n",
       "dob_day                 0.045912            0.023603  \n",
       "dob_year               -0.004677            0.013270  \n",
       "dob_month              -0.003983           -0.009758  \n",
       "tenure                  0.013829           -0.023375  \n",
       "friend_count            0.006280           -0.029972  \n",
       "friendships_initiated  -0.018817           -0.043119  \n",
       "likes                   0.411793            0.383447  \n",
       "likes_received          0.541249            0.922432  \n",
       "mobile_likes            0.103279            0.226974  \n",
       "mobile_likes_received   0.464460            0.742740  \n",
       "www_likes               1.000000            0.553325  \n",
       "www_likes_received      0.553325            1.000000  "
      ]
     },
     "execution_count": 20,
     "metadata": {},
     "output_type": "execute_result"
    }
   ],
   "source": [
    "df_likes.corr()"
   ]
  },
  {
   "cell_type": "markdown",
   "metadata": {},
   "source": [
    "1.Age,friend_count,friendships_initiated are Negatively corelated with likes\n",
    "2.dob_day,dob_year,dob_day,dob_month,tenure,likes_received,mobile_likes,mobile_likes_received,www_likes,www_likes_received are Positively correlated with likes"
   ]
  },
  {
   "cell_type": "markdown",
   "metadata": {},
   "source": [
    "<h2 class=\"list-group-item list-group-item-action active\" >3.Split dataset into train and test,Scaling    </h2>\n",
    "\n",
    ">### 1. Split the dataset in dependent variable is [`likes`] and independent\n",
    "\n",
    ">### 2. Convert categorical variables to numeric variables\n",
    "\n",
    ">### 3. Scale the features \n",
    "\n",
    ">### 4. Split dataset into train(70%) and test(30%).How would you ascertain this statistically? \n",
    " "
   ]
  },
  {
   "cell_type": "markdown",
   "metadata": {},
   "source": [
    ">### 1. Split the dataset in dependent variable is [`likes`] and independent"
   ]
  },
  {
   "cell_type": "code",
   "execution_count": 21,
   "metadata": {},
   "outputs": [],
   "source": [
    "# Taking the Independent Features\n",
    "df_features = df_likes.drop('likes',axis=1)\n",
    "\n",
    "# Taking the dependent Features\n",
    "df_target = df_likes['likes']"
   ]
  },
  {
   "cell_type": "markdown",
   "metadata": {},
   "source": [
    ">### 2. Convert categorical variables to numeric variables"
   ]
  },
  {
   "cell_type": "code",
   "execution_count": 22,
   "metadata": {},
   "outputs": [],
   "source": [
    "# Fetching the Categorical Features\n",
    "df_cat = df_features.select_dtypes(exclude = np.number)\n",
    "\n",
    "# Encoding the Categorical Faetures\n",
    "encoded_data = pd.get_dummies(df_cat , drop_first = True)"
   ]
  },
  {
   "cell_type": "code",
   "execution_count": 23,
   "metadata": {},
   "outputs": [
    {
     "data": {
      "text/html": [
       "<div>\n",
       "<style scoped>\n",
       "    .dataframe tbody tr th:only-of-type {\n",
       "        vertical-align: middle;\n",
       "    }\n",
       "\n",
       "    .dataframe tbody tr th {\n",
       "        vertical-align: top;\n",
       "    }\n",
       "\n",
       "    .dataframe thead th {\n",
       "        text-align: right;\n",
       "    }\n",
       "</style>\n",
       "<table border=\"1\" class=\"dataframe\">\n",
       "  <thead>\n",
       "    <tr style=\"text-align: right;\">\n",
       "      <th></th>\n",
       "      <th>gender_male</th>\n",
       "    </tr>\n",
       "  </thead>\n",
       "  <tbody>\n",
       "    <tr>\n",
       "      <th>0</th>\n",
       "      <td>1</td>\n",
       "    </tr>\n",
       "    <tr>\n",
       "      <th>1</th>\n",
       "      <td>1</td>\n",
       "    </tr>\n",
       "    <tr>\n",
       "      <th>2</th>\n",
       "      <td>0</td>\n",
       "    </tr>\n",
       "    <tr>\n",
       "      <th>3</th>\n",
       "      <td>1</td>\n",
       "    </tr>\n",
       "    <tr>\n",
       "      <th>4</th>\n",
       "      <td>1</td>\n",
       "    </tr>\n",
       "  </tbody>\n",
       "</table>\n",
       "</div>"
      ],
      "text/plain": [
       "   gender_male\n",
       "0            1\n",
       "1            1\n",
       "2            0\n",
       "3            1\n",
       "4            1"
      ]
     },
     "execution_count": 23,
     "metadata": {},
     "output_type": "execute_result"
    }
   ],
   "source": [
    "# Checking the encoded datas\n",
    "encoded_data.head()"
   ]
  },
  {
   "cell_type": "markdown",
   "metadata": {},
   "source": [
    "**Using One Hot Encoding ,Gender has been labeled**"
   ]
  },
  {
   "cell_type": "markdown",
   "metadata": {},
   "source": [
    ">### 3. Scale the features "
   ]
  },
  {
   "cell_type": "code",
   "execution_count": 24,
   "metadata": {},
   "outputs": [],
   "source": [
    "# Fetching the Numerical Features\n",
    "df_num = df_features.select_dtypes(include = np.number)\n",
    "\n",
    "# Scaling the Numerical Features using z-score\n",
    "scaled_data = df_num.apply(lambda x : (x - x.mean())/x.std())\n",
    "\n",
    "# Concatinating the encoded and scaled_numerical_data\n",
    "X = pd.concat([scaled_data,encoded_data],axis =1)\n",
    "\n",
    "# Adding the constant to make the prediction line not to pass through the origin\n",
    "X = sm.add_constant(X)\n",
    "\n",
    "# Assigning target variable to Y\n",
    "Y = df_target"
   ]
  },
  {
   "cell_type": "code",
   "execution_count": 25,
   "metadata": {},
   "outputs": [
    {
     "data": {
      "text/html": [
       "<div>\n",
       "<style scoped>\n",
       "    .dataframe tbody tr th:only-of-type {\n",
       "        vertical-align: middle;\n",
       "    }\n",
       "\n",
       "    .dataframe tbody tr th {\n",
       "        vertical-align: top;\n",
       "    }\n",
       "\n",
       "    .dataframe thead th {\n",
       "        text-align: right;\n",
       "    }\n",
       "</style>\n",
       "<table border=\"1\" class=\"dataframe\">\n",
       "  <thead>\n",
       "    <tr style=\"text-align: right;\">\n",
       "      <th></th>\n",
       "      <th>const</th>\n",
       "      <th>age</th>\n",
       "      <th>dob_day</th>\n",
       "      <th>dob_year</th>\n",
       "      <th>dob_month</th>\n",
       "      <th>tenure</th>\n",
       "      <th>friend_count</th>\n",
       "      <th>friendships_initiated</th>\n",
       "      <th>likes_received</th>\n",
       "      <th>mobile_likes</th>\n",
       "      <th>mobile_likes_received</th>\n",
       "      <th>www_likes</th>\n",
       "      <th>www_likes_received</th>\n",
       "      <th>gender_male</th>\n",
       "    </tr>\n",
       "  </thead>\n",
       "  <tbody>\n",
       "    <tr>\n",
       "      <th>0</th>\n",
       "      <td>1.0</td>\n",
       "      <td>-1.264163</td>\n",
       "      <td>-1.205960</td>\n",
       "      <td>1.264163</td>\n",
       "      <td>-1.051021</td>\n",
       "      <td>-0.928277</td>\n",
       "      <td>-1.460012</td>\n",
       "      <td>-1.170562</td>\n",
       "      <td>-0.17721</td>\n",
       "      <td>-0.113838</td>\n",
       "      <td>-0.158405</td>\n",
       "      <td>-0.167146</td>\n",
       "      <td>-0.173768</td>\n",
       "      <td>1</td>\n",
       "    </tr>\n",
       "    <tr>\n",
       "      <th>1</th>\n",
       "      <td>1.0</td>\n",
       "      <td>-1.202252</td>\n",
       "      <td>0.957686</td>\n",
       "      <td>1.202252</td>\n",
       "      <td>-1.321431</td>\n",
       "      <td>-0.575782</td>\n",
       "      <td>-1.460012</td>\n",
       "      <td>-1.170562</td>\n",
       "      <td>-0.17721</td>\n",
       "      <td>-0.113838</td>\n",
       "      <td>-0.158405</td>\n",
       "      <td>-0.167146</td>\n",
       "      <td>-0.173768</td>\n",
       "      <td>1</td>\n",
       "    </tr>\n",
       "    <tr>\n",
       "      <th>2</th>\n",
       "      <td>1.0</td>\n",
       "      <td>-0.892698</td>\n",
       "      <td>0.524957</td>\n",
       "      <td>0.892698</td>\n",
       "      <td>1.112256</td>\n",
       "      <td>-0.209729</td>\n",
       "      <td>-1.460012</td>\n",
       "      <td>-1.170562</td>\n",
       "      <td>-0.17721</td>\n",
       "      <td>-0.113838</td>\n",
       "      <td>-0.158405</td>\n",
       "      <td>-0.167146</td>\n",
       "      <td>-0.173768</td>\n",
       "      <td>0</td>\n",
       "    </tr>\n",
       "    <tr>\n",
       "      <th>3</th>\n",
       "      <td>1.0</td>\n",
       "      <td>-0.768877</td>\n",
       "      <td>-1.314142</td>\n",
       "      <td>0.768877</td>\n",
       "      <td>-1.321431</td>\n",
       "      <td>0.183439</td>\n",
       "      <td>-1.460012</td>\n",
       "      <td>-1.170562</td>\n",
       "      <td>-0.17721</td>\n",
       "      <td>-0.113838</td>\n",
       "      <td>-0.158405</td>\n",
       "      <td>-0.167146</td>\n",
       "      <td>-0.173768</td>\n",
       "      <td>1</td>\n",
       "    </tr>\n",
       "    <tr>\n",
       "      <th>4</th>\n",
       "      <td>1.0</td>\n",
       "      <td>-0.645055</td>\n",
       "      <td>-0.340502</td>\n",
       "      <td>0.645055</td>\n",
       "      <td>-1.051021</td>\n",
       "      <td>1.037563</td>\n",
       "      <td>-1.460012</td>\n",
       "      <td>-1.170562</td>\n",
       "      <td>-0.17721</td>\n",
       "      <td>-0.113838</td>\n",
       "      <td>-0.158405</td>\n",
       "      <td>-0.167146</td>\n",
       "      <td>-0.173768</td>\n",
       "      <td>1</td>\n",
       "    </tr>\n",
       "  </tbody>\n",
       "</table>\n",
       "</div>"
      ],
      "text/plain": [
       "   const       age   dob_day  dob_year  dob_month    tenure  friend_count  \\\n",
       "0    1.0 -1.264163 -1.205960  1.264163  -1.051021 -0.928277     -1.460012   \n",
       "1    1.0 -1.202252  0.957686  1.202252  -1.321431 -0.575782     -1.460012   \n",
       "2    1.0 -0.892698  0.524957  0.892698   1.112256 -0.209729     -1.460012   \n",
       "3    1.0 -0.768877 -1.314142  0.768877  -1.321431  0.183439     -1.460012   \n",
       "4    1.0 -0.645055 -0.340502  0.645055  -1.051021  1.037563     -1.460012   \n",
       "\n",
       "   friendships_initiated  likes_received  mobile_likes  mobile_likes_received  \\\n",
       "0              -1.170562        -0.17721     -0.113838              -0.158405   \n",
       "1              -1.170562        -0.17721     -0.113838              -0.158405   \n",
       "2              -1.170562        -0.17721     -0.113838              -0.158405   \n",
       "3              -1.170562        -0.17721     -0.113838              -0.158405   \n",
       "4              -1.170562        -0.17721     -0.113838              -0.158405   \n",
       "\n",
       "   www_likes  www_likes_received  gender_male  \n",
       "0  -0.167146           -0.173768            1  \n",
       "1  -0.167146           -0.173768            1  \n",
       "2  -0.167146           -0.173768            0  \n",
       "3  -0.167146           -0.173768            1  \n",
       "4  -0.167146           -0.173768            1  "
      ]
     },
     "execution_count": 25,
     "metadata": {},
     "output_type": "execute_result"
    }
   ],
   "source": [
    "# Checking the Independent feature values\n",
    "X.head()"
   ]
  },
  {
   "cell_type": "code",
   "execution_count": 26,
   "metadata": {},
   "outputs": [
    {
     "data": {
      "text/plain": [
       "0    1\n",
       "1    1\n",
       "2    1\n",
       "3    1\n",
       "4    1\n",
       "Name: likes, dtype: int64"
      ]
     },
     "execution_count": 26,
     "metadata": {},
     "output_type": "execute_result"
    }
   ],
   "source": [
    "# Checking the dependent feature values\n",
    "Y.head()"
   ]
  },
  {
   "cell_type": "markdown",
   "metadata": {},
   "source": [
    ">### 4. Split dataset into train(70%) and test(30%).How would you ascertain this statistically? "
   ]
  },
  {
   "cell_type": "code",
   "execution_count": 27,
   "metadata": {},
   "outputs": [
    {
     "name": "stdout",
     "output_type": "stream",
     "text": [
      "X_train :  (1471, 14)\n",
      "y_train : (1471,)\n",
      "X_test :  (631, 14)\n",
      "y_test : (631,)\n"
     ]
    }
   ],
   "source": [
    "# Doing Train test split for training and testing purpose after building the model\n",
    "X_train,X_test,y_train,y_test = train_test_split(X,Y,random_state=1,test_size=0.3)\n",
    "\n",
    "print('X_train : ',X_train.shape)\n",
    "print('y_train :',y_train.shape)\n",
    "print('X_test : ',X_test.shape)\n",
    "print('y_test :',y_test.shape)"
   ]
  },
  {
   "cell_type": "markdown",
   "metadata": {},
   "source": [
    "<h2 class=\"list-group-item list-group-item-action active\" >4.Model Building and Feature Selection using RFE(Recursive feature elimination)   </h2>\n",
    "\n",
    ">### 1. Use Linear Regression\n",
    "\n",
    ">### 2. Evaluation metrics like Rsqaure,Standard error/RMSE. Write the inference.\n",
    "\n",
    ">### 3. Feature selection using RFE\n",
    "\n",
    "Step1: Check the optimal number of features between 4 to 30\n",
    "\n",
    "Step2: RFE with n features(LinearRegression) \n",
    "\n",
    "Step3: Specify the number of features\n",
    "\n",
    "Step4: Fit with n features\n",
    "\n",
    "Step5: Select features selected by rfe_n      \n",
    "\n",
    "Step6:Training & test data for n selected columns        \n",
    "\n",
    "Step7: Add a constant to the model       \n",
    "\n",
    "Step8:Fit the ols model with n features\n",
    "\n",
    "Step9: Calculate evaluation metrics\n",
    "\n",
    "Step 10: Plot r2 and RMSE against n_features  \n",
    "\n",
    "Step11: Write your final inference.    \n",
    "\n",
    "\n",
    "\n",
    "\n",
    ">### 4. Model Bulding with optimal features count\n",
    "\n"
   ]
  },
  {
   "cell_type": "markdown",
   "metadata": {},
   "source": [
    "### 1. Use Linear Regression"
   ]
  },
  {
   "cell_type": "code",
   "execution_count": 28,
   "metadata": {},
   "outputs": [
    {
     "name": "stdout",
     "output_type": "stream",
     "text": [
      "                            OLS Regression Results                            \n",
      "==============================================================================\n",
      "Dep. Variable:                  likes   R-squared:                       1.000\n",
      "Model:                            OLS   Adj. R-squared:                  1.000\n",
      "Method:                 Least Squares   F-statistic:                 1.569e+32\n",
      "Date:                Sat, 12 Mar 2022   Prob (F-statistic):               0.00\n",
      "Time:                        09:40:50   Log-Likelihood:                 41249.\n",
      "No. Observations:                1471   AIC:                        -8.247e+04\n",
      "Df Residuals:                    1459   BIC:                        -8.241e+04\n",
      "Df Model:                          11                                         \n",
      "Covariance Type:            nonrobust                                         \n",
      "=========================================================================================\n",
      "                            coef    std err          t      P>|t|      [0.025      0.975]\n",
      "-----------------------------------------------------------------------------------------\n",
      "const                    27.6694   7.21e-15   3.84e+15      0.000      27.669      27.669\n",
      "age                   -3.331e-14   2.23e-15    -14.949      0.000   -3.77e-14   -2.89e-14\n",
      "dob_day               -1.221e-15   4.37e-15     -0.280      0.780   -9.79e-15    7.34e-15\n",
      "dob_year               1.865e-14   2.23e-15      8.371      0.000    1.43e-14     2.3e-14\n",
      "dob_month             -5.285e-14   4.34e-15    -12.181      0.000   -6.14e-14   -4.43e-14\n",
      "tenure                 2.909e-14   4.34e-15      6.707      0.000    2.06e-14    3.76e-14\n",
      "friend_count           7.272e-15   6.77e-15      1.075      0.283      -6e-15    2.05e-14\n",
      "friendships_initiated -2.121e-14   6.82e-15     -3.109      0.002   -3.46e-14   -7.83e-15\n",
      "likes_received         4.619e-14   2.05e-15     22.580      0.000    4.22e-14    5.02e-14\n",
      "mobile_likes            155.3230   4.32e-15   3.59e+16      0.000     155.323     155.323\n",
      "mobile_likes_received  3.908e-14   5.98e-15      6.539      0.000    2.74e-14    5.08e-14\n",
      "www_likes                53.7712   4.94e-15   1.09e+16      0.000      53.771      53.771\n",
      "www_likes_received    -1.776e-14   7.04e-15     -2.522      0.012   -3.16e-14   -3.95e-15\n",
      "gender_male            -2.62e-14   8.92e-15     -2.936      0.003   -4.37e-14    -8.7e-15\n",
      "==============================================================================\n",
      "Omnibus:                     2924.324   Durbin-Watson:                   2.025\n",
      "Prob(Omnibus):                  0.000   Jarque-Bera (JB):         12290379.024\n",
      "Skew:                          14.976   Prob(JB):                         0.00\n",
      "Kurtosis:                     449.795   Cond. No.                     5.89e+16\n",
      "==============================================================================\n",
      "\n",
      "Notes:\n",
      "[1] Standard Errors assume that the covariance matrix of the errors is correctly specified.\n",
      "[2] The smallest eigenvalue is 8.96e-31. This might indicate that there are\n",
      "strong multicollinearity problems or that the design matrix is singular.\n"
     ]
    }
   ],
   "source": [
    "# Building Multi linear Regression model\n",
    "mlr_full_model = sm.OLS(y_train,X_train).fit()\n",
    "\n",
    "print(mlr_full_model.summary())"
   ]
  },
  {
   "cell_type": "markdown",
   "metadata": {},
   "source": [
    "### 2. Evaluation metrics like Rsqaure,Standard error/RMSE. Write the inference."
   ]
  },
  {
   "cell_type": "code",
   "execution_count": 33,
   "metadata": {},
   "outputs": [
    {
     "name": "stdout",
     "output_type": "stream",
     "text": [
      "R squared value : 1.0\n",
      "Train RMSE Score : 0.00000000000000000000000002574743241228394\n",
      "Test RMSE Score : 0.000000000000000000000000017732425133595594\n"
     ]
    }
   ],
   "source": [
    "# R-squared_value\n",
    "\n",
    "r_sq = mlr_full_model.rsquared\n",
    "\n",
    "y_train_pred = mlr_full_model.predict(X_train)\n",
    "y_test_pred = mlr_full_model.predict(X_test)\n",
    "\n",
    "rmse_train = np.format_float_positional(metrics.mean_squared_error(y_train,y_train_pred))\n",
    "rmse_test = np.format_float_positional(metrics.mean_squared_error(y_test,y_test_pred))\n",
    "\n",
    "print('R squared value :',r_sq)\n",
    "print('Train RMSE Score :',rmse_train)\n",
    "print('Test RMSE Score :',rmse_test)"
   ]
  },
  {
   "cell_type": "markdown",
   "metadata": {},
   "source": [
    "**From the above metrics we can infer that this model explain 100% variation in the dependent variables**"
   ]
  },
  {
   "cell_type": "markdown",
   "metadata": {},
   "source": [
    "R-squared is 100% and rmse train and test scores are good. Hence we can conclude that this model is good"
   ]
  },
  {
   "cell_type": "markdown",
   "metadata": {},
   "source": [
    "### 3. Feature selection using RFE"
   ]
  },
  {
   "cell_type": "markdown",
   "metadata": {},
   "source": [
    "Step1: Check the optimal number of features between 4 to 30\n",
    "\n",
    "Step2: RFE with n features(LinearRegression) \n",
    "\n",
    "Step3: Specify the number of features\n",
    "\n",
    "Step4: Fit with n features\n",
    "\n",
    "Step5: Select features selected by rfe_n      \n",
    "\n",
    "Step6:Training & test data for n selected columns        \n",
    "\n",
    "Step7: Add a constant to the model       \n",
    "\n",
    "Step8:Fit the ols model with n features\n",
    "\n",
    "Step9: Calculate evaluation metrics\n",
    "\n",
    "Step 10: Plot r2 and RMSE against n_features  \n",
    "\n",
    "Step11: Write your final inference.  "
   ]
  },
  {
   "cell_type": "code",
   "execution_count": 35,
   "metadata": {},
   "outputs": [
    {
     "data": {
      "text/html": [
       "<div>\n",
       "<style scoped>\n",
       "    .dataframe tbody tr th:only-of-type {\n",
       "        vertical-align: middle;\n",
       "    }\n",
       "\n",
       "    .dataframe tbody tr th {\n",
       "        vertical-align: top;\n",
       "    }\n",
       "\n",
       "    .dataframe thead th {\n",
       "        text-align: right;\n",
       "    }\n",
       "</style>\n",
       "<table border=\"1\" class=\"dataframe\">\n",
       "  <thead>\n",
       "    <tr style=\"text-align: right;\">\n",
       "      <th></th>\n",
       "      <th>const</th>\n",
       "      <th>age</th>\n",
       "      <th>dob_day</th>\n",
       "      <th>dob_year</th>\n",
       "      <th>dob_month</th>\n",
       "      <th>tenure</th>\n",
       "      <th>friend_count</th>\n",
       "      <th>friendships_initiated</th>\n",
       "      <th>likes_received</th>\n",
       "      <th>mobile_likes</th>\n",
       "      <th>mobile_likes_received</th>\n",
       "      <th>www_likes</th>\n",
       "      <th>www_likes_received</th>\n",
       "      <th>gender_male</th>\n",
       "    </tr>\n",
       "  </thead>\n",
       "  <tbody>\n",
       "    <tr>\n",
       "      <th>764</th>\n",
       "      <td>1.0</td>\n",
       "      <td>0.902712</td>\n",
       "      <td>1.498598</td>\n",
       "      <td>-0.902712</td>\n",
       "      <td>0.571437</td>\n",
       "      <td>0.715572</td>\n",
       "      <td>-0.744140</td>\n",
       "      <td>-0.365681</td>\n",
       "      <td>-0.177210</td>\n",
       "      <td>-0.113838</td>\n",
       "      <td>-0.158405</td>\n",
       "      <td>0.149009</td>\n",
       "      <td>-0.173768</td>\n",
       "      <td>0</td>\n",
       "    </tr>\n",
       "    <tr>\n",
       "      <th>51</th>\n",
       "      <td>1.0</td>\n",
       "      <td>-0.459323</td>\n",
       "      <td>-1.314142</td>\n",
       "      <td>0.459323</td>\n",
       "      <td>-0.780612</td>\n",
       "      <td>0.366466</td>\n",
       "      <td>-1.460012</td>\n",
       "      <td>-1.170562</td>\n",
       "      <td>-0.177210</td>\n",
       "      <td>-0.107400</td>\n",
       "      <td>-0.158405</td>\n",
       "      <td>-0.185743</td>\n",
       "      <td>-0.173768</td>\n",
       "      <td>1</td>\n",
       "    </tr>\n",
       "    <tr>\n",
       "      <th>1247</th>\n",
       "      <td>1.0</td>\n",
       "      <td>-0.645055</td>\n",
       "      <td>-0.881413</td>\n",
       "      <td>0.645055</td>\n",
       "      <td>-1.051021</td>\n",
       "      <td>1.068068</td>\n",
       "      <td>-0.028267</td>\n",
       "      <td>-0.365681</td>\n",
       "      <td>0.090612</td>\n",
       "      <td>0.034240</td>\n",
       "      <td>0.267285</td>\n",
       "      <td>-0.185743</td>\n",
       "      <td>-0.128596</td>\n",
       "      <td>0</td>\n",
       "    </tr>\n",
       "    <tr>\n",
       "      <th>1339</th>\n",
       "      <td>1.0</td>\n",
       "      <td>-0.954609</td>\n",
       "      <td>-0.665048</td>\n",
       "      <td>0.954609</td>\n",
       "      <td>-1.321431</td>\n",
       "      <td>-0.243623</td>\n",
       "      <td>0.687606</td>\n",
       "      <td>-1.170562</td>\n",
       "      <td>-0.177210</td>\n",
       "      <td>-0.113838</td>\n",
       "      <td>-0.158405</td>\n",
       "      <td>-0.167146</td>\n",
       "      <td>-0.173768</td>\n",
       "      <td>1</td>\n",
       "    </tr>\n",
       "    <tr>\n",
       "      <th>1784</th>\n",
       "      <td>1.0</td>\n",
       "      <td>2.202837</td>\n",
       "      <td>0.957686</td>\n",
       "      <td>-2.202837</td>\n",
       "      <td>0.030617</td>\n",
       "      <td>-0.026702</td>\n",
       "      <td>1.403478</td>\n",
       "      <td>2.048963</td>\n",
       "      <td>-0.065618</td>\n",
       "      <td>-0.113838</td>\n",
       "      <td>-0.081007</td>\n",
       "      <td>-0.148549</td>\n",
       "      <td>-0.038252</td>\n",
       "      <td>1</td>\n",
       "    </tr>\n",
       "  </tbody>\n",
       "</table>\n",
       "</div>"
      ],
      "text/plain": [
       "      const       age   dob_day  dob_year  dob_month    tenure  friend_count  \\\n",
       "764     1.0  0.902712  1.498598 -0.902712   0.571437  0.715572     -0.744140   \n",
       "51      1.0 -0.459323 -1.314142  0.459323  -0.780612  0.366466     -1.460012   \n",
       "1247    1.0 -0.645055 -0.881413  0.645055  -1.051021  1.068068     -0.028267   \n",
       "1339    1.0 -0.954609 -0.665048  0.954609  -1.321431 -0.243623      0.687606   \n",
       "1784    1.0  2.202837  0.957686 -2.202837   0.030617 -0.026702      1.403478   \n",
       "\n",
       "      friendships_initiated  likes_received  mobile_likes  \\\n",
       "764               -0.365681       -0.177210     -0.113838   \n",
       "51                -1.170562       -0.177210     -0.107400   \n",
       "1247              -0.365681        0.090612      0.034240   \n",
       "1339              -1.170562       -0.177210     -0.113838   \n",
       "1784               2.048963       -0.065618     -0.113838   \n",
       "\n",
       "      mobile_likes_received  www_likes  www_likes_received  gender_male  \n",
       "764               -0.158405   0.149009           -0.173768            0  \n",
       "51                -0.158405  -0.185743           -0.173768            1  \n",
       "1247               0.267285  -0.185743           -0.128596            0  \n",
       "1339              -0.158405  -0.167146           -0.173768            1  \n",
       "1784              -0.081007  -0.148549           -0.038252            1  "
      ]
     },
     "execution_count": 35,
     "metadata": {},
     "output_type": "execute_result"
    }
   ],
   "source": [
    "X_train.head()"
   ]
  },
  {
   "cell_type": "code",
   "execution_count": 44,
   "metadata": {},
   "outputs": [
    {
     "data": {
      "text/html": [
       "<div>\n",
       "<style scoped>\n",
       "    .dataframe tbody tr th:only-of-type {\n",
       "        vertical-align: middle;\n",
       "    }\n",
       "\n",
       "    .dataframe tbody tr th {\n",
       "        vertical-align: top;\n",
       "    }\n",
       "\n",
       "    .dataframe thead th {\n",
       "        text-align: right;\n",
       "    }\n",
       "</style>\n",
       "<table border=\"1\" class=\"dataframe\">\n",
       "  <thead>\n",
       "    <tr style=\"text-align: right;\">\n",
       "      <th></th>\n",
       "      <th>Best Feature Rankings</th>\n",
       "    </tr>\n",
       "  </thead>\n",
       "  <tbody>\n",
       "    <tr>\n",
       "      <th>dob_year</th>\n",
       "      <td>1</td>\n",
       "    </tr>\n",
       "    <tr>\n",
       "      <th>friend_count</th>\n",
       "      <td>1</td>\n",
       "    </tr>\n",
       "    <tr>\n",
       "      <th>likes_received</th>\n",
       "      <td>1</td>\n",
       "    </tr>\n",
       "    <tr>\n",
       "      <th>mobile_likes</th>\n",
       "      <td>1</td>\n",
       "    </tr>\n",
       "    <tr>\n",
       "      <th>www_likes</th>\n",
       "      <td>1</td>\n",
       "    </tr>\n",
       "    <tr>\n",
       "      <th>www_likes_received</th>\n",
       "      <td>1</td>\n",
       "    </tr>\n",
       "  </tbody>\n",
       "</table>\n",
       "</div>"
      ],
      "text/plain": [
       "                    Best Feature Rankings\n",
       "dob_year                                1\n",
       "friend_count                            1\n",
       "likes_received                          1\n",
       "mobile_likes                            1\n",
       "www_likes                               1\n",
       "www_likes_received                      1"
      ]
     },
     "execution_count": 44,
     "metadata": {},
     "output_type": "execute_result"
    }
   ],
   "source": [
    "rfe = LinearRegression()\n",
    "\n",
    "rfe_linreg = RFE(estimator = rfe , n_features_to_select=6)\n",
    "\n",
    "rfe_model = rfe_linreg.fit(X_train,y_train)\n",
    "\n",
    "rfe_df = pd.DataFrame(index = X_train.columns,data = rfe_model.ranking_,columns=['Best Feature Rankings'])\n",
    "\n",
    "rfe_df[rfe_df['Best Feature Rankings']==1]"
   ]
  },
  {
   "cell_type": "code",
   "execution_count": 45,
   "metadata": {},
   "outputs": [
    {
     "data": {
      "text/plain": [
       "Index(['dob_year', 'friend_count', 'likes_received', 'mobile_likes',\n",
       "       'www_likes', 'www_likes_received'],\n",
       "      dtype='object')"
      ]
     },
     "execution_count": 45,
     "metadata": {},
     "output_type": "execute_result"
    }
   ],
   "source": [
    "rfe_df[rfe_df['Best Feature Rankings']==1].index"
   ]
  },
  {
   "cell_type": "code",
   "execution_count": 50,
   "metadata": {},
   "outputs": [],
   "source": [
    "X_rfe = df_likes[['dob_year','friend_count','likes_received','mobile_likes','www_likes','www_likes_received']]\n",
    "\n",
    "X_rfe = sm.add_constant(X_rfe)\n",
    "\n",
    "Y_rfe = df_likes['likes']"
   ]
  },
  {
   "cell_type": "code",
   "execution_count": 51,
   "metadata": {},
   "outputs": [],
   "source": [
    "X_train_rfe , X_test_rfe,y_train_rfe,y_test_rfe = train_test_split(X_rfe,Y_rfe,test_size = 0.3,random_state =1)"
   ]
  },
  {
   "cell_type": "code",
   "execution_count": 52,
   "metadata": {},
   "outputs": [
    {
     "name": "stdout",
     "output_type": "stream",
     "text": [
      "                            OLS Regression Results                            \n",
      "==============================================================================\n",
      "Dep. Variable:                  likes   R-squared:                       1.000\n",
      "Model:                            OLS   Adj. R-squared:                  1.000\n",
      "Method:                 Least Squares   F-statistic:                 3.554e+31\n",
      "Date:                Sat, 12 Mar 2022   Prob (F-statistic):               0.00\n",
      "Time:                        09:53:32   Log-Likelihood:                 39709.\n",
      "No. Observations:                1471   AIC:                        -7.940e+04\n",
      "Df Residuals:                    1464   BIC:                        -7.937e+04\n",
      "Df Model:                           6                                         \n",
      "Covariance Type:            nonrobust                                         \n",
      "======================================================================================\n",
      "                         coef    std err          t      P>|t|      [0.025      0.975]\n",
      "--------------------------------------------------------------------------------------\n",
      "const               5.684e-13   1.53e-12      0.372      0.710   -2.43e-12    3.56e-12\n",
      "dob_year            -2.22e-16    7.7e-16     -0.288      0.773   -1.73e-15    1.29e-15\n",
      "friend_count        5.135e-15   8.56e-15      0.600      0.548   -1.16e-14    2.19e-14\n",
      "likes_received              0   7.04e-16          0      1.000   -1.38e-15    1.38e-15\n",
      "mobile_likes           1.0000   7.91e-17   1.26e+16      0.000       1.000       1.000\n",
      "www_likes              1.0000   2.61e-16   3.83e+15      0.000       1.000       1.000\n",
      "www_likes_received  1.554e-15   1.49e-15      1.040      0.298   -1.38e-15    4.49e-15\n",
      "==============================================================================\n",
      "Omnibus:                     3831.917   Durbin-Watson:                   1.963\n",
      "Prob(Omnibus):                  0.000   Jarque-Bera (JB):         56369545.987\n",
      "Skew:                          28.603   Prob(JB):                         0.00\n",
      "Kurtosis:                     960.299   Cond. No.                     2.53e+05\n",
      "==============================================================================\n",
      "\n",
      "Notes:\n",
      "[1] Standard Errors assume that the covariance matrix of the errors is correctly specified.\n",
      "[2] The condition number is large, 2.53e+05. This might indicate that there are\n",
      "strong multicollinearity or other numerical problems.\n"
     ]
    }
   ],
   "source": [
    "rfe_feature_model = sm.OLS(y_train_rfe,X_train_rfe).fit()\n",
    "\n",
    "print(rfe_feature_model.summary())"
   ]
  },
  {
   "cell_type": "code",
   "execution_count": 53,
   "metadata": {},
   "outputs": [
    {
     "name": "stdout",
     "output_type": "stream",
     "text": [
      "R squared value : 1.0\n",
      "Train RMSE Score : 0.0000000000000000000000002091265644421959\n",
      "Test RMSE Score : 0.00000000000000000000000014711946354480632\n"
     ]
    }
   ],
   "source": [
    "# Metrics\n",
    "\n",
    "r_sq = rfe_feature_model.rsquared\n",
    "\n",
    "y_train_pred_rfe = rfe_feature_model.predict(X_train_rfe)\n",
    "y_test_pred_rfe = rfe_feature_model.predict(X_test_rfe)\n",
    "\n",
    "rmse_train = np.format_float_positional(metrics.mean_squared_error(y_train_rfe,y_train_pred_rfe))\n",
    "rmse_test = np.format_float_positional(metrics.mean_squared_error(y_test_rfe,y_test_pred_rfe))\n",
    "\n",
    "print('R squared value :',r_sq)\n",
    "print('Train RMSE Score :',rmse_train)\n",
    "print('Test RMSE Score :',rmse_test)"
   ]
  },
  {
   "cell_type": "markdown",
   "metadata": {},
   "source": [
    "**From the above metrics we can infer that this model explain 100% variation in the dependent variables**"
   ]
  },
  {
   "cell_type": "markdown",
   "metadata": {},
   "source": [
    "R-squared is 100% and rmse train and test scores are good. Hence we can conclude that this model is good"
   ]
  },
  {
   "cell_type": "markdown",
   "metadata": {},
   "source": [
    "<h2 class=\"list-group-item list-group-item-action active\" >5.Linear Regression Assumptions Validation</h2>\n",
    "\n",
    "\n",
    ">### 1. Linearity of the model\n",
    ">### 2. Homoscedasticity (equal variance) of residuals\n",
    ">### 3. Normality of residuals \n",
    ">### 4. Identifying Outliers/influential Cases"
   ]
  },
  {
   "cell_type": "markdown",
   "metadata": {},
   "source": [
    "### 1.Linearity of the model"
   ]
  },
  {
   "cell_type": "code",
   "execution_count": 58,
   "metadata": {
    "scrolled": false
   },
   "outputs": [
    {
     "data": {
      "image/png": "[encoded data removed]",
      "text/plain": [
       "<Figure size 1440x1080 with 6 Axes>"
      ]
     },
     "metadata": {
      "needs_background": "light"
     },
     "output_type": "display_data"
    }
   ],
   "source": [
    "# Creating subplots of scatter plots\n",
    "\n",
    "fig,ax = plt.subplots(nrows = 3,ncols=2,figsize=(20,15))\n",
    "\n",
    "for variable,subplot in zip(X_train_rfe.columns[1:],ax.flatten()):\n",
    "    sns.scatterplot(X_train_rfe[variable],rfe_feature_model.resid,ax=subplot)\n",
    "    \n",
    "plt.show()"
   ]
  },
  {
   "cell_type": "markdown",
   "metadata": {},
   "source": [
    "**Interpretation:** The above plots show no specific pattern, implies that there is a linearity present in the data."
   ]
  },
  {
   "cell_type": "markdown",
   "metadata": {},
   "source": [
    "### 2. Homoscedasticity (equal variance) of residuals"
   ]
  },
  {
   "cell_type": "code",
   "execution_count": 59,
   "metadata": {},
   "outputs": [],
   "source": [
    "# Ho : There is HomoScedasticity present in the data\n",
    "#H1 : There is HeteroSeadasticity  present in the data"
   ]
  },
  {
   "cell_type": "code",
   "execution_count": 64,
   "metadata": {},
   "outputs": [],
   "source": [
    "import  statsmodels.stats.api as sms\n",
    "from statsmodels.compat import lzip\n"
   ]
  },
  {
   "cell_type": "code",
   "execution_count": 65,
   "metadata": {},
   "outputs": [
    {
     "data": {
      "text/plain": [
       "[('f-value', 1990.1859233108153), ('p-value', 0.0)]"
      ]
     },
     "execution_count": 65,
     "metadata": {},
     "output_type": "execute_result"
    }
   ],
   "source": [
    "name =['f-value','p-value']\n",
    "\n",
    "test = sms.het_breuschpagan(rfe_feature_model.resid,rfe_feature_model.model.exog)\n",
    "\n",
    "lzip(name,test[2:])"
   ]
  },
  {
   "cell_type": "markdown",
   "metadata": {},
   "source": [
    "**Interpretation:** We observe that the p-value is less than 0.05; thus, we conclude that there is heteroskedasticity present in the data."
   ]
  },
  {
   "cell_type": "markdown",
   "metadata": {},
   "source": [
    "### 3. Normality of residuals"
   ]
  },
  {
   "cell_type": "code",
   "execution_count": 66,
   "metadata": {},
   "outputs": [],
   "source": [
    "from statsmodels.graphics.gofplots import qqplot"
   ]
  },
  {
   "cell_type": "code",
   "execution_count": 68,
   "metadata": {},
   "outputs": [
    {
     "data": {
      "image/png": "[encoded data removed]",
      "text/plain": [
       "<Figure size 1080x576 with 1 Axes>"
      ]
     },
     "metadata": {
      "needs_background": "light"
     },
     "output_type": "display_data"
    }
   ],
   "source": [
    "# set the plot size using 'rcParams'\n",
    "# once the plot size is set using 'rcParams', it sets the size of all the forthcoming plots in the file\n",
    "# pass width and height in inches to 'figure.figsize' \n",
    "plt.rcParams['figure.figsize'] = [15,8]\n",
    "\n",
    "# plot the Q-Q plot\n",
    "# 'r' represents the regression line\n",
    "qqplot(rfe_feature_model.resid, line = 'r')\n",
    "\n",
    "# set plot and axes labels\n",
    "# set text size using 'fontsize'\n",
    "plt.title('Q-Q Plot', fontsize = 15)\n",
    "plt.xlabel('Theoretical Quantiles', fontsize = 15)\n",
    "plt.ylabel('Sample Quantiles', fontsize = 15)\n",
    "\n",
    "# display the plot\n",
    "plt.show()"
   ]
  },
  {
   "cell_type": "markdown",
   "metadata": {},
   "source": [
    "### 4. Identifying Outliers/influential Cases"
   ]
  },
  {
   "cell_type": "code",
   "execution_count": 73,
   "metadata": {},
   "outputs": [
    {
     "data": {
      "text/plain": [
       "Index(['const', 'dob_year', 'friend_count', 'likes_received', 'mobile_likes',\n",
       "       'www_likes', 'www_likes_received'],\n",
       "      dtype='object')"
      ]
     },
     "execution_count": 73,
     "metadata": {},
     "output_type": "execute_result"
    }
   ],
   "source": [
    "X_train_rfe.columns"
   ]
  },
  {
   "cell_type": "code",
   "execution_count": 76,
   "metadata": {
    "scrolled": false
   },
   "outputs": [
    {
     "data": {
      "image/png": "[encoded data removed]",
      "text/plain": [
       "<Figure size 1080x576 with 1 Axes>"
      ]
     },
     "metadata": {
      "needs_background": "light"
     },
     "output_type": "display_data"
    },
    {
     "data": {
      "image/png": "[encoded data removed]",
      "text/plain": [
       "<Figure size 1080x576 with 1 Axes>"
      ]
     },
     "metadata": {
      "needs_background": "light"
     },
     "output_type": "display_data"
    },
    {
     "data": {
      "image/png": "[encoded data removed]",
      "text/plain": [
       "<Figure size 1080x576 with 1 Axes>"
      ]
     },
     "metadata": {
      "needs_background": "light"
     },
     "output_type": "display_data"
    },
    {
     "data": {
      "image/png": "[encoded data removed]",
      "text/plain": [
       "<Figure size 1080x576 with 1 Axes>"
      ]
     },
     "metadata": {
      "needs_background": "light"
     },
     "output_type": "display_data"
    },
    {
     "data": {
      "image/png": "[encoded data removed]",
      "text/plain": [
       "<Figure size 1080x576 with 1 Axes>"
      ]
     },
     "metadata": {
      "needs_background": "light"
     },
     "output_type": "display_data"
    },
    {
     "data": {
      "image/png": "[encoded data removed]",
      "text/plain": [
       "<Figure size 1080x576 with 1 Axes>"
      ]
     },
     "metadata": {
      "needs_background": "light"
     },
     "output_type": "display_data"
    }
   ],
   "source": [
    "for col in X_train_rfe.columns:\n",
    "    if(col!='const'):\n",
    "        sns.boxplot(X_train_rfe[col])\n",
    "        plt.show()"
   ]
  },
  {
   "cell_type": "markdown",
   "metadata": {},
   "source": [
    "<h2 class=\"list-group-item list-group-item-action active\" >6.Rebuilding the Model: Feature Selection using RFE & K-Fold Cross Validation</h2>\n",
    "\n",
    "\n",
    ">### A. Finding optimal feature count using RFE and plot the r2 and RMSE against n_features.\n",
    "\n",
    ">### B. K-Fold Cross Validation"
   ]
  },
  {
   "cell_type": "code",
   "execution_count": 77,
   "metadata": {},
   "outputs": [],
   "source": [
    "# A) Same has been done in Subdivision 4"
   ]
  },
  {
   "cell_type": "markdown",
   "metadata": {},
   "source": [
    "### B. K-Fold Cross Validation"
   ]
  },
  {
   "cell_type": "code",
   "execution_count": 80,
   "metadata": {},
   "outputs": [],
   "source": [
    "from sklearn.model_selection import cross_val_score"
   ]
  },
  {
   "cell_type": "code",
   "execution_count": 82,
   "metadata": {},
   "outputs": [
    {
     "data": {
      "text/plain": [
       "array([1., 1., 1., 1., 1.])"
      ]
     },
     "execution_count": 82,
     "metadata": {},
     "output_type": "execute_result"
    }
   ],
   "source": [
    "scores = cross_val_score(estimator = LinearRegression(), \n",
    "                         X = X_train_rfe, \n",
    "                         y = y_train_rfe, \n",
    "                         cv = 5, \n",
    "                         scoring = 'r2')\n",
    "scores"
   ]
  },
  {
   "cell_type": "code",
   "execution_count": null,
   "metadata": {},
   "outputs": [],
   "source": []
  }
 ],
 "metadata": {
  "kernelspec": {
   "display_name": "Python 3",
   "language": "python",
   "name": "python3"
  },
  "language_info": {
   "codemirror_mode": {
    "name": "ipython",
    "version": 3
   },
   "file_extension": ".py",
   "mimetype": "text/x-python",
   "name": "python",
   "nbconvert_exporter": "python",
   "pygments_lexer": "ipython3",
   "version": "3.8.5"
  }
 },
 "nbformat": 4,
 "nbformat_minor": 4
}
