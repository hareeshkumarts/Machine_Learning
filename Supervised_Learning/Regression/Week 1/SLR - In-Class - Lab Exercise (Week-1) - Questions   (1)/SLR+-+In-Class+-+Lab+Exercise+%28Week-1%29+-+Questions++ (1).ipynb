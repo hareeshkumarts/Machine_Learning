{
 "cells": [
  {
   "cell_type": "markdown",
   "metadata": {
    "id": "rT6LG4MeO5L7"
   },
   "source": [
    "<table align=\"center\" width=100%>\n",
    "    <tr>\n",
    "        <td width=\"15%\">\n",
    "            <img src=\"in_class.png\">\n",
    "        </td>\n",
    "        <td>\n",
    "            <div align=\"center\">\n",
    "                <font color=\"#21618C\" size=8px>\n",
    "                    <b> Inclass - Lab <br>(Week- 1)\n",
    "                    </b>\n",
    "                </font>\n",
    "            </div>\n",
    "        </td>\n",
    "    </tr>\n",
    "</table>"
   ]
  },
  {
   "cell_type": "markdown",
   "metadata": {
    "id": "lwbHRljiO5L9"
   },
   "source": [
    "### About the data set 1 (Life Expectancy data)\n",
    "\n",
    "The dataset contains information about several health and economic factors that contribute to average life expectancy for different countries. <br> Attribute information: \n",
    "\n",
    "**Country:** Name of the country\n",
    "\n",
    "**Status:** Whether the country is Developed or Developing\n",
    "\n",
    "**Adult_Mortality:** Mortality rate for age group 15-60 out of every 1000 individuals of the population\n",
    "\n",
    "**Infant_Deaths:** Number of infant deaths per 1000 population\n",
    "\n",
    "**Hepatitis:** Hepatitis B (HepB) immunization coverage for 1 year olds (Percentage)\n",
    "\n",
    "**Measles:** Number of reported cases for measles per 1000 from population\n",
    "\n",
    "**BMI:** Average Body Mass Index for entire population\n",
    "\n",
    "**Underfive_Deaths:** Number of deaths under 5 years of age per 1000 population\n",
    "\n",
    "**Polio:** Polio (Pol3) immunization coverage for 1 year olds (Percentage)\n",
    "\n",
    "**Diphtheria:** Diphtheria tetanus toxoid and pertussis (DTP3) immunization coverage for 1 year olds (Percentage)\n",
    "\n",
    "**HIV:** Deaths per 1000 live births due to HIV/AIDS (0-4 years)\n",
    "\n",
    "**GDP:** Gross Domestic Product per capita (in USD)\n",
    "\n",
    "**Population:** Population of the country\n",
    "\n",
    "**Malnourished10_19:** Prevalence of malnutrition among children and adolescents for Age 10 to 19 (Percentage)\n",
    "\n",
    "**Malnourished5_9:** Prevalence of malnutrition among children for Age 5 to 9 (Percentage)\n",
    "\n",
    "**Income_Index:** Human Development Index (HDI) in terms of national income per capita (index ranging from 0 to 1)\n",
    "\n",
    "**Schooling:** Number of years of Schooling\n",
    "\n",
    "**Life_Expectancy:** Life Expectancy in age for the country\n",
    "\n",
    "\n",
    "\n"
   ]
  },
  {
   "cell_type": "markdown",
   "metadata": {
    "id": "MvpaLcOaO5L-"
   },
   "source": [
    "## Table of Content\n",
    "\n",
    "1. **[Bivariate Regression](#Bivariate)**\n",
    "2. **[Multiple Linear Regression (MLR)](#MLR)**\n",
    "3. **[Inferences about slope](#ins)**\n",
    "4. **[Model Evaluation](#ML_eval)**\n",
    "5. **[Assumptions of Linear Regression](#assum)**\n",
    "6. **[Model Performance](#ml_perf)**"
   ]
  },
  {
   "cell_type": "code",
   "execution_count": 3,
   "metadata": {},
   "outputs": [],
   "source": [
    "import numpy as np\n",
    "import pandas as pd\n",
    "import matplotlib.pyplot as plt\n",
    "%matplotlib inline\n",
    "import seaborn as sns\n",
    "import warnings\n",
    "warnings.filterwarnings(action='ignore')"
   ]
  },
  {
   "cell_type": "markdown",
   "metadata": {
    "id": "uGqLBDZ6O5L_"
   },
   "source": [
    "**Import the required libraries**"
   ]
  },
  {
   "cell_type": "code",
   "execution_count": 2,
   "metadata": {
    "id": "Hn7g7yzMO5L_"
   },
   "outputs": [],
   "source": [
    "# import various metrics from 'Scikit-learn' (sklearn)\n",
    "from sklearn.model_selection import train_test_split\n",
    "\n",
    "# 'Statsmodels' is used to build and analyze various statistical models\n",
    "import statsmodels\n",
    "import statsmodels.api as sm\n",
    "import statsmodels.stats.api as sms\n",
    "import statsmodels.formula.api as smf\n",
    "from statsmodels.tools.eval_measures import rmse\n",
    "from statsmodels.compat import lzip\n",
    "from statsmodels.stats.outliers_influence import variance_inflation_factor\n",
    "from statsmodels.stats.diagnostic import linear_rainbow\n",
    "import statsmodels.tsa.api as smt\n",
    "from statsmodels.graphics.gofplots import qqplot\n",
    "from statsmodels.stats.stattools import durbin_watson\n",
    "\n",
    "# 'SciPy' is used to perform scientific computations\n",
    "from scipy import stats\n",
    "from scipy.stats import shapiro\n",
    "\n",
    "# 'metrics' from sklearn is used for evaluating the model performance\n",
    "from sklearn.metrics import mean_absolute_error\n",
    "from sklearn.metrics import mean_squared_error"
   ]
  },
  {
   "cell_type": "markdown",
   "metadata": {
    "id": "xvtH2jbnO5MA"
   },
   "source": [
    "#### Load the first dataset and check the first five observations\n",
    "\n",
    "Load the csv file and set the first column as index"
   ]
  },
  {
   "cell_type": "code",
   "execution_count": 7,
   "metadata": {
    "id": "MPgBUhd1O5MB",
    "scrolled": true
   },
   "outputs": [
    {
     "data": {
      "text/html": [
       "<div>\n",
       "<style scoped>\n",
       "    .dataframe tbody tr th:only-of-type {\n",
       "        vertical-align: middle;\n",
       "    }\n",
       "\n",
       "    .dataframe tbody tr th {\n",
       "        vertical-align: top;\n",
       "    }\n",
       "\n",
       "    .dataframe thead th {\n",
       "        text-align: right;\n",
       "    }\n",
       "</style>\n",
       "<table border=\"1\" class=\"dataframe\">\n",
       "  <thead>\n",
       "    <tr style=\"text-align: right;\">\n",
       "      <th></th>\n",
       "      <th>Status</th>\n",
       "      <th>Adult_Mortality</th>\n",
       "      <th>Infant_Deaths</th>\n",
       "      <th>Hepatitis</th>\n",
       "      <th>Measles</th>\n",
       "      <th>BMI</th>\n",
       "      <th>Underfive_Deaths</th>\n",
       "      <th>Polio</th>\n",
       "      <th>Diphtheria</th>\n",
       "      <th>HIV</th>\n",
       "      <th>GDP</th>\n",
       "      <th>Population</th>\n",
       "      <th>Malnourished10_19</th>\n",
       "      <th>Malnourished5_9</th>\n",
       "      <th>Income_Index</th>\n",
       "      <th>Schooling</th>\n",
       "      <th>Expected</th>\n",
       "    </tr>\n",
       "    <tr>\n",
       "      <th>Country</th>\n",
       "      <th></th>\n",
       "      <th></th>\n",
       "      <th></th>\n",
       "      <th></th>\n",
       "      <th></th>\n",
       "      <th></th>\n",
       "      <th></th>\n",
       "      <th></th>\n",
       "      <th></th>\n",
       "      <th></th>\n",
       "      <th></th>\n",
       "      <th></th>\n",
       "      <th></th>\n",
       "      <th></th>\n",
       "      <th></th>\n",
       "      <th></th>\n",
       "      <th></th>\n",
       "    </tr>\n",
       "  </thead>\n",
       "  <tbody>\n",
       "    <tr>\n",
       "      <th>Afghanistan</th>\n",
       "      <td>Developing</td>\n",
       "      <td>263</td>\n",
       "      <td>62</td>\n",
       "      <td>65</td>\n",
       "      <td>1154</td>\n",
       "      <td>19.1</td>\n",
       "      <td>83</td>\n",
       "      <td>6</td>\n",
       "      <td>65</td>\n",
       "      <td>0.1</td>\n",
       "      <td>584.259210</td>\n",
       "      <td>33736494</td>\n",
       "      <td>17.2</td>\n",
       "      <td>17.3</td>\n",
       "      <td>0.479</td>\n",
       "      <td>10.1</td>\n",
       "      <td>65.0</td>\n",
       "    </tr>\n",
       "    <tr>\n",
       "      <th>Albania</th>\n",
       "      <td>Developing</td>\n",
       "      <td>8</td>\n",
       "      <td>0</td>\n",
       "      <td>98</td>\n",
       "      <td>0</td>\n",
       "      <td>57.2</td>\n",
       "      <td>1</td>\n",
       "      <td>98</td>\n",
       "      <td>98</td>\n",
       "      <td>0.1</td>\n",
       "      <td>4575.763787</td>\n",
       "      <td>288914</td>\n",
       "      <td>1.2</td>\n",
       "      <td>1.3</td>\n",
       "      <td>0.761</td>\n",
       "      <td>14.2</td>\n",
       "      <td>77.5</td>\n",
       "    </tr>\n",
       "    <tr>\n",
       "      <th>Algeria</th>\n",
       "      <td>Developing</td>\n",
       "      <td>19</td>\n",
       "      <td>21</td>\n",
       "      <td>95</td>\n",
       "      <td>63</td>\n",
       "      <td>59.5</td>\n",
       "      <td>24</td>\n",
       "      <td>95</td>\n",
       "      <td>95</td>\n",
       "      <td>0.1</td>\n",
       "      <td>4132.762920</td>\n",
       "      <td>39871528</td>\n",
       "      <td>6.0</td>\n",
       "      <td>5.8</td>\n",
       "      <td>0.743</td>\n",
       "      <td>14.4</td>\n",
       "      <td>75.6</td>\n",
       "    </tr>\n",
       "    <tr>\n",
       "      <th>Angola</th>\n",
       "      <td>Developing</td>\n",
       "      <td>335</td>\n",
       "      <td>66</td>\n",
       "      <td>64</td>\n",
       "      <td>118</td>\n",
       "      <td>23.3</td>\n",
       "      <td>98</td>\n",
       "      <td>7</td>\n",
       "      <td>64</td>\n",
       "      <td>1.9</td>\n",
       "      <td>3695.793748</td>\n",
       "      <td>2785935</td>\n",
       "      <td>8.3</td>\n",
       "      <td>8.2</td>\n",
       "      <td>0.531</td>\n",
       "      <td>11.4</td>\n",
       "      <td>52.4</td>\n",
       "    </tr>\n",
       "    <tr>\n",
       "      <th>Argentina</th>\n",
       "      <td>Developing</td>\n",
       "      <td>116</td>\n",
       "      <td>8</td>\n",
       "      <td>94</td>\n",
       "      <td>0</td>\n",
       "      <td>62.8</td>\n",
       "      <td>9</td>\n",
       "      <td>93</td>\n",
       "      <td>94</td>\n",
       "      <td>0.1</td>\n",
       "      <td>13467.123600</td>\n",
       "      <td>43417765</td>\n",
       "      <td>1.0</td>\n",
       "      <td>0.9</td>\n",
       "      <td>0.826</td>\n",
       "      <td>17.3</td>\n",
       "      <td>76.3</td>\n",
       "    </tr>\n",
       "  </tbody>\n",
       "</table>\n",
       "</div>"
      ],
      "text/plain": [
       "                 Status  Adult_Mortality  Infant_Deaths  Hepatitis   Measles   \\\n",
       "Country                                                                         \n",
       "Afghanistan  Developing              263             62          65      1154   \n",
       "Albania      Developing                8              0          98         0   \n",
       "Algeria      Developing               19             21          95        63   \n",
       "Angola       Developing              335             66          64       118   \n",
       "Argentina    Developing              116              8          94         0   \n",
       "\n",
       "              BMI   Underfive_Deaths   Polio  Diphtheria    HIV           GDP  \\\n",
       "Country                                                                         \n",
       "Afghanistan   19.1                 83      6           65   0.1    584.259210   \n",
       "Albania       57.2                  1     98           98   0.1   4575.763787   \n",
       "Algeria       59.5                 24     95           95   0.1   4132.762920   \n",
       "Angola        23.3                 98      7           64   1.9   3695.793748   \n",
       "Argentina     62.8                  9     93           94   0.1  13467.123600   \n",
       "\n",
       "             Population  Malnourished10_19   Malnourished5_9  Income_Index  \\\n",
       "Country                                                                      \n",
       "Afghanistan    33736494                17.2             17.3         0.479   \n",
       "Albania          288914                 1.2              1.3         0.761   \n",
       "Algeria        39871528                 6.0              5.8         0.743   \n",
       "Angola          2785935                 8.3              8.2         0.531   \n",
       "Argentina      43417765                 1.0              0.9         0.826   \n",
       "\n",
       "             Schooling  Expected  \n",
       "Country                           \n",
       "Afghanistan       10.1      65.0  \n",
       "Albania           14.2      77.5  \n",
       "Algeria           14.4      75.6  \n",
       "Angola            11.4      52.4  \n",
       "Argentina         17.3      76.3  "
      ]
     },
     "execution_count": 7,
     "metadata": {},
     "output_type": "execute_result"
    }
   ],
   "source": [
    "# load the csv file\n",
    "\n",
    "# type your code here\n",
    "\n",
    "df_lifeExp = pd.read_csv('Life_Expectancy.csv',index_col='Country')\n",
    "df_lifeExp.head()"
   ]
  },
  {
   "cell_type": "code",
   "execution_count": 8,
   "metadata": {},
   "outputs": [
    {
     "name": "stdout",
     "output_type": "stream",
     "text": [
      "<class 'pandas.core.frame.DataFrame'>\n",
      "Index: 124 entries, Afghanistan to Zimbabwe\n",
      "Data columns (total 17 columns):\n",
      " #   Column              Non-Null Count  Dtype  \n",
      "---  ------              --------------  -----  \n",
      " 0   Status              124 non-null    object \n",
      " 1   Adult_Mortality     124 non-null    int64  \n",
      " 2   Infant_Deaths       124 non-null    int64  \n",
      " 3   Hepatitis           124 non-null    int64  \n",
      " 4   Measles             124 non-null    int64  \n",
      " 5    BMI                124 non-null    float64\n",
      " 6   Underfive_Deaths    124 non-null    int64  \n",
      " 7   Polio               124 non-null    int64  \n",
      " 8   Diphtheria          124 non-null    int64  \n",
      " 9    HIV                124 non-null    float64\n",
      " 10  GDP                 124 non-null    float64\n",
      " 11  Population          124 non-null    int64  \n",
      " 12  Malnourished10_19   124 non-null    float64\n",
      " 13  Malnourished5_9     124 non-null    float64\n",
      " 14  Income_Index        124 non-null    float64\n",
      " 15  Schooling           124 non-null    float64\n",
      " 16  Expected            124 non-null    float64\n",
      "dtypes: float64(8), int64(8), object(1)\n",
      "memory usage: 17.4+ KB\n"
     ]
    }
   ],
   "source": [
    "df_lifeExp.info()"
   ]
  },
  {
   "cell_type": "code",
   "execution_count": null,
   "metadata": {},
   "outputs": [],
   "source": []
  },
  {
   "cell_type": "markdown",
   "metadata": {
    "id": "PSLxiiJDO5MB"
   },
   "source": [
    "### Let's begin with some hands-on practice exercises"
   ]
  },
  {
   "cell_type": "markdown",
   "metadata": {
    "id": "3nQ-XAUKO5MC"
   },
   "source": [
    "<a id=\"Bivariate\"> </a>\n",
    "## 1. Bivariate Regression"
   ]
  },
  {
   "cell_type": "markdown",
   "metadata": {
    "id": "jZbRMMufO5MC"
   },
   "source": [
    "## We shall use the life expectancy dataset"
   ]
  },
  {
   "cell_type": "markdown",
   "metadata": {
    "collapsed": true,
    "id": "BuVRq0FaO5MD"
   },
   "source": [
    "<table align=\"left\">\n",
    "    <tr>\n",
    "        <td width=\"6%\">\n",
    "            <img src=\"question_icon.png\">\n",
    "        </td>\n",
    "        <td>\n",
    "            <div align=\"left\", style=\"font-size:120%\">\n",
    "                <font color=\"#21618C\">\n",
    "                    <b>1. How do we analyze the impact of adult mortality rate on average life expectancy of a country?</b>\n",
    "                </font>\n",
    "            </div>\n",
    "        </td>\n",
    "    </tr>\n",
    "</table>"
   ]
  },
  {
   "cell_type": "code",
   "execution_count": 9,
   "metadata": {},
   "outputs": [
    {
     "data": {
      "text/plain": [
       "Index(['Status', 'Adult_Mortality', 'Infant_Deaths', 'Hepatitis ', 'Measles ',\n",
       "       ' BMI ', 'Underfive_Deaths ', 'Polio', 'Diphtheria ', ' HIV', 'GDP',\n",
       "       'Population', 'Malnourished10_19 ', 'Malnourished5_9', 'Income_Index',\n",
       "       'Schooling', 'Expected'],\n",
       "      dtype='object')"
      ]
     },
     "execution_count": 9,
     "metadata": {},
     "output_type": "execute_result"
    }
   ],
   "source": [
    "df_lifeExp.columns"
   ]
  },
  {
   "cell_type": "code",
   "execution_count": 10,
   "metadata": {
    "id": "vOO3WH-yO5MD"
   },
   "outputs": [
    {
     "data": {
      "image/png": "[encoded data removed]",
      "text/plain": [
       "<Figure size 432x288 with 1 Axes>"
      ]
     },
     "metadata": {
      "needs_background": "light"
     },
     "output_type": "display_data"
    }
   ],
   "source": [
    "# type your code here\n",
    "\n",
    "sns.scatterplot(df_lifeExp['Adult_Mortality'],df_lifeExp.Expected)\n",
    "plt.show()"
   ]
  },
  {
   "cell_type": "code",
   "execution_count": 11,
   "metadata": {},
   "outputs": [],
   "source": [
    "# Negativel Correlated\n",
    "#Increase in Expctancy decreases Adult Mortality"
   ]
  },
  {
   "cell_type": "code",
   "execution_count": null,
   "metadata": {},
   "outputs": [],
   "source": []
  },
  {
   "cell_type": "markdown",
   "metadata": {
    "collapsed": true,
    "id": "BPep3bI9O5ME"
   },
   "source": [
    "<table align=\"left\">\n",
    "    <tr>\n",
    "        <td width=\"6%\">\n",
    "            <img src=\"question_icon.png\">\n",
    "        </td>\n",
    "        <td>\n",
    "            <div align=\"left\", style=\"font-size:120%\">\n",
    "                <font color=\"#21618C\">\n",
    "                    <b>2. A regression model is built to check the impact of Human Development Index (Income) on the life expectancy of a nation. What is the expected error value?</b>\n",
    "                </font>\n",
    "            </div>\n",
    "        </td>\n",
    "    </tr>\n",
    "</table>"
   ]
  },
  {
   "cell_type": "code",
   "execution_count": 13,
   "metadata": {
    "id": "K5OGcYbDO5ME"
   },
   "outputs": [],
   "source": [
    "# type your code here\n",
    "\n",
    "# selecting independent variables that describe immunization\n",
    "X = df_lifeExp['Income_Index']\n",
    "\n",
    "# 'sm.add_constant' adds the intercept to the model\n",
    "X = sm.add_constant(X)\n",
    "\n",
    "# set the dependent variable\n",
    "y = df_lifeExp.Expected\n",
    "\n",
    "# building a model with an intercept\n",
    "# fit() is used to fit the OLS model\n",
    "SLR_model = sm.OLS(y,X).fit()\n",
    "\n",
    "# capture predicted values\n",
    "predictions = SLR_model.predict(X)\n",
    "\n",
    "# find the residuals\n",
    "residual = df_lifeExp.Expected - predictions\n",
    "\n",
    "# calculate the sum of residuals\n",
    "sum_resid = np.sum(residual)\n"
   ]
  },
  {
   "cell_type": "code",
   "execution_count": 14,
   "metadata": {},
   "outputs": [
    {
     "name": "stdout",
     "output_type": "stream",
     "text": [
      "Sum of all residuals -0.0000000000018\n",
      "Expected residual value -0.0000000000000\n"
     ]
    }
   ],
   "source": [
    "# display the 13 digits after decimal\n",
    "#\"{:.13f}\". format(): displays the 13 digits after decimal\n",
    "output_residual = \"{:.13f}\". format(np.sum(residual))\n",
    "\n",
    "# print sum of residuals\n",
    "print(\"Sum of all residuals\",output_residual)\n",
    "\n",
    "# get the total number of rows\n",
    "#len(): gives the count of the observations\n",
    "sample_size = len(df_lifeExp.index)\n",
    "\n",
    "# calculate expected value for residuals\n",
    "expected_value = sum_resid/sample_size\n",
    "\n",
    "# for suppressing the e symbol format of printing output\n",
    "#\"{:.13f}\". format(): displays the 13 digits after decimal\n",
    "output = \"{:.13f}\". format(expected_value)\n",
    "\n",
    "# print expected residual value\n",
    "print(\"Expected residual value\",output)"
   ]
  },
  {
   "cell_type": "markdown",
   "metadata": {
    "id": "jCDCNMaHO5MF"
   },
   "source": [
    "<a id=\"MLR\"> </a>\n",
    "## 2. Multiple Linear Regression(MLR)"
   ]
  },
  {
   "cell_type": "markdown",
   "metadata": {
    "collapsed": true,
    "id": "ReE0XhiEO5MF"
   },
   "source": [
    "<table align=\"left\">\n",
    "    <tr>\n",
    "        <td width=\"6%\">\n",
    "            <img src=\"question_icon.png\">\n",
    "        </td>\n",
    "        <td>\n",
    "            <div align=\"left\", style=\"font-size:120%\">\n",
    "                <font color=\"#21618C\">\n",
    "                    <b>3. Analyze the impact of immunization on life expectancy. </b>\n",
    "                </font>\n",
    "            </div>\n",
    "        </td>\n",
    "    </tr>\n",
    "</table>"
   ]
  },
  {
   "cell_type": "code",
   "execution_count": 15,
   "metadata": {},
   "outputs": [
    {
     "data": {
      "text/plain": [
       "Index(['Status', 'Adult_Mortality', 'Infant_Deaths', 'Hepatitis ', 'Measles ',\n",
       "       ' BMI ', 'Underfive_Deaths ', 'Polio', 'Diphtheria ', ' HIV', 'GDP',\n",
       "       'Population', 'Malnourished10_19 ', 'Malnourished5_9', 'Income_Index',\n",
       "       'Schooling', 'Expected'],\n",
       "      dtype='object')"
      ]
     },
     "execution_count": 15,
     "metadata": {},
     "output_type": "execute_result"
    }
   ],
   "source": [
    "df_lifeExp.columns"
   ]
  },
  {
   "cell_type": "code",
   "execution_count": 17,
   "metadata": {
    "id": "Mz76ezJJO5MG"
   },
   "outputs": [
    {
     "name": "stdout",
     "output_type": "stream",
     "text": [
      "                            OLS Regression Results                            \n",
      "==============================================================================\n",
      "Dep. Variable:               Expected   R-squared:                       0.138\n",
      "Model:                            OLS   Adj. R-squared:                  0.116\n",
      "Method:                 Least Squares   F-statistic:                     6.395\n",
      "Date:                Sun, 13 Feb 2022   Prob (F-statistic):           0.000468\n",
      "Time:                        10:24:01   Log-Likelihood:                -431.15\n",
      "No. Observations:                 124   AIC:                             870.3\n",
      "Df Residuals:                     120   BIC:                             881.6\n",
      "Df Model:                           3                                         \n",
      "Covariance Type:            nonrobust                                         \n",
      "===============================================================================\n",
      "                  coef    std err          t      P>|t|      [0.025      0.975]\n",
      "-------------------------------------------------------------------------------\n",
      "const          57.9881      3.524     16.453      0.000      51.010      64.966\n",
      "Hepatitis      -0.1037      0.068     -1.528      0.129      -0.238       0.031\n",
      "Polio           0.0910      0.043      2.099      0.038       0.005       0.177\n",
      "Diphtheria      0.1613      0.082      1.969      0.051      -0.001       0.323\n",
      "==============================================================================\n",
      "Omnibus:                        4.513   Durbin-Watson:                   1.000\n",
      "Prob(Omnibus):                  0.105   Jarque-Bera (JB):                4.279\n",
      "Skew:                          -0.396   Prob(JB):                        0.118\n",
      "Kurtosis:                       2.550   Cond. No.                         755.\n",
      "==============================================================================\n",
      "\n",
      "Notes:\n",
      "[1] Standard Errors assume that the covariance matrix of the errors is correctly specified.\n"
     ]
    }
   ],
   "source": [
    "# type your code here\n",
    "\n",
    "X= df_lifeExp.iloc[:,[3,7,8]]\n",
    "\n",
    "#Intercept\n",
    "X = sm.add_constant(X)\n",
    "\n",
    "Y = df_lifeExp['Expected']\n",
    "\n",
    "MLR_model = sm.OLS(Y,X).fit()\n",
    "\n",
    "print(MLR_model.summary())"
   ]
  },
  {
   "cell_type": "markdown",
   "metadata": {
    "collapsed": true,
    "id": "JYXNOH_fO5MG"
   },
   "source": [
    "<table align=\"left\">\n",
    "    <tr>\n",
    "        <td width=\"6%\">\n",
    "            <img src=\"question_icon.png\">\n",
    "        </td>\n",
    "        <td>\n",
    "            <div align=\"left\", style=\"font-size:120%\">\n",
    "                <font color=\"#21618C\">\n",
    "                    <b>4. If the information that whether the country is a developed or a developing country is included, does it alter the impact of immunzation on life expectancy ?</b>\n",
    "                </font>\n",
    "            </div>\n",
    "        </td>\n",
    "    </tr>\n",
    "</table>"
   ]
  },
  {
   "cell_type": "code",
   "execution_count": 18,
   "metadata": {},
   "outputs": [
    {
     "data": {
      "text/plain": [
       "Index(['Status', 'Adult_Mortality', 'Infant_Deaths', 'Hepatitis ', 'Measles ',\n",
       "       ' BMI ', 'Underfive_Deaths ', 'Polio', 'Diphtheria ', ' HIV', 'GDP',\n",
       "       'Population', 'Malnourished10_19 ', 'Malnourished5_9', 'Income_Index',\n",
       "       'Schooling', 'Expected'],\n",
       "      dtype='object')"
      ]
     },
     "execution_count": 18,
     "metadata": {},
     "output_type": "execute_result"
    }
   ],
   "source": [
    "df_lifeExp.columns"
   ]
  },
  {
   "cell_type": "code",
   "execution_count": null,
   "metadata": {},
   "outputs": [],
   "source": []
  },
  {
   "cell_type": "code",
   "execution_count": 19,
   "metadata": {
    "id": "JnPkOfb3O5MH",
    "scrolled": true
   },
   "outputs": [
    {
     "name": "stdout",
     "output_type": "stream",
     "text": [
      "                            OLS Regression Results                            \n",
      "==============================================================================\n",
      "Dep. Variable:               Expected   R-squared:                       0.321\n",
      "Model:                            OLS   Adj. R-squared:                  0.298\n",
      "Method:                 Least Squares   F-statistic:                     14.06\n",
      "Date:                Sun, 13 Feb 2022   Prob (F-statistic):           2.00e-09\n",
      "Time:                        10:33:03   Log-Likelihood:                -416.35\n",
      "No. Observations:                 124   AIC:                             842.7\n",
      "Df Residuals:                     119   BIC:                             856.8\n",
      "Df Model:                           4                                         \n",
      "Covariance Type:            nonrobust                                         \n",
      "=====================================================================================\n",
      "                        coef    std err          t      P>|t|      [0.025      0.975]\n",
      "-------------------------------------------------------------------------------------\n",
      "const                69.8090      3.771     18.512      0.000      62.342      77.276\n",
      "Hepatitis            -0.0035      0.063     -0.056      0.955      -0.128       0.121\n",
      "Polio                 0.0771      0.039      1.993      0.049       0.000       0.154\n",
      "Diphtheria            0.0456      0.076      0.602      0.548      -0.104       0.196\n",
      "Status_Developing   -10.6036      1.872     -5.664      0.000     -14.310      -6.897\n",
      "==============================================================================\n",
      "Omnibus:                        2.973   Durbin-Watson:                   1.211\n",
      "Prob(Omnibus):                  0.226   Jarque-Bera (JB):                2.635\n",
      "Skew:                          -0.355   Prob(JB):                        0.268\n",
      "Kurtosis:                       3.077   Cond. No.                         946.\n",
      "==============================================================================\n",
      "\n",
      "Notes:\n",
      "[1] Standard Errors assume that the covariance matrix of the errors is correctly specified.\n"
     ]
    }
   ],
   "source": [
    "# type your code here\n",
    "\n",
    "X= df_lifeExp.iloc[:,[3,7,8]]\n",
    "\n",
    "encoded_status = pd.get_dummies(data = df_lifeExp['Status'], drop_first=True, prefix = 'Status')\n",
    "\n",
    "# concate the dummy variable with features describing immunization using concat()\n",
    "# create a dataframe of all relevant independent variables\n",
    "# 'axis=1' concates the dataframes along columns \n",
    "X = pd.concat([pd.DataFrame(X), encoded_status], axis=1)\n",
    "\n",
    "\n",
    "#Intercept\n",
    "X = sm.add_constant(X)\n",
    "\n",
    "\n",
    "\n",
    "Y = df_lifeExp['Expected']\n",
    "\n",
    "MLR_new_model = sm.OLS(Y,X).fit()\n",
    "\n",
    "print(MLR_new_model.summary())"
   ]
  },
  {
   "cell_type": "code",
   "execution_count": null,
   "metadata": {},
   "outputs": [],
   "source": [
    "# 1. Y = 69.8+ -10.6 (Status) \n",
    "# 2 . X=0 , Y = 70\n",
    "# 3 . X=1 , Y = 59.2"
   ]
  },
  {
   "cell_type": "markdown",
   "metadata": {
    "id": "OSjInVY1O5MI"
   },
   "source": [
    "<a id=\"ins\"> </a>\n",
    "## 3. Inferences about slope"
   ]
  },
  {
   "cell_type": "markdown",
   "metadata": {
    "collapsed": true,
    "id": "3byiFGZJO5MI"
   },
   "source": [
    "<table align=\"left\">\n",
    "    <tr>\n",
    "        <td width=\"6%\">\n",
    "            <img src=\"question_icon.png\">\n",
    "        </td>\n",
    "        <td>\n",
    "            <div align=\"left\", style=\"font-size:120%\">\n",
    "                <font color=\"#21618C\">\n",
    "                    <b>5. Find the significant variables in the full model when all the variables are considered for prediction of life expectancy.</b>\n",
    "                </font>\n",
    "            </div>\n",
    "        </td>\n",
    "    </tr>\n",
    "</table>"
   ]
  },
  {
   "cell_type": "code",
   "execution_count": 22,
   "metadata": {
    "id": "KnIG25MqO5MJ"
   },
   "outputs": [
    {
     "name": "stdout",
     "output_type": "stream",
     "text": [
      "                            OLS Regression Results                            \n",
      "==============================================================================\n",
      "Dep. Variable:               Expected   R-squared:                       0.848\n",
      "Model:                            OLS   Adj. R-squared:                  0.826\n",
      "Method:                 Least Squares   F-statistic:                     37.43\n",
      "Date:                Sun, 13 Feb 2022   Prob (F-statistic):           1.94e-36\n",
      "Time:                        10:43:18   Log-Likelihood:                -323.38\n",
      "No. Observations:                 124   AIC:                             680.8\n",
      "Df Residuals:                     107   BIC:                             728.7\n",
      "Df Model:                          16                                         \n",
      "Covariance Type:            nonrobust                                         \n",
      "======================================================================================\n",
      "                         coef    std err          t      P>|t|      [0.025      0.975]\n",
      "--------------------------------------------------------------------------------------\n",
      "const                 60.0678      3.747     16.030      0.000      52.639      67.496\n",
      "Adult_Mortality       -0.0231      0.004     -5.685      0.000      -0.031      -0.015\n",
      "Infant_Deaths          0.0556      0.037      1.507      0.135      -0.018       0.129\n",
      "Hepatitis              0.0656      0.032      2.056      0.042       0.002       0.129\n",
      "Measles             -5.93e-05   6.09e-05     -0.974      0.332      -0.000    6.14e-05\n",
      " BMI                  -0.0266      0.023     -1.179      0.241      -0.071       0.018\n",
      "Underfive_Deaths      -0.0389      0.027     -1.439      0.153      -0.093       0.015\n",
      "Polio                 -0.0091      0.022     -0.417      0.677      -0.053       0.034\n",
      "Diphtheria            -0.0345      0.040     -0.868      0.387      -0.113       0.044\n",
      " HIV                  -1.0385      0.268     -3.881      0.000      -1.569      -0.508\n",
      "GDP                 5.021e-05   3.48e-05      1.445      0.151   -1.87e-05       0.000\n",
      "Population         -1.845e-08    8.6e-09     -2.146      0.034   -3.55e-08   -1.41e-09\n",
      "Malnourished10_19     -0.4850      0.300     -1.616      0.109      -1.080       0.110\n",
      "Malnourished5_9        0.2983      0.283      1.053      0.294      -0.263       0.860\n",
      "Income_Index          18.6518      6.313      2.955      0.004       6.138      31.166\n",
      "Schooling              0.3599      0.346      1.040      0.301      -0.326       1.046\n",
      "Status_Developing     -2.0360      1.168     -1.743      0.084      -4.352       0.280\n",
      "==============================================================================\n",
      "Omnibus:                        6.529   Durbin-Watson:                   1.754\n",
      "Prob(Omnibus):                  0.038   Jarque-Bera (JB):               10.518\n",
      "Skew:                           0.122   Prob(JB):                      0.00520\n",
      "Kurtosis:                       4.406   Cond. No.                     9.15e+08\n",
      "==============================================================================\n",
      "\n",
      "Notes:\n",
      "[1] Standard Errors assume that the covariance matrix of the errors is correctly specified.\n",
      "[2] The condition number is large, 9.15e+08. This might indicate that there are\n",
      "strong multicollinearity or other numerical problems.\n"
     ]
    }
   ],
   "source": [
    "# selecting independent variables that describe immunization\n",
    "X = df_lifeExp.iloc[:,1:16]\n",
    "\n",
    "\n",
    "# create n-1 dummy variables\n",
    "# 'drop_first': creates (n-1) dummy variables using get_dummies()\n",
    "# 'prefix': adds prefix to category of dummy variable\n",
    "encoded_status = pd.get_dummies(data = df_lifeExp['Status'], drop_first=True, prefix = 'Status')\n",
    "\n",
    "# concate the dummy variable with features describing immunization using concat()\n",
    "# create a dataframe of all relevant independent variables\n",
    "# 'axis=1' concates the dataframes along columns \n",
    "X = pd.concat([pd.DataFrame(X), encoded_status], axis=1)\n",
    "\n",
    "# 'sm.add_constant' adds the intercept to the model\n",
    "X = sm.add_constant(X)\n",
    "\n",
    "# set the dependent variable\n",
    "y = df_lifeExp['Expected']\n",
    "\n",
    "# building a model with an intercept\n",
    "# fit() is used to fit the OLS model\n",
    "MLR_model = sm.OLS(y,X).fit()\n",
    "\n",
    "# print the model summary\n",
    "print(MLR_model.summary())\n"
   ]
  },
  {
   "cell_type": "code",
   "execution_count": 23,
   "metadata": {},
   "outputs": [
    {
     "data": {
      "text/plain": [
       "['const',\n",
       " 'Adult_Mortality',\n",
       " 'Hepatitis ',\n",
       " ' HIV',\n",
       " 'Population',\n",
       " 'Income_Index']"
      ]
     },
     "execution_count": 23,
     "metadata": {},
     "output_type": "execute_result"
    }
   ],
   "source": [
    "# calculate p-values for all the variables\n",
    "MLR_pvalues = pd.DataFrame(MLR_model.pvalues, columns = [\"P-Value\"])\n",
    "\n",
    "# filter the variables with p-value less than 0.05\n",
    "significant_var = MLR_pvalues[MLR_pvalues['P-Value'] < 0.05]\n",
    "\n",
    "# get insignificant variables using index\n",
    "# to_list: converts the variables to 'list' type\n",
    "signi_var = significant_var.index.to_list()\n",
    "\n",
    "# print the list of significant variables\n",
    "signi_var\n"
   ]
  },
  {
   "cell_type": "markdown",
   "metadata": {
    "collapsed": true,
    "id": "newURYBsO5MJ"
   },
   "source": [
    "<table align=\"left\">\n",
    "    <tr>\n",
    "        <td width=\"6%\">\n",
    "            <img src=\"question_icon.png\">\n",
    "        </td>\n",
    "        <td>\n",
    "            <div align=\"left\", style=\"font-size:120%\">\n",
    "                <font color=\"#21618C\">\n",
    "                    <b>6. If economic indices are used to predict the life expectancy, calculate the total variation for the observed values of life expectancy.</b>\n",
    "                </font>\n",
    "            </div>\n",
    "        </td>\n",
    "    </tr>\n",
    "</table>"
   ]
  },
  {
   "cell_type": "code",
   "execution_count": 24,
   "metadata": {},
   "outputs": [
    {
     "data": {
      "text/plain": [
       "Index(['Status', 'Adult_Mortality', 'Infant_Deaths', 'Hepatitis ', 'Measles ',\n",
       "       ' BMI ', 'Underfive_Deaths ', 'Polio', 'Diphtheria ', ' HIV', 'GDP',\n",
       "       'Population', 'Malnourished10_19 ', 'Malnourished5_9', 'Income_Index',\n",
       "       'Schooling', 'Expected'],\n",
       "      dtype='object')"
      ]
     },
     "execution_count": 24,
     "metadata": {},
     "output_type": "execute_result"
    }
   ],
   "source": [
    "df_lifeExp.columns"
   ]
  },
  {
   "cell_type": "code",
   "execution_count": 27,
   "metadata": {
    "id": "8kwK6uQ5O5MK",
    "scrolled": true
   },
   "outputs": [
    {
     "name": "stdout",
     "output_type": "stream",
     "text": [
      "                            OLS Regression Results                            \n",
      "==============================================================================\n",
      "Dep. Variable:               Expected   R-squared:                       0.713\n",
      "Model:                            OLS   Adj. R-squared:                  0.709\n",
      "Method:                 Least Squares   F-statistic:                     150.6\n",
      "Date:                Sun, 13 Feb 2022   Prob (F-statistic):           1.44e-33\n",
      "Time:                        10:46:36   Log-Likelihood:                -362.85\n",
      "No. Observations:                 124   AIC:                             731.7\n",
      "Df Residuals:                     121   BIC:                             740.2\n",
      "Df Model:                           2                                         \n",
      "Covariance Type:            nonrobust                                         \n",
      "================================================================================\n",
      "                   coef    std err          t      P>|t|      [0.025      0.975]\n",
      "--------------------------------------------------------------------------------\n",
      "const           42.6132      1.865     22.848      0.000      38.921      46.306\n",
      "GDP           4.515e-05   4.36e-05      1.034      0.303   -4.13e-05       0.000\n",
      "Income_Index    40.9705      2.823     14.512      0.000      35.381      46.560\n",
      "==============================================================================\n",
      "Omnibus:                        9.157   Durbin-Watson:                   1.349\n",
      "Prob(Omnibus):                  0.010   Jarque-Bera (JB):               16.954\n",
      "Skew:                           0.232   Prob(JB):                     0.000208\n",
      "Kurtosis:                       4.751   Cond. No.                     1.05e+05\n",
      "==============================================================================\n",
      "\n",
      "Notes:\n",
      "[1] Standard Errors assume that the covariance matrix of the errors is correctly specified.\n",
      "[2] The condition number is large, 1.05e+05. This might indicate that there are\n",
      "strong multicollinearity or other numerical problems.\n"
     ]
    }
   ],
   "source": [
    "# type your code here\n",
    "\n",
    "X= df_lifeExp.iloc[:,[10,14]]\n",
    "\n",
    "#Intercept\n",
    "X = sm.add_constant(X)\n",
    "\n",
    "Y = df_lifeExp['Expected']\n",
    "\n",
    "MLR_model = sm.OLS(Y,X).fit()\n",
    "\n",
    "print(MLR_model.summary())"
   ]
  },
  {
   "cell_type": "code",
   "execution_count": 29,
   "metadata": {},
   "outputs": [
    {
     "name": "stdout",
     "output_type": "stream",
     "text": [
      "SSR: 6292.571603999805\n",
      "SSE: 2527.2338798711353\n",
      "SST: 8819.80548387094\n"
     ]
    }
   ],
   "source": [
    "# capture predicted values\n",
    "predicted = MLR_model.predict(X)\n",
    "\n",
    "# calculate the SSR on train dataset\n",
    "ssr = np.sum((predicted - y.mean())**2)\n",
    "\n",
    "# print the SSR value\n",
    "print(\"SSR:\",ssr)\n",
    "\n",
    "# calculate the SSE on train dataset\n",
    "sse = np.sum((y - predicted)**2)\n",
    "\n",
    "# print the SSE value\n",
    "print(\"SSE:\",sse)\n",
    "\n",
    "# calculate the SST on train dataset\n",
    "# print the SST value\n",
    "print(\"SST:\",(sse+ssr))\n"
   ]
  },
  {
   "cell_type": "markdown",
   "metadata": {
    "collapsed": true,
    "id": "wjkhqR4AO5MK"
   },
   "source": [
    "<table align=\"left\">\n",
    "    <tr>\n",
    "        <td width=\"6%\">\n",
    "            <img src=\"question_icon.png\">\n",
    "        </td>\n",
    "        <td>\n",
    "            <div align=\"left\", style=\"font-size:120%\">\n",
    "                <font color=\"#21618C\">\n",
    "                    <b>7. Determine the lower bound and upper bound for estimated value of life expectancy per unit change in HDI (for income)</b>\n",
    "                </font>\n",
    "            </div>\n",
    "        </td>\n",
    "    </tr>\n",
    "</table>"
   ]
  },
  {
   "cell_type": "code",
   "execution_count": 30,
   "metadata": {},
   "outputs": [
    {
     "data": {
      "text/plain": [
       "Index(['Status', 'Adult_Mortality', 'Infant_Deaths', 'Hepatitis ', 'Measles ',\n",
       "       ' BMI ', 'Underfive_Deaths ', 'Polio', 'Diphtheria ', ' HIV', 'GDP',\n",
       "       'Population', 'Malnourished10_19 ', 'Malnourished5_9', 'Income_Index',\n",
       "       'Schooling', 'Expected'],\n",
       "      dtype='object')"
      ]
     },
     "execution_count": 30,
     "metadata": {},
     "output_type": "execute_result"
    }
   ],
   "source": [
    "df_lifeExp.columns"
   ]
  },
  {
   "cell_type": "code",
   "execution_count": 33,
   "metadata": {
    "id": "v0alPvAgO5MK"
   },
   "outputs": [
    {
     "data": {
      "text/html": [
       "<div>\n",
       "<style scoped>\n",
       "    .dataframe tbody tr th:only-of-type {\n",
       "        vertical-align: middle;\n",
       "    }\n",
       "\n",
       "    .dataframe tbody tr th {\n",
       "        vertical-align: top;\n",
       "    }\n",
       "\n",
       "    .dataframe thead th {\n",
       "        text-align: right;\n",
       "    }\n",
       "</style>\n",
       "<table border=\"1\" class=\"dataframe\">\n",
       "  <thead>\n",
       "    <tr style=\"text-align: right;\">\n",
       "      <th></th>\n",
       "      <th>0</th>\n",
       "      <th>1</th>\n",
       "    </tr>\n",
       "  </thead>\n",
       "  <tbody>\n",
       "    <tr>\n",
       "      <th>Income_Index</th>\n",
       "      <td>97.009477</td>\n",
       "      <td>102.472029</td>\n",
       "    </tr>\n",
       "  </tbody>\n",
       "</table>\n",
       "</div>"
      ],
      "text/plain": [
       "                      0           1\n",
       "Income_Index  97.009477  102.472029"
      ]
     },
     "execution_count": 33,
     "metadata": {},
     "output_type": "execute_result"
    }
   ],
   "source": [
    "# type your code here\n",
    "\n",
    "X = df_lifeExp.iloc[:,[14]]\n",
    "\n",
    "Y = df_lifeExp['Expected']\n",
    "\n",
    "model_slr = sm.OLS(Y,X).fit()\n",
    "\n",
    "model_slr.conf_int()"
   ]
  },
  {
   "cell_type": "markdown",
   "metadata": {
    "id": "lMLLc8-WO5ML"
   },
   "source": [
    "<a id=\"ML_eval\"> </a>\n",
    "## 4. Model Evaluation"
   ]
  },
  {
   "cell_type": "markdown",
   "metadata": {
    "collapsed": true,
    "id": "_8iBrQLFO5ML"
   },
   "source": [
    "<table align=\"left\">\n",
    "    <tr>\n",
    "        <td width=\"6%\">\n",
    "            <img src=\"question_icon.png\">\n",
    "        </td>\n",
    "        <td>\n",
    "            <div align=\"left\", style=\"font-size:120%\">\n",
    "                <font color=\"#21618C\">\n",
    "                    <b>8. A model is built to analyze the impact of mortality on Life expectancy. Would the addition of information about population of the country lead to a better prediction?</b>\n",
    "                </font>\n",
    "            </div>\n",
    "        </td>\n",
    "    </tr>\n",
    "</table>"
   ]
  },
  {
   "cell_type": "code",
   "execution_count": 34,
   "metadata": {},
   "outputs": [
    {
     "data": {
      "text/plain": [
       "Index(['Status', 'Adult_Mortality', 'Infant_Deaths', 'Hepatitis ', 'Measles ',\n",
       "       ' BMI ', 'Underfive_Deaths ', 'Polio', 'Diphtheria ', ' HIV', 'GDP',\n",
       "       'Population', 'Malnourished10_19 ', 'Malnourished5_9', 'Income_Index',\n",
       "       'Schooling', 'Expected'],\n",
       "      dtype='object')"
      ]
     },
     "execution_count": 34,
     "metadata": {},
     "output_type": "execute_result"
    }
   ],
   "source": [
    "df_lifeExp.columns"
   ]
  },
  {
   "cell_type": "code",
   "execution_count": 37,
   "metadata": {
    "id": "RqansM6DO5ML",
    "scrolled": true
   },
   "outputs": [
    {
     "name": "stdout",
     "output_type": "stream",
     "text": [
      "                            OLS Regression Results                            \n",
      "==============================================================================\n",
      "Dep. Variable:               Expected   R-squared:                       0.530\n",
      "Model:                            OLS   Adj. R-squared:                  0.519\n",
      "Method:                 Least Squares   F-statistic:                     45.18\n",
      "Date:                Sun, 13 Feb 2022   Prob (F-statistic):           1.29e-19\n",
      "Time:                        11:01:13   Log-Likelihood:                -393.48\n",
      "No. Observations:                 124   AIC:                             795.0\n",
      "Df Residuals:                     120   BIC:                             806.2\n",
      "Df Model:                           3                                         \n",
      "Covariance Type:            nonrobust                                         \n",
      "=====================================================================================\n",
      "                        coef    std err          t      P>|t|      [0.025      0.975]\n",
      "-------------------------------------------------------------------------------------\n",
      "const                80.3623      1.004     80.060      0.000      78.375      82.350\n",
      "Adult_Mortality      -0.0548      0.005     -9.996      0.000      -0.066      -0.044\n",
      "Infant_Deaths         0.0905      0.049      1.844      0.068      -0.007       0.188\n",
      "Underfive_Deaths     -0.0775      0.038     -2.033      0.044      -0.153      -0.002\n",
      "==============================================================================\n",
      "Omnibus:                       54.244   Durbin-Watson:                   1.530\n",
      "Prob(Omnibus):                  0.000   Jarque-Bera (JB):              142.185\n",
      "Skew:                          -1.734   Prob(JB):                     1.33e-31\n",
      "Kurtosis:                       6.937   Cond. No.                         392.\n",
      "==============================================================================\n",
      "\n",
      "Notes:\n",
      "[1] Standard Errors assume that the covariance matrix of the errors is correctly specified.\n"
     ]
    }
   ],
   "source": [
    "# type your code here\n",
    "\n",
    "X = df_lifeExp.iloc[:,[1,2,6]]\n",
    "\n",
    "X= sm.add_constant(X)\n",
    "\n",
    "Y = df_lifeExp['Expected']\n",
    "b\n",
    "model_slr = sm.OLS(Y,X).fit()\n",
    "\n",
    "print(model_slr.summary())"
   ]
  },
  {
   "cell_type": "code",
   "execution_count": 38,
   "metadata": {},
   "outputs": [
    {
     "name": "stdout",
     "output_type": "stream",
     "text": [
      "                            OLS Regression Results                            \n",
      "==============================================================================\n",
      "Dep. Variable:               Expected   R-squared:                       0.531\n",
      "Model:                            OLS   Adj. R-squared:                  0.515\n",
      "Method:                 Least Squares   F-statistic:                     33.68\n",
      "Date:                Sun, 13 Feb 2022   Prob (F-statistic):           8.93e-19\n",
      "Time:                        11:02:23   Log-Likelihood:                -393.41\n",
      "No. Observations:                 124   AIC:                             796.8\n",
      "Df Residuals:                     119   BIC:                             810.9\n",
      "Df Model:                           4                                         \n",
      "Covariance Type:            nonrobust                                         \n",
      "=====================================================================================\n",
      "                        coef    std err          t      P>|t|      [0.025      0.975]\n",
      "-------------------------------------------------------------------------------------\n",
      "const                80.3071      1.019     78.813      0.000      78.289      82.325\n",
      "Adult_Mortality      -0.0550      0.006     -9.929      0.000      -0.066      -0.044\n",
      "Infant_Deaths         0.0886      0.050      1.788      0.076      -0.010       0.187\n",
      "Underfive_Deaths     -0.0760      0.038     -1.975      0.051      -0.152       0.000\n",
      "Population         4.736e-09   1.31e-08      0.361      0.718   -2.12e-08    3.07e-08\n",
      "==============================================================================\n",
      "Omnibus:                       54.418   Durbin-Watson:                   1.537\n",
      "Prob(Omnibus):                  0.000   Jarque-Bera (JB):              143.042\n",
      "Skew:                          -1.738   Prob(JB):                     8.69e-32\n",
      "Kurtosis:                       6.949   Cond. No.                     8.72e+07\n",
      "==============================================================================\n",
      "\n",
      "Notes:\n",
      "[1] Standard Errors assume that the covariance matrix of the errors is correctly specified.\n",
      "[2] The condition number is large, 8.72e+07. This might indicate that there are\n",
      "strong multicollinearity or other numerical problems.\n"
     ]
    }
   ],
   "source": [
    "X = df_lifeExp.iloc[:,[1,2,6,11]]\n",
    "\n",
    "X= sm.add_constant(X)\n",
    "\n",
    "Y = df_lifeExp['Expected']\n",
    "\n",
    "model_slr = sm.OLS(Y,X).fit()\n",
    "\n",
    "print(model_slr.summary())"
   ]
  },
  {
   "cell_type": "markdown",
   "metadata": {
    "collapsed": true,
    "id": "hXAGbS1BO5ML"
   },
   "source": [
    "<table align=\"left\">\n",
    "    <tr>\n",
    "        <td width=\"6%\">\n",
    "            <img src=\"question_icon.png\">\n",
    "        </td>\n",
    "        <td>\n",
    "            <div align=\"left\", style=\"font-size:120%\">\n",
    "                <font color=\"#21618C\">\n",
    "                    <b>9. Fit a full model and test the significance of the overall model. <br></b>\n",
    "                </font>\n",
    "            </div>\n",
    "        </td>\n",
    "    </tr>\n",
    "</table>"
   ]
  },
  {
   "cell_type": "code",
   "execution_count": 39,
   "metadata": {},
   "outputs": [
    {
     "data": {
      "text/plain": [
       "Index(['Status', 'Adult_Mortality', 'Infant_Deaths', 'Hepatitis ', 'Measles ',\n",
       "       ' BMI ', 'Underfive_Deaths ', 'Polio', 'Diphtheria ', ' HIV', 'GDP',\n",
       "       'Population', 'Malnourished10_19 ', 'Malnourished5_9', 'Income_Index',\n",
       "       'Schooling', 'Expected'],\n",
       "      dtype='object')"
      ]
     },
     "execution_count": 39,
     "metadata": {},
     "output_type": "execute_result"
    }
   ],
   "source": [
    "df_lifeExp.columns"
   ]
  },
  {
   "cell_type": "code",
   "execution_count": 40,
   "metadata": {
    "id": "r8uzfprtO5MM",
    "scrolled": true
   },
   "outputs": [
    {
     "name": "stdout",
     "output_type": "stream",
     "text": [
      "                            OLS Regression Results                            \n",
      "==============================================================================\n",
      "Dep. Variable:               Expected   R-squared:                       0.848\n",
      "Model:                            OLS   Adj. R-squared:                  0.826\n",
      "Method:                 Least Squares   F-statistic:                     37.43\n",
      "Date:                Sun, 13 Feb 2022   Prob (F-statistic):           1.94e-36\n",
      "Time:                        11:06:37   Log-Likelihood:                -323.38\n",
      "No. Observations:                 124   AIC:                             680.8\n",
      "Df Residuals:                     107   BIC:                             728.7\n",
      "Df Model:                          16                                         \n",
      "Covariance Type:            nonrobust                                         \n",
      "======================================================================================\n",
      "                         coef    std err          t      P>|t|      [0.025      0.975]\n",
      "--------------------------------------------------------------------------------------\n",
      "const                 60.0678      3.747     16.030      0.000      52.639      67.496\n",
      "Adult_Mortality       -0.0231      0.004     -5.685      0.000      -0.031      -0.015\n",
      "Infant_Deaths          0.0556      0.037      1.507      0.135      -0.018       0.129\n",
      "Hepatitis              0.0656      0.032      2.056      0.042       0.002       0.129\n",
      "Measles             -5.93e-05   6.09e-05     -0.974      0.332      -0.000    6.14e-05\n",
      " BMI                  -0.0266      0.023     -1.179      0.241      -0.071       0.018\n",
      "Underfive_Deaths      -0.0389      0.027     -1.439      0.153      -0.093       0.015\n",
      "Polio                 -0.0091      0.022     -0.417      0.677      -0.053       0.034\n",
      "Diphtheria            -0.0345      0.040     -0.868      0.387      -0.113       0.044\n",
      " HIV                  -1.0385      0.268     -3.881      0.000      -1.569      -0.508\n",
      "GDP                 5.021e-05   3.48e-05      1.445      0.151   -1.87e-05       0.000\n",
      "Population         -1.845e-08    8.6e-09     -2.146      0.034   -3.55e-08   -1.41e-09\n",
      "Malnourished10_19     -0.4850      0.300     -1.616      0.109      -1.080       0.110\n",
      "Malnourished5_9        0.2983      0.283      1.053      0.294      -0.263       0.860\n",
      "Income_Index          18.6518      6.313      2.955      0.004       6.138      31.166\n",
      "Schooling              0.3599      0.346      1.040      0.301      -0.326       1.046\n",
      "Status_Developing     -2.0360      1.168     -1.743      0.084      -4.352       0.280\n",
      "==============================================================================\n",
      "Omnibus:                        6.529   Durbin-Watson:                   1.754\n",
      "Prob(Omnibus):                  0.038   Jarque-Bera (JB):               10.518\n",
      "Skew:                           0.122   Prob(JB):                      0.00520\n",
      "Kurtosis:                       4.406   Cond. No.                     9.15e+08\n",
      "==============================================================================\n",
      "\n",
      "Notes:\n",
      "[1] Standard Errors assume that the covariance matrix of the errors is correctly specified.\n",
      "[2] The condition number is large, 9.15e+08. This might indicate that there are\n",
      "strong multicollinearity or other numerical problems.\n"
     ]
    }
   ],
   "source": [
    "# type your code here\n",
    "\n",
    "# selecting independent variables that describe immunization\n",
    "X = df_lifeExp.iloc[:,1:16]\n",
    "\n",
    "\n",
    "# create n-1 dummy variables\n",
    "# 'drop_first': creates (n-1) dummy variables using get_dummies()\n",
    "# 'prefix': adds prefix to category of dummy variable\n",
    "encoded_status = pd.get_dummies(data = df_lifeExp['Status'], drop_first=True, prefix = 'Status')\n",
    "\n",
    "# concate the dummy variable with features describing immunization using concat()\n",
    "# create a dataframe of all relevant independent variables\n",
    "# 'axis=1' concates the dataframes along columns \n",
    "X = pd.concat([pd.DataFrame(X), encoded_status], axis=1)\n",
    "\n",
    "# 'sm.add_constant' adds the intercept to the model\n",
    "X = sm.add_constant(X)\n",
    "\n",
    "# set the dependent variable\n",
    "y = df_lifeExp['Expected']\n",
    "\n",
    "# building a model with an intercept\n",
    "# fit() is used to fit the OLS model\n",
    "MLR_model = sm.OLS(y,X).fit()\n",
    "\n",
    "# print the model summary\n",
    "print(MLR_model.summary())\n"
   ]
  },
  {
   "cell_type": "code",
   "execution_count": 43,
   "metadata": {},
   "outputs": [],
   "source": [
    "# Since p_values of F-stats is less , The Model is not significant"
   ]
  },
  {
   "cell_type": "markdown",
   "metadata": {
    "id": "_uR09uDXO5MM"
   },
   "source": [
    "<a id=\"assum\"> </a>\n",
    "## 4. Assumptions of Linear Regression"
   ]
  },
  {
   "cell_type": "markdown",
   "metadata": {
    "collapsed": true,
    "id": "ywO29nb5O5MM"
   },
   "source": [
    "<table align=\"left\">\n",
    "    <tr>\n",
    "        <td width=\"6%\">\n",
    "            <img src=\"question_icon.png\">\n",
    "        </td>\n",
    "        <td>\n",
    "            <div align=\"left\", style=\"font-size:120%\">\n",
    "                <font color=\"#21618C\">\n",
    "                    <b>10. A model is built using all the features (full model) to predict the life expectancy. Check whether the residuals obtained form the model follow a normal distribution.</b>\n",
    "                </font>\n",
    "            </div>\n",
    "        </td>\n",
    "    </tr>\n",
    "</table>"
   ]
  },
  {
   "cell_type": "code",
   "execution_count": 44,
   "metadata": {
    "id": "H4FRK_T4O5MN",
    "scrolled": true
   },
   "outputs": [
    {
     "name": "stdout",
     "output_type": "stream",
     "text": [
      "                            OLS Regression Results                            \n",
      "==============================================================================\n",
      "Dep. Variable:               Expected   R-squared:                       0.848\n",
      "Model:                            OLS   Adj. R-squared:                  0.826\n",
      "Method:                 Least Squares   F-statistic:                     37.43\n",
      "Date:                Sun, 13 Feb 2022   Prob (F-statistic):           1.94e-36\n",
      "Time:                        11:08:00   Log-Likelihood:                -323.38\n",
      "No. Observations:                 124   AIC:                             680.8\n",
      "Df Residuals:                     107   BIC:                             728.7\n",
      "Df Model:                          16                                         \n",
      "Covariance Type:            nonrobust                                         \n",
      "======================================================================================\n",
      "                         coef    std err          t      P>|t|      [0.025      0.975]\n",
      "--------------------------------------------------------------------------------------\n",
      "const                 60.0678      3.747     16.030      0.000      52.639      67.496\n",
      "Adult_Mortality       -0.0231      0.004     -5.685      0.000      -0.031      -0.015\n",
      "Infant_Deaths          0.0556      0.037      1.507      0.135      -0.018       0.129\n",
      "Hepatitis              0.0656      0.032      2.056      0.042       0.002       0.129\n",
      "Measles             -5.93e-05   6.09e-05     -0.974      0.332      -0.000    6.14e-05\n",
      " BMI                  -0.0266      0.023     -1.179      0.241      -0.071       0.018\n",
      "Underfive_Deaths      -0.0389      0.027     -1.439      0.153      -0.093       0.015\n",
      "Polio                 -0.0091      0.022     -0.417      0.677      -0.053       0.034\n",
      "Diphtheria            -0.0345      0.040     -0.868      0.387      -0.113       0.044\n",
      " HIV                  -1.0385      0.268     -3.881      0.000      -1.569      -0.508\n",
      "GDP                 5.021e-05   3.48e-05      1.445      0.151   -1.87e-05       0.000\n",
      "Population         -1.845e-08    8.6e-09     -2.146      0.034   -3.55e-08   -1.41e-09\n",
      "Malnourished10_19     -0.4850      0.300     -1.616      0.109      -1.080       0.110\n",
      "Malnourished5_9        0.2983      0.283      1.053      0.294      -0.263       0.860\n",
      "Income_Index          18.6518      6.313      2.955      0.004       6.138      31.166\n",
      "Schooling              0.3599      0.346      1.040      0.301      -0.326       1.046\n",
      "Status_Developing     -2.0360      1.168     -1.743      0.084      -4.352       0.280\n",
      "==============================================================================\n",
      "Omnibus:                        6.529   Durbin-Watson:                   1.754\n",
      "Prob(Omnibus):                  0.038   Jarque-Bera (JB):               10.518\n",
      "Skew:                           0.122   Prob(JB):                      0.00520\n",
      "Kurtosis:                       4.406   Cond. No.                     9.15e+08\n",
      "==============================================================================\n",
      "\n",
      "Notes:\n",
      "[1] Standard Errors assume that the covariance matrix of the errors is correctly specified.\n",
      "[2] The condition number is large, 9.15e+08. This might indicate that there are\n",
      "strong multicollinearity or other numerical problems.\n"
     ]
    }
   ],
   "source": [
    "# type your code here\n",
    "\n",
    "# selecting independent variables that describe immunization\n",
    "X = df_lifeExp.iloc[:,1:16]\n",
    "\n",
    "\n",
    "# create n-1 dummy variables\n",
    "# 'drop_first': creates (n-1) dummy variables using get_dummies()\n",
    "# 'prefix': adds prefix to category of dummy variable\n",
    "encoded_status = pd.get_dummies(data = df_lifeExp['Status'], drop_first=True, prefix = 'Status')\n",
    "\n",
    "# concate the dummy variable with features describing immunization using concat()\n",
    "# create a dataframe of all relevant independent variables\n",
    "# 'axis=1' concates the dataframes along columns \n",
    "X = pd.concat([pd.DataFrame(X), encoded_status], axis=1)\n",
    "\n",
    "# 'sm.add_constant' adds the intercept to the model\n",
    "X = sm.add_constant(X)\n",
    "\n",
    "# set the dependent variable\n",
    "y = df_lifeExp['Expected']\n",
    "\n",
    "# building a model with an intercept\n",
    "# fit() is used to fit the OLS model\n",
    "MLR_model = sm.OLS(y,X).fit()\n",
    "\n",
    "# print the model summary\n",
    "print(MLR_model.summary())\n"
   ]
  },
  {
   "cell_type": "code",
   "execution_count": 46,
   "metadata": {},
   "outputs": [
    {
     "name": "stdout",
     "output_type": "stream",
     "text": [
      "Test statistic: 0.9769425392150879\n",
      "P-Value: 0.03209252282977104\n"
     ]
    }
   ],
   "source": [
    "# shapiro() returns a tuple having the values of test statistics and the corresponding p-value\n",
    "stat, p_value = shapiro(MLR_model.resid)\n",
    "\n",
    "# print the test statistic and corresponding p-value \n",
    "print('Test statistic:', stat)\n",
    "print('P-Value:', p_value)\n"
   ]
  },
  {
   "cell_type": "code",
   "execution_count": 47,
   "metadata": {},
   "outputs": [
    {
     "data": {
      "text/plain": [
       "<AxesSubplot:ylabel='Density'>"
      ]
     },
     "execution_count": 47,
     "metadata": {},
     "output_type": "execute_result"
    },
    {
     "data": {
      "image/png": "[encoded data removed]",
      "text/plain": [
       "<Figure size 432x288 with 1 Axes>"
      ]
     },
     "metadata": {
      "needs_background": "light"
     },
     "output_type": "display_data"
    }
   ],
   "source": [
    "sns.distplot(MLR_model.resid)"
   ]
  },
  {
   "cell_type": "code",
   "execution_count": null,
   "metadata": {},
   "outputs": [],
   "source": []
  },
  {
   "cell_type": "markdown",
   "metadata": {
    "collapsed": true,
    "id": "7V3GmHr-O5MN"
   },
   "source": [
    "<table align=\"left\">\n",
    "    <tr>\n",
    "        <td width=\"6%\">\n",
    "            <img src=\"question_icon.png\">\n",
    "        </td>\n",
    "        <td>\n",
    "            <div align=\"left\", style=\"font-size:120%\">\n",
    "                <font color=\"#21618C\">\n",
    "                        <b>11. Does the interaction of status of the country and its GDP have significant effect on life expectancy? (consider the full model)</b>\n",
    "                </font>\n",
    "            </div>\n",
    "        </td>\n",
    "    </tr>\n",
    "</table>"
   ]
  },
  {
   "cell_type": "code",
   "execution_count": 48,
   "metadata": {},
   "outputs": [
    {
     "data": {
      "text/plain": [
       "Index(['Status', 'Adult_Mortality', 'Infant_Deaths', 'Hepatitis ', 'Measles ',\n",
       "       ' BMI ', 'Underfive_Deaths ', 'Polio', 'Diphtheria ', ' HIV', 'GDP',\n",
       "       'Population', 'Malnourished10_19 ', 'Malnourished5_9', 'Income_Index',\n",
       "       'Schooling', 'Expected'],\n",
       "      dtype='object')"
      ]
     },
     "execution_count": 48,
     "metadata": {},
     "output_type": "execute_result"
    }
   ],
   "source": [
    "df_lifeExp.columns"
   ]
  },
  {
   "cell_type": "code",
   "execution_count": 49,
   "metadata": {
    "id": "LryhYdF4O5MN"
   },
   "outputs": [
    {
     "name": "stdout",
     "output_type": "stream",
     "text": [
      "p-value: 0.11374698255203312\n",
      "Homoskedasticity is present in the data.\n"
     ]
    }
   ],
   "source": [
    "\n",
    "# type your code here\n",
    "\n",
    "\n",
    "# perform Breusch-Pagan test using residuals and independent variables\n",
    "# compute residuals using 'resid'\n",
    "# 'exog' returns the independent variables in the model along with the intercept\n",
    "test = sms.het_breuschpagan(MLR_model.resid, MLR_model.model.exog)\n",
    "\n",
    "# the test retuns 4 outputs, the last value is the p-value of the f-statistic\n",
    "# print the p-value\n",
    "print('p-value:', test[3])\n",
    "\n",
    "# print the decision\n",
    "if test[3] < 0.05:\n",
    "    print('Heteroskedasticity is present in the data.')\n",
    "else: \n",
    "    print('Homoskedasticity is present in the data.')\n"
   ]
  },
  {
   "cell_type": "markdown",
   "metadata": {
    "collapsed": true,
    "id": "YZZJu6XwO5MO"
   },
   "source": [
    "<table align=\"left\">\n",
    "    <tr>\n",
    "        <td width=\"6%\">\n",
    "            <img src=\"question_icon.png\">\n",
    "        </td>\n",
    "        <td>\n",
    "            <div align=\"left\", style=\"font-size:120%\">\n",
    "                <font color=\"#21618C\">\n",
    "                    <b>12. Construct a full no-intecept model. What would you conclude when all the variables take value 0? </b>\n",
    "                </font>\n",
    "            </div>\n",
    "        </td>\n",
    "    </tr>\n",
    "</table>"
   ]
  },
  {
   "cell_type": "code",
   "execution_count": 50,
   "metadata": {
    "id": "7MBBGcpBO5MO"
   },
   "outputs": [
    {
     "name": "stdout",
     "output_type": "stream",
     "text": [
      "                                 OLS Regression Results                                \n",
      "=======================================================================================\n",
      "Dep. Variable:               Expected   R-squared (uncentered):                   0.993\n",
      "Model:                            OLS   Adj. R-squared (uncentered):              0.992\n",
      "Method:                 Least Squares   F-statistic:                              940.0\n",
      "Date:                Sun, 13 Feb 2022   Prob (F-statistic):                   4.84e-108\n",
      "Time:                        11:16:33   Log-Likelihood:                         -399.28\n",
      "No. Observations:                 124   AIC:                                      830.6\n",
      "Df Residuals:                     108   BIC:                                      875.7\n",
      "Df Model:                          16                                                  \n",
      "Covariance Type:            nonrobust                                                  \n",
      "======================================================================================\n",
      "                         coef    std err          t      P>|t|      [0.025      0.975]\n",
      "--------------------------------------------------------------------------------------\n",
      "Adult_Mortality       -0.0069      0.007     -0.960      0.339      -0.021       0.007\n",
      "Infant_Deaths         -0.0807      0.066     -1.224      0.223      -0.211       0.050\n",
      "Hepatitis              0.0305      0.058      0.523      0.602      -0.085       0.146\n",
      "Measles               -0.0002      0.000     -1.516      0.133      -0.000    5.18e-05\n",
      " BMI                  -0.0697      0.041     -1.696      0.093      -0.151       0.012\n",
      "Underfive_Deaths       0.0712      0.048      1.482      0.141      -0.024       0.166\n",
      "Polio                  0.0180      0.040      0.449      0.654      -0.061       0.097\n",
      "Diphtheria             0.0388      0.073      0.535      0.593      -0.105       0.183\n",
      " HIV                   0.5728      0.455      1.258      0.211      -0.330       1.475\n",
      "GDP                -3.684e-05    6.3e-05     -0.585      0.560      -0.000    8.81e-05\n",
      "Population         -1.747e-08   1.58e-08     -1.107      0.271   -4.87e-08    1.38e-08\n",
      "Malnourished10_19     -1.1120      0.546     -2.035      0.044      -2.195      -0.029\n",
      "Malnourished5_9        1.6540      0.496      3.334      0.001       0.671       2.637\n",
      "Income_Index          43.2384     11.241      3.846      0.000      20.956      65.520\n",
      "Schooling              2.1667      0.601      3.608      0.000       0.976       3.357\n",
      "Status_Developing      7.8535      1.821      4.313      0.000       4.244      11.463\n",
      "==============================================================================\n",
      "Omnibus:                        7.813   Durbin-Watson:                   1.591\n",
      "Prob(Omnibus):                  0.020   Jarque-Bera (JB):                7.565\n",
      "Skew:                           0.588   Prob(JB):                       0.0228\n",
      "Kurtosis:                       3.282   Cond. No.                     8.75e+08\n",
      "==============================================================================\n",
      "\n",
      "Notes:\n",
      "[1] R² is computed without centering (uncentered) since the model does not contain a constant.\n",
      "[2] Standard Errors assume that the covariance matrix of the errors is correctly specified.\n",
      "[3] The condition number is large, 8.75e+08. This might indicate that there are\n",
      "strong multicollinearity or other numerical problems.\n"
     ]
    }
   ],
   "source": [
    "# type your code here\n",
    "\n",
    "X = df_lifeExp.iloc[:,1:16]\n",
    "\n",
    "\n",
    "# create n-1 dummy variables\n",
    "# 'drop_first': creates (n-1) dummy variables using get_dummies()\n",
    "# 'prefix': adds prefix to category of dummy variable\n",
    "encoded_status = pd.get_dummies(data = df_lifeExp['Status'], drop_first=True, prefix = 'Status')\n",
    "\n",
    "# concate the dummy variable with features describing immunization using concat()\n",
    "# create a dataframe of all relevant independent variables\n",
    "# 'axis=1' concates the dataframes along columns \n",
    "X = pd.concat([pd.DataFrame(X), encoded_status], axis=1)\n",
    "\n",
    "\n",
    "# set the dependent variable\n",
    "y = df_lifeExp['Expected']\n",
    "\n",
    "# building a model with an intercept\n",
    "# fit() is used to fit the OLS model\n",
    "MLR_full_model_ni = sm.OLS(y,X).fit()\n",
    "\n",
    "# print the model summary\n",
    "print(MLR_full_model_ni.summary())"
   ]
  },
  {
   "cell_type": "markdown",
   "metadata": {
    "id": "_psdp46uO5MO"
   },
   "source": [
    "### Hereon on we shall consider the FEV dataset.\n"
   ]
  },
  {
   "cell_type": "markdown",
   "metadata": {
    "id": "JG0CDoZZO5MO"
   },
   "source": [
    "### About the data set (Respiratory function data)\n",
    "\n",
    "Dataset consists of information about respiratory function in children and adolescents and factors that might impact the respiratory function. <br> Attribute information: \n",
    "\n",
    "**Age:** Age in years\n",
    "\n",
    "**Height:** Height in inches \n",
    "\n",
    "**Gender:** Gender value is 1 if male 0 if female\n",
    "\n",
    "**Smoke:** Whether the person is a smoker or non- smoker, the value is 1 if smoker and 0 otherwise\n",
    "\n",
    "**FEV:**  Forced Exhalation Volume (FEV), a measure of how much air somebody can forcibly exhale from their lung (Percentage)"
   ]
  },
  {
   "cell_type": "markdown",
   "metadata": {
    "id": "EwyRs_6YO5MP"
   },
   "source": [
    "#### Load the dataset and check the first five observations"
   ]
  },
  {
   "cell_type": "code",
   "execution_count": 51,
   "metadata": {
    "id": "O_X3x9-eO5MP"
   },
   "outputs": [
    {
     "data": {
      "text/html": [
       "<div>\n",
       "<style scoped>\n",
       "    .dataframe tbody tr th:only-of-type {\n",
       "        vertical-align: middle;\n",
       "    }\n",
       "\n",
       "    .dataframe tbody tr th {\n",
       "        vertical-align: top;\n",
       "    }\n",
       "\n",
       "    .dataframe thead th {\n",
       "        text-align: right;\n",
       "    }\n",
       "</style>\n",
       "<table border=\"1\" class=\"dataframe\">\n",
       "  <thead>\n",
       "    <tr style=\"text-align: right;\">\n",
       "      <th></th>\n",
       "      <th>Age</th>\n",
       "      <th>Height</th>\n",
       "      <th>Gender</th>\n",
       "      <th>Smoke</th>\n",
       "      <th>FEV</th>\n",
       "    </tr>\n",
       "  </thead>\n",
       "  <tbody>\n",
       "    <tr>\n",
       "      <th>0</th>\n",
       "      <td>9</td>\n",
       "      <td>57.0</td>\n",
       "      <td>0</td>\n",
       "      <td>0</td>\n",
       "      <td>1.708</td>\n",
       "    </tr>\n",
       "    <tr>\n",
       "      <th>1</th>\n",
       "      <td>8</td>\n",
       "      <td>67.5</td>\n",
       "      <td>0</td>\n",
       "      <td>0</td>\n",
       "      <td>1.724</td>\n",
       "    </tr>\n",
       "    <tr>\n",
       "      <th>2</th>\n",
       "      <td>7</td>\n",
       "      <td>54.5</td>\n",
       "      <td>0</td>\n",
       "      <td>0</td>\n",
       "      <td>1.720</td>\n",
       "    </tr>\n",
       "    <tr>\n",
       "      <th>3</th>\n",
       "      <td>9</td>\n",
       "      <td>53.0</td>\n",
       "      <td>1</td>\n",
       "      <td>0</td>\n",
       "      <td>1.558</td>\n",
       "    </tr>\n",
       "    <tr>\n",
       "      <th>4</th>\n",
       "      <td>9</td>\n",
       "      <td>57.0</td>\n",
       "      <td>1</td>\n",
       "      <td>0</td>\n",
       "      <td>1.895</td>\n",
       "    </tr>\n",
       "  </tbody>\n",
       "</table>\n",
       "</div>"
      ],
      "text/plain": [
       "   Age  Height  Gender  Smoke    FEV\n",
       "0    9    57.0       0      0  1.708\n",
       "1    8    67.5       0      0  1.724\n",
       "2    7    54.5       0      0  1.720\n",
       "3    9    53.0       1      0  1.558\n",
       "4    9    57.0       1      0  1.895"
      ]
     },
     "execution_count": 51,
     "metadata": {},
     "output_type": "execute_result"
    }
   ],
   "source": [
    "# load the csv file\n",
    "# type your code here\n",
    "\n",
    "df_FEV = pd.read_csv('LungCapdata.csv')\n",
    "\n",
    "df_FEV.head()"
   ]
  },
  {
   "cell_type": "markdown",
   "metadata": {
    "collapsed": true,
    "id": "hmpLbIshO5MP"
   },
   "source": [
    "<table align=\"left\">\n",
    "    <tr>\n",
    "        <td width=\"6%\">\n",
    "            <img src=\"question_icon.png\">\n",
    "        </td>\n",
    "        <td>\n",
    "            <div align=\"left\", style=\"font-size:120%\">\n",
    "                <font color=\"#21618C\">\n",
    "                    <b>13. Can we use a linear regression model to analyze the impact of all the features on respiratory function (FEV) ? </b>\n",
    "                </font>\n",
    "            </div>\n",
    "        </td>\n",
    "    </tr>\n",
    "</table>"
   ]
  },
  {
   "cell_type": "code",
   "execution_count": 53,
   "metadata": {
    "id": "GbFiDmBpO5MQ"
   },
   "outputs": [
    {
     "data": {
      "image/png": "[encoded data removed]",
      "text/plain": [
       "<Figure size 1080x576 with 2 Axes>"
      ]
     },
     "metadata": {
      "needs_background": "light"
     },
     "output_type": "display_data"
    }
   ],
   "source": [
    "# type your code here\n",
    "\n",
    "# set dimensions for the plot figure\n",
    "fig_dims = (15,8)\n",
    "fig, ax = plt.subplots(figsize=fig_dims)\n",
    "\n",
    "# create a copy of dataframe\n",
    "df_FEV_num = df_FEV[[\"Age\",\"Height\", \"FEV\"]]\n",
    "\n",
    "# plot the heat map\n",
    "# corr: give the correlation matrix\n",
    "# annot: prints the correlation values in the chart\n",
    "# annot_kws: sets the font size of the annotation\n",
    "sns.heatmap(df_FEV_num.corr(), annot = True, annot_kws = {\"size\": 20})\n",
    "\n",
    "# rotate the y-axis labels\n",
    "# set text size using 'fontsize'\n",
    "plt.yticks(rotation = 'horizontal', fontsize = 15)\n",
    "plt.xticks(fontsize = 15)\n",
    "\n",
    "# display the plot\n",
    "plt.show()\n"
   ]
  },
  {
   "cell_type": "markdown",
   "metadata": {
    "collapsed": true,
    "id": "7Di4izVBO5MQ"
   },
   "source": [
    "<table align=\"left\">\n",
    "    <tr>\n",
    "        <td width=\"6%\">\n",
    "            <img src=\"question_icon.png\">\n",
    "        </td>\n",
    "        <td>\n",
    "            <div align=\"left\", style=\"font-size:120%\">\n",
    "                <font color=\"#21618C\">\n",
    "                    <b>14. How can we rectify the multicollinearity detected in question 13? </b>\n",
    "                </font>\n",
    "            </div>\n",
    "        </td>\n",
    "    </tr>\n",
    "</table>"
   ]
  },
  {
   "cell_type": "code",
   "execution_count": 54,
   "metadata": {
    "id": "mjUSdE2BO5MQ"
   },
   "outputs": [
    {
     "name": "stdout",
     "output_type": "stream",
     "text": [
      "                            OLS Regression Results                            \n",
      "==============================================================================\n",
      "Dep. Variable:                    FEV   R-squared:                       0.060\n",
      "Model:                            OLS   Adj. R-squared:                  0.059\n",
      "Method:                 Least Squares   F-statistic:                     41.79\n",
      "Date:                Sun, 13 Feb 2022   Prob (F-statistic):           1.99e-10\n",
      "Time:                        11:47:38   Log-Likelihood:                -813.88\n",
      "No. Observations:                 654   AIC:                             1632.\n",
      "Df Residuals:                     652   BIC:                             1641.\n",
      "Df Model:                           1                                         \n",
      "Covariance Type:            nonrobust                                         \n",
      "==============================================================================\n",
      "                 coef    std err          t      P>|t|      [0.025      0.975]\n",
      "------------------------------------------------------------------------------\n",
      "const          2.5661      0.035     74.037      0.000       2.498       2.634\n",
      "1              0.7107      0.110      6.464      0.000       0.495       0.927\n",
      "==============================================================================\n",
      "Omnibus:                       55.456   Durbin-Watson:                   1.094\n",
      "Prob(Omnibus):                  0.000   Jarque-Bera (JB):               67.952\n",
      "Skew:                           0.736   Prob(JB):                     1.76e-15\n",
      "Kurtosis:                       3.570   Cond. No.                         3.38\n",
      "==============================================================================\n",
      "\n",
      "Notes:\n",
      "[1] Standard Errors assume that the covariance matrix of the errors is correctly specified.\n"
     ]
    }
   ],
   "source": [
    "# type your code here\n",
    "\n",
    "X = df_FEV[\"Smoke\"]\n",
    "\n",
    "# convert the categorical variable to dummy variable\n",
    "# get_dummies(): converts the variable to categorical variable\n",
    "# drop_first=True: indicates n-1 dummy enoding; if set to false indicated one-hot encoding\n",
    "X = pd.get_dummies(X, drop_first=True)\n",
    "\n",
    "# consider the dependent variable\n",
    "y = df_FEV[\"FEV\"]\n",
    "\n",
    "# fit a model with an intercept using fit()\n",
    "# add_constant(): adds the intercept term to the model\n",
    "LM_model = sm.OLS(y, sm.add_constant(X)).fit()\n",
    "\n",
    "# print the summary output\n",
    "print(LM_model.summary())\n"
   ]
  },
  {
   "cell_type": "markdown",
   "metadata": {
    "collapsed": true,
    "id": "0IXqRaw9O5MR"
   },
   "source": [
    "<table align=\"left\">\n",
    "    <tr>\n",
    "        <td width=\"6%\">\n",
    "            <img src=\"question_icon.png\">\n",
    "        </td>\n",
    "        <td>\n",
    "            <div align=\"left\", style=\"font-size:120%\">\n",
    "                <font color=\"#21618C\">\n",
    "                    <b>15. A Linear regression model is used to analyze the impact of all possible features on respiratory function (FEV). How do we check whether or not the model adequately captures the relationship between the response and predictor variables?</b>\n",
    "                </font>\n",
    "            </div>\n",
    "        </td>\n",
    "    </tr>\n",
    "</table>"
   ]
  },
  {
   "cell_type": "code",
   "execution_count": 59,
   "metadata": {},
   "outputs": [],
   "source": [
    "df_FEV['Smoke'] = df_FEV['Smoke'].astype(object)\n",
    "df_FEV['Age'] = df_FEV['Age'].astype(object)\n"
   ]
  },
  {
   "cell_type": "code",
   "execution_count": 60,
   "metadata": {
    "id": "wY4GwmMDO5MR",
    "scrolled": false
   },
   "outputs": [
    {
     "name": "stdout",
     "output_type": "stream",
     "text": [
      "                            OLS Regression Results                            \n",
      "==============================================================================\n",
      "Dep. Variable:                    FEV   R-squared:                       0.793\n",
      "Model:                            OLS   Adj. R-squared:                  0.787\n",
      "Method:                 Least Squares   F-statistic:                     127.6\n",
      "Date:                Sun, 13 Feb 2022   Prob (F-statistic):          5.35e-202\n",
      "Time:                        11:57:05   Log-Likelihood:                -319.59\n",
      "No. Observations:                 654   AIC:                             679.2\n",
      "Df Residuals:                     634   BIC:                             768.8\n",
      "Df Model:                          19                                         \n",
      "Covariance Type:            nonrobust                                         \n",
      "==============================================================================\n",
      "                 coef    std err          t      P>|t|      [0.025      0.975]\n",
      "------------------------------------------------------------------------------\n",
      "const         -4.4196      0.380    -11.627      0.000      -5.166      -3.673\n",
      "Height         0.1146      0.005     21.734      0.000       0.104       0.125\n",
      "Gender         0.1402      0.033      4.270      0.000       0.076       0.205\n",
      "Age_4          0.0581      0.313      0.185      0.853      -0.557       0.673\n",
      "Age_5         -0.0050      0.294     -0.017      0.986      -0.582       0.572\n",
      "Age_6         -0.1160      0.292     -0.398      0.691      -0.689       0.457\n",
      "Age_7         -0.1084      0.291     -0.373      0.709      -0.679       0.462\n",
      "Age_8         -0.2122      0.291     -0.729      0.466      -0.784       0.359\n",
      "Age_9         -0.1682      0.293     -0.574      0.566      -0.744       0.407\n",
      "Age_10        -0.1230      0.296     -0.416      0.678      -0.703       0.457\n",
      "Age_11         0.0169      0.298      0.057      0.955      -0.569       0.602\n",
      "Age_12         0.1195      0.301      0.397      0.692      -0.472       0.711\n",
      "Age_13         0.3019      0.305      0.991      0.322      -0.296       0.900\n",
      "Age_14         0.2153      0.311      0.693      0.488      -0.395       0.825\n",
      "Age_15         0.3101      0.313      0.990      0.323      -0.305       0.925\n",
      "Age_16         0.3705      0.321      1.154      0.249      -0.260       1.001\n",
      "Age_17         0.7296      0.334      2.187      0.029       0.075       1.385\n",
      "Age_18         0.4267      0.340      1.255      0.210      -0.241       1.094\n",
      "Age_19         0.6868      0.381      1.801      0.072      -0.062       1.436\n",
      "Smoke_1       -0.1500      0.060     -2.514      0.012      -0.267      -0.033\n",
      "==============================================================================\n",
      "Omnibus:                       19.756   Durbin-Watson:                   1.679\n",
      "Prob(Omnibus):                  0.000   Jarque-Bera (JB):               43.997\n",
      "Skew:                           0.036   Prob(JB):                     2.79e-10\n",
      "Kurtosis:                       4.269   Cond. No.                     4.68e+03\n",
      "==============================================================================\n",
      "\n",
      "Notes:\n",
      "[1] Standard Errors assume that the covariance matrix of the errors is correctly specified.\n",
      "[2] The condition number is large, 4.68e+03. This might indicate that there are\n",
      "strong multicollinearity or other numerical problems.\n"
     ]
    }
   ],
   "source": [
    "# type your code here\n",
    "\n",
    "df_FEV_num = df_FEV.select_dtypes(include=np.number).drop([\"FEV\"],axis=1)\n",
    "\n",
    "\n",
    "df_FEV_cat = df_FEV.select_dtypes(include=object)\n",
    "\n",
    "# convert the categorical variable to dummy variable\n",
    "# get_dummies(): converts the variable to categorical variable\n",
    "# drop_first=True: indicates n-1 dummy enoding; if set to false indicated one-hot encoding\n",
    "dummy_variables = pd.get_dummies(df_FEV_cat, drop_first=True)\n",
    "\n",
    "# concatenate the numerical and dummy variables\n",
    "# axis: specifies whether to drop labels from index or columns; use 1 for columns and 0 for index\n",
    "X = pd.concat([df_FEV_num, dummy_variables],axis=1)\n",
    "\n",
    "# consider the dependent variable\n",
    "y = df_FEV[\"FEV\"]\n",
    "\n",
    "# fit a full model with an intercept using fit()\n",
    "# add_constant(): adds the intercept term to the model\n",
    "MLR_model = sm.OLS(y, sm.add_constant(X)).fit()\n",
    "\n",
    "# print the summary output\n",
    "print(MLR_model.summary())\n"
   ]
  },
  {
   "cell_type": "markdown",
   "metadata": {
    "collapsed": true,
    "id": "8vAUczGGO5MR"
   },
   "source": [
    "<table align=\"left\">\n",
    "    <tr>\n",
    "        <td width=\"6%\">\n",
    "            <img src=\"question_icon.png\">\n",
    "        </td>\n",
    "        <td>\n",
    "            <div align=\"left\", style=\"font-size:120%\">\n",
    "                <font color=\"#21618C\">\n",
    "                    <b>16.  A Linear regression model is used to analyze the impact of all possible features on respiratory function (FEV). Check whether the error terms are serially independent?</b>\n",
    "                </font>\n",
    "            </div>\n",
    "        </td>\n",
    "    </tr>\n",
    "</table>"
   ]
  },
  {
   "cell_type": "code",
   "execution_count": 61,
   "metadata": {
    "id": "RlYOqgS5O5MR"
   },
   "outputs": [],
   "source": [
    "# type your code here\n",
    "\n",
    "#Durbin watson is 1.679\n",
    "# signifies that the error terms are slightly serially +ve"
   ]
  },
  {
   "cell_type": "markdown",
   "metadata": {
    "collapsed": true,
    "id": "-Z1hABHHO5MS"
   },
   "source": [
    "<table align=\"left\">\n",
    "    <tr>\n",
    "        <td width=\"6%\">\n",
    "            <img src=\"question_icon.png\">\n",
    "        </td>\n",
    "        <td>\n",
    "            <div align=\"left\", style=\"font-size:120%\">\n",
    "                <font color=\"#21618C\">\n",
    "                    <b>17. A model is built using all the features to predict the FEV. Check whether the residuals obtained form the model are normally distributed. </b>\n",
    "                </font>\n",
    "            </div>\n",
    "        </td>\n",
    "    </tr>\n",
    "</table>"
   ]
  },
  {
   "cell_type": "code",
   "execution_count": 62,
   "metadata": {
    "id": "GrOuG1AuO5MS",
    "scrolled": false
   },
   "outputs": [
    {
     "data": {
      "image/png": "[encoded data removed]",
      "text/plain": [
       "<Figure size 1080x576 with 1 Axes>"
      ]
     },
     "metadata": {
      "needs_background": "light"
     },
     "output_type": "display_data"
    }
   ],
   "source": [
    "# type your code here\n",
    "\n",
    "plt.rcParams['figure.figsize'] = (15,8)\n",
    "\n",
    "# plot the Q-Q plot\n",
    "# 'r' represents the regression line\n",
    "qqplot(MLR_model.resid, line = 'r')\n",
    "\n",
    "# set plot and axes labels\n",
    "# set text size using 'fontsize'\n",
    "plt.title('Q-Q Plot', fontsize = 15)\n",
    "plt.xlabel('Theoretical Quantiles', fontsize = 15)\n",
    "plt.ylabel('Sample Quantiles', fontsize = 15)\n",
    "\n",
    "# display the plot\n",
    "plt.show()\n",
    "\n",
    "# Data is Normal\n"
   ]
  },
  {
   "cell_type": "markdown",
   "metadata": {
    "id": "tjQAepY3O5MS"
   },
   "source": [
    "<a id=\"ml_perf\"> </a>\n",
    "## 6. Model Performance"
   ]
  },
  {
   "cell_type": "markdown",
   "metadata": {
    "collapsed": true,
    "id": "7B08gHDuO5MS"
   },
   "source": [
    "<table align=\"left\">\n",
    "    <tr>\n",
    "        <td width=\"6%\">\n",
    "            <img src=\"question_icon.png\">\n",
    "        </td>\n",
    "        <td>\n",
    "            <div align=\"left\", style=\"font-size:120%\">\n",
    "                <font color=\"#21618C\">\n",
    "                    <b>18. Consider the full model. Calculate the mean square error and the root mean square error.</b>\n",
    "                </font>\n",
    "            </div>\n",
    "        </td>\n",
    "    </tr>\n",
    "</table>"
   ]
  },
  {
   "cell_type": "code",
   "execution_count": 64,
   "metadata": {
    "id": "WG9a_D6-O5MT"
   },
   "outputs": [],
   "source": [
    "# type your code here\n",
    "\n",
    "df_FEV['Smoke'] = df_FEV['Smoke'].astype(object)\n",
    "df_FEV['Age'] = df_FEV['Age'].astype(object)\n",
    "\n",
    "\n",
    "df_FEV_num = df_FEV.select_dtypes(include=np.number).drop([\"FEV\"],axis=1)\n",
    "\n",
    "\n",
    "df_FEV_cat = df_FEV.select_dtypes(include=object)\n",
    "\n",
    "# convert the categorical variable to dummy variable\n",
    "# get_dummies(): converts the variable to categorical variable\n",
    "# drop_first=True: indicates n-1 dummy enoding; if set to false indicated one-hot encoding\n",
    "dummy_variables = pd.get_dummies(df_FEV_cat, drop_first=True)\n",
    "\n",
    "# concatenate the numerical and dummy variables\n",
    "# axis: specifies whether to drop labels from index or columns; use 1 for columns and 0 for index\n",
    "X = pd.concat([df_FEV_num, dummy_variables],axis=1)\n",
    "X= sm.add_constant(X)\n",
    "\n",
    "# consider the dependent variable\n",
    "y = df_FEV[\"FEV\"]\n",
    "\n",
    "\n",
    "X_train, X_test, y_train, y_test = train_test_split(X, y, random_state = 1, test_size = 0.3)\n",
    "\n",
    "# fit a full model using fit()\n",
    "MLR_model = sm.OLS(y, X).fit()\n"
   ]
  },
  {
   "cell_type": "code",
   "execution_count": 65,
   "metadata": {},
   "outputs": [
    {
     "name": "stdout",
     "output_type": "stream",
     "text": [
      "Mean Squared Error (MSE):  0.1554\n",
      "Root Mean Squared Error (RMSE):  0.3942\n"
     ]
    }
   ],
   "source": [
    "# predict the y values\n",
    "y_pred = MLR_model.predict(X_test)\n",
    "\n",
    "# calculating the MSE for the test data and then rounding the value upto 4 digits\n",
    "mse_test = round(mean_squared_error(y_test, y_pred),4)\n",
    "\n",
    "# printing the mse for the test set\n",
    "print(\"Mean Squared Error (MSE): \", mse_test)\n",
    "\n",
    "# taking the square root of the mse and then rounding the value upto 4 digits\n",
    "rmse_test = round(np.sqrt(mse_test), 4)\n",
    "\n",
    "# printing the rmse for the test set\n",
    "print(\"Root Mean Squared Error (RMSE): \", rmse_test)\n"
   ]
  },
  {
   "cell_type": "markdown",
   "metadata": {
    "collapsed": true,
    "id": "Teaa86lWO5MT"
   },
   "source": [
    "<table align=\"left\">\n",
    "    <tr>\n",
    "        <td width=\"6%\">\n",
    "            <img src=\"question_icon.png\">\n",
    "        </td>\n",
    "        <td>\n",
    "            <div align=\"left\", style=\"font-size:120%\">\n",
    "                <font color=\"#21618C\">\n",
    "                    <b>19. Calculate the mean absolute error and the  mean absolute percentage error. Compare the values of RMSE and MAE. </b>\n",
    "                </font>\n",
    "            </div>\n",
    "        </td>\n",
    "    </tr>\n",
    "</table>"
   ]
  },
  {
   "cell_type": "code",
   "execution_count": 66,
   "metadata": {
    "id": "-Cn8CnlhO5MT"
   },
   "outputs": [
    {
     "name": "stdout",
     "output_type": "stream",
     "text": [
      "Mean Absolute Error (MAE) on test set:  0.303\n",
      "Mean Absolute Percentage Error (MAPE) on test set:  12.0255\n"
     ]
    }
   ],
   "source": [
    "# type your code here\n",
    "\n",
    "def mape(actual, predicted):\n",
    "    return (np.mean(np.abs((actual - predicted) / actual)) * 100)\n",
    "\n",
    "\n",
    "mae_test = round(mean_absolute_error(y_test, y_pred),4)\n",
    "\n",
    "# printing the MAE for the test set\n",
    "print(\"Mean Absolute Error (MAE) on test set: \", mae_test)\n",
    "\n",
    "# Calculating the MAPE using the \"mape()\" function created above\n",
    "\n",
    "# calculating the MAPE for the  data and then rounding the value upto 4 digits\n",
    "mape_test = round(mape(y_test, y_pred),4)\n",
    "\n",
    "# printing the mape for the tra set\n",
    "print(\"Mean Absolute Percentage Error (MAPE) on test set: \", mape_test)\n",
    "\n",
    "# Dont compare the metrics\n",
    "# the dimensions wont be same\n",
    "# Use RMSE and Mape"
   ]
  },
  {
   "cell_type": "markdown",
   "metadata": {
    "collapsed": true,
    "id": "7_zVqMlmO5MT"
   },
   "source": [
    "<table align=\"left\">\n",
    "    <tr>\n",
    "        <td width=\"6%\">\n",
    "            <img src=\"question_icon.png\">\n",
    "        </td>\n",
    "        <td>\n",
    "            <div align=\"left\", style=\"font-size:120%\">\n",
    "                <font color=\"#21618C\">\n",
    "                    <b>20. Consider the full model, has the model overfitted? </b>\n",
    "                </font>\n",
    "            </div>\n",
    "        </td>\n",
    "    </tr>\n",
    "</table>"
   ]
  },
  {
   "cell_type": "code",
   "execution_count": 67,
   "metadata": {
    "id": "0_2RqsIaO5MT"
   },
   "outputs": [],
   "source": [
    "# type your code here\n",
    "\n",
    "\n",
    "df_FEV['Smoke'] = df_FEV['Smoke'].astype(object)\n",
    "df_FEV['Age'] = df_FEV['Age'].astype(object)\n",
    "\n",
    "\n",
    "df_FEV_num = df_FEV.select_dtypes(include=np.number).drop([\"FEV\"],axis=1)\n",
    "\n",
    "\n",
    "df_FEV_cat = df_FEV.select_dtypes(include=object)\n",
    "\n",
    "# convert the categorical variable to dummy variable\n",
    "# get_dummies(): converts the variable to categorical variable\n",
    "# drop_first=True: indicates n-1 dummy enoding; if set to false indicated one-hot encoding\n",
    "dummy_variables = pd.get_dummies(df_FEV_cat, drop_first=True)\n",
    "\n",
    "# concatenate the numerical and dummy variables\n",
    "# axis: specifies whether to drop labels from index or columns; use 1 for columns and 0 for index\n",
    "X = pd.concat([df_FEV_num, dummy_variables],axis=1)\n",
    "X= sm.add_constant(X)\n",
    "\n",
    "# consider the dependent variable\n",
    "y = df_FEV[\"FEV\"]\n",
    "\n",
    "\n",
    "X_train, X_test, y_train, y_test = train_test_split(X, y, random_state = 1, test_size = 0.3)\n",
    "\n",
    "# fit a full model using fit()\n",
    "MLR_model = sm.OLS(y, X).fit()\n"
   ]
  },
  {
   "cell_type": "code",
   "execution_count": 72,
   "metadata": {},
   "outputs": [],
   "source": [
    "train_pred = MLR_model.predict(X_train)\n",
    "\n",
    "test_pred = MLR_model.predict(X_test)"
   ]
  },
  {
   "cell_type": "code",
   "execution_count": 73,
   "metadata": {},
   "outputs": [
    {
     "name": "stdout",
     "output_type": "stream",
     "text": [
      "\n",
      " Root Mean Squared Error (RMSE) on train set:  0.3945\n",
      "\n",
      " Root Mean Squared Error (RMSE) on test set:  0.3942\n"
     ]
    }
   ],
   "source": [
    "# MSE for the train data\n",
    "mse_train = mean_squared_error(y_train, train_pred)\n",
    "\n",
    "# taking the square root of the mse and then rounding the value upto 4 digits\n",
    "rmse_train = round(np.sqrt(mse_train), 4)\n",
    "\n",
    "# printing the rmse for the train set\n",
    "print(\"\\n Root Mean Squared Error (RMSE) on train set: \", rmse_train)\n",
    "\n",
    "# MSE for the test data\n",
    "mse_test = mean_squared_error(y_test, test_pred)\n",
    "\n",
    "# taking the square root of the mse and then rounding the value upto 4 digits\n",
    "rmse_test = round(np.sqrt(mse_test), 4)\n",
    "\n",
    "# printing the rmse for the test set\n",
    "print(\"\\n Root Mean Squared Error (RMSE) on test set: \", rmse_test)\n"
   ]
  },
  {
   "cell_type": "code",
   "execution_count": null,
   "metadata": {},
   "outputs": [],
   "source": [
    "# Model is not overfitted since RMSE is high"
   ]
  }
 ],
 "metadata": {
  "colab": {
   "collapsed_sections": [],
   "name": "SLR - In-Class - Lab Exercise (Week-1) - Questions  .ipynb",
   "provenance": []
  },
  "kernelspec": {
   "display_name": "Python 3",
   "language": "python",
   "name": "python3"
  },
  "language_info": {
   "codemirror_mode": {
    "name": "ipython",
    "version": 3
   },
   "file_extension": ".py",
   "mimetype": "text/x-python",
   "name": "python",
   "nbconvert_exporter": "python",
   "pygments_lexer": "ipython3",
   "version": "3.8.5"
  }
 },
 "nbformat": 4,
 "nbformat_minor": 1
}
