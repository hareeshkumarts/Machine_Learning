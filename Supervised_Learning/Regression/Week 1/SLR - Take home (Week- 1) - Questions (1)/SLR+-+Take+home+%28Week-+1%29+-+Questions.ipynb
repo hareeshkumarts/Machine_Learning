{
 "cells": [
  {
   "cell_type": "markdown",
   "metadata": {
    "id": "u-PftL_kPsrw"
   },
   "source": [
    "<table align=\"center\" width=100%>\n",
    "    <tr>\n",
    "        <td width=\"15%\">\n",
    "            <img src=\"homework.png\">\n",
    "        </td>\n",
    "        <td>\n",
    "            <div align=\"center\">\n",
    "                <font color=\"#21618C\" size=8px>\n",
    "                    <b> Take-Home <br>(Week- 1)\n",
    "                    </b>\n",
    "                </font>\n",
    "            </div>\n",
    "        </td>\n",
    "    </tr>\n",
    "</table>"
   ]
  },
  {
   "cell_type": "markdown",
   "metadata": {
    "id": "8Nu26GC0Psr1"
   },
   "source": [
    "### Import the required libraries"
   ]
  },
  {
   "cell_type": "code",
   "execution_count": 39,
   "metadata": {
    "id": "5RKzxFOXPsr2"
   },
   "outputs": [],
   "source": [
    "# type your code here\n",
    "\n",
    "import numpy as np\n",
    "import pandas as pd\n",
    "import matplotlib.pyplot as plt\n",
    "%matplotlib inline\n",
    "import seaborn as sns\n",
    "import warnings\n",
    "warnings.filterwarnings(action='ignore')\n",
    "\n",
    "import statsmodels.api as sm\n",
    "from statsmodels.formula.api import ols\n",
    "from statsmodels.stats.anova import anova_lm\n",
    "\n",
    "from sklearn.metrics import mean_squared_error\n",
    "from sklearn.metrics import mean_absolute_error\n",
    "import scipy.stats as st\n",
    "from sklearn.model_selection import train_test_split"
   ]
  },
  {
   "cell_type": "markdown",
   "metadata": {
    "id": "pmuwm9OhPsr3"
   },
   "source": [
    "#### Read the data\n",
    "\n",
    "Load the csv file and set the first column as index"
   ]
  },
  {
   "cell_type": "code",
   "execution_count": 2,
   "metadata": {
    "id": "lUYQqkn0Psr3"
   },
   "outputs": [
    {
     "data": {
      "text/html": [
       "<div>\n",
       "<style scoped>\n",
       "    .dataframe tbody tr th:only-of-type {\n",
       "        vertical-align: middle;\n",
       "    }\n",
       "\n",
       "    .dataframe tbody tr th {\n",
       "        vertical-align: top;\n",
       "    }\n",
       "\n",
       "    .dataframe thead th {\n",
       "        text-align: right;\n",
       "    }\n",
       "</style>\n",
       "<table border=\"1\" class=\"dataframe\">\n",
       "  <thead>\n",
       "    <tr style=\"text-align: right;\">\n",
       "      <th></th>\n",
       "      <th>Year</th>\n",
       "      <th>Selling_Price</th>\n",
       "      <th>Present_Price</th>\n",
       "      <th>Kms_Driven</th>\n",
       "      <th>Fuel_Type</th>\n",
       "      <th>Seller_Type</th>\n",
       "      <th>Transmission</th>\n",
       "      <th>Owner</th>\n",
       "    </tr>\n",
       "    <tr>\n",
       "      <th>Car_Name</th>\n",
       "      <th></th>\n",
       "      <th></th>\n",
       "      <th></th>\n",
       "      <th></th>\n",
       "      <th></th>\n",
       "      <th></th>\n",
       "      <th></th>\n",
       "      <th></th>\n",
       "    </tr>\n",
       "  </thead>\n",
       "  <tbody>\n",
       "    <tr>\n",
       "      <th>ritz</th>\n",
       "      <td>2014</td>\n",
       "      <td>3.35</td>\n",
       "      <td>5.59</td>\n",
       "      <td>27000</td>\n",
       "      <td>Petrol</td>\n",
       "      <td>Dealer</td>\n",
       "      <td>Manual</td>\n",
       "      <td>0</td>\n",
       "    </tr>\n",
       "    <tr>\n",
       "      <th>sx4</th>\n",
       "      <td>2013</td>\n",
       "      <td>4.75</td>\n",
       "      <td>9.54</td>\n",
       "      <td>43000</td>\n",
       "      <td>Diesel</td>\n",
       "      <td>Dealer</td>\n",
       "      <td>Manual</td>\n",
       "      <td>0</td>\n",
       "    </tr>\n",
       "    <tr>\n",
       "      <th>ciaz</th>\n",
       "      <td>2017</td>\n",
       "      <td>7.25</td>\n",
       "      <td>9.85</td>\n",
       "      <td>6900</td>\n",
       "      <td>Petrol</td>\n",
       "      <td>Dealer</td>\n",
       "      <td>Manual</td>\n",
       "      <td>0</td>\n",
       "    </tr>\n",
       "    <tr>\n",
       "      <th>wagon r</th>\n",
       "      <td>2011</td>\n",
       "      <td>2.85</td>\n",
       "      <td>4.15</td>\n",
       "      <td>5200</td>\n",
       "      <td>Petrol</td>\n",
       "      <td>Dealer</td>\n",
       "      <td>Manual</td>\n",
       "      <td>0</td>\n",
       "    </tr>\n",
       "    <tr>\n",
       "      <th>swift</th>\n",
       "      <td>2014</td>\n",
       "      <td>4.60</td>\n",
       "      <td>6.87</td>\n",
       "      <td>42450</td>\n",
       "      <td>Diesel</td>\n",
       "      <td>Dealer</td>\n",
       "      <td>Manual</td>\n",
       "      <td>0</td>\n",
       "    </tr>\n",
       "  </tbody>\n",
       "</table>\n",
       "</div>"
      ],
      "text/plain": [
       "          Year  Selling_Price  Present_Price  Kms_Driven Fuel_Type  \\\n",
       "Car_Name                                                             \n",
       "ritz      2014           3.35           5.59       27000    Petrol   \n",
       "sx4       2013           4.75           9.54       43000    Diesel   \n",
       "ciaz      2017           7.25           9.85        6900    Petrol   \n",
       "wagon r   2011           2.85           4.15        5200    Petrol   \n",
       "swift     2014           4.60           6.87       42450    Diesel   \n",
       "\n",
       "         Seller_Type Transmission  Owner  \n",
       "Car_Name                                  \n",
       "ritz          Dealer       Manual      0  \n",
       "sx4           Dealer       Manual      0  \n",
       "ciaz          Dealer       Manual      0  \n",
       "wagon r       Dealer       Manual      0  \n",
       "swift         Dealer       Manual      0  "
      ]
     },
     "execution_count": 2,
     "metadata": {},
     "output_type": "execute_result"
    }
   ],
   "source": [
    "# type your code here\n",
    "\n",
    "df_car = pd.read_csv('car_data.csv',index_col = 'Car_Name')\n",
    "\n",
    "df_car.head()"
   ]
  },
  {
   "cell_type": "markdown",
   "metadata": {
    "id": "gqU4ndI8Psr4"
   },
   "source": [
    "Our objective is to predict the selling price of the cars data."
   ]
  },
  {
   "cell_type": "markdown",
   "metadata": {
    "id": "d_PA2VSHPsr4"
   },
   "source": [
    "**The data definition is as follows:** <br><br>\n",
    "**Car_Name:** name of the car <br>\n",
    "\n",
    "**YearThis:** year in which the car was bought <br>\n",
    "\n",
    "**Present_Price:** current ex-showroom price of the car (in lakhs)<br>\n",
    "\n",
    "**Kms_Driven:** distance completed by the car in km <br>\n",
    "\n",
    "**Fuel_Type:** fuel type of the car <br>\n",
    "\n",
    "**Seller_Type:** defines whether the seller is a dealer or an individual<br>\n",
    "\n",
    "**Transmission:** defines whether the car is manual or automatic <br>\n",
    "\n",
    "**Owner:** defines the number of owners the car has previously had <br>\n",
    "\n",
    "**Selling_Price:** price the owner wants to sell the car at (in lakhs) (response variable)"
   ]
  },
  {
   "cell_type": "code",
   "execution_count": 3,
   "metadata": {},
   "outputs": [
    {
     "name": "stdout",
     "output_type": "stream",
     "text": [
      "<class 'pandas.core.frame.DataFrame'>\n",
      "Index: 301 entries, ritz to brio\n",
      "Data columns (total 8 columns):\n",
      " #   Column         Non-Null Count  Dtype  \n",
      "---  ------         --------------  -----  \n",
      " 0   Year           301 non-null    int64  \n",
      " 1   Selling_Price  301 non-null    float64\n",
      " 2   Present_Price  301 non-null    float64\n",
      " 3   Kms_Driven     301 non-null    int64  \n",
      " 4   Fuel_Type      301 non-null    object \n",
      " 5   Seller_Type    301 non-null    object \n",
      " 6   Transmission   301 non-null    object \n",
      " 7   Owner          301 non-null    int64  \n",
      "dtypes: float64(2), int64(3), object(3)\n",
      "memory usage: 21.2+ KB\n"
     ]
    }
   ],
   "source": [
    "df_car.info()"
   ]
  },
  {
   "cell_type": "code",
   "execution_count": 4,
   "metadata": {},
   "outputs": [
    {
     "data": {
      "text/plain": [
       "array([2014, 2013, 2017, 2011, 2018, 2015, 2016, 2009, 2010, 2012, 2003,\n",
       "       2008, 2006, 2005, 2004, 2007], dtype=int64)"
      ]
     },
     "execution_count": 4,
     "metadata": {},
     "output_type": "execute_result"
    }
   ],
   "source": [
    "df_car['Year'].unique()"
   ]
  },
  {
   "cell_type": "code",
   "execution_count": 5,
   "metadata": {},
   "outputs": [
    {
     "data": {
      "text/plain": [
       "array(['Petrol', 'Diesel', 'CNG'], dtype=object)"
      ]
     },
     "execution_count": 5,
     "metadata": {},
     "output_type": "execute_result"
    }
   ],
   "source": [
    "df_car['Fuel_Type'].unique()"
   ]
  },
  {
   "cell_type": "code",
   "execution_count": 6,
   "metadata": {},
   "outputs": [
    {
     "data": {
      "text/plain": [
       "array(['Dealer', 'Individual'], dtype=object)"
      ]
     },
     "execution_count": 6,
     "metadata": {},
     "output_type": "execute_result"
    }
   ],
   "source": [
    "df_car['Seller_Type'].unique()"
   ]
  },
  {
   "cell_type": "code",
   "execution_count": 7,
   "metadata": {},
   "outputs": [
    {
     "data": {
      "text/plain": [
       "array(['Manual', 'Automatic'], dtype=object)"
      ]
     },
     "execution_count": 7,
     "metadata": {},
     "output_type": "execute_result"
    }
   ],
   "source": [
    "df_car['Transmission'].unique()"
   ]
  },
  {
   "cell_type": "code",
   "execution_count": 8,
   "metadata": {},
   "outputs": [
    {
     "data": {
      "text/plain": [
       "array([0, 1, 3], dtype=int64)"
      ]
     },
     "execution_count": 8,
     "metadata": {},
     "output_type": "execute_result"
    }
   ],
   "source": [
    "df_car['Owner'].unique()"
   ]
  },
  {
   "cell_type": "markdown",
   "metadata": {
    "id": "vy5UmaKePsr5"
   },
   "source": [
    "### Let's begin with some hands-on practice exercises"
   ]
  },
  {
   "cell_type": "markdown",
   "metadata": {
    "id": "4M1ng_cvPsr6"
   },
   "source": [
    "<table align=\"left\">\n",
    "    <tr>\n",
    "        <td width=\"6%\">\n",
    "            <img src=\"question_icon.png\">\n",
    "        </td>\n",
    "        <td>\n",
    "            <div align=\"left\", style=\"font-size:120%\">\n",
    "                <font color=\"#21618C\">\n",
    "                    <b>1. Build a full model and interpret the beta coefficients </b>\n",
    "                </font>\n",
    "            </div>\n",
    "        </td>\n",
    "    </tr>\n",
    "</table>"
   ]
  },
  {
   "cell_type": "markdown",
   "metadata": {
    "id": "sZXQ_5FtPsr7"
   },
   "source": [
    "        Hint: A full model is a model which includes all the features "
   ]
  },
  {
   "cell_type": "code",
   "execution_count": 9,
   "metadata": {},
   "outputs": [
    {
     "data": {
      "text/plain": [
       "(301, 8)"
      ]
     },
     "execution_count": 9,
     "metadata": {},
     "output_type": "execute_result"
    }
   ],
   "source": [
    "df_car.shape"
   ]
  },
  {
   "cell_type": "code",
   "execution_count": 10,
   "metadata": {},
   "outputs": [
    {
     "data": {
      "text/plain": [
       "Index(['Year', 'Selling_Price', 'Present_Price', 'Kms_Driven', 'Fuel_Type',\n",
       "       'Seller_Type', 'Transmission', 'Owner'],\n",
       "      dtype='object')"
      ]
     },
     "execution_count": 10,
     "metadata": {},
     "output_type": "execute_result"
    }
   ],
   "source": [
    "df_car.columns"
   ]
  },
  {
   "cell_type": "code",
   "execution_count": 11,
   "metadata": {
    "id": "0t1cL4UuPsr7"
   },
   "outputs": [
    {
     "name": "stdout",
     "output_type": "stream",
     "text": [
      "                            OLS Regression Results                            \n",
      "==============================================================================\n",
      "Dep. Variable:          Selling_Price   R-squared:                       0.883\n",
      "Model:                            OLS   Adj. R-squared:                  0.879\n",
      "Method:                 Least Squares   F-statistic:                     274.3\n",
      "Date:                Sat, 19 Feb 2022   Prob (F-statistic):          5.71e-131\n",
      "Time:                        20:24:29   Log-Likelihood:                -593.62\n",
      "No. Observations:                 301   AIC:                             1205.\n",
      "Df Residuals:                     292   BIC:                             1239.\n",
      "Df Model:                           8                                         \n",
      "Covariance Type:            nonrobust                                         \n",
      "==========================================================================================\n",
      "                             coef    std err          t      P>|t|      [0.025      0.975]\n",
      "------------------------------------------------------------------------------------------\n",
      "const                   -789.2366     86.522     -9.122      0.000    -959.522    -618.951\n",
      "Year                       0.3931      0.043      9.159      0.000       0.309       0.478\n",
      "Present_Price              0.4372      0.016     27.355      0.000       0.406       0.469\n",
      "Kms_Driven             -7.013e-06   3.23e-06     -2.172      0.031   -1.34e-05   -6.57e-07\n",
      "Owner                     -0.6742      0.423     -1.595      0.112      -1.506       0.158\n",
      "Fuel_Type_Diesel           2.4699      1.278      1.932      0.054      -0.046       4.986\n",
      "Fuel_Type_Petrol           0.6077      1.259      0.483      0.630      -1.870       3.085\n",
      "Seller_Type_Individual    -1.1213      0.257     -4.371      0.000      -1.626      -0.616\n",
      "Transmission_Manual       -1.4482      0.328     -4.417      0.000      -2.093      -0.803\n",
      "==============================================================================\n",
      "Omnibus:                       95.107   Durbin-Watson:                   1.795\n",
      "Prob(Omnibus):                  0.000   Jarque-Bera (JB):              696.392\n",
      "Skew:                           1.075   Prob(JB):                    6.03e-152\n",
      "Kurtosis:                      10.135   Cond. No.                     4.56e+07\n",
      "==============================================================================\n",
      "\n",
      "Notes:\n",
      "[1] Standard Errors assume that the covariance matrix of the errors is correctly specified.\n",
      "[2] The condition number is large, 4.56e+07. This might indicate that there are\n",
      "strong multicollinearity or other numerical problems.\n"
     ]
    }
   ],
   "source": [
    "# type your code here\n",
    "\n",
    "X=df_car[['Year','Present_Price','Kms_Driven','Owner']]\n",
    "\n",
    "encoded_data = pd.get_dummies(data= df_car[['Fuel_Type','Seller_Type','Transmission']],drop_first=True)\n",
    "\n",
    "X =  pd.concat([pd.DataFrame(X),encoded_data],axis=1)\n",
    "\n",
    "X = sm.add_constant(X)\n",
    "\n",
    "Y = df_car['Selling_Price']\n",
    "\n",
    "\n",
    "SLR_full_model = sm.OLS(Y,X).fit()\n",
    "\n",
    "print(SLR_full_model.summary())"
   ]
  },
  {
   "cell_type": "markdown",
   "metadata": {},
   "source": [
    "The beta coefficient is the degree of change in the outcome variable for every 1-unit of change in the predictor variable. ... If the beta coefficient is negative, the interpretation is that for every 1-unit increase in the predictor variable, the outcome variable will decrease by the beta coefficient value."
   ]
  },
  {
   "cell_type": "markdown",
   "metadata": {},
   "source": [
    "1.For every one year increase , the selling price of the car increases by 0.39 lakhs(39k) \n",
    "2.For every 1lakh increase in Present price , the selling price increases y 0.43 lakhs(43k)\n",
    "3.For every 1 km drive will decrease the selling price\n",
    "4.For every one change of owner , the selling price decreases by 0.67 lakhs(-67k)\n",
    "5.If the Car is Fuel Type Deiesel , the selling price increases by 2.46 lakhs\n",
    "6.If the Car is Petrol, the selling price increases by 0.60 lakhs\n",
    "7.If the Seller Type is Individual , then SP decreases by -1.12 lakhs\n",
    "8.If the Transmission Type is Manual, Then SP decreases by -1.44 lakhs"
   ]
  },
  {
   "cell_type": "markdown",
   "metadata": {
    "id": "5pCDZoMSPsr8"
   },
   "source": [
    "<table align=\"left\">\n",
    "    <tr>\n",
    "        <td width=\"6%\">\n",
    "            <img src=\"question_icon.png\">\n",
    "        </td>\n",
    "        <td>\n",
    "            <div align=\"left\", style=\"font-size:120%\">\n",
    "                <font color=\"#21618C\">\n",
    "                    <b>2. Is there multicollinearity present? If yes, which variables are involved in multicollinearity?    </b>\n",
    "                </font>\n",
    "            </div>\n",
    "        </td>\n",
    "    </tr>\n",
    "</table>"
   ]
  },
  {
   "cell_type": "markdown",
   "metadata": {},
   "source": [
    "**Condition No in the Model is very High.Hence we have High Multi Collinearity in the data** "
   ]
  },
  {
   "cell_type": "code",
   "execution_count": 12,
   "metadata": {
    "id": "sHAcWqlVPsr8"
   },
   "outputs": [
    {
     "data": {
      "text/html": [
       "<div>\n",
       "<style scoped>\n",
       "    .dataframe tbody tr th:only-of-type {\n",
       "        vertical-align: middle;\n",
       "    }\n",
       "\n",
       "    .dataframe tbody tr th {\n",
       "        vertical-align: top;\n",
       "    }\n",
       "\n",
       "    .dataframe thead th {\n",
       "        text-align: right;\n",
       "    }\n",
       "</style>\n",
       "<table border=\"1\" class=\"dataframe\">\n",
       "  <thead>\n",
       "    <tr style=\"text-align: right;\">\n",
       "      <th></th>\n",
       "      <th>Year</th>\n",
       "      <th>Selling_Price</th>\n",
       "      <th>Present_Price</th>\n",
       "      <th>Kms_Driven</th>\n",
       "      <th>Owner</th>\n",
       "    </tr>\n",
       "    <tr>\n",
       "      <th>Car_Name</th>\n",
       "      <th></th>\n",
       "      <th></th>\n",
       "      <th></th>\n",
       "      <th></th>\n",
       "      <th></th>\n",
       "    </tr>\n",
       "  </thead>\n",
       "  <tbody>\n",
       "    <tr>\n",
       "      <th>ritz</th>\n",
       "      <td>2014</td>\n",
       "      <td>3.35</td>\n",
       "      <td>5.59</td>\n",
       "      <td>27000</td>\n",
       "      <td>0</td>\n",
       "    </tr>\n",
       "    <tr>\n",
       "      <th>sx4</th>\n",
       "      <td>2013</td>\n",
       "      <td>4.75</td>\n",
       "      <td>9.54</td>\n",
       "      <td>43000</td>\n",
       "      <td>0</td>\n",
       "    </tr>\n",
       "    <tr>\n",
       "      <th>ciaz</th>\n",
       "      <td>2017</td>\n",
       "      <td>7.25</td>\n",
       "      <td>9.85</td>\n",
       "      <td>6900</td>\n",
       "      <td>0</td>\n",
       "    </tr>\n",
       "    <tr>\n",
       "      <th>wagon r</th>\n",
       "      <td>2011</td>\n",
       "      <td>2.85</td>\n",
       "      <td>4.15</td>\n",
       "      <td>5200</td>\n",
       "      <td>0</td>\n",
       "    </tr>\n",
       "    <tr>\n",
       "      <th>swift</th>\n",
       "      <td>2014</td>\n",
       "      <td>4.60</td>\n",
       "      <td>6.87</td>\n",
       "      <td>42450</td>\n",
       "      <td>0</td>\n",
       "    </tr>\n",
       "  </tbody>\n",
       "</table>\n",
       "</div>"
      ],
      "text/plain": [
       "          Year  Selling_Price  Present_Price  Kms_Driven  Owner\n",
       "Car_Name                                                       \n",
       "ritz      2014           3.35           5.59       27000      0\n",
       "sx4       2013           4.75           9.54       43000      0\n",
       "ciaz      2017           7.25           9.85        6900      0\n",
       "wagon r   2011           2.85           4.15        5200      0\n",
       "swift     2014           4.60           6.87       42450      0"
      ]
     },
     "execution_count": 12,
     "metadata": {},
     "output_type": "execute_result"
    }
   ],
   "source": [
    "df_num = df_car.select_dtypes(include = np.number)\n",
    "\n",
    "df_num.head()"
   ]
  },
  {
   "cell_type": "code",
   "execution_count": 13,
   "metadata": {},
   "outputs": [
    {
     "data": {
      "image/png": "[encoded data removed]",
      "text/plain": [
       "<Figure size 1080x432 with 2 Axes>"
      ]
     },
     "metadata": {
      "needs_background": "light"
     },
     "output_type": "display_data"
    }
   ],
   "source": [
    "plt.figure(figsize=(15,6))\n",
    "sns.heatmap(np.abs(df_num.corr()) > 0.8,annot=True,annot_kws = {'size':13},cmap='Blues')\n",
    "plt.show()"
   ]
  },
  {
   "cell_type": "markdown",
   "metadata": {},
   "source": [
    "**Selling Price and Present Price are Highly Corelated**"
   ]
  },
  {
   "cell_type": "markdown",
   "metadata": {
    "id": "Mxj-iJv7Psr9"
   },
   "source": [
    "<table align=\"left\">\n",
    "    <tr>\n",
    "        <td width=\"6%\">\n",
    "            <img src=\"question_icon.png\">\n",
    "        </td>\n",
    "        <td>\n",
    "            <div align=\"left\", style=\"font-size:120%\">\n",
    "                <font color=\"#21618C\">\n",
    "                    <b>3. What is the impact of present price of the car and seller type on the selling price?\n",
    "                    </b>\n",
    "                </font>\n",
    "            </div>\n",
    "        </td>\n",
    "    </tr>\n",
    "</table>"
   ]
  },
  {
   "cell_type": "code",
   "execution_count": 14,
   "metadata": {
    "id": "U4zrcAETPsr9"
   },
   "outputs": [
    {
     "data": {
      "text/plain": [
       "Index(['Year', 'Selling_Price', 'Present_Price', 'Kms_Driven', 'Fuel_Type',\n",
       "       'Seller_Type', 'Transmission', 'Owner'],\n",
       "      dtype='object')"
      ]
     },
     "execution_count": 14,
     "metadata": {},
     "output_type": "execute_result"
    }
   ],
   "source": [
    "# type your code here\n",
    "\n",
    "df_car.columns"
   ]
  },
  {
   "cell_type": "code",
   "execution_count": 15,
   "metadata": {
    "scrolled": true
   },
   "outputs": [
    {
     "name": "stdout",
     "output_type": "stream",
     "text": [
      "                            OLS Regression Results                            \n",
      "==============================================================================\n",
      "Dep. Variable:          Selling_Price   R-squared:                       0.786\n",
      "Model:                            OLS   Adj. R-squared:                  0.785\n",
      "Method:                 Least Squares   F-statistic:                     548.4\n",
      "Date:                Sat, 19 Feb 2022   Prob (F-statistic):          1.34e-100\n",
      "Time:                        20:24:32   Log-Likelihood:                -683.71\n",
      "No. Observations:                 301   AIC:                             1373.\n",
      "Df Residuals:                     298   BIC:                             1385.\n",
      "Df Model:                           2                                         \n",
      "Covariance Type:            nonrobust                                         \n",
      "=================================================================================\n",
      "                    coef    std err          t      P>|t|      [0.025      0.975]\n",
      "---------------------------------------------------------------------------------\n",
      "const             1.5423      0.261      5.901      0.000       1.028       2.057\n",
      "Present_Price     0.4758      0.018     25.956      0.000       0.440       0.512\n",
      "Individual       -1.4493      0.331     -4.376      0.000      -2.101      -0.798\n",
      "==============================================================================\n",
      "Omnibus:                       72.895   Durbin-Watson:                   1.645\n",
      "Prob(Omnibus):                  0.000   Jarque-Bera (JB):              845.311\n",
      "Skew:                           0.581   Prob(JB):                    2.77e-184\n",
      "Kurtosis:                      11.127   Cond. No.                         33.4\n",
      "==============================================================================\n",
      "\n",
      "Notes:\n",
      "[1] Standard Errors assume that the covariance matrix of the errors is correctly specified.\n"
     ]
    }
   ],
   "source": [
    "X1  =df_car['Present_Price']\n",
    "\n",
    "encode_seller_type = pd.get_dummies(data = df_car['Seller_Type'],drop_first=True)\n",
    "\n",
    "X1 = pd.concat([pd.DataFrame(X1),encode_seller_type],axis=1)\n",
    "\n",
    "X1 = sm.add_constant(X1)\n",
    "\n",
    "Y1 = df_car['Selling_Price']\n",
    "\n",
    "MLR_seller_model = sm.OLS(Y1,X1).fit()\n",
    "\n",
    "print(MLR_seller_model.summary())"
   ]
  },
  {
   "cell_type": "code",
   "execution_count": 16,
   "metadata": {
    "scrolled": true
   },
   "outputs": [
    {
     "data": {
      "image/png": "[encoded data removed]",
      "text/plain": [
       "<Figure size 432x288 with 1 Axes>"
      ]
     },
     "metadata": {
      "needs_background": "light"
     },
     "output_type": "display_data"
    }
   ],
   "source": [
    "sns.scatterplot(x=df_car['Present_Price'],y=df_car['Selling_Price'],hue=df_car['Seller_Type'])\n",
    "plt.show()"
   ]
  },
  {
   "cell_type": "markdown",
   "metadata": {},
   "source": [
    "P-value is less than 0.05 in both of the Seller Type and Present Price \n",
    "By Above Graph , Present Price and Seller Type are positively correlated with Selling Price\n",
    "There are More No of Dealers than Individuals"
   ]
  },
  {
   "cell_type": "markdown",
   "metadata": {
    "id": "i9Kh1RH1Psr9"
   },
   "source": [
    "<table align=\"left\">\n",
    "    <tr>\n",
    "        <td width=\"6%\">\n",
    "            <img src=\"question_icon.png\">\n",
    "        </td>\n",
    "        <td>\n",
    "            <div align=\"left\", style=\"font-size:120%\">\n",
    "                <font color=\"#21618C\">\n",
    "                    <b>4. Consider all the numeric features in the data. Do all of them significantly contribute to explaining the variation in the selling price?\n",
    "                    </b>\n",
    "                </font>\n",
    "            </div>\n",
    "        </td>\n",
    "    </tr>\n",
    "</table>"
   ]
  },
  {
   "cell_type": "code",
   "execution_count": 17,
   "metadata": {
    "id": "DfkWKensPsr-",
    "scrolled": true
   },
   "outputs": [
    {
     "name": "stdout",
     "output_type": "stream",
     "text": [
      "                            OLS Regression Results                            \n",
      "==============================================================================\n",
      "Dep. Variable:          Selling_Price   R-squared:                       0.852\n",
      "Model:                            OLS   Adj. R-squared:                  0.850\n",
      "Method:                 Least Squares   F-statistic:                     426.6\n",
      "Date:                Sat, 19 Feb 2022   Prob (F-statistic):          1.66e-121\n",
      "Time:                        20:24:33   Log-Likelihood:                -628.25\n",
      "No. Observations:                 301   AIC:                             1267.\n",
      "Df Residuals:                     296   BIC:                             1285.\n",
      "Df Model:                           4                                         \n",
      "Covariance Type:            nonrobust                                         \n",
      "=================================================================================\n",
      "                    coef    std err          t      P>|t|      [0.025      0.975]\n",
      "---------------------------------------------------------------------------------\n",
      "const          -937.7642     94.392     -9.935      0.000   -1123.528    -752.000\n",
      "Year              0.4661      0.047      9.949      0.000       0.374       0.558\n",
      "Present_Price     0.5256      0.013     39.067      0.000       0.499       0.552\n",
      "Kms_Driven    -1.267e-06   3.51e-06     -0.361      0.718   -8.17e-06    5.64e-06\n",
      "Owner            -0.9513      0.466     -2.042      0.042      -1.868      -0.034\n",
      "==============================================================================\n",
      "Omnibus:                       69.450   Durbin-Watson:                   1.560\n",
      "Prob(Omnibus):                  0.000   Jarque-Bera (JB):             1362.873\n",
      "Skew:                           0.241   Prob(JB):                    1.14e-296\n",
      "Kurtosis:                      13.413   Cond. No.                     4.46e+07\n",
      "==============================================================================\n",
      "\n",
      "Notes:\n",
      "[1] Standard Errors assume that the covariance matrix of the errors is correctly specified.\n",
      "[2] The condition number is large, 4.46e+07. This might indicate that there are\n",
      "strong multicollinearity or other numerical problems.\n"
     ]
    }
   ],
   "source": [
    "# type your code here\n",
    "\n",
    "X2  =df_num.drop('Selling_Price',axis=1)\n",
    "\n",
    "X2 = sm.add_constant(X2)\n",
    "\n",
    "Y2 = df_car['Selling_Price']\n",
    "\n",
    "MLR_Numerical_model = sm.OLS(Y2,X2).fit()\n",
    "\n",
    "print(MLR_Numerical_model.summary())"
   ]
  },
  {
   "cell_type": "code",
   "execution_count": 18,
   "metadata": {},
   "outputs": [
    {
     "data": {
      "text/plain": [
       "Index(['Kms_Driven'], dtype='object')"
      ]
     },
     "execution_count": 18,
     "metadata": {},
     "output_type": "execute_result"
    }
   ],
   "source": [
    "list1 = MLR_Numerical_model.pvalues\n",
    "list1[list1>0.05].index"
   ]
  },
  {
   "cell_type": "markdown",
   "metadata": {},
   "source": [
    "No , Kms_Driven is Not Significant since p_value > 0.05...all others variables are equally contributing in explaining the target variable"
   ]
  },
  {
   "cell_type": "markdown",
   "metadata": {
    "id": "ggTSnMw6Psr-"
   },
   "source": [
    "<table align=\"left\">\n",
    "    <tr>\n",
    "        <td width=\"6%\">\n",
    "            <img src=\"question_icon.png\">\n",
    "        </td>\n",
    "        <td>\n",
    "            <div align=\"left\", style=\"font-size:120%\">\n",
    "                <font color=\"#21618C\">\n",
    "                    <b>5. In the model obtained in question 4, consider the interaction effect of the present price of the car and the year in which it was purchased. Compare the resultant model with the model obtained in previous question and give your interpretation \n",
    "                    </b>\n",
    "                </font>\n",
    "            </div>\n",
    "        </td>\n",
    "    </tr>\n",
    "</table>"
   ]
  },
  {
   "cell_type": "code",
   "execution_count": 19,
   "metadata": {},
   "outputs": [],
   "source": [
    "X2['Present_Price*Year'] = X2['Present_Price'] * X2['Year']"
   ]
  },
  {
   "cell_type": "code",
   "execution_count": 20,
   "metadata": {
    "id": "9mbRN7x7Psr_",
    "scrolled": true
   },
   "outputs": [
    {
     "name": "stdout",
     "output_type": "stream",
     "text": [
      "                            OLS Regression Results                            \n",
      "==============================================================================\n",
      "Dep. Variable:          Selling_Price   R-squared:                       0.963\n",
      "Model:                            OLS   Adj. R-squared:                  0.963\n",
      "Method:                 Least Squares   F-statistic:                     1546.\n",
      "Date:                Sat, 19 Feb 2022   Prob (F-statistic):          3.05e-209\n",
      "Time:                        20:24:34   Log-Likelihood:                -418.79\n",
      "No. Observations:                 301   AIC:                             849.6\n",
      "Df Residuals:                     295   BIC:                             871.8\n",
      "Df Model:                           5                                         \n",
      "Covariance Type:            nonrobust                                         \n",
      "======================================================================================\n",
      "                         coef    std err          t      P>|t|      [0.025      0.975]\n",
      "--------------------------------------------------------------------------------------\n",
      "const                101.2676     58.597      1.728      0.085     -14.054     216.590\n",
      "Year                  -0.0502      0.029     -1.725      0.086      -0.107       0.007\n",
      "Present_Price       -137.3322      4.617    -29.744      0.000    -146.419    -128.246\n",
      "Kms_Driven         -2.145e-06   1.75e-06     -1.224      0.222   -5.59e-06     1.3e-06\n",
      "Owner                 -0.0618      0.235     -0.264      0.792      -0.524       0.400\n",
      "Present_Price*Year     0.0685      0.002     29.858      0.000       0.064       0.073\n",
      "==============================================================================\n",
      "Omnibus:                       37.166   Durbin-Watson:                   1.767\n",
      "Prob(Omnibus):                  0.000   Jarque-Bera (JB):              177.611\n",
      "Skew:                          -0.322   Prob(JB):                     2.71e-39\n",
      "Kurtosis:                       6.708   Cond. No.                     5.74e+07\n",
      "==============================================================================\n",
      "\n",
      "Notes:\n",
      "[1] Standard Errors assume that the covariance matrix of the errors is correctly specified.\n",
      "[2] The condition number is large, 5.74e+07. This might indicate that there are\n",
      "strong multicollinearity or other numerical problems.\n"
     ]
    }
   ],
   "source": [
    "# type your code here\n",
    "\n",
    "X2 = sm.add_constant(X2)\n",
    "\n",
    "Y2 = df_car['Selling_Price']\n",
    "\n",
    "MLR_Interaction_model = sm.OLS(Y2,X2).fit()\n",
    "\n",
    "print(MLR_Interaction_model.summary())"
   ]
  },
  {
   "cell_type": "code",
   "execution_count": 21,
   "metadata": {},
   "outputs": [
    {
     "data": {
      "text/plain": [
       "0.9626282917497992"
      ]
     },
     "execution_count": 21,
     "metadata": {},
     "output_type": "execute_result"
    }
   ],
   "source": [
    "MLR_Interaction_model.rsquared_adj"
   ]
  },
  {
   "cell_type": "markdown",
   "metadata": {},
   "source": [
    "Adjusted Rsquared is increased from 0.85 to 0.96 and the p_value of Interaction feature is < 0.05 , so the model is improved by the interaction effect"
   ]
  },
  {
   "cell_type": "markdown",
   "metadata": {
    "id": "yO0XXA-IPsr_"
   },
   "source": [
    "<table align=\"left\">\n",
    "    <tr>\n",
    "        <td width=\"6%\">\n",
    "            <img src=\"question_icon.png\">\n",
    "        </td>\n",
    "        <td>\n",
    "            <div align=\"left\", style=\"font-size:120%\">\n",
    "                <font color=\"#21618C\">\n",
    "                    <b>6. What is the impact of fuel type of cars on the selling price? \n",
    "                    </b>\n",
    "                </font>\n",
    "            </div>\n",
    "        </td>\n",
    "    </tr>\n",
    "</table>"
   ]
  },
  {
   "cell_type": "code",
   "execution_count": 22,
   "metadata": {
    "id": "GSupWe4DPsr_"
   },
   "outputs": [
    {
     "data": {
      "text/plain": [
       "Index(['Year', 'Selling_Price', 'Present_Price', 'Kms_Driven', 'Fuel_Type',\n",
       "       'Seller_Type', 'Transmission', 'Owner'],\n",
       "      dtype='object')"
      ]
     },
     "execution_count": 22,
     "metadata": {},
     "output_type": "execute_result"
    }
   ],
   "source": [
    "df_car.columns"
   ]
  },
  {
   "cell_type": "code",
   "execution_count": 23,
   "metadata": {},
   "outputs": [
    {
     "name": "stdout",
     "output_type": "stream",
     "text": [
      "                            OLS Regression Results                            \n",
      "==============================================================================\n",
      "Dep. Variable:          Selling_Price   R-squared:                       0.305\n",
      "Model:                            OLS   Adj. R-squared:                  0.300\n",
      "Method:                 Least Squares   F-statistic:                     65.41\n",
      "Date:                Sat, 19 Feb 2022   Prob (F-statistic):           2.80e-24\n",
      "Time:                        20:24:34   Log-Likelihood:                -861.21\n",
      "No. Observations:                 301   AIC:                             1728.\n",
      "Df Residuals:                     298   BIC:                             1740.\n",
      "Df Model:                           2                                         \n",
      "Covariance Type:            nonrobust                                         \n",
      "==============================================================================\n",
      "                 coef    std err          t      P>|t|      [0.025      0.975]\n",
      "------------------------------------------------------------------------------\n",
      "const          3.1000      3.006      1.031      0.303      -2.816       9.016\n",
      "Diesel         7.1785      3.056      2.349      0.019       1.165      13.192\n",
      "Petrol         0.1642      3.019      0.054      0.957      -5.776       6.105\n",
      "==============================================================================\n",
      "Omnibus:                      149.368   Durbin-Watson:                   1.338\n",
      "Prob(Omnibus):                  0.000   Jarque-Bera (JB):              826.132\n",
      "Skew:                           2.022   Prob(JB):                    4.05e-180\n",
      "Kurtosis:                      10.036   Cond. No.                         27.9\n",
      "==============================================================================\n",
      "\n",
      "Notes:\n",
      "[1] Standard Errors assume that the covariance matrix of the errors is correctly specified.\n"
     ]
    }
   ],
   "source": [
    "X3  = pd.get_dummies(data = df_car['Fuel_Type'],drop_first=True)\n",
    "\n",
    "X3 = sm.add_constant(X3)\n",
    "\n",
    "Y3 = df_car['Selling_Price']\n",
    "\n",
    "MLR_Numerical_model = sm.OLS(Y3,X3).fit()\n",
    "\n",
    "print(MLR_Numerical_model.summary())"
   ]
  },
  {
   "cell_type": "code",
   "execution_count": 24,
   "metadata": {
    "scrolled": true
   },
   "outputs": [
    {
     "data": {
      "image/png": "[encoded data removed]",
      "text/plain": [
       "<Figure size 432x288 with 1 Axes>"
      ]
     },
     "metadata": {
      "needs_background": "light"
     },
     "output_type": "display_data"
    }
   ],
   "source": [
    "sns.barplot(df_car['Fuel_Type'],y=df_car['Selling_Price'])\n",
    "plt.show()"
   ]
  },
  {
   "cell_type": "markdown",
   "metadata": {},
   "source": [
    "If the Car is Diesel Type, then the Selling Price increases by 7.17 lakhs\n",
    "If the Car is Petrol Type, then the Selling PRice increases by 0.16 lakhs"
   ]
  },
  {
   "cell_type": "markdown",
   "metadata": {
    "id": "Ag0isZYDPssA"
   },
   "source": [
    "<table align=\"left\">\n",
    "    <tr>\n",
    "        <td width=\"6%\">\n",
    "            <img src=\"question_icon.png\">\n",
    "        </td>\n",
    "        <td>\n",
    "            <div align=\"left\", style=\"font-size:120%\">\n",
    "                <font color=\"#21618C\">\n",
    "                    <b>7. Does the model significantly explain variation in the target variable? Justify your answer with analysis of variation \n",
    "                    </b>\n",
    "                </font>\n",
    "            </div>\n",
    "        </td>\n",
    "    </tr>\n",
    "</table>"
   ]
  },
  {
   "cell_type": "markdown",
   "metadata": {
    "id": "_oQXtbwWPssB"
   },
   "source": [
    "            Regress the selling price over the transmission.\n",
    "            \n",
    "            Selling_Price ~ Transmission"
   ]
  },
  {
   "cell_type": "code",
   "execution_count": 25,
   "metadata": {
    "id": "DC-6mXXZPssB"
   },
   "outputs": [
    {
     "name": "stdout",
     "output_type": "stream",
     "text": [
      "                            OLS Regression Results                            \n",
      "==============================================================================\n",
      "Dep. Variable:          Selling_Price   R-squared:                       0.135\n",
      "Model:                            OLS   Adj. R-squared:                  0.132\n",
      "Method:                 Least Squares   F-statistic:                     46.58\n",
      "Date:                Sat, 19 Feb 2022   Prob (F-statistic):           4.90e-11\n",
      "Time:                        20:24:35   Log-Likelihood:                -894.20\n",
      "No. Observations:                 301   AIC:                             1792.\n",
      "Df Residuals:                     299   BIC:                             1800.\n",
      "Df Model:                           1                                         \n",
      "Covariance Type:            nonrobust                                         \n",
      "==========================================================================================\n",
      "                             coef    std err          t      P>|t|      [0.025      0.975]\n",
      "------------------------------------------------------------------------------------------\n",
      "Intercept                  9.4200      0.749     12.580      0.000       7.946      10.894\n",
      "Transmission[T.Manual]    -5.4880      0.804     -6.825      0.000      -7.070      -3.906\n",
      "==============================================================================\n",
      "Omnibus:                      143.925   Durbin-Watson:                   1.182\n",
      "Prob(Omnibus):                  0.000   Jarque-Bera (JB):              946.055\n",
      "Skew:                           1.855   Prob(JB):                    3.69e-206\n",
      "Kurtosis:                      10.853   Cond. No.                         5.31\n",
      "==============================================================================\n",
      "\n",
      "Notes:\n",
      "[1] Standard Errors assume that the covariance matrix of the errors is correctly specified.\n"
     ]
    }
   ],
   "source": [
    "mlr_regress_model = ols(formula = 'Selling_Price ~ Transmission',data = df_car).fit()\n",
    "print(mlr_regress_model.summary())"
   ]
  },
  {
   "cell_type": "code",
   "execution_count": 26,
   "metadata": {},
   "outputs": [
    {
     "data": {
      "text/html": [
       "<div>\n",
       "<style scoped>\n",
       "    .dataframe tbody tr th:only-of-type {\n",
       "        vertical-align: middle;\n",
       "    }\n",
       "\n",
       "    .dataframe tbody tr th {\n",
       "        vertical-align: top;\n",
       "    }\n",
       "\n",
       "    .dataframe thead th {\n",
       "        text-align: right;\n",
       "    }\n",
       "</style>\n",
       "<table border=\"1\" class=\"dataframe\">\n",
       "  <thead>\n",
       "    <tr style=\"text-align: right;\">\n",
       "      <th></th>\n",
       "      <th>df</th>\n",
       "      <th>sum_sq</th>\n",
       "      <th>mean_sq</th>\n",
       "      <th>F</th>\n",
       "      <th>PR(&gt;F)</th>\n",
       "    </tr>\n",
       "  </thead>\n",
       "  <tbody>\n",
       "    <tr>\n",
       "      <th>Transmission</th>\n",
       "      <td>1.0</td>\n",
       "      <td>1044.632231</td>\n",
       "      <td>1044.632231</td>\n",
       "      <td>46.577926</td>\n",
       "      <td>4.901447e-11</td>\n",
       "    </tr>\n",
       "    <tr>\n",
       "      <th>Residual</th>\n",
       "      <td>299.0</td>\n",
       "      <td>6705.859764</td>\n",
       "      <td>22.427625</td>\n",
       "      <td>NaN</td>\n",
       "      <td>NaN</td>\n",
       "    </tr>\n",
       "  </tbody>\n",
       "</table>\n",
       "</div>"
      ],
      "text/plain": [
       "                 df       sum_sq      mean_sq          F        PR(>F)\n",
       "Transmission    1.0  1044.632231  1044.632231  46.577926  4.901447e-11\n",
       "Residual      299.0  6705.859764    22.427625        NaN           NaN"
      ]
     },
     "execution_count": 26,
     "metadata": {},
     "output_type": "execute_result"
    }
   ],
   "source": [
    "model = anova_lm(mlr_regress_model)\n",
    "model"
   ]
  },
  {
   "cell_type": "code",
   "execution_count": 27,
   "metadata": {},
   "outputs": [],
   "source": [
    "#F stats is high and p_value is low, Hence it is significant"
   ]
  },
  {
   "cell_type": "code",
   "execution_count": 28,
   "metadata": {},
   "outputs": [
    {
     "data": {
      "text/plain": [
       "array(['Manual', 'Automatic'], dtype=object)"
      ]
     },
     "execution_count": 28,
     "metadata": {},
     "output_type": "execute_result"
    }
   ],
   "source": [
    "df_car['Transmission'].unique()"
   ]
  },
  {
   "cell_type": "code",
   "execution_count": 29,
   "metadata": {},
   "outputs": [],
   "source": [
    "statistics,p_value = st.f_oneway(df_car[df_car['Transmission'] == 'Manual']['Selling_Price'],\n",
    "           df_car[df_car['Transmission'] == 'Automatic']['Selling_Price'])"
   ]
  },
  {
   "cell_type": "code",
   "execution_count": 30,
   "metadata": {},
   "outputs": [
    {
     "data": {
      "text/plain": [
       "(46.577925571413346, 4.901447474872776e-11)"
      ]
     },
     "execution_count": 30,
     "metadata": {},
     "output_type": "execute_result"
    }
   ],
   "source": [
    "statistics,p_value"
   ]
  },
  {
   "cell_type": "code",
   "execution_count": 31,
   "metadata": {},
   "outputs": [
    {
     "name": "stdout",
     "output_type": "stream",
     "text": [
      "Significant\n"
     ]
    }
   ],
   "source": [
    "if p_value > 0.05:\n",
    "    print('Not Significant')\n",
    "else:\n",
    "    print('Significant')"
   ]
  },
  {
   "cell_type": "markdown",
   "metadata": {
    "id": "b19Rr4vCPssC"
   },
   "source": [
    "<table align=\"left\">\n",
    "    <tr>\n",
    "        <td width=\"6%\">\n",
    "            <img src=\"question_icon.png\">\n",
    "        </td>\n",
    "        <td>\n",
    "            <div align=\"left\", style=\"font-size:120%\">\n",
    "                <font color=\"#21618C\">\n",
    "                    <b>8. Regress the selling price over the present price. Compare the 99% and 95% confidence interval of present price of a car\n",
    "                    </b>\n",
    "                </font>\n",
    "            </div>\n",
    "        </td>\n",
    "    </tr>\n",
    "</table>"
   ]
  },
  {
   "cell_type": "code",
   "execution_count": 32,
   "metadata": {
    "id": "rwGBaZSqPssD",
    "scrolled": true
   },
   "outputs": [
    {
     "name": "stdout",
     "output_type": "stream",
     "text": [
      "                            OLS Regression Results                            \n",
      "==============================================================================\n",
      "Dep. Variable:          Selling_Price   R-squared:                       0.773\n",
      "Model:                            OLS   Adj. R-squared:                  0.772\n",
      "Method:                 Least Squares   F-statistic:                     1016.\n",
      "Date:                Sat, 19 Feb 2022   Prob (F-statistic):           3.60e-98\n",
      "Time:                        20:24:36   Log-Likelihood:                -693.08\n",
      "No. Observations:                 301   AIC:                             1390.\n",
      "Df Residuals:                     299   BIC:                             1398.\n",
      "Df Model:                           1                                         \n",
      "Covariance Type:            nonrobust                                         \n",
      "=================================================================================\n",
      "                    coef    std err          t      P>|t|      [0.025      0.975]\n",
      "---------------------------------------------------------------------------------\n",
      "Intercept         0.7185      0.187      3.847      0.000       0.351       1.086\n",
      "Present_Price     0.5168      0.016     31.874      0.000       0.485       0.549\n",
      "==============================================================================\n",
      "Omnibus:                       59.775   Durbin-Watson:                   1.533\n",
      "Prob(Omnibus):                  0.000   Jarque-Bera (JB):              926.121\n",
      "Skew:                           0.084   Prob(JB):                    7.86e-202\n",
      "Kurtosis:                      11.592   Cond. No.                         15.4\n",
      "==============================================================================\n",
      "\n",
      "Notes:\n",
      "[1] Standard Errors assume that the covariance matrix of the errors is correctly specified.\n"
     ]
    }
   ],
   "source": [
    "mlr_regress_model = ols(formula = 'Selling_Price ~ Present_Price',data = df_car).fit()\n",
    "print(mlr_regress_model.summary())"
   ]
  },
  {
   "cell_type": "code",
   "execution_count": 33,
   "metadata": {},
   "outputs": [
    {
     "data": {
      "text/html": [
       "<div>\n",
       "<style scoped>\n",
       "    .dataframe tbody tr th:only-of-type {\n",
       "        vertical-align: middle;\n",
       "    }\n",
       "\n",
       "    .dataframe tbody tr th {\n",
       "        vertical-align: top;\n",
       "    }\n",
       "\n",
       "    .dataframe thead th {\n",
       "        text-align: right;\n",
       "    }\n",
       "</style>\n",
       "<table border=\"1\" class=\"dataframe\">\n",
       "  <thead>\n",
       "    <tr style=\"text-align: right;\">\n",
       "      <th></th>\n",
       "      <th>0</th>\n",
       "      <th>1</th>\n",
       "    </tr>\n",
       "  </thead>\n",
       "  <tbody>\n",
       "    <tr>\n",
       "      <th>Intercept</th>\n",
       "      <td>0.350972</td>\n",
       "      <td>1.086083</td>\n",
       "    </tr>\n",
       "    <tr>\n",
       "      <th>Present_Price</th>\n",
       "      <td>0.484938</td>\n",
       "      <td>0.548760</td>\n",
       "    </tr>\n",
       "  </tbody>\n",
       "</table>\n",
       "</div>"
      ],
      "text/plain": [
       "                      0         1\n",
       "Intercept      0.350972  1.086083\n",
       "Present_Price  0.484938  0.548760"
      ]
     },
     "execution_count": 33,
     "metadata": {},
     "output_type": "execute_result"
    }
   ],
   "source": [
    "mlr_regress_model.conf_int(alpha=0.05) # 95% CI"
   ]
  },
  {
   "cell_type": "code",
   "execution_count": 34,
   "metadata": {},
   "outputs": [
    {
     "data": {
      "text/html": [
       "<div>\n",
       "<style scoped>\n",
       "    .dataframe tbody tr th:only-of-type {\n",
       "        vertical-align: middle;\n",
       "    }\n",
       "\n",
       "    .dataframe tbody tr th {\n",
       "        vertical-align: top;\n",
       "    }\n",
       "\n",
       "    .dataframe thead th {\n",
       "        text-align: right;\n",
       "    }\n",
       "</style>\n",
       "<table border=\"1\" class=\"dataframe\">\n",
       "  <thead>\n",
       "    <tr style=\"text-align: right;\">\n",
       "      <th></th>\n",
       "      <th>0</th>\n",
       "      <th>1</th>\n",
       "    </tr>\n",
       "  </thead>\n",
       "  <tbody>\n",
       "    <tr>\n",
       "      <th>Intercept</th>\n",
       "      <td>0.234343</td>\n",
       "      <td>1.202712</td>\n",
       "    </tr>\n",
       "    <tr>\n",
       "      <th>Present_Price</th>\n",
       "      <td>0.474812</td>\n",
       "      <td>0.558886</td>\n",
       "    </tr>\n",
       "  </tbody>\n",
       "</table>\n",
       "</div>"
      ],
      "text/plain": [
       "                      0         1\n",
       "Intercept      0.234343  1.202712\n",
       "Present_Price  0.474812  0.558886"
      ]
     },
     "execution_count": 34,
     "metadata": {},
     "output_type": "execute_result"
    }
   ],
   "source": [
    "mlr_regress_model.conf_int(alpha=0.01) # 99% CI"
   ]
  },
  {
   "cell_type": "markdown",
   "metadata": {
    "id": "piskqP-iPssD"
   },
   "source": [
    "<table align=\"left\">\n",
    "    <tr>\n",
    "        <td width=\"6%\">\n",
    "            <img src=\"question_icon.png\">\n",
    "        </td>\n",
    "        <td>\n",
    "            <div align=\"left\", style=\"font-size:120%\">\n",
    "                <font color=\"#21618C\">\n",
    "                        <b>9. Verify the statement: The sum of the residuals in any regression model that contains an intercept β<sub>0</sub> is always zero\n",
    "                    </b>\n",
    "                </font>\n",
    "            </div>\n",
    "        </td>\n",
    "    </tr>\n",
    "</table>"
   ]
  },
  {
   "cell_type": "markdown",
   "metadata": {
    "id": "mUgO7YJbPssD"
   },
   "source": [
    "        To verify the result, we will fit a regression model of 'Present_Price' on 'Selling_Price' "
   ]
  },
  {
   "cell_type": "code",
   "execution_count": 35,
   "metadata": {
    "id": "Gr1NZ0ToPssE",
    "scrolled": false
   },
   "outputs": [
    {
     "name": "stdout",
     "output_type": "stream",
     "text": [
      "                            OLS Regression Results                            \n",
      "==============================================================================\n",
      "Dep. Variable:          Selling_Price   R-squared:                       0.773\n",
      "Model:                            OLS   Adj. R-squared:                  0.772\n",
      "Method:                 Least Squares   F-statistic:                     1016.\n",
      "Date:                Sat, 19 Feb 2022   Prob (F-statistic):           3.60e-98\n",
      "Time:                        20:24:37   Log-Likelihood:                -693.08\n",
      "No. Observations:                 301   AIC:                             1390.\n",
      "Df Residuals:                     299   BIC:                             1398.\n",
      "Df Model:                           1                                         \n",
      "Covariance Type:            nonrobust                                         \n",
      "=================================================================================\n",
      "                    coef    std err          t      P>|t|      [0.025      0.975]\n",
      "---------------------------------------------------------------------------------\n",
      "Intercept         0.7185      0.187      3.847      0.000       0.351       1.086\n",
      "Present_Price     0.5168      0.016     31.874      0.000       0.485       0.549\n",
      "==============================================================================\n",
      "Omnibus:                       59.775   Durbin-Watson:                   1.533\n",
      "Prob(Omnibus):                  0.000   Jarque-Bera (JB):              926.121\n",
      "Skew:                           0.084   Prob(JB):                    7.86e-202\n",
      "Kurtosis:                      11.592   Cond. No.                         15.4\n",
      "==============================================================================\n",
      "\n",
      "Notes:\n",
      "[1] Standard Errors assume that the covariance matrix of the errors is correctly specified.\n"
     ]
    }
   ],
   "source": [
    "mlr_regress_model = ols(formula = 'Selling_Price ~ Present_Price',data = df_car).fit()\n",
    "print(mlr_regress_model.summary())"
   ]
  },
  {
   "cell_type": "code",
   "execution_count": 36,
   "metadata": {},
   "outputs": [
    {
     "name": "stdout",
     "output_type": "stream",
     "text": [
      "The Statement is False\n"
     ]
    }
   ],
   "source": [
    "sum_resid = np.sum(mlr_regress_model.resid)\n",
    "\n",
    "if sum_resid > 0:\n",
    "    print('The Statement is False')\n",
    "else:\n",
    "    print('The Statement is True')"
   ]
  },
  {
   "cell_type": "code",
   "execution_count": 37,
   "metadata": {},
   "outputs": [
    {
     "data": {
      "text/plain": [
       "1.000000000000135"
      ]
     },
     "execution_count": 37,
     "metadata": {},
     "output_type": "execute_result"
    }
   ],
   "source": [
    "np.exp(sum_resid)"
   ]
  },
  {
   "cell_type": "markdown",
   "metadata": {
    "id": "-Ch3nyaUPssE"
   },
   "source": [
    "<table align=\"left\">\n",
    "    <tr>\n",
    "        <td width=\"6%\">\n",
    "            <img src=\"question_icon.png\">\n",
    "        </td>\n",
    "        <td>\n",
    "            <div align=\"left\", style=\"font-size:120%\">\n",
    "                <font color=\"#21618C\">\n",
    "                    <b>10. Consider two models as specified below. Compare the performance of the models\n",
    "                    </b>\n",
    "                </font>\n",
    "            </div>\n",
    "        </td>\n",
    "    </tr>\n",
    "</table>"
   ]
  },
  {
   "cell_type": "markdown",
   "metadata": {
    "id": "0LnP0e-dPssF"
   },
   "source": [
    "                First model:\n",
    "        \n",
    "        Selling_Price ~ Year + Present_Price + Kms_Driven + Owner + Fuel_Type + Seller_Type + Transmission\n",
    "        \n",
    "        \n",
    "                Second model:\n",
    "        \n",
    "        Selling_Price ~ Year + Present_Price + Kms_Driven + Owner "
   ]
  },
  {
   "cell_type": "code",
   "execution_count": 49,
   "metadata": {},
   "outputs": [],
   "source": [
    "x_train,x_test,y_train,y_test = train_test_split(X,Y,train_size = 0.70,random_state =1)"
   ]
  },
  {
   "cell_type": "code",
   "execution_count": 50,
   "metadata": {
    "scrolled": true
   },
   "outputs": [
    {
     "name": "stdout",
     "output_type": "stream",
     "text": [
      "                            OLS Regression Results                            \n",
      "==============================================================================\n",
      "Dep. Variable:          Selling_Price   R-squared:                       0.884\n",
      "Model:                            OLS   Adj. R-squared:                  0.879\n",
      "Method:                 Least Squares   F-statistic:                     191.2\n",
      "Date:                Sat, 19 Feb 2022   Prob (F-statistic):           1.35e-89\n",
      "Time:                        20:33:48   Log-Likelihood:                -423.34\n",
      "No. Observations:                 210   AIC:                             864.7\n",
      "Df Residuals:                     201   BIC:                             894.8\n",
      "Df Model:                           8                                         \n",
      "Covariance Type:            nonrobust                                         \n",
      "==========================================================================================\n",
      "                             coef    std err          t      P>|t|      [0.025      0.975]\n",
      "------------------------------------------------------------------------------------------\n",
      "const                   -844.1360    106.814     -7.903      0.000   -1054.755    -633.517\n",
      "Year                       0.4205      0.053      7.931      0.000       0.316       0.525\n",
      "Present_Price              0.4413      0.018     24.125      0.000       0.405       0.477\n",
      "Kms_Driven             -4.158e-06   3.59e-06     -1.160      0.248   -1.12e-05    2.91e-06\n",
      "Owner                      0.5122      0.849      0.603      0.547      -1.163       2.187\n",
      "Fuel_Type_Diesel           2.1807      1.892      1.152      0.250      -1.550       5.912\n",
      "Fuel_Type_Petrol           0.4291      1.871      0.229      0.819      -3.260       4.118\n",
      "Seller_Type_Individual    -1.1021      0.317     -3.480      0.001      -1.726      -0.478\n",
      "Transmission_Manual       -1.7746      0.405     -4.377      0.000      -2.574      -0.975\n",
      "==============================================================================\n",
      "Omnibus:                       70.618   Durbin-Watson:                   1.945\n",
      "Prob(Omnibus):                  0.000   Jarque-Bera (JB):              509.541\n",
      "Skew:                           1.068   Prob(JB):                    2.26e-111\n",
      "Kurtosis:                      10.326   Cond. No.                     4.89e+07\n",
      "==============================================================================\n",
      "\n",
      "Notes:\n",
      "[1] Standard Errors assume that the covariance matrix of the errors is correctly specified.\n",
      "[2] The condition number is large, 4.89e+07. This might indicate that there are\n",
      "strong multicollinearity or other numerical problems.\n"
     ]
    }
   ],
   "source": [
    "mlr_first_model = sm.OLS(y_train,x_train).fit()\n",
    "\n",
    "print(mlr_first_model.summary())"
   ]
  },
  {
   "cell_type": "code",
   "execution_count": 52,
   "metadata": {},
   "outputs": [],
   "source": [
    "first_model_y_train_pred = mlr_first_model.predict(x_train)\n",
    "\n",
    "first_model_y_test_pred = mlr_first_model.predict(x_test)"
   ]
  },
  {
   "cell_type": "code",
   "execution_count": 53,
   "metadata": {},
   "outputs": [
    {
     "data": {
      "text/plain": [
       "3.299929773679067"
      ]
     },
     "execution_count": 53,
     "metadata": {},
     "output_type": "execute_result"
    }
   ],
   "source": [
    "mean_squared_error(y_train,first_model_y_train_pred)"
   ]
  },
  {
   "cell_type": "code",
   "execution_count": 55,
   "metadata": {},
   "outputs": [
    {
     "data": {
      "text/plain": [
       "1.6671692263227085"
      ]
     },
     "execution_count": 55,
     "metadata": {},
     "output_type": "execute_result"
    }
   ],
   "source": [
    "np.sqrt(mean_squared_error(y_test,first_model_y_test_pred))"
   ]
  },
  {
   "cell_type": "code",
   "execution_count": 66,
   "metadata": {},
   "outputs": [],
   "source": [
    "# Building Second Model"
   ]
  },
  {
   "cell_type": "code",
   "execution_count": 64,
   "metadata": {
    "scrolled": true
   },
   "outputs": [
    {
     "name": "stdout",
     "output_type": "stream",
     "text": [
      "                                 OLS Regression Results                                \n",
      "=======================================================================================\n",
      "Dep. Variable:          Selling_Price   R-squared (uncentered):                   0.889\n",
      "Model:                            OLS   Adj. R-squared (uncentered):              0.887\n",
      "Method:                 Least Squares   F-statistic:                              412.4\n",
      "Date:                Sat, 19 Feb 2022   Prob (F-statistic):                    4.40e-97\n",
      "Time:                        20:47:32   Log-Likelihood:                         -479.95\n",
      "No. Observations:                 210   AIC:                                      967.9\n",
      "Df Residuals:                     206   BIC:                                      981.3\n",
      "Df Model:                           4                                                  \n",
      "Covariance Type:            nonrobust                                                  \n",
      "=================================================================================\n",
      "                    coef    std err          t      P>|t|      [0.025      0.975]\n",
      "---------------------------------------------------------------------------------\n",
      "Year              0.0006      0.000      5.118      0.000       0.000       0.001\n",
      "Present_Price     0.5271      0.018     28.709      0.000       0.491       0.563\n",
      "Kms_Driven    -1.618e-05   3.82e-06     -4.230      0.000   -2.37e-05   -8.64e-06\n",
      "Owner            -0.2673      1.089     -0.245      0.806      -2.415       1.880\n",
      "==============================================================================\n",
      "Omnibus:                       53.614   Durbin-Watson:                   1.876\n",
      "Prob(Omnibus):                  0.000   Jarque-Bera (JB):              861.361\n",
      "Skew:                           0.367   Prob(JB):                    9.07e-188\n",
      "Kurtosis:                      12.895   Cond. No.                     3.85e+05\n",
      "==============================================================================\n",
      "\n",
      "Notes:\n",
      "[1] R² is computed without centering (uncentered) since the model does not contain a constant.\n",
      "[2] Standard Errors assume that the covariance matrix of the errors is correctly specified.\n",
      "[3] The condition number is large, 3.85e+05. This might indicate that there are\n",
      "strong multicollinearity or other numerical problems.\n"
     ]
    }
   ],
   "source": [
    "mlr_second_model = sm.OLS(y_train,x_train[['Year','Present_Price','Kms_Driven','Owner']]).fit()\n",
    "\n",
    "print(mlr_second_model.summary())"
   ]
  },
  {
   "cell_type": "code",
   "execution_count": 67,
   "metadata": {},
   "outputs": [],
   "source": [
    "second_model_y_train_pred = mlr_second_model.predict(x_train[['Year','Present_Price','Kms_Driven','Owner']])\n",
    "\n",
    "second_model_y_test_pred = mlr_second_model.predict(x_test[['Year','Present_Price','Kms_Driven','Owner']])"
   ]
  },
  {
   "cell_type": "code",
   "execution_count": 57,
   "metadata": {},
   "outputs": [],
   "source": [
    "cols = ['Model_Name','R-Squared','Adj.R-Squared','MSE','RMSE','MAE','MAPE']\n",
    "final_observation = pd.DataFrame(columns = cols)"
   ]
  },
  {
   "cell_type": "code",
   "execution_count": 58,
   "metadata": {},
   "outputs": [
    {
     "data": {
      "text/html": [
       "<div>\n",
       "<style scoped>\n",
       "    .dataframe tbody tr th:only-of-type {\n",
       "        vertical-align: middle;\n",
       "    }\n",
       "\n",
       "    .dataframe tbody tr th {\n",
       "        vertical-align: top;\n",
       "    }\n",
       "\n",
       "    .dataframe thead th {\n",
       "        text-align: right;\n",
       "    }\n",
       "</style>\n",
       "<table border=\"1\" class=\"dataframe\">\n",
       "  <thead>\n",
       "    <tr style=\"text-align: right;\">\n",
       "      <th></th>\n",
       "      <th>Model_Name</th>\n",
       "      <th>R-Squared</th>\n",
       "      <th>Adj.R-Squared</th>\n",
       "      <th>MSE</th>\n",
       "      <th>RMSE</th>\n",
       "      <th>MAE</th>\n",
       "      <th>MAPE</th>\n",
       "    </tr>\n",
       "  </thead>\n",
       "  <tbody>\n",
       "  </tbody>\n",
       "</table>\n",
       "</div>"
      ],
      "text/plain": [
       "Empty DataFrame\n",
       "Columns: [Model_Name, R-Squared, Adj.R-Squared, MSE, RMSE, MAE, MAPE]\n",
       "Index: []"
      ]
     },
     "execution_count": 58,
     "metadata": {},
     "output_type": "execute_result"
    }
   ],
   "source": [
    "final_observation"
   ]
  },
  {
   "cell_type": "code",
   "execution_count": 59,
   "metadata": {},
   "outputs": [],
   "source": [
    "def MAPE(actual,predicted):\n",
    "    return np.mean(np.abs((actual/predicted)/actual) *100)"
   ]
  },
  {
   "cell_type": "code",
   "execution_count": 62,
   "metadata": {},
   "outputs": [],
   "source": [
    "MLR_first_model_metrics = pd.Series({'Model_Name' : \"MLR_first_model\",\n",
    "                                     'R-Squared' : mlr_first_model.rsquared,\n",
    "                                    'Adj.R-Squared' : mlr_first_model.rsquared_adj,\n",
    "                                     'MSE' : mean_squared_error(y_test,first_model_y_test_pred),\n",
    "                                     'RMSE':np.sqrt(mean_squared_error(y_test,first_model_y_test_pred)),\n",
    "                                    'MAE' :mean_absolute_error(y_test,first_model_y_test_pred),\n",
    "                                    'MAPE' : MAPE(y_test,first_model_y_test_pred)})\n",
    "\n",
    "final_observation = final_observation.append(MLR_first_model_metrics,ignore_index=True)"
   ]
  },
  {
   "cell_type": "code",
   "execution_count": 70,
   "metadata": {},
   "outputs": [],
   "source": [
    "MLR_second_model_metrics = pd.Series({'Model_Name' : \"MLR_second_model\",\n",
    "                                     'R-Squared' : mlr_second_model.rsquared,\n",
    "                                    'Adj.R-Squared' : mlr_second_model.rsquared_adj,\n",
    "                                     'MSE' : mean_squared_error(y_test,second_model_y_test_pred),\n",
    "                                      'RMSE':np.sqrt(mean_squared_error(y_test,second_model_y_test_pred)),\n",
    "                                    'MAE' :mean_absolute_error(y_test,second_model_y_test_pred),\n",
    "                                    'MAPE' : MAPE(y_test,second_model_y_test_pred)})\n",
    "\n",
    "final_observation = final_observation.append(MLR_second_model_metrics,ignore_index=True)"
   ]
  },
  {
   "cell_type": "code",
   "execution_count": 71,
   "metadata": {},
   "outputs": [
    {
     "data": {
      "text/html": [
       "<div>\n",
       "<style scoped>\n",
       "    .dataframe tbody tr th:only-of-type {\n",
       "        vertical-align: middle;\n",
       "    }\n",
       "\n",
       "    .dataframe tbody tr th {\n",
       "        vertical-align: top;\n",
       "    }\n",
       "\n",
       "    .dataframe thead th {\n",
       "        text-align: right;\n",
       "    }\n",
       "</style>\n",
       "<table border=\"1\" class=\"dataframe\">\n",
       "  <thead>\n",
       "    <tr style=\"text-align: right;\">\n",
       "      <th></th>\n",
       "      <th>Model_Name</th>\n",
       "      <th>R-Squared</th>\n",
       "      <th>Adj.R-Squared</th>\n",
       "      <th>MSE</th>\n",
       "      <th>RMSE</th>\n",
       "      <th>MAE</th>\n",
       "      <th>MAPE</th>\n",
       "    </tr>\n",
       "  </thead>\n",
       "  <tbody>\n",
       "    <tr>\n",
       "      <th>0</th>\n",
       "      <td>MLR_first_model</td>\n",
       "      <td>0.883848</td>\n",
       "      <td>0.879225</td>\n",
       "      <td>2.779453</td>\n",
       "      <td>1.667169</td>\n",
       "      <td>1.101357</td>\n",
       "      <td>561.774182</td>\n",
       "    </tr>\n",
       "    <tr>\n",
       "      <th>1</th>\n",
       "      <td>MLR_second_model</td>\n",
       "      <td>0.888978</td>\n",
       "      <td>0.886822</td>\n",
       "      <td>4.230343</td>\n",
       "      <td>2.056780</td>\n",
       "      <td>1.370664</td>\n",
       "      <td>38.983721</td>\n",
       "    </tr>\n",
       "  </tbody>\n",
       "</table>\n",
       "</div>"
      ],
      "text/plain": [
       "         Model_Name  R-Squared  Adj.R-Squared       MSE      RMSE       MAE  \\\n",
       "0   MLR_first_model   0.883848       0.879225  2.779453  1.667169  1.101357   \n",
       "1  MLR_second_model   0.888978       0.886822  4.230343  2.056780  1.370664   \n",
       "\n",
       "         MAPE  \n",
       "0  561.774182  \n",
       "1   38.983721  "
      ]
     },
     "execution_count": 71,
     "metadata": {},
     "output_type": "execute_result"
    }
   ],
   "source": [
    "final_observation"
   ]
  },
  {
   "cell_type": "code",
   "execution_count": 72,
   "metadata": {},
   "outputs": [],
   "source": [
    "# RMSE is less in first_model than the second model."
   ]
  },
  {
   "cell_type": "code",
   "execution_count": null,
   "metadata": {},
   "outputs": [],
   "source": []
  }
 ],
 "metadata": {
  "colab": {
   "name": "SLR - Take home (Week- 1) - Questions.ipynb",
   "provenance": []
  },
  "kernelspec": {
   "display_name": "Python 3",
   "language": "python",
   "name": "python3"
  },
  "language_info": {
   "codemirror_mode": {
    "name": "ipython",
    "version": 3
   },
   "file_extension": ".py",
   "mimetype": "text/x-python",
   "name": "python",
   "nbconvert_exporter": "python",
   "pygments_lexer": "ipython3",
   "version": "3.8.5"
  }
 },
 "nbformat": 4,
 "nbformat_minor": 1
}
